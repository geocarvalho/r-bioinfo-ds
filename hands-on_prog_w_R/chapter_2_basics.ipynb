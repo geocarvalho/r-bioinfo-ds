{
  "nbformat": 4,
  "nbformat_minor": 0,
  "metadata": {
    "colab": {
      "name": "chapter-2_basics.ipynb",
      "provenance": [],
      "collapsed_sections": [],
      "authorship_tag": "ABX9TyM/EoVCsJkA0kg6RP0CWz2A",
      "include_colab_link": true
    },
    "kernelspec": {
      "name": "ir",
      "display_name": "R"
    },
    "language_info": {
      "name": "R"
    }
  },
  "cells": [
    {
      "cell_type": "markdown",
      "metadata": {
        "id": "view-in-github",
        "colab_type": "text"
      },
      "source": [
        "<a href=\"https://colab.research.google.com/github/geocarvalho/r-bioinfo-ds/blob/master/hands-on_prog_w_R/chapter_2_basics.ipynb\" target=\"_parent\"><img src=\"https://colab.research.google.com/assets/colab-badge.svg\" alt=\"Open In Colab\"/></a>"
      ]
    },
    {
      "cell_type": "markdown",
      "metadata": {
        "id": "lr8TDDDLXsnK"
      },
      "source": [
        "# [Hands-on programming with R](https://rstudio-education.github.io/hopr/index.html)\n",
        "\n",
        "## 1. [Project 1: Weighted dice](https://rstudio-education.github.io/hopr/project-1-weighted-dice.html)\n",
        "\n",
        "## 2. [The very basics](https://rstudio-education.github.io/hopr/basics.html)\n",
        "\n",
        "### 2.1 The R user interface\n",
        "\n",
        "* Aqui ele fala sobre o RStudio, mas vou tentar usar apenas o colab."
      ]
    },
    {
      "cell_type": "code",
      "metadata": {
        "colab": {
          "base_uri": "https://localhost:8080/",
          "height": 34
        },
        "id": "apY2TFhUXnH2",
        "outputId": "1a1cad47-a831-45f5-86bb-1f70f2b31ec8"
      },
      "source": [
        "# testando uma soma para mostrar o colab\n",
        "1+1"
      ],
      "execution_count": 3,
      "outputs": [
        {
          "output_type": "display_data",
          "data": {
            "text/plain": [
              "[1] 2"
            ],
            "text/latex": "2",
            "text/markdown": "2",
            "text/html": [
              "2"
            ]
          },
          "metadata": {
            "tags": []
          }
        }
      ]
    },
    {
      "cell_type": "code",
      "metadata": {
        "colab": {
          "base_uri": "https://localhost:8080/",
          "height": 51
        },
        "id": "S_u-4kU7Zn0e",
        "outputId": "5fd34157-8291-4e5c-ce64-d76d088bfd2f"
      },
      "source": [
        "# uma sequencia de inteiros\n",
        "100:130"
      ],
      "execution_count": 4,
      "outputs": [
        {
          "output_type": "display_data",
          "data": {
            "text/plain": [
              " [1] 100 101 102 103 104 105 106 107 108 109 110 111 112 113 114 115 116 117 118\n",
              "[20] 119 120 121 122 123 124 125 126 127 128 129 130"
            ],
            "text/latex": "\\begin{enumerate*}\n\\item 100\n\\item 101\n\\item 102\n\\item 103\n\\item 104\n\\item 105\n\\item 106\n\\item 107\n\\item 108\n\\item 109\n\\item 110\n\\item 111\n\\item 112\n\\item 113\n\\item 114\n\\item 115\n\\item 116\n\\item 117\n\\item 118\n\\item 119\n\\item 120\n\\item 121\n\\item 122\n\\item 123\n\\item 124\n\\item 125\n\\item 126\n\\item 127\n\\item 128\n\\item 129\n\\item 130\n\\end{enumerate*}\n",
            "text/markdown": "1. 100\n2. 101\n3. 102\n4. 103\n5. 104\n6. 105\n7. 106\n8. 107\n9. 108\n10. 109\n11. 110\n12. 111\n13. 112\n14. 113\n15. 114\n16. 115\n17. 116\n18. 117\n19. 118\n20. 119\n21. 120\n22. 121\n23. 122\n24. 123\n25. 124\n26. 125\n27. 126\n28. 127\n29. 128\n30. 129\n31. 130\n\n\n",
            "text/html": [
              "<style>\n",
              ".list-inline {list-style: none; margin:0; padding: 0}\n",
              ".list-inline>li {display: inline-block}\n",
              ".list-inline>li:not(:last-child)::after {content: \"\\00b7\"; padding: 0 .5ex}\n",
              "</style>\n",
              "<ol class=list-inline><li>100</li><li>101</li><li>102</li><li>103</li><li>104</li><li>105</li><li>106</li><li>107</li><li>108</li><li>109</li><li>110</li><li>111</li><li>112</li><li>113</li><li>114</li><li>115</li><li>116</li><li>117</li><li>118</li><li>119</li><li>120</li><li>121</li><li>122</li><li>123</li><li>124</li><li>125</li><li>126</li><li>127</li><li>128</li><li>129</li><li>130</li></ol>\n"
            ]
          },
          "metadata": {
            "tags": []
          }
        }
      ]
    },
    {
      "cell_type": "markdown",
      "metadata": {
        "id": "LEhAh7fXaG5F"
      },
      "source": [
        "* R é uma linguagem de programação dinâmica, assim R é interpretado automaticamente assim que se roda o código como em Python."
      ]
    },
    {
      "cell_type": "code",
      "metadata": {
        "colab": {
          "base_uri": "https://localhost:8080/",
          "height": 34
        },
        "id": "J_qrKQCQZtl1",
        "outputId": "9e9cddb8-8f33-48a3-80f3-63efbf74bb0e"
      },
      "source": [
        "# Aritmetica basica\n",
        "2*3"
      ],
      "execution_count": 5,
      "outputs": [
        {
          "output_type": "display_data",
          "data": {
            "text/plain": [
              "[1] 6"
            ],
            "text/latex": "6",
            "text/markdown": "6",
            "text/html": [
              "6"
            ]
          },
          "metadata": {
            "tags": []
          }
        }
      ]
    },
    {
      "cell_type": "code",
      "metadata": {
        "colab": {
          "base_uri": "https://localhost:8080/",
          "height": 34
        },
        "id": "ghIVZG2JaeO-",
        "outputId": "a87bc453-725d-4509-d768-434c870e601c"
      },
      "source": [
        "4-1"
      ],
      "execution_count": 6,
      "outputs": [
        {
          "output_type": "display_data",
          "data": {
            "text/plain": [
              "[1] 3"
            ],
            "text/latex": "3",
            "text/markdown": "3",
            "text/html": [
              "3"
            ]
          },
          "metadata": {
            "tags": []
          }
        }
      ]
    },
    {
      "cell_type": "code",
      "metadata": {
        "colab": {
          "base_uri": "https://localhost:8080/",
          "height": 34
        },
        "id": "34ugTD_RafI4",
        "outputId": "11c9eeeb-c613-40ba-b8b3-1f2fd5fb7a51"
      },
      "source": [
        "6/(4-1)"
      ],
      "execution_count": 7,
      "outputs": [
        {
          "output_type": "display_data",
          "data": {
            "text/plain": [
              "[1] 2"
            ],
            "text/latex": "2",
            "text/markdown": "2",
            "text/html": [
              "2"
            ]
          },
          "metadata": {
            "tags": []
          }
        }
      ]
    },
    {
      "cell_type": "markdown",
      "metadata": {
        "id": "zIDaJlASa4qF"
      },
      "source": [
        "### 2.2 Objects\n",
        "* Criando um dado virtual.\n",
        "* Sim, vou ignorar o que já sei.\n"
      ]
    },
    {
      "cell_type": "code",
      "metadata": {
        "id": "57aK_nN6ag_e"
      },
      "source": [
        "# vetor 1d\n",
        "die <- 1:6"
      ],
      "execution_count": 15,
      "outputs": []
    },
    {
      "cell_type": "code",
      "metadata": {
        "colab": {
          "base_uri": "https://localhost:8080/",
          "height": 34
        },
        "id": "8lD4eTfrbcGk",
        "outputId": "8438e261-7bed-4157-bce1-ef28b155ca25"
      },
      "source": [
        "ls()"
      ],
      "execution_count": 16,
      "outputs": [
        {
          "output_type": "display_data",
          "data": {
            "text/plain": [
              "[1] \"a\"   \"die\" \"v\"  "
            ],
            "text/latex": "\\begin{enumerate*}\n\\item 'a'\n\\item 'die'\n\\item 'v'\n\\end{enumerate*}\n",
            "text/markdown": "1. 'a'\n2. 'die'\n3. 'v'\n\n\n",
            "text/html": [
              "<style>\n",
              ".list-inline {list-style: none; margin:0; padding: 0}\n",
              ".list-inline>li {display: inline-block}\n",
              ".list-inline>li:not(:last-child)::after {content: \"\\00b7\"; padding: 0 .5ex}\n",
              "</style>\n",
              "<ol class=list-inline><li>'a'</li><li>'die'</li><li>'v'</li></ol>\n"
            ]
          },
          "metadata": {
            "tags": []
          }
        }
      ]
    },
    {
      "cell_type": "code",
      "metadata": {
        "colab": {
          "base_uri": "https://localhost:8080/",
          "height": 34
        },
        "id": "s3WaHrZKd59E",
        "outputId": "429700f8-390b-479e-b7a8-f6363afdd248"
      },
      "source": [
        "die -1"
      ],
      "execution_count": 17,
      "outputs": [
        {
          "output_type": "display_data",
          "data": {
            "text/plain": [
              "[1] 0 1 2 3 4 5"
            ],
            "text/latex": "\\begin{enumerate*}\n\\item 0\n\\item 1\n\\item 2\n\\item 3\n\\item 4\n\\item 5\n\\end{enumerate*}\n",
            "text/markdown": "1. 0\n2. 1\n3. 2\n4. 3\n5. 4\n6. 5\n\n\n",
            "text/html": [
              "<style>\n",
              ".list-inline {list-style: none; margin:0; padding: 0}\n",
              ".list-inline>li {display: inline-block}\n",
              ".list-inline>li:not(:last-child)::after {content: \"\\00b7\"; padding: 0 .5ex}\n",
              "</style>\n",
              "<ol class=list-inline><li>0</li><li>1</li><li>2</li><li>3</li><li>4</li><li>5</li></ol>\n"
            ]
          },
          "metadata": {
            "tags": []
          }
        }
      ]
    },
    {
      "cell_type": "code",
      "metadata": {
        "colab": {
          "base_uri": "https://localhost:8080/",
          "height": 34
        },
        "id": "sfsnCUUDeBTR",
        "outputId": "4ab781f4-198c-4bcc-8f33-4964b8e08610"
      },
      "source": [
        "die/2"
      ],
      "execution_count": 18,
      "outputs": [
        {
          "output_type": "display_data",
          "data": {
            "text/plain": [
              "[1] 0.5 1.0 1.5 2.0 2.5 3.0"
            ],
            "text/latex": "\\begin{enumerate*}\n\\item 0.5\n\\item 1\n\\item 1.5\n\\item 2\n\\item 2.5\n\\item 3\n\\end{enumerate*}\n",
            "text/markdown": "1. 0.5\n2. 1\n3. 1.5\n4. 2\n5. 2.5\n6. 3\n\n\n",
            "text/html": [
              "<style>\n",
              ".list-inline {list-style: none; margin:0; padding: 0}\n",
              ".list-inline>li {display: inline-block}\n",
              ".list-inline>li:not(:last-child)::after {content: \"\\00b7\"; padding: 0 .5ex}\n",
              "</style>\n",
              "<ol class=list-inline><li>0.5</li><li>1</li><li>1.5</li><li>2</li><li>2.5</li><li>3</li></ol>\n"
            ]
          },
          "metadata": {
            "tags": []
          }
        }
      ]
    },
    {
      "cell_type": "code",
      "metadata": {
        "colab": {
          "base_uri": "https://localhost:8080/",
          "height": 34
        },
        "id": "1zO-VnPbeCAp",
        "outputId": "c6e84358-684b-457a-f2bf-7e4a762af3c5"
      },
      "source": [
        "die*die"
      ],
      "execution_count": 19,
      "outputs": [
        {
          "output_type": "display_data",
          "data": {
            "text/plain": [
              "[1]  1  4  9 16 25 36"
            ],
            "text/latex": "\\begin{enumerate*}\n\\item 1\n\\item 4\n\\item 9\n\\item 16\n\\item 25\n\\item 36\n\\end{enumerate*}\n",
            "text/markdown": "1. 1\n2. 4\n3. 9\n4. 16\n5. 25\n6. 36\n\n\n",
            "text/html": [
              "<style>\n",
              ".list-inline {list-style: none; margin:0; padding: 0}\n",
              ".list-inline>li {display: inline-block}\n",
              ".list-inline>li:not(:last-child)::after {content: \"\\00b7\"; padding: 0 .5ex}\n",
              "</style>\n",
              "<ol class=list-inline><li>1</li><li>4</li><li>9</li><li>16</li><li>25</li><li>36</li></ol>\n"
            ]
          },
          "metadata": {
            "tags": []
          }
        }
      ]
    },
    {
      "cell_type": "markdown",
      "metadata": {
        "id": "2lkIWuvueKz3"
      },
      "source": [
        "* R em alguns casos não segue a regra de multiplicação de matrizes, ele executar por elemento (`element-wise execution`).\n",
        "![image.png](https://rstudio-education.github.io/hopr/images/hopr_0103.png)\n",
        "\n",
        "* Se você tiver dois vetores de tamanhos diferentes, R repete o menor vetor até que ele fique com o mesmo tamanho do maior, mas para isso ele deve ser múltiplo.\n",
        "![image](https://rstudio-education.github.io/hopr/images/hopr_0104.png)"
      ]
    },
    {
      "cell_type": "code",
      "metadata": {
        "colab": {
          "base_uri": "https://localhost:8080/",
          "height": 34
        },
        "id": "VFs7FIRJeC0q",
        "outputId": "0b82b53f-36db-4a98-bc80-9ed5c3082b4b"
      },
      "source": [
        "die+1:2"
      ],
      "execution_count": 21,
      "outputs": [
        {
          "output_type": "display_data",
          "data": {
            "text/plain": [
              "[1] 2 4 4 6 6 8"
            ],
            "text/latex": "\\begin{enumerate*}\n\\item 2\n\\item 4\n\\item 4\n\\item 6\n\\item 6\n\\item 8\n\\end{enumerate*}\n",
            "text/markdown": "1. 2\n2. 4\n3. 4\n4. 6\n5. 6\n6. 8\n\n\n",
            "text/html": [
              "<style>\n",
              ".list-inline {list-style: none; margin:0; padding: 0}\n",
              ".list-inline>li {display: inline-block}\n",
              ".list-inline>li:not(:last-child)::after {content: \"\\00b7\"; padding: 0 .5ex}\n",
              "</style>\n",
              "<ol class=list-inline><li>2</li><li>4</li><li>4</li><li>6</li><li>6</li><li>8</li></ol>\n"
            ]
          },
          "metadata": {
            "tags": []
          }
        }
      ]
    },
    {
      "cell_type": "code",
      "metadata": {
        "colab": {
          "base_uri": "https://localhost:8080/",
          "height": 68
        },
        "id": "M3xayGnXfGBe",
        "outputId": "e4db5c0f-a2b5-475f-b78e-3cf99126af9d"
      },
      "source": [
        "die+1:4"
      ],
      "execution_count": 22,
      "outputs": [
        {
          "output_type": "stream",
          "text": [
            "Warning message in die + 1:4:\n",
            "“longer object length is not a multiple of shorter object length”\n"
          ],
          "name": "stderr"
        },
        {
          "output_type": "display_data",
          "data": {
            "text/plain": [
              "[1] 2 4 6 8 6 8"
            ],
            "text/latex": "\\begin{enumerate*}\n\\item 2\n\\item 4\n\\item 6\n\\item 8\n\\item 6\n\\item 8\n\\end{enumerate*}\n",
            "text/markdown": "1. 2\n2. 4\n3. 6\n4. 8\n5. 6\n6. 8\n\n\n",
            "text/html": [
              "<style>\n",
              ".list-inline {list-style: none; margin:0; padding: 0}\n",
              ".list-inline>li {display: inline-block}\n",
              ".list-inline>li:not(:last-child)::after {content: \"\\00b7\"; padding: 0 .5ex}\n",
              "</style>\n",
              "<ol class=list-inline><li>2</li><li>4</li><li>6</li><li>8</li><li>6</li><li>8</li></ol>\n"
            ]
          },
          "metadata": {
            "tags": []
          }
        }
      ]
    },
    {
      "cell_type": "code",
      "metadata": {
        "colab": {
          "base_uri": "https://localhost:8080/",
          "height": 150
        },
        "id": "aTYYap0efIL0",
        "outputId": "4320165f-9c1d-4d9b-a1b7-661a8419360c"
      },
      "source": [
        "# inner multiplication\n",
        "die %*% die"
      ],
      "execution_count": 23,
      "outputs": [
        {
          "output_type": "display_data",
          "data": {
            "text/plain": [
              "     [,1]\n",
              "[1,] 91  "
            ],
            "text/latex": "A matrix: 1 × 1 of type dbl\n\\begin{tabular}{l}\n\t 91\\\\\n\\end{tabular}\n",
            "text/markdown": "\nA matrix: 1 × 1 of type dbl\n\n| 91 |\n\n",
            "text/html": [
              "<table class=\"dataframe\">\n",
              "<caption>A matrix: 1 × 1 of type dbl</caption>\n",
              "<tbody>\n",
              "\t<tr><td>91</td></tr>\n",
              "</tbody>\n",
              "</table>\n"
            ]
          },
          "metadata": {
            "tags": []
          }
        }
      ]
    },
    {
      "cell_type": "code",
      "metadata": {
        "colab": {
          "base_uri": "https://localhost:8080/",
          "height": 220
        },
        "id": "bLS0vrUXf7dz",
        "outputId": "ac646fb7-8aeb-4a3b-c804-b95dc86a8fd1"
      },
      "source": [
        "# outer multiplication\n",
        "die %o% die"
      ],
      "execution_count": 25,
      "outputs": [
        {
          "output_type": "display_data",
          "data": {
            "text/plain": [
              "     [,1] [,2] [,3] [,4] [,5] [,6]\n",
              "[1,] 1     2    3    4    5    6  \n",
              "[2,] 2     4    6    8   10   12  \n",
              "[3,] 3     6    9   12   15   18  \n",
              "[4,] 4     8   12   16   20   24  \n",
              "[5,] 5    10   15   20   25   30  \n",
              "[6,] 6    12   18   24   30   36  "
            ],
            "text/latex": "A matrix: 6 × 6 of type dbl\n\\begin{tabular}{llllll}\n\t 1 &  2 &  3 &  4 &  5 &  6\\\\\n\t 2 &  4 &  6 &  8 & 10 & 12\\\\\n\t 3 &  6 &  9 & 12 & 15 & 18\\\\\n\t 4 &  8 & 12 & 16 & 20 & 24\\\\\n\t 5 & 10 & 15 & 20 & 25 & 30\\\\\n\t 6 & 12 & 18 & 24 & 30 & 36\\\\\n\\end{tabular}\n",
            "text/markdown": "\nA matrix: 6 × 6 of type dbl\n\n| 1 |  2 |  3 |  4 |  5 |  6 |\n| 2 |  4 |  6 |  8 | 10 | 12 |\n| 3 |  6 |  9 | 12 | 15 | 18 |\n| 4 |  8 | 12 | 16 | 20 | 24 |\n| 5 | 10 | 15 | 20 | 25 | 30 |\n| 6 | 12 | 18 | 24 | 30 | 36 |\n\n",
            "text/html": [
              "<table class=\"dataframe\">\n",
              "<caption>A matrix: 6 × 6 of type dbl</caption>\n",
              "<tbody>\n",
              "\t<tr><td>1</td><td> 2</td><td> 3</td><td> 4</td><td> 5</td><td> 6</td></tr>\n",
              "\t<tr><td>2</td><td> 4</td><td> 6</td><td> 8</td><td>10</td><td>12</td></tr>\n",
              "\t<tr><td>3</td><td> 6</td><td> 9</td><td>12</td><td>15</td><td>18</td></tr>\n",
              "\t<tr><td>4</td><td> 8</td><td>12</td><td>16</td><td>20</td><td>24</td></tr>\n",
              "\t<tr><td>5</td><td>10</td><td>15</td><td>20</td><td>25</td><td>30</td></tr>\n",
              "\t<tr><td>6</td><td>12</td><td>18</td><td>24</td><td>30</td><td>36</td></tr>\n",
              "</tbody>\n",
              "</table>\n"
            ]
          },
          "metadata": {
            "tags": []
          }
        }
      ]
    },
    {
      "cell_type": "markdown",
      "metadata": {
        "id": "e06KgFv3gLSG"
      },
      "source": [
        "### 2.3 Functions"
      ]
    },
    {
      "cell_type": "code",
      "metadata": {
        "id": "tLssSuVif-Fk"
      },
      "source": [
        ""
      ],
      "execution_count": null,
      "outputs": []
    }
  ]
}