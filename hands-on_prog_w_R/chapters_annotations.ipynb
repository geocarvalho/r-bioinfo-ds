{
  "nbformat": 4,
  "nbformat_minor": 0,
  "metadata": {
    "colab": {
      "name": "chapters-annotations.ipynb",
      "provenance": [],
      "collapsed_sections": [],
      "authorship_tag": "ABX9TyNCTbtUugCih+PxGfEcy/Wc",
      "include_colab_link": true
    },
    "kernelspec": {
      "name": "ir",
      "display_name": "R"
    },
    "language_info": {
      "name": "R"
    }
  },
  "cells": [
    {
      "cell_type": "markdown",
      "metadata": {
        "id": "view-in-github",
        "colab_type": "text"
      },
      "source": [
        "<a href=\"https://colab.research.google.com/github/geocarvalho/r-bioinfo-ds/blob/master/hands-on_prog_w_R/chapters_annotations.ipynb\" target=\"_parent\"><img src=\"https://colab.research.google.com/assets/colab-badge.svg\" alt=\"Open In Colab\"/></a>"
      ]
    },
    {
      "cell_type": "markdown",
      "metadata": {
        "id": "lr8TDDDLXsnK"
      },
      "source": [
        "# [Hands-on programming with R](https://rstudio-education.github.io/hopr/index.html)\n",
        "\n",
        "## 1. [Project 1: Weighted dice](https://rstudio-education.github.io/hopr/project-1-weighted-dice.html)\n",
        "\n",
        "## 2. [The very basics](https://rstudio-education.github.io/hopr/basics.html)\n",
        "\n",
        "### 2.1 The R user interface\n",
        "\n",
        "* Aqui ele fala sobre o RStudio, mas vou tentar usar apenas o colab."
      ]
    },
    {
      "cell_type": "code",
      "metadata": {
        "colab": {
          "base_uri": "https://localhost:8080/",
          "height": 34
        },
        "id": "apY2TFhUXnH2",
        "outputId": "e3788884-dafe-4229-9318-50d8b4cb2146"
      },
      "source": [
        "# testando uma soma para mostrar o colab\n",
        "1+1"
      ],
      "execution_count": 4,
      "outputs": [
        {
          "output_type": "display_data",
          "data": {
            "text/plain": [
              "[1] 2"
            ],
            "text/latex": "2",
            "text/markdown": "2",
            "text/html": [
              "2"
            ]
          },
          "metadata": {
            "tags": []
          }
        }
      ]
    },
    {
      "cell_type": "code",
      "metadata": {
        "colab": {
          "base_uri": "https://localhost:8080/",
          "height": 51
        },
        "id": "S_u-4kU7Zn0e",
        "outputId": "2a3bd329-ae13-476d-9a79-deb0275d804a"
      },
      "source": [
        "# uma sequencia de inteiros\n",
        "100:130"
      ],
      "execution_count": 5,
      "outputs": [
        {
          "output_type": "display_data",
          "data": {
            "text/plain": [
              " [1] 100 101 102 103 104 105 106 107 108 109 110 111 112 113 114 115 116 117 118\n",
              "[20] 119 120 121 122 123 124 125 126 127 128 129 130"
            ],
            "text/latex": "\\begin{enumerate*}\n\\item 100\n\\item 101\n\\item 102\n\\item 103\n\\item 104\n\\item 105\n\\item 106\n\\item 107\n\\item 108\n\\item 109\n\\item 110\n\\item 111\n\\item 112\n\\item 113\n\\item 114\n\\item 115\n\\item 116\n\\item 117\n\\item 118\n\\item 119\n\\item 120\n\\item 121\n\\item 122\n\\item 123\n\\item 124\n\\item 125\n\\item 126\n\\item 127\n\\item 128\n\\item 129\n\\item 130\n\\end{enumerate*}\n",
            "text/markdown": "1. 100\n2. 101\n3. 102\n4. 103\n5. 104\n6. 105\n7. 106\n8. 107\n9. 108\n10. 109\n11. 110\n12. 111\n13. 112\n14. 113\n15. 114\n16. 115\n17. 116\n18. 117\n19. 118\n20. 119\n21. 120\n22. 121\n23. 122\n24. 123\n25. 124\n26. 125\n27. 126\n28. 127\n29. 128\n30. 129\n31. 130\n\n\n",
            "text/html": [
              "<style>\n",
              ".list-inline {list-style: none; margin:0; padding: 0}\n",
              ".list-inline>li {display: inline-block}\n",
              ".list-inline>li:not(:last-child)::after {content: \"\\00b7\"; padding: 0 .5ex}\n",
              "</style>\n",
              "<ol class=list-inline><li>100</li><li>101</li><li>102</li><li>103</li><li>104</li><li>105</li><li>106</li><li>107</li><li>108</li><li>109</li><li>110</li><li>111</li><li>112</li><li>113</li><li>114</li><li>115</li><li>116</li><li>117</li><li>118</li><li>119</li><li>120</li><li>121</li><li>122</li><li>123</li><li>124</li><li>125</li><li>126</li><li>127</li><li>128</li><li>129</li><li>130</li></ol>\n"
            ]
          },
          "metadata": {
            "tags": []
          }
        }
      ]
    },
    {
      "cell_type": "markdown",
      "metadata": {
        "id": "LEhAh7fXaG5F"
      },
      "source": [
        "* R é uma linguagem de programação dinâmica, assim R é interpretado automaticamente assim que se roda o código como em Python."
      ]
    },
    {
      "cell_type": "code",
      "metadata": {
        "colab": {
          "base_uri": "https://localhost:8080/",
          "height": 34
        },
        "id": "J_qrKQCQZtl1",
        "outputId": "5fd364de-06da-4b54-e328-23d4cced5a29"
      },
      "source": [
        "# Aritmetica basica\n",
        "2*3"
      ],
      "execution_count": 6,
      "outputs": [
        {
          "output_type": "display_data",
          "data": {
            "text/plain": [
              "[1] 6"
            ],
            "text/latex": "6",
            "text/markdown": "6",
            "text/html": [
              "6"
            ]
          },
          "metadata": {
            "tags": []
          }
        }
      ]
    },
    {
      "cell_type": "code",
      "metadata": {
        "colab": {
          "base_uri": "https://localhost:8080/",
          "height": 34
        },
        "id": "ghIVZG2JaeO-",
        "outputId": "e3d309a5-a84c-4278-aa64-6b6a5b2869ee"
      },
      "source": [
        "4-1"
      ],
      "execution_count": 7,
      "outputs": [
        {
          "output_type": "display_data",
          "data": {
            "text/plain": [
              "[1] 3"
            ],
            "text/latex": "3",
            "text/markdown": "3",
            "text/html": [
              "3"
            ]
          },
          "metadata": {
            "tags": []
          }
        }
      ]
    },
    {
      "cell_type": "code",
      "metadata": {
        "colab": {
          "base_uri": "https://localhost:8080/",
          "height": 34
        },
        "id": "34ugTD_RafI4",
        "outputId": "e305838e-9234-42d6-ef50-eb00a9f9041b"
      },
      "source": [
        "6/(4-1)"
      ],
      "execution_count": 8,
      "outputs": [
        {
          "output_type": "display_data",
          "data": {
            "text/plain": [
              "[1] 2"
            ],
            "text/latex": "2",
            "text/markdown": "2",
            "text/html": [
              "2"
            ]
          },
          "metadata": {
            "tags": []
          }
        }
      ]
    },
    {
      "cell_type": "markdown",
      "metadata": {
        "id": "zIDaJlASa4qF"
      },
      "source": [
        "### 2.2 Objects\n",
        "* Criando um dado virtual.\n",
        "* Sim, vou ignorar o que já sei.\n"
      ]
    },
    {
      "cell_type": "code",
      "metadata": {
        "id": "57aK_nN6ag_e"
      },
      "source": [
        "# vetor 1d\n",
        "die <- 1:6"
      ],
      "execution_count": 9,
      "outputs": []
    },
    {
      "cell_type": "code",
      "metadata": {
        "colab": {
          "base_uri": "https://localhost:8080/",
          "height": 34
        },
        "id": "8lD4eTfrbcGk",
        "outputId": "22a2f81a-e439-440c-e295-88fca153dd97"
      },
      "source": [
        "ls()"
      ],
      "execution_count": 10,
      "outputs": [
        {
          "output_type": "display_data",
          "data": {
            "text/plain": [
              "[1] \"die\""
            ],
            "text/latex": "'die'",
            "text/markdown": "'die'",
            "text/html": [
              "'die'"
            ]
          },
          "metadata": {
            "tags": []
          }
        }
      ]
    },
    {
      "cell_type": "code",
      "metadata": {
        "colab": {
          "base_uri": "https://localhost:8080/",
          "height": 34
        },
        "id": "s3WaHrZKd59E",
        "outputId": "87ca27b1-3d20-4fcb-e5c4-87a1f9e2f04f"
      },
      "source": [
        "die -1"
      ],
      "execution_count": 11,
      "outputs": [
        {
          "output_type": "display_data",
          "data": {
            "text/plain": [
              "[1] 0 1 2 3 4 5"
            ],
            "text/latex": "\\begin{enumerate*}\n\\item 0\n\\item 1\n\\item 2\n\\item 3\n\\item 4\n\\item 5\n\\end{enumerate*}\n",
            "text/markdown": "1. 0\n2. 1\n3. 2\n4. 3\n5. 4\n6. 5\n\n\n",
            "text/html": [
              "<style>\n",
              ".list-inline {list-style: none; margin:0; padding: 0}\n",
              ".list-inline>li {display: inline-block}\n",
              ".list-inline>li:not(:last-child)::after {content: \"\\00b7\"; padding: 0 .5ex}\n",
              "</style>\n",
              "<ol class=list-inline><li>0</li><li>1</li><li>2</li><li>3</li><li>4</li><li>5</li></ol>\n"
            ]
          },
          "metadata": {
            "tags": []
          }
        }
      ]
    },
    {
      "cell_type": "code",
      "metadata": {
        "colab": {
          "base_uri": "https://localhost:8080/",
          "height": 34
        },
        "id": "sfsnCUUDeBTR",
        "outputId": "071f1772-db85-46cb-8494-67fbf328b768"
      },
      "source": [
        "die/2"
      ],
      "execution_count": 12,
      "outputs": [
        {
          "output_type": "display_data",
          "data": {
            "text/plain": [
              "[1] 0.5 1.0 1.5 2.0 2.5 3.0"
            ],
            "text/latex": "\\begin{enumerate*}\n\\item 0.5\n\\item 1\n\\item 1.5\n\\item 2\n\\item 2.5\n\\item 3\n\\end{enumerate*}\n",
            "text/markdown": "1. 0.5\n2. 1\n3. 1.5\n4. 2\n5. 2.5\n6. 3\n\n\n",
            "text/html": [
              "<style>\n",
              ".list-inline {list-style: none; margin:0; padding: 0}\n",
              ".list-inline>li {display: inline-block}\n",
              ".list-inline>li:not(:last-child)::after {content: \"\\00b7\"; padding: 0 .5ex}\n",
              "</style>\n",
              "<ol class=list-inline><li>0.5</li><li>1</li><li>1.5</li><li>2</li><li>2.5</li><li>3</li></ol>\n"
            ]
          },
          "metadata": {
            "tags": []
          }
        }
      ]
    },
    {
      "cell_type": "code",
      "metadata": {
        "colab": {
          "base_uri": "https://localhost:8080/",
          "height": 34
        },
        "id": "1zO-VnPbeCAp",
        "outputId": "0827cb10-f3d8-4353-c3dc-c21e5c758a6d"
      },
      "source": [
        "die*die"
      ],
      "execution_count": 13,
      "outputs": [
        {
          "output_type": "display_data",
          "data": {
            "text/plain": [
              "[1]  1  4  9 16 25 36"
            ],
            "text/latex": "\\begin{enumerate*}\n\\item 1\n\\item 4\n\\item 9\n\\item 16\n\\item 25\n\\item 36\n\\end{enumerate*}\n",
            "text/markdown": "1. 1\n2. 4\n3. 9\n4. 16\n5. 25\n6. 36\n\n\n",
            "text/html": [
              "<style>\n",
              ".list-inline {list-style: none; margin:0; padding: 0}\n",
              ".list-inline>li {display: inline-block}\n",
              ".list-inline>li:not(:last-child)::after {content: \"\\00b7\"; padding: 0 .5ex}\n",
              "</style>\n",
              "<ol class=list-inline><li>1</li><li>4</li><li>9</li><li>16</li><li>25</li><li>36</li></ol>\n"
            ]
          },
          "metadata": {
            "tags": []
          }
        }
      ]
    },
    {
      "cell_type": "markdown",
      "metadata": {
        "id": "2lkIWuvueKz3"
      },
      "source": [
        "* R em alguns casos não segue a regra de multiplicação de matrizes, ele executar por elemento (`element-wise execution`).\n",
        "![image.png](https://rstudio-education.github.io/hopr/images/hopr_0103.png)\n",
        "\n",
        "* Se você tiver dois vetores de tamanhos diferentes, R repete o menor vetor até que ele fique com o mesmo tamanho do maior, mas para isso ele deve ser múltiplo.\n",
        "![image](https://rstudio-education.github.io/hopr/images/hopr_0104.png)"
      ]
    },
    {
      "cell_type": "code",
      "metadata": {
        "colab": {
          "base_uri": "https://localhost:8080/",
          "height": 34
        },
        "id": "VFs7FIRJeC0q",
        "outputId": "16d4e782-9287-4c91-ff27-b2ee4ba2fd65"
      },
      "source": [
        "die+1:2"
      ],
      "execution_count": 14,
      "outputs": [
        {
          "output_type": "display_data",
          "data": {
            "text/plain": [
              "[1] 2 4 4 6 6 8"
            ],
            "text/latex": "\\begin{enumerate*}\n\\item 2\n\\item 4\n\\item 4\n\\item 6\n\\item 6\n\\item 8\n\\end{enumerate*}\n",
            "text/markdown": "1. 2\n2. 4\n3. 4\n4. 6\n5. 6\n6. 8\n\n\n",
            "text/html": [
              "<style>\n",
              ".list-inline {list-style: none; margin:0; padding: 0}\n",
              ".list-inline>li {display: inline-block}\n",
              ".list-inline>li:not(:last-child)::after {content: \"\\00b7\"; padding: 0 .5ex}\n",
              "</style>\n",
              "<ol class=list-inline><li>2</li><li>4</li><li>4</li><li>6</li><li>6</li><li>8</li></ol>\n"
            ]
          },
          "metadata": {
            "tags": []
          }
        }
      ]
    },
    {
      "cell_type": "code",
      "metadata": {
        "colab": {
          "base_uri": "https://localhost:8080/",
          "height": 68
        },
        "id": "M3xayGnXfGBe",
        "outputId": "792dbdc9-8a69-4eb5-9f6b-9b1a34580a6f"
      },
      "source": [
        "die+1:4"
      ],
      "execution_count": 15,
      "outputs": [
        {
          "output_type": "stream",
          "text": [
            "Warning message in die + 1:4:\n",
            "“longer object length is not a multiple of shorter object length”\n"
          ],
          "name": "stderr"
        },
        {
          "output_type": "display_data",
          "data": {
            "text/plain": [
              "[1] 2 4 6 8 6 8"
            ],
            "text/latex": "\\begin{enumerate*}\n\\item 2\n\\item 4\n\\item 6\n\\item 8\n\\item 6\n\\item 8\n\\end{enumerate*}\n",
            "text/markdown": "1. 2\n2. 4\n3. 6\n4. 8\n5. 6\n6. 8\n\n\n",
            "text/html": [
              "<style>\n",
              ".list-inline {list-style: none; margin:0; padding: 0}\n",
              ".list-inline>li {display: inline-block}\n",
              ".list-inline>li:not(:last-child)::after {content: \"\\00b7\"; padding: 0 .5ex}\n",
              "</style>\n",
              "<ol class=list-inline><li>2</li><li>4</li><li>6</li><li>8</li><li>6</li><li>8</li></ol>\n"
            ]
          },
          "metadata": {
            "tags": []
          }
        }
      ]
    },
    {
      "cell_type": "code",
      "metadata": {
        "colab": {
          "base_uri": "https://localhost:8080/",
          "height": 150
        },
        "id": "aTYYap0efIL0",
        "outputId": "80e830c1-19a2-47df-d6e4-ac10f1ae3de2"
      },
      "source": [
        "# inner multiplication\n",
        "die %*% die"
      ],
      "execution_count": 16,
      "outputs": [
        {
          "output_type": "display_data",
          "data": {
            "text/plain": [
              "     [,1]\n",
              "[1,] 91  "
            ],
            "text/latex": "A matrix: 1 × 1 of type dbl\n\\begin{tabular}{l}\n\t 91\\\\\n\\end{tabular}\n",
            "text/markdown": "\nA matrix: 1 × 1 of type dbl\n\n| 91 |\n\n",
            "text/html": [
              "<table class=\"dataframe\">\n",
              "<caption>A matrix: 1 × 1 of type dbl</caption>\n",
              "<tbody>\n",
              "\t<tr><td>91</td></tr>\n",
              "</tbody>\n",
              "</table>\n"
            ]
          },
          "metadata": {
            "tags": []
          }
        }
      ]
    },
    {
      "cell_type": "code",
      "metadata": {
        "colab": {
          "base_uri": "https://localhost:8080/",
          "height": 220
        },
        "id": "bLS0vrUXf7dz",
        "outputId": "2ec79a28-7af8-495e-e22f-bb0fe2fe5a5e"
      },
      "source": [
        "# outer multiplication\n",
        "die %o% die"
      ],
      "execution_count": 17,
      "outputs": [
        {
          "output_type": "display_data",
          "data": {
            "text/plain": [
              "     [,1] [,2] [,3] [,4] [,5] [,6]\n",
              "[1,] 1     2    3    4    5    6  \n",
              "[2,] 2     4    6    8   10   12  \n",
              "[3,] 3     6    9   12   15   18  \n",
              "[4,] 4     8   12   16   20   24  \n",
              "[5,] 5    10   15   20   25   30  \n",
              "[6,] 6    12   18   24   30   36  "
            ],
            "text/latex": "A matrix: 6 × 6 of type dbl\n\\begin{tabular}{llllll}\n\t 1 &  2 &  3 &  4 &  5 &  6\\\\\n\t 2 &  4 &  6 &  8 & 10 & 12\\\\\n\t 3 &  6 &  9 & 12 & 15 & 18\\\\\n\t 4 &  8 & 12 & 16 & 20 & 24\\\\\n\t 5 & 10 & 15 & 20 & 25 & 30\\\\\n\t 6 & 12 & 18 & 24 & 30 & 36\\\\\n\\end{tabular}\n",
            "text/markdown": "\nA matrix: 6 × 6 of type dbl\n\n| 1 |  2 |  3 |  4 |  5 |  6 |\n| 2 |  4 |  6 |  8 | 10 | 12 |\n| 3 |  6 |  9 | 12 | 15 | 18 |\n| 4 |  8 | 12 | 16 | 20 | 24 |\n| 5 | 10 | 15 | 20 | 25 | 30 |\n| 6 | 12 | 18 | 24 | 30 | 36 |\n\n",
            "text/html": [
              "<table class=\"dataframe\">\n",
              "<caption>A matrix: 6 × 6 of type dbl</caption>\n",
              "<tbody>\n",
              "\t<tr><td>1</td><td> 2</td><td> 3</td><td> 4</td><td> 5</td><td> 6</td></tr>\n",
              "\t<tr><td>2</td><td> 4</td><td> 6</td><td> 8</td><td>10</td><td>12</td></tr>\n",
              "\t<tr><td>3</td><td> 6</td><td> 9</td><td>12</td><td>15</td><td>18</td></tr>\n",
              "\t<tr><td>4</td><td> 8</td><td>12</td><td>16</td><td>20</td><td>24</td></tr>\n",
              "\t<tr><td>5</td><td>10</td><td>15</td><td>20</td><td>25</td><td>30</td></tr>\n",
              "\t<tr><td>6</td><td>12</td><td>18</td><td>24</td><td>30</td><td>36</td></tr>\n",
              "</tbody>\n",
              "</table>\n"
            ]
          },
          "metadata": {
            "tags": []
          }
        }
      ]
    },
    {
      "cell_type": "markdown",
      "metadata": {
        "id": "e06KgFv3gLSG"
      },
      "source": [
        "### 2.3 Functions"
      ]
    },
    {
      "cell_type": "code",
      "metadata": {
        "id": "tLssSuVif-Fk",
        "colab": {
          "base_uri": "https://localhost:8080/",
          "height": 34
        },
        "outputId": "e93b48e5-a0ac-47ff-9422-624f0b1a4294"
      },
      "source": [
        "# limitar os decimais\n",
        "round(3.1415)"
      ],
      "execution_count": 18,
      "outputs": [
        {
          "output_type": "display_data",
          "data": {
            "text/plain": [
              "[1] 3"
            ],
            "text/latex": "3",
            "text/markdown": "3",
            "text/html": [
              "3"
            ]
          },
          "metadata": {
            "tags": []
          }
        }
      ]
    },
    {
      "cell_type": "code",
      "metadata": {
        "colab": {
          "base_uri": "https://localhost:8080/",
          "height": 34
        },
        "id": "PZ8Tf8zN7iZ1",
        "outputId": "d2dfc88b-2553-4428-ddf8-c87250a981c7"
      },
      "source": [
        "# fatorial\n",
        "factorial(3)"
      ],
      "execution_count": 19,
      "outputs": [
        {
          "output_type": "display_data",
          "data": {
            "text/plain": [
              "[1] 6"
            ],
            "text/latex": "6",
            "text/markdown": "6",
            "text/html": [
              "6"
            ]
          },
          "metadata": {
            "tags": []
          }
        }
      ]
    },
    {
      "cell_type": "code",
      "metadata": {
        "colab": {
          "base_uri": "https://localhost:8080/",
          "height": 34
        },
        "id": "skbfrUJC7kzz",
        "outputId": "6e32cb2f-9200-4cd3-8d3f-e7a1d7944df5"
      },
      "source": [
        "# media de uma lista de numeros\n",
        "mean(1:6)"
      ],
      "execution_count": 20,
      "outputs": [
        {
          "output_type": "display_data",
          "data": {
            "text/plain": [
              "[1] 3.5"
            ],
            "text/latex": "3.5",
            "text/markdown": "3.5",
            "text/html": [
              "3.5"
            ]
          },
          "metadata": {
            "tags": []
          }
        }
      ]
    },
    {
      "cell_type": "code",
      "metadata": {
        "colab": {
          "base_uri": "https://localhost:8080/",
          "height": 34
        },
        "id": "vNvMH2a_76Sb",
        "outputId": "7c85f521-5952-42b4-bfd3-54547e085a47"
      },
      "source": [
        "mean(die)"
      ],
      "execution_count": 23,
      "outputs": [
        {
          "output_type": "display_data",
          "data": {
            "text/plain": [
              "[1] 3.5"
            ],
            "text/latex": "3.5",
            "text/markdown": "3.5",
            "text/html": [
              "3.5"
            ]
          },
          "metadata": {
            "tags": []
          }
        }
      ]
    },
    {
      "cell_type": "code",
      "metadata": {
        "colab": {
          "base_uri": "https://localhost:8080/",
          "height": 34
        },
        "id": "Enryg_Sb795q",
        "outputId": "0cda7add-abb4-439b-812a-0be5496deb1a"
      },
      "source": [
        "round(mean(die))"
      ],
      "execution_count": 24,
      "outputs": [
        {
          "output_type": "display_data",
          "data": {
            "text/plain": [
              "[1] 4"
            ],
            "text/latex": "4",
            "text/markdown": "4",
            "text/html": [
              "4"
            ]
          },
          "metadata": {
            "tags": []
          }
        }
      ]
    },
    {
      "cell_type": "code",
      "metadata": {
        "colab": {
          "base_uri": "https://localhost:8080/",
          "height": 34
        },
        "id": "Kp3gOYCy8Bi-",
        "outputId": "db5c2202-43f5-4556-e258-6e0316a70a9e"
      },
      "source": [
        "# Jogando o dado\n",
        "sample(x=die, size=1)"
      ],
      "execution_count": 27,
      "outputs": [
        {
          "output_type": "display_data",
          "data": {
            "text/plain": [
              "[1] 6"
            ],
            "text/latex": "6",
            "text/markdown": "6",
            "text/html": [
              "6"
            ]
          },
          "metadata": {
            "tags": []
          }
        }
      ]
    },
    {
      "cell_type": "code",
      "metadata": {
        "colab": {
          "base_uri": "https://localhost:8080/",
          "height": 34
        },
        "id": "lVwHHvfs8iX0",
        "outputId": "a6b352e7-a25a-420d-8787-96933a5345a2"
      },
      "source": [
        "sample(die, size=1)"
      ],
      "execution_count": 28,
      "outputs": [
        {
          "output_type": "display_data",
          "data": {
            "text/plain": [
              "[1] 3"
            ],
            "text/latex": "3",
            "text/markdown": "3",
            "text/html": [
              "3"
            ]
          },
          "metadata": {
            "tags": []
          }
        }
      ]
    },
    {
      "cell_type": "code",
      "metadata": {
        "colab": {
          "base_uri": "https://localhost:8080/",
          "height": 34
        },
        "id": "C9Ajj35Z9sXq",
        "outputId": "69a48ec5-e973-442f-8962-ac0f4369a25e"
      },
      "source": [
        "# E boa pratica escrever os nomes dos argumentos para evitar erros\n",
        "sample(die, 1)"
      ],
      "execution_count": 30,
      "outputs": [
        {
          "output_type": "display_data",
          "data": {
            "text/plain": [
              "[1] 2"
            ],
            "text/latex": "2",
            "text/markdown": "2",
            "text/html": [
              "2"
            ]
          },
          "metadata": {
            "tags": []
          }
        }
      ]
    },
    {
      "cell_type": "code",
      "metadata": {
        "colab": {
          "base_uri": "https://localhost:8080/",
          "height": 51
        },
        "id": "JsImEK4j88Bh",
        "outputId": "36080162-2d5b-4f04-ac61-b5ccb12117bf"
      },
      "source": [
        "# Para saber os argumentos de uma função\n",
        "args(round)"
      ],
      "execution_count": 29,
      "outputs": [
        {
          "output_type": "display_data",
          "data": {
            "text/plain": [
              "function (x, digits = 0) \n",
              "NULL"
            ],
            "text/latex": "\\begin{minted}{r}\nfunction (x, digits = 0) \nNULL\n\\end{minted}",
            "text/markdown": "```r\nfunction (x, digits = 0) \nNULL\n```",
            "text/html": [
              "<pre class=language-r><code>function (x, digits = 0) \n",
              "NULL</code></pre>"
            ]
          },
          "metadata": {
            "tags": []
          }
        }
      ]
    },
    {
      "cell_type": "markdown",
      "metadata": {
        "id": "OD7BZw4i_IJJ"
      },
      "source": [
        "#### 2.3.1 Sample with replacement\n",
        "\n",
        "* Com o valor de `size = 2` podemos simular um par de dados, mas sem repetição.\n",
        "* Adicionando o argumento `replace = TRUE` nós conseguimos replicar dois dados independentes."
      ]
    },
    {
      "cell_type": "code",
      "metadata": {
        "colab": {
          "base_uri": "https://localhost:8080/",
          "height": 34
        },
        "id": "mpd-t9H29QDh",
        "outputId": "59596b11-06ee-45c1-ed44-7e389f5c95ef"
      },
      "source": [
        "sample(die, size=2, replace=TRUE)"
      ],
      "execution_count": 36,
      "outputs": [
        {
          "output_type": "display_data",
          "data": {
            "text/plain": [
              "[1] 6 6"
            ],
            "text/latex": "\\begin{enumerate*}\n\\item 6\n\\item 6\n\\end{enumerate*}\n",
            "text/markdown": "1. 6\n2. 6\n\n\n",
            "text/html": [
              "<style>\n",
              ".list-inline {list-style: none; margin:0; padding: 0}\n",
              ".list-inline>li {display: inline-block}\n",
              ".list-inline>li:not(:last-child)::after {content: \"\\00b7\"; padding: 0 .5ex}\n",
              "</style>\n",
              "<ol class=list-inline><li>6</li><li>6</li></ol>\n"
            ]
          },
          "metadata": {
            "tags": []
          }
        }
      ]
    },
    {
      "cell_type": "code",
      "metadata": {
        "id": "XPifAzgVAREv"
      },
      "source": [
        "# Mas se rodarmos o dado multiplas vezes teremos variacoes?\n",
        "dice <- sample(die, size=2, replace=TRUE)"
      ],
      "execution_count": 37,
      "outputs": []
    },
    {
      "cell_type": "code",
      "metadata": {
        "colab": {
          "base_uri": "https://localhost:8080/",
          "height": 34
        },
        "id": "iL1HLdnnBq6k",
        "outputId": "c1a1893d-2679-45d5-83df-32486721db6a"
      },
      "source": [
        "dice"
      ],
      "execution_count": 38,
      "outputs": [
        {
          "output_type": "display_data",
          "data": {
            "text/plain": [
              "[1] 1 4"
            ],
            "text/latex": "\\begin{enumerate*}\n\\item 1\n\\item 4\n\\end{enumerate*}\n",
            "text/markdown": "1. 1\n2. 4\n\n\n",
            "text/html": [
              "<style>\n",
              ".list-inline {list-style: none; margin:0; padding: 0}\n",
              ".list-inline>li {display: inline-block}\n",
              ".list-inline>li:not(:last-child)::after {content: \"\\00b7\"; padding: 0 .5ex}\n",
              "</style>\n",
              "<ol class=list-inline><li>1</li><li>4</li></ol>\n"
            ]
          },
          "metadata": {
            "tags": []
          }
        }
      ]
    },
    {
      "cell_type": "code",
      "metadata": {
        "colab": {
          "base_uri": "https://localhost:8080/",
          "height": 34
        },
        "id": "H5EXOC_4BrWh",
        "outputId": "c874784e-25f0-4c6c-8b11-55915f395fa6"
      },
      "source": [
        "dice"
      ],
      "execution_count": 39,
      "outputs": [
        {
          "output_type": "display_data",
          "data": {
            "text/plain": [
              "[1] 1 4"
            ],
            "text/latex": "\\begin{enumerate*}\n\\item 1\n\\item 4\n\\end{enumerate*}\n",
            "text/markdown": "1. 1\n2. 4\n\n\n",
            "text/html": [
              "<style>\n",
              ".list-inline {list-style: none; margin:0; padding: 0}\n",
              ".list-inline>li {display: inline-block}\n",
              ".list-inline>li:not(:last-child)::after {content: \"\\00b7\"; padding: 0 .5ex}\n",
              "</style>\n",
              "<ol class=list-inline><li>1</li><li>4</li></ol>\n"
            ]
          },
          "metadata": {
            "tags": []
          }
        }
      ]
    },
    {
      "cell_type": "markdown",
      "metadata": {
        "id": "sXi48iFRB2jD"
      },
      "source": [
        "### 2.4 Writing your own functions\n",
        "\n",
        "* Então não, para isso precisamos criar uma função que joga os dados toda vez que a chamamos.\n",
        "\n",
        "#### 2.4.1 The function constructor\n",
        "\n",
        "* Um nome;\n",
        "* Um corpo de código;\n",
        "* Alguns argumentos."
      ]
    },
    {
      "cell_type": "code",
      "metadata": {
        "id": "JXDnNNe6Br3S"
      },
      "source": [
        "my_function <- function () {}"
      ],
      "execution_count": 40,
      "outputs": []
    },
    {
      "cell_type": "code",
      "metadata": {
        "id": "wEf3EachCmJa"
      },
      "source": [
        "# A nossa função para o dado\n",
        "roll <- function () {\n",
        "  die <- 1:6\n",
        "  dice <- sample(die, size=2, replace=TRUE)\n",
        "  sum(dice)\n",
        "}"
      ],
      "execution_count": 41,
      "outputs": []
    },
    {
      "cell_type": "code",
      "metadata": {
        "colab": {
          "base_uri": "https://localhost:8080/",
          "height": 34
        },
        "id": "I2pk3A54C0M2",
        "outputId": "3f3887c4-ad8f-43f9-c3df-33ceb18a0d98"
      },
      "source": [
        "roll()"
      ],
      "execution_count": 42,
      "outputs": [
        {
          "output_type": "display_data",
          "data": {
            "text/plain": [
              "[1] 8"
            ],
            "text/latex": "8",
            "text/markdown": "8",
            "text/html": [
              "8"
            ]
          },
          "metadata": {
            "tags": []
          }
        }
      ]
    },
    {
      "cell_type": "code",
      "metadata": {
        "colab": {
          "base_uri": "https://localhost:8080/",
          "height": 119
        },
        "id": "IK5D6PGpC1Ab",
        "outputId": "321a2fef-d46a-4787-e9d6-776921060196"
      },
      "source": [
        "roll"
      ],
      "execution_count": 43,
      "outputs": [
        {
          "output_type": "display_data",
          "data": {
            "text/plain": [
              "function () {\n",
              "  die <- 1:6\n",
              "  dice <- sample(die, size=2, replace=TRUE)\n",
              "  sum(dice)\n",
              "}"
            ],
            "text/latex": "\\begin{minted}{r}\nfunction () \n\\{\n    die <- 1:6\n    dice <- sample(die, size = 2, replace = TRUE)\n    sum(dice)\n\\}\n\\end{minted}",
            "text/markdown": "```r\nfunction () \n{\n    die <- 1:6\n    dice <- sample(die, size = 2, replace = TRUE)\n    sum(dice)\n}\n```",
            "text/html": [
              "<pre class=language-r><code>function () \n",
              "{\n",
              "<span style=white-space:pre-wrap>    die &lt;- 1:6</span>\n",
              "<span style=white-space:pre-wrap>    dice &lt;- sample(die, size = 2, replace = TRUE)</span>\n",
              "<span style=white-space:pre-wrap>    sum(dice)</span>\n",
              "}</code></pre>"
            ]
          },
          "metadata": {
            "tags": []
          }
        }
      ]
    },
    {
      "cell_type": "markdown",
      "metadata": {
        "id": "qvYuP9jbEr5O"
      },
      "source": [
        "### 2.5 Arguments\n",
        "\n",
        "* Adicionamos o argumento ao parenteses e para evitar algum erro caso nao seja indicado o valor do argumento, adicionamos um valor padrão."
      ]
    },
    {
      "cell_type": "code",
      "metadata": {
        "id": "6GU1DC1_DCKO"
      },
      "source": [
        "roll2 <- function(bones = 1:6) {\n",
        "  dice <- sample(bones, size=2, replace=TRUE)\n",
        "  sum(dice)\n",
        "}"
      ],
      "execution_count": 51,
      "outputs": []
    },
    {
      "cell_type": "code",
      "metadata": {
        "colab": {
          "base_uri": "https://localhost:8080/",
          "height": 34
        },
        "id": "z07OCtYdFS4g",
        "outputId": "afeab4be-263c-4e2b-eef3-50a093553310"
      },
      "source": [
        "roll2(bones = 1:4)"
      ],
      "execution_count": 52,
      "outputs": [
        {
          "output_type": "display_data",
          "data": {
            "text/plain": [
              "[1] 4"
            ],
            "text/latex": "4",
            "text/markdown": "4",
            "text/html": [
              "4"
            ]
          },
          "metadata": {
            "tags": []
          }
        }
      ]
    },
    {
      "cell_type": "code",
      "metadata": {
        "colab": {
          "base_uri": "https://localhost:8080/",
          "height": 34
        },
        "id": "m0inF8PEFXI4",
        "outputId": "feced6e4-7394-4916-b3a7-afda3885819e"
      },
      "source": [
        "roll2(bones=1:6)"
      ],
      "execution_count": 53,
      "outputs": [
        {
          "output_type": "display_data",
          "data": {
            "text/plain": [
              "[1] 9"
            ],
            "text/latex": "9",
            "text/markdown": "9",
            "text/html": [
              "9"
            ]
          },
          "metadata": {
            "tags": []
          }
        }
      ]
    },
    {
      "cell_type": "code",
      "metadata": {
        "colab": {
          "base_uri": "https://localhost:8080/",
          "height": 34
        },
        "id": "z_XaR3lTFZQs",
        "outputId": "2b0c3463-a31f-4930-b187-5c2d9d578930"
      },
      "source": [
        "roll2()"
      ],
      "execution_count": 54,
      "outputs": [
        {
          "output_type": "display_data",
          "data": {
            "text/plain": [
              "[1] 9"
            ],
            "text/latex": "9",
            "text/markdown": "9",
            "text/html": [
              "9"
            ]
          },
          "metadata": {
            "tags": []
          }
        }
      ]
    },
    {
      "cell_type": "markdown",
      "metadata": {
        "id": "A2-BaxEQIbIM"
      },
      "source": [
        "### 2.6 Scripts\n",
        "\n",
        "* Só mostrando que você pode criar um arquivo texto com o seu código e reutilizá-lo, isso se chama **script**.\n",
        "\n",
        "* No RStudio você vai em `File > New File > R script` no menu, que abrirá um painel onde você pode por seus comandos e salvá-los.\n",
        "\n",
        "* Para salvar, `File > Save As`. Com scripts no RStudio temos algumas facilidades de rodar, testar código, ver variáveis e arquivos criados, além de imagens criadas.\n",
        "\n",
        "* Ele fala também de uma feature bem legal do RStudio para criar funções a partir de um código que você seleciona com o mouse. Basta depois de selecionar ir em `Code > Extract Function`. Ele cria os argumentos baseado nas variáveis criadas, mas é bom confirmar."
      ]
    },
    {
      "cell_type": "markdown",
      "metadata": {
        "id": "ZIVRApANMohe"
      },
      "source": [
        "## 3. Packages and help pages"
      ]
    },
    {
      "cell_type": "code",
      "metadata": {
        "id": "B0aYZDwlFkQH"
      },
      "source": [
        ""
      ],
      "execution_count": null,
      "outputs": []
    }
  ]
}