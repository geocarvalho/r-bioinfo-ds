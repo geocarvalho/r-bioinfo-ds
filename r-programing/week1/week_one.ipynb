{
 "cells": [
  {
   "cell_type": "markdown",
   "metadata": {},
   "source": [
    "# Week one overview - Getting started and R nut and bolts\n",
    "\n",
    "## 1. Introduction\n",
    "## 2. Overview and history of R\n",
    "## 3. Geting help\n",
    "## 4. R Console input and evaluation\n"
   ]
  },
  {
   "cell_type": "code",
   "execution_count": 6,
   "metadata": {
    "collapsed": false
   },
   "outputs": [
    {
     "ename": "ERROR",
     "evalue": "Error in parse(text = x, srcfile = src): <text>:2:1: unexpected '<'\n1: # entering input\n2: <\n   ^\n",
     "output_type": "error",
     "traceback": [
      "Error in parse(text = x, srcfile = src): <text>:2:1: unexpected '<'\n1: # entering input\n2: <\n   ^\nTraceback:\n"
     ]
    }
   ],
   "source": [
    "# entering input\n",
    "x <- 1\n",
    "print(x)\n",
    "msg <- \"Hello\"\n",
    "msg ## explicit printing doesn't work in scripting\n",
    "# priting\n",
    "x <- 1:20\n",
    "print(x)"
   ]
  },
  {
   "cell_type": "markdown",
   "metadata": {},
   "source": [
    "## 5. Data types: R objects and attributes\n",
    "\n",
    "### Objects (atomic classes)\n",
    "* character\n",
    "* numeric (real numbers) \n",
    " * `Inf` means inifinity\n",
    " * `NaN` means 'not a number' (undefined value)\n",
    "* integers (L suffix)\n",
    "* complex\n",
    "* logical\n",
    "> The most basic object is a vector (list of objects from the same type)\n",
    "\n",
    "### Attributes\n",
    "* names, dimnames\n",
    "* dimensions\n",
    "* class\n",
    "* length\n",
    "* others user-defined attributes/metadata\n",
    "> Attributes can be accessed using `attributes()` function"
   ]
  },
  {
   "cell_type": "markdown",
   "metadata": {},
   "source": [
    "## 6. Data types: Vectors and lists\n"
   ]
  },
  {
   "cell_type": "code",
   "execution_count": 14,
   "metadata": {
    "collapsed": false
   },
   "outputs": [
    {
     "name": "stdout",
     "output_type": "stream",
     "text": [
      "[1] \"--- Creating vectors ---\"\n",
      " [1] 0 0 0 0 0 0 0 0 0 0\n",
      "[1] \"--- Mixing objects ---\"\n",
      "[1] \"--- Explicit coersion ---\"\n"
     ]
    },
    {
     "data": {
      "text/html": [
       "'integer'"
      ],
      "text/latex": [
       "'integer'"
      ],
      "text/markdown": [
       "'integer'"
      ],
      "text/plain": [
       "[1] \"integer\""
      ]
     },
     "metadata": {},
     "output_type": "display_data"
    },
    {
     "data": {
      "text/html": [
       "<ol class=list-inline>\n",
       "\t<li>0</li>\n",
       "\t<li>1</li>\n",
       "\t<li>2</li>\n",
       "\t<li>3</li>\n",
       "\t<li>4</li>\n",
       "\t<li>5</li>\n",
       "\t<li>6</li>\n",
       "</ol>\n"
      ],
      "text/latex": [
       "\\begin{enumerate*}\n",
       "\\item 0\n",
       "\\item 1\n",
       "\\item 2\n",
       "\\item 3\n",
       "\\item 4\n",
       "\\item 5\n",
       "\\item 6\n",
       "\\end{enumerate*}\n"
      ],
      "text/markdown": [
       "1. 0\n",
       "2. 1\n",
       "3. 2\n",
       "4. 3\n",
       "5. 4\n",
       "6. 5\n",
       "7. 6\n",
       "\n",
       "\n"
      ],
      "text/plain": [
       "[1] 0 1 2 3 4 5 6"
      ]
     },
     "metadata": {},
     "output_type": "display_data"
    },
    {
     "data": {
      "text/html": [
       "<ol class=list-inline>\n",
       "\t<li>FALSE</li>\n",
       "\t<li>TRUE</li>\n",
       "\t<li>TRUE</li>\n",
       "\t<li>TRUE</li>\n",
       "\t<li>TRUE</li>\n",
       "\t<li>TRUE</li>\n",
       "\t<li>TRUE</li>\n",
       "</ol>\n"
      ],
      "text/latex": [
       "\\begin{enumerate*}\n",
       "\\item FALSE\n",
       "\\item TRUE\n",
       "\\item TRUE\n",
       "\\item TRUE\n",
       "\\item TRUE\n",
       "\\item TRUE\n",
       "\\item TRUE\n",
       "\\end{enumerate*}\n"
      ],
      "text/markdown": [
       "1. FALSE\n",
       "2. TRUE\n",
       "3. TRUE\n",
       "4. TRUE\n",
       "5. TRUE\n",
       "6. TRUE\n",
       "7. TRUE\n",
       "\n",
       "\n"
      ],
      "text/plain": [
       "[1] FALSE  TRUE  TRUE  TRUE  TRUE  TRUE  TRUE"
      ]
     },
     "metadata": {},
     "output_type": "display_data"
    },
    {
     "data": {
      "text/html": [
       "<ol class=list-inline>\n",
       "\t<li>'0'</li>\n",
       "\t<li>'1'</li>\n",
       "\t<li>'2'</li>\n",
       "\t<li>'3'</li>\n",
       "\t<li>'4'</li>\n",
       "\t<li>'5'</li>\n",
       "\t<li>'6'</li>\n",
       "</ol>\n"
      ],
      "text/latex": [
       "\\begin{enumerate*}\n",
       "\\item '0'\n",
       "\\item '1'\n",
       "\\item '2'\n",
       "\\item '3'\n",
       "\\item '4'\n",
       "\\item '5'\n",
       "\\item '6'\n",
       "\\end{enumerate*}\n"
      ],
      "text/markdown": [
       "1. '0'\n",
       "2. '1'\n",
       "3. '2'\n",
       "4. '3'\n",
       "5. '4'\n",
       "6. '5'\n",
       "7. '6'\n",
       "\n",
       "\n"
      ],
      "text/plain": [
       "[1] \"0\" \"1\" \"2\" \"3\" \"4\" \"5\" \"6\""
      ]
     },
     "metadata": {},
     "output_type": "display_data"
    },
    {
     "name": "stderr",
     "output_type": "stream",
     "text": [
      "Warning message in eval(expr, envir, enclos):\n",
      "“NAs introduced by coercion”"
     ]
    },
    {
     "data": {
      "text/html": [
       "<ol class=list-inline>\n",
       "\t<li>NA</li>\n",
       "\t<li>NA</li>\n",
       "\t<li>NA</li>\n",
       "</ol>\n"
      ],
      "text/latex": [
       "\\begin{enumerate*}\n",
       "\\item NA\n",
       "\\item NA\n",
       "\\item NA\n",
       "\\end{enumerate*}\n"
      ],
      "text/markdown": [
       "1. NA\n",
       "2. NA\n",
       "3. NA\n",
       "\n",
       "\n"
      ],
      "text/plain": [
       "[1] NA NA NA"
      ]
     },
     "metadata": {},
     "output_type": "display_data"
    },
    {
     "data": {
      "text/html": [
       "<ol class=list-inline>\n",
       "\t<li>NA</li>\n",
       "\t<li>NA</li>\n",
       "\t<li>NA</li>\n",
       "</ol>\n"
      ],
      "text/latex": [
       "\\begin{enumerate*}\n",
       "\\item NA\n",
       "\\item NA\n",
       "\\item NA\n",
       "\\end{enumerate*}\n"
      ],
      "text/markdown": [
       "1. NA\n",
       "2. NA\n",
       "3. NA\n",
       "\n",
       "\n"
      ],
      "text/plain": [
       "[1] NA NA NA"
      ]
     },
     "metadata": {},
     "output_type": "display_data"
    },
    {
     "name": "stderr",
     "output_type": "stream",
     "text": [
      "Warning message in eval(expr, envir, enclos):\n",
      "“NAs introduced by coercion”"
     ]
    },
    {
     "data": {
      "text/html": [
       "<ol class=list-inline>\n",
       "\t<li>NA</li>\n",
       "\t<li>NA</li>\n",
       "\t<li>NA</li>\n",
       "</ol>\n"
      ],
      "text/latex": [
       "\\begin{enumerate*}\n",
       "\\item NA\n",
       "\\item NA\n",
       "\\item NA\n",
       "\\end{enumerate*}\n"
      ],
      "text/markdown": [
       "1. NA\n",
       "2. NA\n",
       "3. NA\n",
       "\n",
       "\n"
      ],
      "text/plain": [
       "[1] NA NA NA"
      ]
     },
     "metadata": {},
     "output_type": "display_data"
    },
    {
     "name": "stdout",
     "output_type": "stream",
     "text": [
      "[1] \"--- Lists ---\"\n",
      "[[1]]\n",
      "[1] 1\n",
      "\n",
      "[[2]]\n",
      "[1] \"a\"\n",
      "\n",
      "[[3]]\n",
      "[1] TRUE\n",
      "\n",
      "[[4]]\n",
      "[1] 1+4i\n",
      "\n"
     ]
    }
   ],
   "source": [
    "# Creating vectors\n",
    "print(\"--- Creating vectors ---\")\n",
    "x <- c(0.5, 0.6)  # numeric\n",
    "y <- c(TRUE, F)  # logical\n",
    "z <- c(\"a\", \"b\", \"c\")  # character\n",
    "a <- 9:29  # integer\n",
    "b <- c(1+0i, 2+4i)  # complex\n",
    "\n",
    "c <- vector(\"numeric\", length=10)\n",
    "print(c)\n",
    "\n",
    "# Mixing objects\n",
    "print(\"--- Mixing objects ---\")\n",
    "d <- c(1.7, \"a\")  # character\n",
    "e <- c(T, 2)  # numeric\n",
    "f <- c(\"a\", T)  # character\n",
    "\n",
    "# Explicit coersion\n",
    "print(\"--- Explicit coersion ---\")\n",
    "g <- 0:6\n",
    "class(g)\n",
    "as.numeric(g)\n",
    "as.logical(g)\n",
    "as.character(g)\n",
    "\n",
    "h <- c(\"a\", \"b\", \"c\")\n",
    "as.numeric(h)\n",
    "as.logical(h)\n",
    "as.complex(h)\n",
    "\n",
    "# Lists: Type of object wich can contain elements of different classes\n",
    "print(\"--- Lists ---\")\n",
    "i <- list(1, \"a\", T, 1+4i)\n",
    "print(i)"
   ]
  },
  {
   "cell_type": "markdown",
   "metadata": {},
   "source": [
    "## 7. Data types: Matrices"
   ]
  },
  {
   "cell_type": "code",
   "execution_count": 23,
   "metadata": {
    "collapsed": false,
    "scrolled": true
   },
   "outputs": [
    {
     "name": "stdout",
     "output_type": "stream",
     "text": [
      "     [,1] [,2] [,3]\n",
      "[1,]   NA   NA   NA\n",
      "[2,]   NA   NA   NA\n",
      "[1] 2 3\n",
      "$dim\n",
      "[1] 2 3\n",
      "\n",
      "     [,1] [,2] [,3]\n",
      "[1,]    1    3    5\n",
      "[2,]    2    4    6\n",
      "     [,1] [,2] [,3] [,4] [,5]\n",
      "[1,]    1    3    5    7    9\n",
      "[2,]    2    4    6    8   10\n",
      "[1] \"--- cbind and rbind ---\"\n",
      "     x  y\n",
      "[1,] 1 10\n",
      "[2,] 2 11\n",
      "[3,] 3 12\n",
      "  [,1] [,2] [,3]\n",
      "x    1    2    3\n",
      "y   10   11   12\n"
     ]
    }
   ],
   "source": [
    "# Matrices: vectors with a dimension attribute (nrow and ncol)\n",
    "m <- matrix(nrow=2, ncol=3)\n",
    "print(m)\n",
    "print(dim(m))\n",
    "print(attributes(m))\n",
    "\n",
    "# cont'd\n",
    "m <- matrix(1:6, nrow=2, ncol=3)\n",
    "print(m)\n",
    "\n",
    "m <- 1:10\n",
    "dim(m) <- c(2, 5)\n",
    "print(m)\n",
    "\n",
    "# cbind-ing / rbind-ing\n",
    "print(\"--- cbind and rbind ---\")\n",
    "x <- 1:3\n",
    "y <- 10:12\n",
    "print(cbind(x, y))\n",
    "print(rbind(x, y))"
   ]
  },
  {
   "cell_type": "markdown",
   "metadata": {},
   "source": [
    "## 8. Factors\n",
    "* Categorical data\n",
    "* Unordered or ordered\n",
    "* Integer vector where each integer has a label\n",
    "* lm() and glm()\n"
   ]
  },
  {
   "cell_type": "code",
   "execution_count": 30,
   "metadata": {
    "collapsed": false
   },
   "outputs": [
    {
     "name": "stdout",
     "output_type": "stream",
     "text": [
      "[1] yes yes no  yes no \n",
      "Levels: no yes\n",
      "x\n",
      " no yes \n",
      "  2   3 \n",
      "[1] 2 2 1 2 1\n",
      "attr(,\"levels\")\n",
      "[1] \"no\"  \"yes\"\n",
      "[1] \"-- ordered --\"\n",
      "[1] yes yes no  yes no \n",
      "Levels: yes no\n"
     ]
    }
   ],
   "source": [
    "x <- factor(c(\"yes\", \"yes\", \"no\", \"yes\", \"no\"))\n",
    "print(x)\n",
    "print(table(x))\n",
    "print(unclass(x))\n",
    "\n",
    "# order of levels\n",
    "print(\"-- ordered --\")\n",
    "x <- factor(c(\"yes\", \"yes\", \"no\", \"yes\", \"no\"),\n",
    "           levels=c(\"yes\", \"no\"))\n",
    "print(x)"
   ]
  },
  {
   "cell_type": "markdown",
   "metadata": {},
   "source": [
    "## 9. Data types: Missing values\n",
    "* Undefined mathematical operations (`NA` or `NaN`)\n",
    "* test with `is.na()` and `is.nan()`\n",
    "* `NA` values have class (can be integer, character, ..)\n",
    "* `NaN` are `NA` but the converse are not true\n"
   ]
  },
  {
   "cell_type": "code",
   "execution_count": 33,
   "metadata": {
    "collapsed": false
   },
   "outputs": [
    {
     "name": "stdout",
     "output_type": "stream",
     "text": [
      "[1] FALSE FALSE  TRUE FALSE FALSE\n",
      "[1] FALSE FALSE FALSE FALSE FALSE\n",
      "[1] FALSE FALSE  TRUE  TRUE FALSE\n",
      "[1] FALSE FALSE  TRUE FALSE FALSE\n"
     ]
    }
   ],
   "source": [
    "x <- c(1, 2, NA, 10, 3)\n",
    "print(is.na(x))\n",
    "print(is.nan(x))\n",
    "y <- c(1, 2, NaN, NA, 4)\n",
    "print(is.na(y))\n",
    "print(is.nan(y))"
   ]
  },
  {
   "cell_type": "markdown",
   "metadata": {},
   "source": [
    "## 10. Data types: Data frames\n",
    "* Special type of list with each element has the same length\n",
    "* Columns x rows\n",
    "* Can store differente classes for each column\n",
    "* Nice attribute `row.names`\n",
    "* Normally created using `read.table()` or `read.csv()`\n",
    "* Can be converted to matrix using `data.matrix()`"
   ]
  },
  {
   "cell_type": "code",
   "execution_count": 36,
   "metadata": {
    "collapsed": false
   },
   "outputs": [
    {
     "name": "stdout",
     "output_type": "stream",
     "text": [
      "  foo   bar\n",
      "1   1  TRUE\n",
      "2   2  TRUE\n",
      "3   3 FALSE\n",
      "4   4 FALSE\n",
      "[1] 4\n",
      "[1] 2\n"
     ]
    }
   ],
   "source": [
    "df <- data.frame(foo=1:4, bar=c(T, T, F, F))\n",
    "print(df)\n",
    "print(nrow(df))\n",
    "print(ncol(df))"
   ]
  },
  {
   "cell_type": "markdown",
   "metadata": {},
   "source": [
    "## 11. Data types: Names attribute"
   ]
  },
  {
   "cell_type": "code",
   "execution_count": 39,
   "metadata": {
    "collapsed": false
   },
   "outputs": [
    {
     "name": "stdout",
     "output_type": "stream",
     "text": [
      "NULL\n",
      "[1] \"foo\"  \"bar\"  \"norf\"\n",
      "$a\n",
      "[1] 1\n",
      "\n",
      "$b\n",
      "[1] 2\n",
      "\n",
      "$c\n",
      "[1] 3\n",
      "\n",
      "  c d\n",
      "a 1 3\n",
      "b 2 4\n"
     ]
    }
   ],
   "source": [
    "x <- 1:3\n",
    "print(names(x))\n",
    "names(x) <- c(\"foo\", \"bar\", \"norf\")\n",
    "print(names(x))\n",
    "\n",
    "# for lists\n",
    "lst <- list(a=1, b=2, c=3)\n",
    "print(lst)\n",
    "\n",
    "# for matrices\n",
    "m <- matrix(1:4, nrow=2, ncol=2)\n",
    "dimnames(m) <- list(c(\"a\", \"b\"), c(\"c\", \"d\"))\n",
    "print(m)"
   ]
  },
  {
   "cell_type": "markdown",
   "metadata": {},
   "source": [
    "## 12. Data types: Summary\n",
    "* atomic classes: numeric, logical, character, integer, complex\n",
    "* vectors, lists\n",
    "* factors\n",
    "* missing values\n",
    "* data frames\n",
    "* names\n"
   ]
  },
  {
   "cell_type": "markdown",
   "metadata": {},
   "source": [
    "## 13. Reading tabular data"
   ]
  }
 ],
 "metadata": {
  "kernelspec": {
   "display_name": "R",
   "language": "R",
   "name": "ir"
  },
  "language_info": {
   "codemirror_mode": "r",
   "file_extension": ".r",
   "mimetype": "text/x-r-source",
   "name": "R",
   "pygments_lexer": "r",
   "version": "3.3.2"
  }
 },
 "nbformat": 4,
 "nbformat_minor": 2
}
