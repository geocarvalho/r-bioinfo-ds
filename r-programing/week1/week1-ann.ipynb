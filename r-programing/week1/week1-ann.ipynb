{
 "cells": [
  {
   "cell_type": "markdown",
   "metadata": {},
   "source": [
    "# R console input and evaluation"
   ]
  },
  {
   "cell_type": "markdown",
   "metadata": {},
   "source": [
    "## - Entering input"
   ]
  },
  {
   "cell_type": "code",
   "execution_count": 2,
   "metadata": {},
   "outputs": [
    {
     "name": "stdout",
     "output_type": "stream",
     "text": [
      "[1] 1\n"
     ]
    }
   ],
   "source": [
    "x <- 1\n",
    "print(x)"
   ]
  },
  {
   "cell_type": "code",
   "execution_count": 3,
   "metadata": {},
   "outputs": [
    {
     "data": {
      "text/html": [
       "1"
      ],
      "text/latex": [
       "1"
      ],
      "text/markdown": [
       "1"
      ],
      "text/plain": [
       "[1] 1"
      ]
     },
     "metadata": {},
     "output_type": "display_data"
    }
   ],
   "source": [
    "x"
   ]
  },
  {
   "cell_type": "code",
   "execution_count": 8,
   "metadata": {},
   "outputs": [
    {
     "data": {
      "text/html": [
       "'Hello'"
      ],
      "text/latex": [
       "'Hello'"
      ],
      "text/markdown": [
       "'Hello'"
      ],
      "text/plain": [
       "[1] \"Hello\""
      ]
     },
     "metadata": {},
     "output_type": "display_data"
    }
   ],
   "source": [
    "msg <- \"Hello\"\n",
    "msg"
   ]
  },
  {
   "cell_type": "code",
   "execution_count": 7,
   "metadata": {},
   "outputs": [
    {
     "ename": "ERROR",
     "evalue": "Error in parse(text = x, srcfile = src): <text>:2:0: unexpected end of input\n1: x <- ## Incomplete expression\n   ^\n",
     "output_type": "error",
     "traceback": [
      "Error in parse(text = x, srcfile = src): <text>:2:0: unexpected end of input\n1: x <- ## Incomplete expression\n   ^\nTraceback:\n"
     ]
    }
   ],
   "source": [
    "x <- ## Incomplete expression"
   ]
  },
  {
   "cell_type": "markdown",
   "metadata": {},
   "source": [
    "## - Printing"
   ]
  },
  {
   "cell_type": "code",
   "execution_count": 10,
   "metadata": {},
   "outputs": [
    {
     "name": "stdout",
     "output_type": "stream",
     "text": [
      " [1]  1  2  3  4  5  6  7  8  9 10 11 12 13 14 15 16 17 18 19 20\n"
     ]
    }
   ],
   "source": [
    "x <- 1:20\n",
    "print(x) # integer vector"
   ]
  },
  {
   "cell_type": "markdown",
   "metadata": {},
   "source": [
    "---\n",
    "# R Data types - objects and attributes"
   ]
  },
  {
   "cell_type": "markdown",
   "metadata": {},
   "source": [
    "## - Objects\n",
    "> Everything in R are objects and those objects have five basic *atomic* classes:\n",
    "\n",
    "1. Character\n",
    "2. Numeric (real numbers)\n",
    "3. Integer\n",
    "4. Complex\n",
    "5. Logical (T/F)\n",
    "\n",
    "    * The most basic object is a vector (it can contain objects of the same class);\n",
    "    * But, there is one exception call **list**, which is represented as a vector that can contain objects of different classes;\n",
    "    * Empty vectors can be created using `vector()` function.\n",
    "\n",
    "## - Number\n",
    "\n",
    "* Generally treated as numeric objects (e.g.: double precision real numbers)\n",
    "* To get an integer, is necessary specify the **L** suffix (e.g.: integer 1 = 1**L**)\n",
    "* The special number **Inf** or -**Inf** means infinity (e.g.: 1/0=**Inf** or 1/**Inf**=0)\n",
    "* The value **NaN** represents an undefined value (\"Not a Number\") or a missing value (eg.: 0/0=**NaN**)\n",
    "\n",
    "## - Attributes\n",
    "\n",
    "* Names, dimnames\n",
    "* Dimensions (e.g.: matrices, arrays)\n",
    "* Class\n",
    "* Length\n",
    "* Other user-defined attributes/metadata\n",
    "\n",
    "> Attributes of an object can be accessed using the `attributes()` function."
   ]
  },
  {
   "cell_type": "code",
   "execution_count": 4,
   "metadata": {},
   "outputs": [
    {
     "data": {
      "text/html": [
       "-Inf"
      ],
      "text/latex": [
       "-Inf"
      ],
      "text/markdown": [
       "-Inf"
      ],
      "text/plain": [
       "[1] -Inf"
      ]
     },
     "metadata": {},
     "output_type": "display_data"
    }
   ],
   "source": [
    "-1/0"
   ]
  },
  {
   "cell_type": "markdown",
   "metadata": {},
   "source": [
    "---\n",
    "# Data types - Vectors and lists\n",
    "\n",
    "## - Creating vectors\n",
    "\n",
    "* The `c()` function can be used to create vectors of objects\n"
   ]
  },
  {
   "cell_type": "code",
   "execution_count": 8,
   "metadata": {},
   "outputs": [
    {
     "name": "stdout",
     "output_type": "stream",
     "text": [
      "[1] 0.5 0.6\n",
      "[1]  TRUE FALSE\n",
      "[1]  TRUE FALSE\n",
      "[1] \"a\" \"b\" \"c\" \"d\"\n",
      " [1]  9 10 11 12 13 14 15 16 17 18 19 20 21 22 23 24 25 26 27 28 29\n",
      "[1] 1+0i 2+4i\n"
     ]
    }
   ],
   "source": [
    "x <- c(0.5, 0.6)  # numeric\n",
    "y <- c(TRUE, FALSE)  # logical\n",
    "z <- c(T,F)  # logical\n",
    "w <- c(\"a\", \"b\", \"c\", \"d\")  # character\n",
    "a <- 9:29  # integer\n",
    "b <- c(1+0i, 2+4i)  # complex\n",
    "\n",
    "print(x)\n",
    "print(y)\n",
    "print(z)\n",
    "print(w)\n",
    "print(a)\n",
    "print(b)"
   ]
  },
  {
   "cell_type": "markdown",
   "metadata": {},
   "source": [
    "* Or using the `vector()` function"
   ]
  },
  {
   "cell_type": "code",
   "execution_count": 10,
   "metadata": {},
   "outputs": [
    {
     "name": "stdout",
     "output_type": "stream",
     "text": [
      " [1] 0 0 0 0 0 0 0 0 0 0\n"
     ]
    }
   ],
   "source": [
    "x <- vector(\"numeric\", length=10)\n",
    "print(x)"
   ]
  },
  {
   "cell_type": "markdown",
   "metadata": {},
   "source": [
    "## - Mixing objects\n",
    "\n",
    "* When different objects are mixed in a vector, **coercion occurs** so that every element is the same class."
   ]
  },
  {
   "cell_type": "code",
   "execution_count": 15,
   "metadata": {},
   "outputs": [
    {
     "data": {
      "text/html": [
       "'character'"
      ],
      "text/latex": [
       "'character'"
      ],
      "text/markdown": [
       "'character'"
      ],
      "text/plain": [
       "[1] \"character\""
      ]
     },
     "metadata": {},
     "output_type": "display_data"
    },
    {
     "data": {
      "text/html": [
       "'numeric'"
      ],
      "text/latex": [
       "'numeric'"
      ],
      "text/markdown": [
       "'numeric'"
      ],
      "text/plain": [
       "[1] \"numeric\""
      ]
     },
     "metadata": {},
     "output_type": "display_data"
    },
    {
     "data": {
      "text/html": [
       "'character'"
      ],
      "text/latex": [
       "'character'"
      ],
      "text/markdown": [
       "'character'"
      ],
      "text/plain": [
       "[1] \"character\""
      ]
     },
     "metadata": {},
     "output_type": "display_data"
    }
   ],
   "source": [
    "a <- c(1.7, \"a\")  # character\n",
    "b <- c(TRUE, 2)  # numeric\n",
    "c <- c(\"a\", TRUE)  # character\n",
    "\n",
    "class(a)\n",
    "class(b)\n",
    "class(c)"
   ]
  },
  {
   "cell_type": "markdown",
   "metadata": {},
   "source": [
    "## - Explicit coercion\n",
    "\n",
    "* Objects can be explicity coerced from one class to another using the `as.*` function (if available)."
   ]
  },
  {
   "cell_type": "code",
   "execution_count": 20,
   "metadata": {},
   "outputs": [
    {
     "data": {
      "text/html": [
       "'integer'"
      ],
      "text/latex": [
       "'integer'"
      ],
      "text/markdown": [
       "'integer'"
      ],
      "text/plain": [
       "[1] \"integer\""
      ]
     },
     "metadata": {},
     "output_type": "display_data"
    },
    {
     "data": {
      "text/html": [
       "<ol class=list-inline>\n",
       "\t<li>0</li>\n",
       "\t<li>1</li>\n",
       "\t<li>2</li>\n",
       "\t<li>3</li>\n",
       "\t<li>4</li>\n",
       "\t<li>5</li>\n",
       "\t<li>6</li>\n",
       "</ol>\n"
      ],
      "text/latex": [
       "\\begin{enumerate*}\n",
       "\\item 0\n",
       "\\item 1\n",
       "\\item 2\n",
       "\\item 3\n",
       "\\item 4\n",
       "\\item 5\n",
       "\\item 6\n",
       "\\end{enumerate*}\n"
      ],
      "text/markdown": [
       "1. 0\n",
       "2. 1\n",
       "3. 2\n",
       "4. 3\n",
       "5. 4\n",
       "6. 5\n",
       "7. 6\n",
       "\n",
       "\n"
      ],
      "text/plain": [
       "[1] 0 1 2 3 4 5 6"
      ]
     },
     "metadata": {},
     "output_type": "display_data"
    },
    {
     "data": {
      "text/html": [
       "<ol class=list-inline>\n",
       "\t<li>FALSE</li>\n",
       "\t<li>TRUE</li>\n",
       "\t<li>TRUE</li>\n",
       "\t<li>TRUE</li>\n",
       "\t<li>TRUE</li>\n",
       "\t<li>TRUE</li>\n",
       "\t<li>TRUE</li>\n",
       "</ol>\n"
      ],
      "text/latex": [
       "\\begin{enumerate*}\n",
       "\\item FALSE\n",
       "\\item TRUE\n",
       "\\item TRUE\n",
       "\\item TRUE\n",
       "\\item TRUE\n",
       "\\item TRUE\n",
       "\\item TRUE\n",
       "\\end{enumerate*}\n"
      ],
      "text/markdown": [
       "1. FALSE\n",
       "2. TRUE\n",
       "3. TRUE\n",
       "4. TRUE\n",
       "5. TRUE\n",
       "6. TRUE\n",
       "7. TRUE\n",
       "\n",
       "\n"
      ],
      "text/plain": [
       "[1] FALSE  TRUE  TRUE  TRUE  TRUE  TRUE  TRUE"
      ]
     },
     "metadata": {},
     "output_type": "display_data"
    },
    {
     "data": {
      "text/html": [
       "<ol class=list-inline>\n",
       "\t<li>'0'</li>\n",
       "\t<li>'1'</li>\n",
       "\t<li>'2'</li>\n",
       "\t<li>'3'</li>\n",
       "\t<li>'4'</li>\n",
       "\t<li>'5'</li>\n",
       "\t<li>'6'</li>\n",
       "</ol>\n"
      ],
      "text/latex": [
       "\\begin{enumerate*}\n",
       "\\item '0'\n",
       "\\item '1'\n",
       "\\item '2'\n",
       "\\item '3'\n",
       "\\item '4'\n",
       "\\item '5'\n",
       "\\item '6'\n",
       "\\end{enumerate*}\n"
      ],
      "text/markdown": [
       "1. '0'\n",
       "2. '1'\n",
       "3. '2'\n",
       "4. '3'\n",
       "5. '4'\n",
       "6. '5'\n",
       "7. '6'\n",
       "\n",
       "\n"
      ],
      "text/plain": [
       "[1] \"0\" \"1\" \"2\" \"3\" \"4\" \"5\" \"6\""
      ]
     },
     "metadata": {},
     "output_type": "display_data"
    }
   ],
   "source": [
    "x <- 0:6\n",
    "class(x)\n",
    "as.numeric(x)\n",
    "as.logical(x)\n",
    "as.character(x)"
   ]
  },
  {
   "cell_type": "markdown",
   "metadata": {},
   "source": [
    "## - Explicit coercion\n",
    "\n",
    "* Nonsensical coercion results in `NA`s"
   ]
  },
  {
   "cell_type": "code",
   "execution_count": 22,
   "metadata": {},
   "outputs": [
    {
     "name": "stderr",
     "output_type": "stream",
     "text": [
      "Warning message in eval(expr, envir, enclos):\n",
      "“NAs introduced by coercion”"
     ]
    },
    {
     "data": {
      "text/html": [
       "<ol class=list-inline>\n",
       "\t<li>&lt;NA&gt;</li>\n",
       "\t<li>&lt;NA&gt;</li>\n",
       "\t<li>&lt;NA&gt;</li>\n",
       "</ol>\n"
      ],
      "text/latex": [
       "\\begin{enumerate*}\n",
       "\\item <NA>\n",
       "\\item <NA>\n",
       "\\item <NA>\n",
       "\\end{enumerate*}\n"
      ],
      "text/markdown": [
       "1. &lt;NA&gt;\n",
       "2. &lt;NA&gt;\n",
       "3. &lt;NA&gt;\n",
       "\n",
       "\n"
      ],
      "text/plain": [
       "[1] NA NA NA"
      ]
     },
     "metadata": {},
     "output_type": "display_data"
    },
    {
     "data": {
      "text/html": [
       "<ol class=list-inline>\n",
       "\t<li>&lt;NA&gt;</li>\n",
       "\t<li>&lt;NA&gt;</li>\n",
       "\t<li>&lt;NA&gt;</li>\n",
       "</ol>\n"
      ],
      "text/latex": [
       "\\begin{enumerate*}\n",
       "\\item <NA>\n",
       "\\item <NA>\n",
       "\\item <NA>\n",
       "\\end{enumerate*}\n"
      ],
      "text/markdown": [
       "1. &lt;NA&gt;\n",
       "2. &lt;NA&gt;\n",
       "3. &lt;NA&gt;\n",
       "\n",
       "\n"
      ],
      "text/plain": [
       "[1] NA NA NA"
      ]
     },
     "metadata": {},
     "output_type": "display_data"
    },
    {
     "name": "stderr",
     "output_type": "stream",
     "text": [
      "Warning message in eval(expr, envir, enclos):\n",
      "“NAs introduced by coercion”"
     ]
    },
    {
     "data": {
      "text/html": [
       "<ol class=list-inline>\n",
       "\t<li>&lt;NA&gt;</li>\n",
       "\t<li>&lt;NA&gt;</li>\n",
       "\t<li>&lt;NA&gt;</li>\n",
       "</ol>\n"
      ],
      "text/latex": [
       "\\begin{enumerate*}\n",
       "\\item <NA>\n",
       "\\item <NA>\n",
       "\\item <NA>\n",
       "\\end{enumerate*}\n"
      ],
      "text/markdown": [
       "1. &lt;NA&gt;\n",
       "2. &lt;NA&gt;\n",
       "3. &lt;NA&gt;\n",
       "\n",
       "\n"
      ],
      "text/plain": [
       "[1] NA NA NA"
      ]
     },
     "metadata": {},
     "output_type": "display_data"
    }
   ],
   "source": [
    "x <- c(\"a\", \"b\", \"c\")\n",
    "as.numeric(x)\n",
    "as.logical(x)\n",
    "as.complex(x)"
   ]
  },
  {
   "cell_type": "markdown",
   "metadata": {},
   "source": [
    "## - Lists\n",
    "\n",
    "* Are a special type of vector that can contain elements from different classes"
   ]
  },
  {
   "cell_type": "code",
   "execution_count": 24,
   "metadata": {},
   "outputs": [
    {
     "name": "stdout",
     "output_type": "stream",
     "text": [
      "[[1]]\n",
      "[1] 1\n",
      "\n",
      "[[2]]\n",
      "[1] \"a\"\n",
      "\n",
      "[[3]]\n",
      "[1] TRUE\n",
      "\n",
      "[[4]]\n",
      "[1] 1+4i\n",
      "\n"
     ]
    }
   ],
   "source": [
    "x <- list(1, \"a\", T, 1+4i)\n",
    "print(x)"
   ]
  },
  {
   "cell_type": "markdown",
   "metadata": {},
   "source": [
    "---\n",
    "# Data types - Matrices\n",
    "\n",
    "* Are vectors with a **dimension** attribute;\n",
    "* The dimension attribute is itself an integer vector of legth 2 **(nrow, ncol)**."
   ]
  },
  {
   "cell_type": "code",
   "execution_count": 26,
   "metadata": {},
   "outputs": [
    {
     "name": "stdout",
     "output_type": "stream",
     "text": [
      "     [,1] [,2] [,3]\n",
      "[1,]   NA   NA   NA\n",
      "[2,]   NA   NA   NA\n"
     ]
    },
    {
     "data": {
      "text/html": [
       "<ol class=list-inline>\n",
       "\t<li>2</li>\n",
       "\t<li>3</li>\n",
       "</ol>\n"
      ],
      "text/latex": [
       "\\begin{enumerate*}\n",
       "\\item 2\n",
       "\\item 3\n",
       "\\end{enumerate*}\n"
      ],
      "text/markdown": [
       "1. 2\n",
       "2. 3\n",
       "\n",
       "\n"
      ],
      "text/plain": [
       "[1] 2 3"
      ]
     },
     "metadata": {},
     "output_type": "display_data"
    },
    {
     "data": {
      "text/html": [
       "<strong>$dim</strong> = <ol class=list-inline>\n",
       "\t<li>2</li>\n",
       "\t<li>3</li>\n",
       "</ol>\n"
      ],
      "text/latex": [
       "\\textbf{\\$dim} = \\begin{enumerate*}\n",
       "\\item 2\n",
       "\\item 3\n",
       "\\end{enumerate*}\n"
      ],
      "text/markdown": [
       "**$dim** = 1. 2\n",
       "2. 3\n",
       "\n",
       "\n"
      ],
      "text/plain": [
       "$dim\n",
       "[1] 2 3\n"
      ]
     },
     "metadata": {},
     "output_type": "display_data"
    }
   ],
   "source": [
    "m <- matrix(nrow=2, ncol=3)\n",
    "print(m)\n",
    "dim(m)\n",
    "attributes(m)"
   ]
  },
  {
   "cell_type": "markdown",
   "metadata": {},
   "source": [
    "## - Matrices (cont'd)\n",
    "\n",
    "* Matrices are constructed *column-wise*, so entries can be thought of starting in the 'upper left' corner and running down the columns;"
   ]
  },
  {
   "cell_type": "code",
   "execution_count": 30,
   "metadata": {},
   "outputs": [
    {
     "name": "stdout",
     "output_type": "stream",
     "text": [
      "     [,1] [,2] [,3]\n",
      "[1,]    1    3    5\n",
      "[2,]    2    4    6\n"
     ]
    }
   ],
   "source": [
    "m <- matrix(1:6, nrow=2, ncol=3)\n",
    "print(m)"
   ]
  },
  {
   "cell_type": "markdown",
   "metadata": {},
   "source": [
    "* It can also be created directly from vectors by adding a dimension attribute;"
   ]
  },
  {
   "cell_type": "code",
   "execution_count": 29,
   "metadata": {},
   "outputs": [
    {
     "name": "stdout",
     "output_type": "stream",
     "text": [
      " [1]  1  2  3  4  5  6  7  8  9 10\n",
      "     [,1] [,2] [,3] [,4] [,5]\n",
      "[1,]    1    3    5    7    9\n",
      "[2,]    2    4    6    8   10\n"
     ]
    }
   ],
   "source": [
    "m <-1:10\n",
    "print(m)\n",
    "dim(m) <- c(2,5)\n",
    "print(m)"
   ]
  },
  {
   "cell_type": "markdown",
   "metadata": {},
   "source": [
    "* It can be created by *column-binding* or *row-binding* with `cbind()` and `rbind()` functions;"
   ]
  },
  {
   "cell_type": "code",
   "execution_count": 34,
   "metadata": {},
   "outputs": [
    {
     "data": {
      "text/html": [
       "<table>\n",
       "<thead><tr><th scope=col>x</th><th scope=col>y</th></tr></thead>\n",
       "<tbody>\n",
       "\t<tr><td>1 </td><td>10</td></tr>\n",
       "\t<tr><td>2 </td><td>11</td></tr>\n",
       "\t<tr><td>3 </td><td>12</td></tr>\n",
       "</tbody>\n",
       "</table>\n"
      ],
      "text/latex": [
       "\\begin{tabular}{ll}\n",
       " x & y\\\\\n",
       "\\hline\n",
       "\t 1  & 10\\\\\n",
       "\t 2  & 11\\\\\n",
       "\t 3  & 12\\\\\n",
       "\\end{tabular}\n"
      ],
      "text/markdown": [
       "\n",
       "x | y | \n",
       "|---|---|---|\n",
       "| 1  | 10 | \n",
       "| 2  | 11 | \n",
       "| 3  | 12 | \n",
       "\n",
       "\n"
      ],
      "text/plain": [
       "     x y \n",
       "[1,] 1 10\n",
       "[2,] 2 11\n",
       "[3,] 3 12"
      ]
     },
     "metadata": {},
     "output_type": "display_data"
    },
    {
     "data": {
      "text/html": [
       "<table>\n",
       "<tbody>\n",
       "\t<tr><th scope=row>x</th><td> 1</td><td> 2</td><td> 3</td></tr>\n",
       "\t<tr><th scope=row>y</th><td>10</td><td>11</td><td>12</td></tr>\n",
       "</tbody>\n",
       "</table>\n"
      ],
      "text/latex": [
       "\\begin{tabular}{r|lll}\n",
       "\tx &  1 &  2 &  3\\\\\n",
       "\ty & 10 & 11 & 12\\\\\n",
       "\\end{tabular}\n"
      ],
      "text/markdown": [
       "\n",
       "| x |  1 |  2 |  3 | \n",
       "| y | 10 | 11 | 12 | \n",
       "\n",
       "\n"
      ],
      "text/plain": [
       "  [,1] [,2] [,3]\n",
       "x  1    2    3  \n",
       "y 10   11   12  "
      ]
     },
     "metadata": {},
     "output_type": "display_data"
    }
   ],
   "source": [
    "x <- 1:3\n",
    "y <- 10:12\n",
    "cbind(x,y)\n",
    "rbind(x,y)"
   ]
  },
  {
   "cell_type": "markdown",
   "metadata": {},
   "source": [
    "---\n",
    "# Data types - Factors\n",
    "* Are used to represent categorical data;\n",
    "* Can be unordered or ordered;\n",
    "* One can think of factor as an integer vector where each integer has a **label**;\n",
    "* Factors are treated specially by modelling functions like `lm()` and `glm()`;\n",
    "* Using factors with labels are better than using integers because they are self-describing:\n",
    "    * Having a variable that has values \"Male\" and \"Female\" is better than has values 1 and 2."
   ]
  },
  {
   "cell_type": "code",
   "execution_count": 37,
   "metadata": {},
   "outputs": [
    {
     "name": "stdout",
     "output_type": "stream",
     "text": [
      "[1] yes yes no  yes no \n",
      "Levels: no yes\n"
     ]
    },
    {
     "data": {
      "text/plain": [
       "x\n",
       " no yes \n",
       "  2   3 "
      ]
     },
     "metadata": {},
     "output_type": "display_data"
    },
    {
     "data": {
      "text/html": [
       "<ol class=list-inline>\n",
       "\t<li>2</li>\n",
       "\t<li>2</li>\n",
       "\t<li>1</li>\n",
       "\t<li>2</li>\n",
       "\t<li>1</li>\n",
       "</ol>\n"
      ],
      "text/latex": [
       "\\begin{enumerate*}\n",
       "\\item 2\n",
       "\\item 2\n",
       "\\item 1\n",
       "\\item 2\n",
       "\\item 1\n",
       "\\end{enumerate*}\n"
      ],
      "text/markdown": [
       "1. 2\n",
       "2. 2\n",
       "3. 1\n",
       "4. 2\n",
       "5. 1\n",
       "\n",
       "\n"
      ],
      "text/plain": [
       "[1] 2 2 1 2 1\n",
       "attr(,\"levels\")\n",
       "[1] \"no\"  \"yes\""
      ]
     },
     "metadata": {},
     "output_type": "display_data"
    }
   ],
   "source": [
    "x <- factor(c(\"yes\", \"yes\", \"no\", \"yes\", \"no\"))\n",
    "print(x)\n",
    "table(x)\n",
    "unclass(x)"
   ]
  },
  {
   "cell_type": "markdown",
   "metadata": {},
   "source": [
    "* The order of the levels can be set using the `levels=` argument in the `factor()` function:\n",
    "    * It can be important in linear modeling because the first level is used as the baseline level."
   ]
  },
  {
   "cell_type": "code",
   "execution_count": 38,
   "metadata": {},
   "outputs": [
    {
     "name": "stdout",
     "output_type": "stream",
     "text": [
      "[1] yes yes no  yes no \n",
      "Levels: yes no\n"
     ]
    }
   ],
   "source": [
    "x <- factor(c(\"yes\", \"yes\", \"no\", \"yes\", \"no\"), levels=c(\"yes\", \"no\"))\n",
    "print(x)"
   ]
  },
  {
   "cell_type": "markdown",
   "metadata": {},
   "source": [
    "---\n",
    "# Data types - Missing values\n",
    "\n",
    "* Are denoted by `NA` or `NaN` for undefined mathematical operations;\n",
    "* The `is.na()`function is used to test objects if they are `NA` and the `is.nan()` function is used to test for `NaN`;\n",
    "* `NA` values have a class also, so there are integer `NA`, character `NA`, etc;\n",
    "* A `NaN` value is also `NA` but the converse is not true."
   ]
  },
  {
   "cell_type": "code",
   "execution_count": 39,
   "metadata": {},
   "outputs": [
    {
     "data": {
      "text/html": [
       "<ol class=list-inline>\n",
       "\t<li>FALSE</li>\n",
       "\t<li>FALSE</li>\n",
       "\t<li>TRUE</li>\n",
       "\t<li>TRUE</li>\n",
       "\t<li>FALSE</li>\n",
       "</ol>\n"
      ],
      "text/latex": [
       "\\begin{enumerate*}\n",
       "\\item FALSE\n",
       "\\item FALSE\n",
       "\\item TRUE\n",
       "\\item TRUE\n",
       "\\item FALSE\n",
       "\\end{enumerate*}\n"
      ],
      "text/markdown": [
       "1. FALSE\n",
       "2. FALSE\n",
       "3. TRUE\n",
       "4. TRUE\n",
       "5. FALSE\n",
       "\n",
       "\n"
      ],
      "text/plain": [
       "[1] FALSE FALSE  TRUE  TRUE FALSE"
      ]
     },
     "metadata": {},
     "output_type": "display_data"
    },
    {
     "data": {
      "text/html": [
       "<ol class=list-inline>\n",
       "\t<li>FALSE</li>\n",
       "\t<li>FALSE</li>\n",
       "\t<li>TRUE</li>\n",
       "\t<li>FALSE</li>\n",
       "\t<li>FALSE</li>\n",
       "</ol>\n"
      ],
      "text/latex": [
       "\\begin{enumerate*}\n",
       "\\item FALSE\n",
       "\\item FALSE\n",
       "\\item TRUE\n",
       "\\item FALSE\n",
       "\\item FALSE\n",
       "\\end{enumerate*}\n"
      ],
      "text/markdown": [
       "1. FALSE\n",
       "2. FALSE\n",
       "3. TRUE\n",
       "4. FALSE\n",
       "5. FALSE\n",
       "\n",
       "\n"
      ],
      "text/plain": [
       "[1] FALSE FALSE  TRUE FALSE FALSE"
      ]
     },
     "metadata": {},
     "output_type": "display_data"
    }
   ],
   "source": [
    "x <- c(1,2,NaN,NA,4)\n",
    "is.na(x)\n",
    "is.nan(x)"
   ]
  },
  {
   "cell_type": "markdown",
   "metadata": {},
   "source": [
    "# Data types - Data frames\n",
    "\n",
    "* They're used to store tabular data;\n",
    "* They're represented as a special type of list where every element of the list has to have the same length;\n",
    "* Each element of the list can be thought of as a column and the length of each element of the list is the number of rows;\n",
    "* Unlike matrices, data frames can store different classes of objects in each column (just like lists);\n",
    "* Data frames also have special attributes called `row.names`\n",
    "* Data frames are usually created by calling `read.table()` or `read.csv()` or `data.frame()` functions;\n",
    "* They can be converted to a matrix by calling `data.matrix()` function.\n"
   ]
  },
  {
   "cell_type": "code",
   "execution_count": 41,
   "metadata": {},
   "outputs": [
    {
     "name": "stdout",
     "output_type": "stream",
     "text": [
      "  foo   bar\n",
      "1   1  TRUE\n",
      "2   2  TRUE\n",
      "3   3 FALSE\n",
      "4   4 FALSE\n"
     ]
    },
    {
     "data": {
      "text/html": [
       "4"
      ],
      "text/latex": [
       "4"
      ],
      "text/markdown": [
       "4"
      ],
      "text/plain": [
       "[1] 4"
      ]
     },
     "metadata": {},
     "output_type": "display_data"
    },
    {
     "data": {
      "text/html": [
       "2"
      ],
      "text/latex": [
       "2"
      ],
      "text/markdown": [
       "2"
      ],
      "text/plain": [
       "[1] 2"
      ]
     },
     "metadata": {},
     "output_type": "display_data"
    }
   ],
   "source": [
    "df <- data.frame(foo=1:4, bar=c(T,T,F,F))\n",
    "print(df)\n",
    "nrow(df)\n",
    "ncol(df)"
   ]
  },
  {
   "cell_type": "markdown",
   "metadata": {},
   "source": [
    "---\n",
    "# Data types - Names\n",
    "\n",
    "* Is very useful for writing readable code and self-describing objects"
   ]
  },
  {
   "cell_type": "code",
   "execution_count": 44,
   "metadata": {},
   "outputs": [
    {
     "name": "stdout",
     "output_type": "stream",
     "text": [
      "[1] 1 2 3\n"
     ]
    },
    {
     "data": {
      "text/plain": [
       "NULL"
      ]
     },
     "metadata": {},
     "output_type": "display_data"
    },
    {
     "name": "stdout",
     "output_type": "stream",
     "text": [
      " foo  bar norf \n",
      "   1    2    3 \n"
     ]
    },
    {
     "data": {
      "text/html": [
       "<ol class=list-inline>\n",
       "\t<li>'foo'</li>\n",
       "\t<li>'bar'</li>\n",
       "\t<li>'norf'</li>\n",
       "</ol>\n"
      ],
      "text/latex": [
       "\\begin{enumerate*}\n",
       "\\item 'foo'\n",
       "\\item 'bar'\n",
       "\\item 'norf'\n",
       "\\end{enumerate*}\n"
      ],
      "text/markdown": [
       "1. 'foo'\n",
       "2. 'bar'\n",
       "3. 'norf'\n",
       "\n",
       "\n"
      ],
      "text/plain": [
       "[1] \"foo\"  \"bar\"  \"norf\""
      ]
     },
     "metadata": {},
     "output_type": "display_data"
    }
   ],
   "source": [
    "x <- 1:3\n",
    "print(x)\n",
    "names(x)\n",
    "names(x) <- c(\"foo\", \"bar\", \"norf\")\n",
    "print(x)\n",
    "names(x)"
   ]
  },
  {
   "cell_type": "markdown",
   "metadata": {},
   "source": [
    "* Lists can also have names:"
   ]
  },
  {
   "cell_type": "code",
   "execution_count": 49,
   "metadata": {},
   "outputs": [
    {
     "name": "stdout",
     "output_type": "stream",
     "text": [
      "$a\n",
      "[1] 1\n",
      "\n",
      "$b\n",
      "[1] 2\n",
      "\n",
      "$c\n",
      "[1] 3\n",
      "\n",
      "$a\n",
      "[1] 1\n",
      "\n",
      "[1] 1\n"
     ]
    }
   ],
   "source": [
    "x <- list(a=1, b=2, c=3)\n",
    "print(x)\n",
    "print(x[1])\n",
    "print(x$a)"
   ]
  },
  {
   "cell_type": "markdown",
   "metadata": {},
   "source": [
    "* And matrices(`dimnames()`):"
   ]
  },
  {
   "cell_type": "code",
   "execution_count": 51,
   "metadata": {},
   "outputs": [
    {
     "name": "stdout",
     "output_type": "stream",
     "text": [
      "  c d\n",
      "a 1 3\n",
      "b 2 4\n"
     ]
    }
   ],
   "source": [
    "m <- matrix(1:4, nrow=2, ncol=2)\n",
    "dimnames(m) <- list(c(\"a\", \"b\"), c(\"c\", \"d\"))\n",
    "print(m)"
   ]
  },
  {
   "cell_type": "markdown",
   "metadata": {},
   "source": [
    "---\n",
    "# Summary\n",
    "\n",
    "* Data types:\n",
    "    * Atomic classes: numeric, logical, character, integer, complex;\n",
    "    * Vectors, lists;\n",
    "    * Factors;\n",
    "    * Missing values;\n",
    "    * Data frames;\n",
    "    * Names"
   ]
  },
  {
   "cell_type": "markdown",
   "metadata": {},
   "source": [
    "---\n",
    "# Reading  and writing tabular data\n",
    "## - Read\n",
    "\n",
    "* The `read.table()` and `read.csv()` functions for reading tabular data;\n",
    "* The `readLines()` function for reading lines of a text file;\n",
    "* `source()` for reading in R code files (inverse of `dump()`);\n",
    "* `dget()` for reading in R code files (inverse of `dput()`);\n",
    "* `load()` for reading in saved workspaces;\n",
    "* `unserialize()` for reading single R objects in binary form.\n",
    "\n",
    "## - Write\n",
    "\n",
    "* `write.table()`\n",
    "* `writeLines()`\n",
    "* `dump()`\n",
    "* `dput()`\n",
    "* `save()`\n",
    "* `serialize()`\n",
    "\n",
    "## - Reading data files with `read.table()`\n",
    "\n",
    "* Few important arguments:\n",
    "    * `file=` the name of a file or a connection;\n",
    "    * `header=` logical indicating if the file has a header line;\n",
    "    * `sep=` a string indicationg how the columns are separeted;\n",
    "    * `colClasses=` a character vector indicating the class of each column in the dataset;\n",
    "    * `nrows=` the number of rows in the dataset;\n",
    "    * `comment.char=` a character string indicating the comment charngter (You can specify other character to be comment characters);\n",
    "    * `skip=` the number of lines to skip from the begninning;\n",
    "    * `stringsAsFactors=` should character variables be coded as factors?\n",
    "    \n",
    "   \n",
    "* For small to moderately sized datasets, you can usually call `read.table` without specifying any other arguments. R will automatically:\n",
    "    * Skip lines that begin with **#**;\n",
    "    * Figure out how many rows there are (and how much memory needs to be allocated);\n",
    "    * Figure what type of variable is in each column of the table telling R all these things directly makes R run faster and more efficiently;\n",
    "    * For `read.csv` the default separator is a comma and `header=TRUE`. "
   ]
  },
  {
   "cell_type": "code",
   "execution_count": 52,
   "metadata": {},
   "outputs": [
    {
     "name": "stderr",
     "output_type": "stream",
     "text": [
      "Warning message in file(file, \"rt\"):\n",
      "“cannot open file 'example.txt': No such file or directory”"
     ]
    },
    {
     "ename": "ERROR",
     "evalue": "Error in file(file, \"rt\"): cannot open the connection\n",
     "output_type": "error",
     "traceback": [
      "Error in file(file, \"rt\"): cannot open the connection\nTraceback:\n",
      "1. read.table(\"example.txt\")",
      "2. file(file, \"rt\")"
     ]
    }
   ],
   "source": [
    "data <- read.table(\"example.txt\")"
   ]
  },
  {
   "cell_type": "markdown",
   "metadata": {},
   "source": [
    "---\n",
    "# Reading large tables\n",
    "\n",
    "## - Reading in larger datasets with `read.table()`\n",
    "\n",
    "* Read the help page for `read.table()`;\n",
    "* Make a rough calculation of the memory required to store your dataset;\n",
    "* If the dataset is larger than the amount of RAM available, don't open it;\n",
    "* Set `comment.char=\" \"` if there are no commented lines in your file;\n",
    "* Use the `colClasses=` argument, it can make the function run much faster (often twice as fast). If you know all the columns classes you just have to set it, but if you don't know you can use it:"
   ]
  },
  {
   "cell_type": "code",
   "execution_count": null,
   "metadata": {},
   "outputs": [],
   "source": [
    "initial <- read.table(\"example.txt\", nrows=100)\n",
    "classes <- sapply(initial, class)\n",
    "df <- read.table(\"example.txt\", colClasses=classes)"
   ]
  },
  {
   "cell_type": "markdown",
   "metadata": {},
   "source": [
    "* Set `nrows=` that can help with memory usage. A mild overstimate is okay, you can use the unix command `wc -l example.txt` to calculate the number of lines in a file.\n",
    "\n",
    "## - Know thy system\n",
    "\n",
    "* It's useful to know a few things about your system:\n",
    "    * How much memory is available?\n",
    "    * What other app are in use?\n",
    "    * Are there other users logged into the same system?\n",
    "    * What operating system?\n",
    "    * Is the OS 32 or 64 bits?\n",
    "    \n",
    "## - Calculating memory requirements\n",
    "\n",
    "* Is a data frame with 1,500,000 rows and 120 columns, all of wich are numeric data;\n",
    "* How much memory is required to store this data frame?\n",
    "\n",
    "> 1,500,000 x 120 x 8 bytes/numeric\n",
    "> = 1,440,000,000 bytes\n",
    "> = 1,440,000,000 / 2²⁰ bytes/MB\n",
    "> = 1,373.29 MB\n",
    "> = 1.34 GB"
   ]
  },
  {
   "cell_type": "markdown",
   "metadata": {},
   "source": [
    "---\n",
    "# Textual data formats\n",
    "\n",
    "* `dumping` and `dputing` are useful because the resulting textual format is edit-able and in the case of corruption, it can potentially recovera;\n",
    "* Unlike writing out a table or CSV file, `dump()` and `dput()` preserve the metadata (sacrificing some readability), so that another user doesn't have to specify it all over again;\n",
    "* Textual formats can work much better with version control programs like subversion or git which can only track changes meaningfully in text files;\n",
    "* Textual formats can be longer-lived, if there is corruption somewhere in the file, it can be easier to fix the problem;\n",
    "* Textual formats adhere to the \"Unix philosophy\" (store all kinds of data in text);\n",
    "* Dowside: the format is not very space-efficient;\n",
    "* A way to pass data around is by deparsing the R object with `dput()` and reading it back in using `dget()`:"
   ]
  },
  {
   "cell_type": "code",
   "execution_count": 54,
   "metadata": {},
   "outputs": [
    {
     "name": "stdout",
     "output_type": "stream",
     "text": [
      "structure(list(a = 1, b = structure(1L, .Label = \"a\", class = \"factor\")), .Names = c(\"a\", \n",
      "\"b\"), row.names = c(NA, -1L), class = \"data.frame\")\n"
     ]
    },
    {
     "data": {
      "text/html": [
       "<table>\n",
       "<thead><tr><th scope=col>a</th><th scope=col>b</th></tr></thead>\n",
       "<tbody>\n",
       "\t<tr><td>1</td><td>a</td></tr>\n",
       "</tbody>\n",
       "</table>\n"
      ],
      "text/latex": [
       "\\begin{tabular}{r|ll}\n",
       " a & b\\\\\n",
       "\\hline\n",
       "\t 1 & a\\\\\n",
       "\\end{tabular}\n"
      ],
      "text/markdown": [
       "\n",
       "a | b | \n",
       "|---|\n",
       "| 1 | a | \n",
       "\n",
       "\n"
      ],
      "text/plain": [
       "  a b\n",
       "1 1 a"
      ]
     },
     "metadata": {},
     "output_type": "display_data"
    }
   ],
   "source": [
    "y <- data.frame(a=1, b=\"a\")\n",
    "dput(y)\n",
    "dput(y, file=\"y.R\")\n",
    "new.y <- dget(\"y.R\")\n",
    "new.y"
   ]
  },
  {
   "cell_type": "markdown",
   "metadata": {},
   "source": [
    "* Multiple objects can be deparsed using the `dump()` function and read back in using `source()`:"
   ]
  },
  {
   "cell_type": "code",
   "execution_count": 55,
   "metadata": {},
   "outputs": [
    {
     "data": {
      "text/html": [
       "<table>\n",
       "<thead><tr><th scope=col>a</th><th scope=col>b</th></tr></thead>\n",
       "<tbody>\n",
       "\t<tr><td>1</td><td>a</td></tr>\n",
       "</tbody>\n",
       "</table>\n"
      ],
      "text/latex": [
       "\\begin{tabular}{r|ll}\n",
       " a & b\\\\\n",
       "\\hline\n",
       "\t 1 & a\\\\\n",
       "\\end{tabular}\n"
      ],
      "text/markdown": [
       "\n",
       "a | b | \n",
       "|---|\n",
       "| 1 | a | \n",
       "\n",
       "\n"
      ],
      "text/plain": [
       "  a b\n",
       "1 1 a"
      ]
     },
     "metadata": {},
     "output_type": "display_data"
    }
   ],
   "source": [
    "x <- \"foo\"\n",
    "y <- data.frame(a=1, b=\"a\")\n",
    "dump(c(\"x\", \"y\"), file=\"data.R\")\n",
    "rm(x,y)\n",
    "source(\"data.R\")\n",
    "y"
   ]
  },
  {
   "cell_type": "markdown",
   "metadata": {},
   "source": [
    "---\n",
    "# Connections: Interfaces to the outside world\n",
    "\n",
    "* Data are read in using connection interfaces:\n",
    "    * `file()` opens a connection to a file;\n",
    "    * `gzfile()` opens a connection to a file compressed with gzip;\n",
    "    * `bzfile()` opens a connection to a file compressed with bzip2;\n",
    "    * `url()` opens a connection to a webpage."
   ]
  },
  {
   "cell_type": "code",
   "execution_count": 57,
   "metadata": {},
   "outputs": [
    {
     "name": "stdout",
     "output_type": "stream",
     "text": [
      "function (description = \"\", open = \"\", blocking = TRUE, encoding = getOption(\"encoding\"), \n",
      "    raw = FALSE, method = getOption(\"url.method\", \"default\"))  \n"
     ]
    }
   ],
   "source": [
    "str(file)"
   ]
  },
  {
   "cell_type": "markdown",
   "metadata": {},
   "source": [
    "* `description=` is the name of the file;\n",
    "* `open=` is a code indicating:\n",
    "    * \"r\" read only;\n",
    "    * \"w\" writting (and initializing a new file);\n",
    "    * \"a\" appending;\n",
    "    * \"rb\", \"wb\", \"ab\" = reading, writting and appending in binary mode (windows)\n",
    "    \n",
    "## - Reading lines of a text file\n",
    "\n",
    "* Sometimes connection can be useful if you want to read parts of a file:"
   ]
  },
  {
   "cell_type": "code",
   "execution_count": null,
   "metadata": {},
   "outputs": [],
   "source": [
    "con <- gzfile(\"example.gz\")\n",
    "x <- readLines(con, 10)"
   ]
  },
  {
   "cell_type": "markdown",
   "metadata": {},
   "source": [
    "* `readLines()` can be useful for reading in lines of webpages:"
   ]
  },
  {
   "cell_type": "code",
   "execution_count": 60,
   "metadata": {},
   "outputs": [
    {
     "data": {
      "text/html": [
       "<ol class=list-inline>\n",
       "\t<li>'&lt;!DOCTYPE html&gt;'</li>\n",
       "\t<li>'&lt;html lang=\"en\"&gt;'</li>\n",
       "\t<li>''</li>\n",
       "\t<li>'&lt;head&gt;'</li>\n",
       "\t<li>'&lt;meta charset=\"utf-8\" /&gt;'</li>\n",
       "\t<li>'&lt;title&gt;Johns Hopkins Bloomberg School of Public Health&lt;/title&gt;'</li>\n",
       "</ol>\n"
      ],
      "text/latex": [
       "\\begin{enumerate*}\n",
       "\\item '<!DOCTYPE html>'\n",
       "\\item '<html lang=\"en\">'\n",
       "\\item ''\n",
       "\\item '<head>'\n",
       "\\item '<meta charset=\"utf-8\" />'\n",
       "\\item '<title>Johns Hopkins Bloomberg School of Public Health</title>'\n",
       "\\end{enumerate*}\n"
      ],
      "text/markdown": [
       "1. '&lt;!DOCTYPE html&gt;'\n",
       "2. '&lt;html lang=\"en\"&gt;'\n",
       "3. ''\n",
       "4. '&lt;head&gt;'\n",
       "5. '&lt;meta charset=\"utf-8\" /&gt;'\n",
       "6. '&lt;title&gt;Johns Hopkins Bloomberg School of Public Health&lt;/title&gt;'\n",
       "\n",
       "\n"
      ],
      "text/plain": [
       "[1] \"<!DOCTYPE html>\"                                               \n",
       "[2] \"<html lang=\\\"en\\\">\"                                            \n",
       "[3] \"\"                                                              \n",
       "[4] \"<head>\"                                                        \n",
       "[5] \"<meta charset=\\\"utf-8\\\" />\"                                    \n",
       "[6] \"<title>Johns Hopkins Bloomberg School of Public Health</title>\""
      ]
     },
     "metadata": {},
     "output_type": "display_data"
    }
   ],
   "source": [
    "## This might take time\n",
    "con <- url(\"https://www.jhsph.edu/index.html\", \"r\")\n",
    "x <- readLines(con)\n",
    "head(x)"
   ]
  },
  {
   "cell_type": "markdown",
   "metadata": {},
   "source": [
    "---\n",
    "# Subsetting - Basics\n",
    "\n",
    "* \"**[]**\" always returns an object of the same class as the original (can be used to select more than one element);\n",
    "* \"**[[]]**\" is used to extract elements of a list or a data frame (extract a single element and the class of the object selected);\n",
    "* \"**$**\" is used to extract elements of a list or a data frame (similar to \"[[]]\")."
   ]
  },
  {
   "cell_type": "code",
   "execution_count": 66,
   "metadata": {},
   "outputs": [
    {
     "name": "stdout",
     "output_type": "stream",
     "text": [
      "[1] \"a\"\n",
      "[1] \"b\"\n",
      "[1] \"a\" \"b\" \"c\" \"c\"\n",
      "[1] \"b\" \"c\" \"c\" \"d\"\n",
      "[1] FALSE  TRUE  TRUE  TRUE  TRUE FALSE\n",
      "[1] \"b\" \"c\" \"c\" \"d\"\n"
     ]
    }
   ],
   "source": [
    "x <- c(\"a\", \"b\", \"c\", \"c\", \"d\", \"a\")\n",
    "print(x[1])\n",
    "print(x[2])\n",
    "print(x[1:4])\n",
    "print(x[x>\"a\"])\n",
    "u <- x>\"a\"\n",
    "print(u)\n",
    "print(x[u])"
   ]
  },
  {
   "cell_type": "markdown",
   "metadata": {},
   "source": [
    "---\n",
    "# Subsetting - Lists\n",
    "\n",
    "* \"**[[]]**\" and \"**$**\" can be used, but not every time;"
   ]
  },
  {
   "cell_type": "code",
   "execution_count": 77,
   "metadata": {},
   "outputs": [
    {
     "data": {
      "text/html": [
       "'list'"
      ],
      "text/latex": [
       "'list'"
      ],
      "text/markdown": [
       "'list'"
      ],
      "text/plain": [
       "[1] \"list\""
      ]
     },
     "metadata": {},
     "output_type": "display_data"
    },
    {
     "data": {
      "text/html": [
       "'integer'"
      ],
      "text/latex": [
       "'integer'"
      ],
      "text/markdown": [
       "'integer'"
      ],
      "text/plain": [
       "[1] \"integer\""
      ]
     },
     "metadata": {},
     "output_type": "display_data"
    },
    {
     "data": {
      "text/html": [
       "'numeric'"
      ],
      "text/latex": [
       "'numeric'"
      ],
      "text/markdown": [
       "'numeric'"
      ],
      "text/plain": [
       "[1] \"numeric\""
      ]
     },
     "metadata": {},
     "output_type": "display_data"
    },
    {
     "data": {
      "text/html": [
       "'list'"
      ],
      "text/latex": [
       "'list'"
      ],
      "text/markdown": [
       "'list'"
      ],
      "text/plain": [
       "[1] \"list\""
      ]
     },
     "metadata": {},
     "output_type": "display_data"
    }
   ],
   "source": [
    "x <- list(foo=1:4, bar=0.6)\n",
    "class(x[1])  # list\n",
    "class(x[[1]])  # sequence of integer\n",
    "class(x$bar)  # numeric element\n",
    "class(x[\"bar\"])  # list"
   ]
  },
  {
   "cell_type": "markdown",
   "metadata": {},
   "source": [
    "* To extract multiple elements use \"**[]**\""
   ]
  },
  {
   "cell_type": "code",
   "execution_count": 79,
   "metadata": {},
   "outputs": [
    {
     "data": {
      "text/html": [
       "<dl>\n",
       "\t<dt>$foo</dt>\n",
       "\t\t<dd><ol class=list-inline>\n",
       "\t<li>1</li>\n",
       "\t<li>2</li>\n",
       "\t<li>3</li>\n",
       "\t<li>4</li>\n",
       "</ol>\n",
       "</dd>\n",
       "\t<dt>$baz</dt>\n",
       "\t\t<dd>'hello'</dd>\n",
       "</dl>\n"
      ],
      "text/latex": [
       "\\begin{description}\n",
       "\\item[\\$foo] \\begin{enumerate*}\n",
       "\\item 1\n",
       "\\item 2\n",
       "\\item 3\n",
       "\\item 4\n",
       "\\end{enumerate*}\n",
       "\n",
       "\\item[\\$baz] 'hello'\n",
       "\\end{description}\n"
      ],
      "text/markdown": [
       "$foo\n",
       ":   1. 1\n",
       "2. 2\n",
       "3. 3\n",
       "4. 4\n",
       "\n",
       "\n",
       "\n",
       "$baz\n",
       ":   'hello'\n",
       "\n",
       "\n"
      ],
      "text/plain": [
       "$foo\n",
       "[1] 1 2 3 4\n",
       "\n",
       "$baz\n",
       "[1] \"hello\"\n"
      ]
     },
     "metadata": {},
     "output_type": "display_data"
    }
   ],
   "source": [
    "x <- list(foo=1:4, bar=0.6, baz=\"hello\")\n",
    "x[c(1,3)]"
   ]
  },
  {
   "cell_type": "markdown",
   "metadata": {},
   "source": [
    "* To subsetting nested elements of a list use \"**[[]]**\""
   ]
  },
  {
   "cell_type": "code",
   "execution_count": 80,
   "metadata": {},
   "outputs": [
    {
     "data": {
      "text/html": [
       "14"
      ],
      "text/latex": [
       "14"
      ],
      "text/markdown": [
       "14"
      ],
      "text/plain": [
       "[1] 14"
      ]
     },
     "metadata": {},
     "output_type": "display_data"
    },
    {
     "data": {
      "text/html": [
       "14"
      ],
      "text/latex": [
       "14"
      ],
      "text/markdown": [
       "14"
      ],
      "text/plain": [
       "[1] 14"
      ]
     },
     "metadata": {},
     "output_type": "display_data"
    },
    {
     "data": {
      "text/html": [
       "3.14"
      ],
      "text/latex": [
       "3.14"
      ],
      "text/markdown": [
       "3.14"
      ],
      "text/plain": [
       "[1] 3.14"
      ]
     },
     "metadata": {},
     "output_type": "display_data"
    }
   ],
   "source": [
    "x <- list(a=list(10,12,14), b=c(3.14,2.81))\n",
    "x[[c(1,3)]]\n",
    "x[[1]][[3]]\n",
    "x[[c(2,1)]]"
   ]
  },
  {
   "cell_type": "markdown",
   "metadata": {},
   "source": [
    "---\n",
    "# Subsetting - Matrices\n",
    "\n",
    "* It can be subsetted in the usual way with (i,j) or (row,column) type index;"
   ]
  },
  {
   "cell_type": "code",
   "execution_count": 82,
   "metadata": {},
   "outputs": [
    {
     "name": "stdout",
     "output_type": "stream",
     "text": [
      "     [,1] [,2] [,3]\n",
      "[1,]    1    3    5\n",
      "[2,]    2    4    6\n"
     ]
    },
    {
     "data": {
      "text/html": [
       "3"
      ],
      "text/latex": [
       "3"
      ],
      "text/markdown": [
       "3"
      ],
      "text/plain": [
       "[1] 3"
      ]
     },
     "metadata": {},
     "output_type": "display_data"
    },
    {
     "data": {
      "text/html": [
       "2"
      ],
      "text/latex": [
       "2"
      ],
      "text/markdown": [
       "2"
      ],
      "text/plain": [
       "[1] 2"
      ]
     },
     "metadata": {},
     "output_type": "display_data"
    },
    {
     "data": {
      "text/html": [
       "<ol class=list-inline>\n",
       "\t<li>1</li>\n",
       "\t<li>3</li>\n",
       "\t<li>5</li>\n",
       "</ol>\n"
      ],
      "text/latex": [
       "\\begin{enumerate*}\n",
       "\\item 1\n",
       "\\item 3\n",
       "\\item 5\n",
       "\\end{enumerate*}\n"
      ],
      "text/markdown": [
       "1. 1\n",
       "2. 3\n",
       "3. 5\n",
       "\n",
       "\n"
      ],
      "text/plain": [
       "[1] 1 3 5"
      ]
     },
     "metadata": {},
     "output_type": "display_data"
    },
    {
     "data": {
      "text/html": [
       "<ol class=list-inline>\n",
       "\t<li>3</li>\n",
       "\t<li>4</li>\n",
       "</ol>\n"
      ],
      "text/latex": [
       "\\begin{enumerate*}\n",
       "\\item 3\n",
       "\\item 4\n",
       "\\end{enumerate*}\n"
      ],
      "text/markdown": [
       "1. 3\n",
       "2. 4\n",
       "\n",
       "\n"
      ],
      "text/plain": [
       "[1] 3 4"
      ]
     },
     "metadata": {},
     "output_type": "display_data"
    }
   ],
   "source": [
    "x <- matrix(1:6, 2, 3)\n",
    "print(x)\n",
    "x[1,2]\n",
    "x[2,1]\n",
    "x[1,]\n",
    "x[,2]"
   ]
  },
  {
   "cell_type": "markdown",
   "metadata": {},
   "source": [
    "* By default when a single element of a matrix is retrieved it returns a vector of length 1 rather 1x1 matrix. To change it set `drop=FALSE`:"
   ]
  },
  {
   "cell_type": "code",
   "execution_count": 94,
   "metadata": {},
   "outputs": [
    {
     "name": "stdout",
     "output_type": "stream",
     "text": [
      "[1] 3\n",
      "     [,1]\n",
      "[1,]    3\n",
      "[1] 1 3 5\n",
      "     [,1] [,2] [,3]\n",
      "[1,]    1    3    5\n"
     ]
    }
   ],
   "source": [
    "print(x[1,2])\n",
    "print(x[1,2,drop=F])\n",
    "print(x[1,])\n",
    "print(x[1,,drop=F])"
   ]
  },
  {
   "cell_type": "markdown",
   "metadata": {},
   "source": [
    "---\n",
    "# Subsetting with Names\n",
    "\n",
    "* Partial matching is allowed with \"**$**\" by default, but using \"**[[]]**\" is necessary to set `exact=FALSE`:"
   ]
  },
  {
   "cell_type": "code",
   "execution_count": 95,
   "metadata": {},
   "outputs": [
    {
     "name": "stdout",
     "output_type": "stream",
     "text": [
      "[1] 1 2 3 4 5\n",
      "NULL\n",
      "[1] 1 2 3 4 5\n"
     ]
    }
   ],
   "source": [
    "x <- list(aardvark=1:5)\n",
    "print(x$a)\n",
    "print(x[[\"a\"]])\n",
    "print(x[[\"a\", exact=F]])"
   ]
  },
  {
   "cell_type": "markdown",
   "metadata": {},
   "source": [
    "---\n",
    "# Subsetting - Removing NA values\n",
    "\n",
    "* The idea is construct a logical variable with the locations with `NA` elemenets and don't count it:\n"
   ]
  },
  {
   "cell_type": "code",
   "execution_count": 96,
   "metadata": {},
   "outputs": [
    {
     "name": "stdout",
     "output_type": "stream",
     "text": [
      "[1] FALSE FALSE  TRUE FALSE  TRUE FALSE\n",
      "[1] 1 2 4 5\n"
     ]
    }
   ],
   "source": [
    "x <- c(1,2,NA,4,NA,5)\n",
    "bad <- is.na(x)\n",
    "print(bad)\n",
    "print(x[!bad])"
   ]
  },
  {
   "cell_type": "markdown",
   "metadata": {},
   "source": [
    "* What if there are multiple things and you want to take the subset with no missing values?\n",
    "> If in one of the cases has a `NA` element the position is called FALSE"
   ]
  },
  {
   "cell_type": "code",
   "execution_count": 97,
   "metadata": {},
   "outputs": [
    {
     "name": "stdout",
     "output_type": "stream",
     "text": [
      "[1]  TRUE  TRUE FALSE  TRUE FALSE  TRUE\n",
      "[1] 1 2 4 5\n",
      "[1] \"a\" \"b\" \"d\" \"f\"\n"
     ]
    }
   ],
   "source": [
    "y <- c(\"a\", \"b\", NA, \"d\", NA, \"f\")\n",
    "good <- complete.cases(x,y)\n",
    "print(good)\n",
    "print(x[good])\n",
    "print(y[good])"
   ]
  },
  {
   "cell_type": "markdown",
   "metadata": {},
   "source": [
    "* It can be use in data frames, to remove `NA` that happens among columns.\n",
    "---\n",
    "\n",
    "# Vectoriz operations\n",
    "\n",
    "* Vectorization make the code more efficient, concise and easier to read:"
   ]
  },
  {
   "cell_type": "code",
   "execution_count": 98,
   "metadata": {},
   "outputs": [
    {
     "name": "stdout",
     "output_type": "stream",
     "text": [
      "[1] 1 2 3 4\n",
      "[1] 6 7 8 9\n"
     ]
    },
    {
     "data": {
      "text/html": [
       "<ol class=list-inline>\n",
       "\t<li>7</li>\n",
       "\t<li>9</li>\n",
       "\t<li>11</li>\n",
       "\t<li>13</li>\n",
       "</ol>\n"
      ],
      "text/latex": [
       "\\begin{enumerate*}\n",
       "\\item 7\n",
       "\\item 9\n",
       "\\item 11\n",
       "\\item 13\n",
       "\\end{enumerate*}\n"
      ],
      "text/markdown": [
       "1. 7\n",
       "2. 9\n",
       "3. 11\n",
       "4. 13\n",
       "\n",
       "\n"
      ],
      "text/plain": [
       "[1]  7  9 11 13"
      ]
     },
     "metadata": {},
     "output_type": "display_data"
    },
    {
     "data": {
      "text/html": [
       "<ol class=list-inline>\n",
       "\t<li>FALSE</li>\n",
       "\t<li>FALSE</li>\n",
       "\t<li>TRUE</li>\n",
       "\t<li>TRUE</li>\n",
       "</ol>\n"
      ],
      "text/latex": [
       "\\begin{enumerate*}\n",
       "\\item FALSE\n",
       "\\item FALSE\n",
       "\\item TRUE\n",
       "\\item TRUE\n",
       "\\end{enumerate*}\n"
      ],
      "text/markdown": [
       "1. FALSE\n",
       "2. FALSE\n",
       "3. TRUE\n",
       "4. TRUE\n",
       "\n",
       "\n"
      ],
      "text/plain": [
       "[1] FALSE FALSE  TRUE  TRUE"
      ]
     },
     "metadata": {},
     "output_type": "display_data"
    },
    {
     "data": {
      "text/html": [
       "<ol class=list-inline>\n",
       "\t<li>FALSE</li>\n",
       "\t<li>TRUE</li>\n",
       "\t<li>TRUE</li>\n",
       "\t<li>TRUE</li>\n",
       "</ol>\n"
      ],
      "text/latex": [
       "\\begin{enumerate*}\n",
       "\\item FALSE\n",
       "\\item TRUE\n",
       "\\item TRUE\n",
       "\\item TRUE\n",
       "\\end{enumerate*}\n"
      ],
      "text/markdown": [
       "1. FALSE\n",
       "2. TRUE\n",
       "3. TRUE\n",
       "4. TRUE\n",
       "\n",
       "\n"
      ],
      "text/plain": [
       "[1] FALSE  TRUE  TRUE  TRUE"
      ]
     },
     "metadata": {},
     "output_type": "display_data"
    },
    {
     "data": {
      "text/html": [
       "<ol class=list-inline>\n",
       "\t<li>48</li>\n",
       "\t<li>56</li>\n",
       "\t<li>64</li>\n",
       "\t<li>72</li>\n",
       "</ol>\n"
      ],
      "text/latex": [
       "\\begin{enumerate*}\n",
       "\\item 48\n",
       "\\item 56\n",
       "\\item 64\n",
       "\\item 72\n",
       "\\end{enumerate*}\n"
      ],
      "text/markdown": [
       "1. 48\n",
       "2. 56\n",
       "3. 64\n",
       "4. 72\n",
       "\n",
       "\n"
      ],
      "text/plain": [
       "[1] 48 56 64 72"
      ]
     },
     "metadata": {},
     "output_type": "display_data"
    },
    {
     "data": {
      "text/html": [
       "<ol class=list-inline>\n",
       "\t<li>1.33333333333333</li>\n",
       "\t<li>1.14285714285714</li>\n",
       "\t<li>1</li>\n",
       "\t<li>0.888888888888889</li>\n",
       "</ol>\n"
      ],
      "text/latex": [
       "\\begin{enumerate*}\n",
       "\\item 1.33333333333333\n",
       "\\item 1.14285714285714\n",
       "\\item 1\n",
       "\\item 0.888888888888889\n",
       "\\end{enumerate*}\n"
      ],
      "text/markdown": [
       "1. 1.33333333333333\n",
       "2. 1.14285714285714\n",
       "3. 1\n",
       "4. 0.888888888888889\n",
       "\n",
       "\n"
      ],
      "text/plain": [
       "[1] 1.3333333 1.1428571 1.0000000 0.8888889"
      ]
     },
     "metadata": {},
     "output_type": "display_data"
    }
   ],
   "source": [
    "x <- 1:4; y <- 6:9\n",
    "print(x)\n",
    "print(y)\n",
    "x+y\n",
    "x>2\n",
    "x>=2\n",
    "x=8\n",
    "x*y\n",
    "x/y"
   ]
  },
  {
   "cell_type": "code",
   "execution_count": 99,
   "metadata": {},
   "outputs": [
    {
     "name": "stdout",
     "output_type": "stream",
     "text": [
      "     [,1] [,2]\n",
      "[1,]    1    3\n",
      "[2,]    2    4\n",
      "     [,1] [,2]\n",
      "[1,]   10   10\n",
      "[2,]   10   10\n"
     ]
    },
    {
     "data": {
      "text/html": [
       "<table>\n",
       "<tbody>\n",
       "\t<tr><td>10</td><td>30</td></tr>\n",
       "\t<tr><td>20</td><td>40</td></tr>\n",
       "</tbody>\n",
       "</table>\n"
      ],
      "text/latex": [
       "\\begin{tabular}{ll}\n",
       "\t 10 & 30\\\\\n",
       "\t 20 & 40\\\\\n",
       "\\end{tabular}\n"
      ],
      "text/markdown": [
       "\n",
       "| 10 | 30 | \n",
       "| 20 | 40 | \n",
       "\n",
       "\n"
      ],
      "text/plain": [
       "     [,1] [,2]\n",
       "[1,] 10   30  \n",
       "[2,] 20   40  "
      ]
     },
     "metadata": {},
     "output_type": "display_data"
    },
    {
     "data": {
      "text/html": [
       "<table>\n",
       "<tbody>\n",
       "\t<tr><td>0.1</td><td>0.3</td></tr>\n",
       "\t<tr><td>0.2</td><td>0.4</td></tr>\n",
       "</tbody>\n",
       "</table>\n"
      ],
      "text/latex": [
       "\\begin{tabular}{ll}\n",
       "\t 0.1 & 0.3\\\\\n",
       "\t 0.2 & 0.4\\\\\n",
       "\\end{tabular}\n"
      ],
      "text/markdown": [
       "\n",
       "| 0.1 | 0.3 | \n",
       "| 0.2 | 0.4 | \n",
       "\n",
       "\n"
      ],
      "text/plain": [
       "     [,1] [,2]\n",
       "[1,] 0.1  0.3 \n",
       "[2,] 0.2  0.4 "
      ]
     },
     "metadata": {},
     "output_type": "display_data"
    },
    {
     "data": {
      "text/html": [
       "<table>\n",
       "<tbody>\n",
       "\t<tr><td>40</td><td>40</td></tr>\n",
       "\t<tr><td>60</td><td>60</td></tr>\n",
       "</tbody>\n",
       "</table>\n"
      ],
      "text/latex": [
       "\\begin{tabular}{ll}\n",
       "\t 40 & 40\\\\\n",
       "\t 60 & 60\\\\\n",
       "\\end{tabular}\n"
      ],
      "text/markdown": [
       "\n",
       "| 40 | 40 | \n",
       "| 60 | 60 | \n",
       "\n",
       "\n"
      ],
      "text/plain": [
       "     [,1] [,2]\n",
       "[1,] 40   40  \n",
       "[2,] 60   60  "
      ]
     },
     "metadata": {},
     "output_type": "display_data"
    }
   ],
   "source": [
    "x <- matrix(1:4, 2, 2); y <- matrix(rep(10, 4), 2, 2)\n",
    "print(x)\n",
    "print(y)\n",
    "x*y  # element-wise multiplication\n",
    "x/y\n",
    "x%*%y  # true matrix multiplication"
   ]
  },
  {
   "cell_type": "code",
   "execution_count": null,
   "metadata": {},
   "outputs": [],
   "source": []
  }
 ],
 "metadata": {
  "kernelspec": {
   "display_name": "R 3.4.2",
   "language": "R",
   "name": "ir33"
  },
  "language_info": {
   "codemirror_mode": "r",
   "file_extension": ".r",
   "mimetype": "text/x-r-source",
   "name": "R",
   "pygments_lexer": "r",
   "version": "3.4.4"
  }
 },
 "nbformat": 4,
 "nbformat_minor": 2
}
