{
 "cells": [
  {
   "cell_type": "markdown",
   "metadata": {},
   "source": [
    "# `str`: Compactly display the interna structure of an R object\n",
    "\n",
    "* A diagnostic function and an alternative to 'summary';\n",
    "* It is especially well suited to compactly display the (abbreviated) contents of (possibly nested lists;\n",
    "* Roughly one line per basic object."
   ]
  },
  {
   "cell_type": "code",
   "execution_count": 1,
   "metadata": {},
   "outputs": [
    {
     "name": "stdout",
     "output_type": "stream",
     "text": [
      "function (object, ...)  \n"
     ]
    }
   ],
   "source": [
    "str(str)"
   ]
  },
  {
   "cell_type": "code",
   "execution_count": 2,
   "metadata": {},
   "outputs": [
    {
     "name": "stdout",
     "output_type": "stream",
     "text": [
      "function (formula, data, subset, weights, na.action, method = \"qr\", model = TRUE, \n",
      "    x = FALSE, y = FALSE, qr = TRUE, singular.ok = TRUE, contrasts = NULL, \n",
      "    offset, ...)  \n"
     ]
    }
   ],
   "source": [
    "str(lm)"
   ]
  },
  {
   "cell_type": "code",
   "execution_count": 3,
   "metadata": {},
   "outputs": [
    {
     "name": "stdout",
     "output_type": "stream",
     "text": [
      "function (name, pos = -1L, envir = as.environment(pos), all.names = FALSE, \n",
      "    pattern, sorted = TRUE)  \n"
     ]
    }
   ],
   "source": [
    "str(ls)"
   ]
  },
  {
   "cell_type": "code",
   "execution_count": 4,
   "metadata": {},
   "outputs": [
    {
     "data": {
      "text/plain": [
       "   Min. 1st Qu.  Median    Mean 3rd Qu.    Max. \n",
       "-8.7060 -0.5154  1.5680  1.7383  4.3355 14.5300 "
      ]
     },
     "metadata": {},
     "output_type": "display_data"
    }
   ],
   "source": [
    "x <- rnorm(100, 2, 4)\n",
    "summary(x)"
   ]
  },
  {
   "cell_type": "code",
   "execution_count": 5,
   "metadata": {},
   "outputs": [
    {
     "name": "stdout",
     "output_type": "stream",
     "text": [
      " num [1:100] 4.573 0.479 2.795 -1.968 0.997 ...\n"
     ]
    }
   ],
   "source": [
    " str(x)"
   ]
  },
  {
   "cell_type": "code",
   "execution_count": 6,
   "metadata": {},
   "outputs": [
    {
     "name": "stdout",
     "output_type": "stream",
     "text": [
      " Factor w/ 40 levels \"1\",\"2\",\"3\",\"4\",..: 1 1 1 1 1 1 1 1 1 1 ...\n"
     ]
    }
   ],
   "source": [
    "f <- gl(40, 10)\n",
    "str(f)"
   ]
  },
  {
   "cell_type": "code",
   "execution_count": 8,
   "metadata": {},
   "outputs": [
    {
     "name": "stdout",
     "output_type": "stream",
     "text": [
      " 1  2  3  4  5  6  7  8  9 10 11 12 13 14 15 16 17 18 19 20 21 22 23 24 25 26 \n",
      "10 10 10 10 10 10 10 10 10 10 10 10 10 10 10 10 10 10 10 10 10 10 10 10 10 10 \n",
      "27 28 29 30 31 32 33 34 35 36 37 38 39 40 \n",
      "10 10 10 10 10 10 10 10 10 10 10 10 10 10 \n"
     ]
    }
   ],
   "source": [
    "print(summary(f))"
   ]
  },
  {
   "cell_type": "code",
   "execution_count": 9,
   "metadata": {},
   "outputs": [
    {
     "data": {
      "text/html": [
       "<table>\n",
       "<thead><tr><th scope=col>Ozone</th><th scope=col>Solar.R</th><th scope=col>Wind</th><th scope=col>Temp</th><th scope=col>Month</th><th scope=col>Day</th></tr></thead>\n",
       "<tbody>\n",
       "\t<tr><td>41  </td><td>190 </td><td> 7.4</td><td>67  </td><td>5   </td><td>1   </td></tr>\n",
       "\t<tr><td>36  </td><td>118 </td><td> 8.0</td><td>72  </td><td>5   </td><td>2   </td></tr>\n",
       "\t<tr><td>12  </td><td>149 </td><td>12.6</td><td>74  </td><td>5   </td><td>3   </td></tr>\n",
       "\t<tr><td>18  </td><td>313 </td><td>11.5</td><td>62  </td><td>5   </td><td>4   </td></tr>\n",
       "\t<tr><td>NA  </td><td> NA </td><td>14.3</td><td>56  </td><td>5   </td><td>5   </td></tr>\n",
       "\t<tr><td>28  </td><td> NA </td><td>14.9</td><td>66  </td><td>5   </td><td>6   </td></tr>\n",
       "</tbody>\n",
       "</table>\n"
      ],
      "text/latex": [
       "\\begin{tabular}{r|llllll}\n",
       " Ozone & Solar.R & Wind & Temp & Month & Day\\\\\n",
       "\\hline\n",
       "\t 41   & 190  &  7.4 & 67   & 5    & 1   \\\\\n",
       "\t 36   & 118  &  8.0 & 72   & 5    & 2   \\\\\n",
       "\t 12   & 149  & 12.6 & 74   & 5    & 3   \\\\\n",
       "\t 18   & 313  & 11.5 & 62   & 5    & 4   \\\\\n",
       "\t NA   &  NA  & 14.3 & 56   & 5    & 5   \\\\\n",
       "\t 28   &  NA  & 14.9 & 66   & 5    & 6   \\\\\n",
       "\\end{tabular}\n"
      ],
      "text/markdown": [
       "\n",
       "Ozone | Solar.R | Wind | Temp | Month | Day | \n",
       "|---|---|---|---|---|---|\n",
       "| 41   | 190  |  7.4 | 67   | 5    | 1    | \n",
       "| 36   | 118  |  8.0 | 72   | 5    | 2    | \n",
       "| 12   | 149  | 12.6 | 74   | 5    | 3    | \n",
       "| 18   | 313  | 11.5 | 62   | 5    | 4    | \n",
       "| NA   |  NA  | 14.3 | 56   | 5    | 5    | \n",
       "| 28   |  NA  | 14.9 | 66   | 5    | 6    | \n",
       "\n",
       "\n"
      ],
      "text/plain": [
       "  Ozone Solar.R Wind Temp Month Day\n",
       "1 41    190      7.4 67   5     1  \n",
       "2 36    118      8.0 72   5     2  \n",
       "3 12    149     12.6 74   5     3  \n",
       "4 18    313     11.5 62   5     4  \n",
       "5 NA     NA     14.3 56   5     5  \n",
       "6 28     NA     14.9 66   5     6  "
      ]
     },
     "metadata": {},
     "output_type": "display_data"
    }
   ],
   "source": [
    "library(datasets)\n",
    "head(airquality)"
   ]
  },
  {
   "cell_type": "code",
   "execution_count": 10,
   "metadata": {},
   "outputs": [
    {
     "name": "stdout",
     "output_type": "stream",
     "text": [
      "'data.frame':\t153 obs. of  6 variables:\n",
      " $ Ozone  : int  41 36 12 18 NA 28 23 19 8 NA ...\n",
      " $ Solar.R: int  190 118 149 313 NA NA 299 99 19 194 ...\n",
      " $ Wind   : num  7.4 8 12.6 11.5 14.3 14.9 8.6 13.8 20.1 8.6 ...\n",
      " $ Temp   : int  67 72 74 62 56 66 65 59 61 69 ...\n",
      " $ Month  : int  5 5 5 5 5 5 5 5 5 5 ...\n",
      " $ Day    : int  1 2 3 4 5 6 7 8 9 10 ...\n"
     ]
    }
   ],
   "source": [
    "str(airquality)"
   ]
  },
  {
   "cell_type": "code",
   "execution_count": 11,
   "metadata": {},
   "outputs": [
    {
     "name": "stdout",
     "output_type": "stream",
     "text": [
      " num [1:10, 1:10] 1.191 -0.0643 -0.1383 -0.6727 -1.3256 ...\n"
     ]
    }
   ],
   "source": [
    "m <- matrix(rnorm(100), 10, 10)\n",
    "str(m)"
   ]
  },
  {
   "cell_type": "code",
   "execution_count": 12,
   "metadata": {},
   "outputs": [
    {
     "data": {
      "text/html": [
       "<ol class=list-inline>\n",
       "\t<li>1.19102960829627</li>\n",
       "\t<li>-0.064337000123881</li>\n",
       "\t<li>-0.138260759342271</li>\n",
       "\t<li>-0.672697314560416</li>\n",
       "\t<li>-1.32556132789793</li>\n",
       "\t<li>0.807358303433603</li>\n",
       "\t<li>1.38717368429994</li>\n",
       "\t<li>0.596029453322963</li>\n",
       "\t<li>0.71835876318013</li>\n",
       "\t<li>0.0832433852887676</li>\n",
       "</ol>\n"
      ],
      "text/latex": [
       "\\begin{enumerate*}\n",
       "\\item 1.19102960829627\n",
       "\\item -0.064337000123881\n",
       "\\item -0.138260759342271\n",
       "\\item -0.672697314560416\n",
       "\\item -1.32556132789793\n",
       "\\item 0.807358303433603\n",
       "\\item 1.38717368429994\n",
       "\\item 0.596029453322963\n",
       "\\item 0.71835876318013\n",
       "\\item 0.0832433852887676\n",
       "\\end{enumerate*}\n"
      ],
      "text/markdown": [
       "1. 1.19102960829627\n",
       "2. -0.064337000123881\n",
       "3. -0.138260759342271\n",
       "4. -0.672697314560416\n",
       "5. -1.32556132789793\n",
       "6. 0.807358303433603\n",
       "7. 1.38717368429994\n",
       "8. 0.596029453322963\n",
       "9. 0.71835876318013\n",
       "10. 0.0832433852887676\n",
       "\n",
       "\n"
      ],
      "text/plain": [
       " [1]  1.19102961 -0.06433700 -0.13826076 -0.67269731 -1.32556133  0.80735830\n",
       " [7]  1.38717368  0.59602945  0.71835876  0.08324339"
      ]
     },
     "metadata": {},
     "output_type": "display_data"
    }
   ],
   "source": [
    "m[,1]"
   ]
  },
  {
   "cell_type": "code",
   "execution_count": 14,
   "metadata": {},
   "outputs": [
    {
     "name": "stdout",
     "output_type": "stream",
     "text": [
      "List of 5\n",
      " $ 5:'data.frame':\t31 obs. of  6 variables:\n",
      "  ..$ Ozone  : int [1:31] 41 36 12 18 NA 28 23 19 8 NA ...\n",
      "  ..$ Solar.R: int [1:31] 190 118 149 313 NA NA 299 99 19 194 ...\n",
      "  ..$ Wind   : num [1:31] 7.4 8 12.6 11.5 14.3 14.9 8.6 13.8 20.1 8.6 ...\n",
      "  ..$ Temp   : int [1:31] 67 72 74 62 56 66 65 59 61 69 ...\n",
      "  ..$ Month  : int [1:31] 5 5 5 5 5 5 5 5 5 5 ...\n",
      "  ..$ Day    : int [1:31] 1 2 3 4 5 6 7 8 9 10 ...\n",
      " $ 6:'data.frame':\t30 obs. of  6 variables:\n",
      "  ..$ Ozone  : int [1:30] NA NA NA NA NA NA 29 NA 71 39 ...\n",
      "  ..$ Solar.R: int [1:30] 286 287 242 186 220 264 127 273 291 323 ...\n",
      "  ..$ Wind   : num [1:30] 8.6 9.7 16.1 9.2 8.6 14.3 9.7 6.9 13.8 11.5 ...\n",
      "  ..$ Temp   : int [1:30] 78 74 67 84 85 79 82 87 90 87 ...\n",
      "  ..$ Month  : int [1:30] 6 6 6 6 6 6 6 6 6 6 ...\n",
      "  ..$ Day    : int [1:30] 1 2 3 4 5 6 7 8 9 10 ...\n",
      " $ 7:'data.frame':\t31 obs. of  6 variables:\n",
      "  ..$ Ozone  : int [1:31] 135 49 32 NA 64 40 77 97 97 85 ...\n",
      "  ..$ Solar.R: int [1:31] 269 248 236 101 175 314 276 267 272 175 ...\n",
      "  ..$ Wind   : num [1:31] 4.1 9.2 9.2 10.9 4.6 10.9 5.1 6.3 5.7 7.4 ...\n",
      "  ..$ Temp   : int [1:31] 84 85 81 84 83 83 88 92 92 89 ...\n",
      "  ..$ Month  : int [1:31] 7 7 7 7 7 7 7 7 7 7 ...\n",
      "  ..$ Day    : int [1:31] 1 2 3 4 5 6 7 8 9 10 ...\n",
      " $ 8:'data.frame':\t31 obs. of  6 variables:\n",
      "  ..$ Ozone  : int [1:31] 39 9 16 78 35 66 122 89 110 NA ...\n",
      "  ..$ Solar.R: int [1:31] 83 24 77 NA NA NA 255 229 207 222 ...\n",
      "  ..$ Wind   : num [1:31] 6.9 13.8 7.4 6.9 7.4 4.6 4 10.3 8 8.6 ...\n",
      "  ..$ Temp   : int [1:31] 81 81 82 86 85 87 89 90 90 92 ...\n",
      "  ..$ Month  : int [1:31] 8 8 8 8 8 8 8 8 8 8 ...\n",
      "  ..$ Day    : int [1:31] 1 2 3 4 5 6 7 8 9 10 ...\n",
      " $ 9:'data.frame':\t30 obs. of  6 variables:\n",
      "  ..$ Ozone  : int [1:30] 96 78 73 91 47 32 20 23 21 24 ...\n",
      "  ..$ Solar.R: int [1:30] 167 197 183 189 95 92 252 220 230 259 ...\n",
      "  ..$ Wind   : num [1:30] 6.9 5.1 2.8 4.6 7.4 15.5 10.9 10.3 10.9 9.7 ...\n",
      "  ..$ Temp   : int [1:30] 91 92 93 93 87 84 80 78 75 73 ...\n",
      "  ..$ Month  : int [1:30] 9 9 9 9 9 9 9 9 9 9 ...\n",
      "  ..$ Day    : int [1:30] 1 2 3 4 5 6 7 8 9 10 ...\n"
     ]
    }
   ],
   "source": [
    "s <- split(airquality, airquality$Month)\n",
    "str(s)"
   ]
  },
  {
   "cell_type": "markdown",
   "metadata": {},
   "source": [
    "---\n",
    "# Simulation\n",
    "\n",
    "* `rnorm`: generate random normal variates with a given mean and standard deviation;\n",
    "* `dnorm`: evaluate the normal probability density (with a given mean/SD) at a point (or vector of points);\n",
    "* `pnorm`: evaluate the cumulative distribution function for a normal distribution;\n",
    "* `rpois`: generate random Poisson variates with a given rate.\n",
    "\n",
    "## Generating random numbers\n",
    "\n",
    "> Probability distribution functions usually have four functions associated with them. The functions are prefixed with \"a\".\n",
    "\n",
    "* `d` for density;\n",
    "* `r` for random number generation;\n",
    "* `p` for cumulative distribution;\n",
    "* `q` for quantile function.\n",
    "\n",
    "> Working with the Normal distributions requires using these four functions:"
   ]
  },
  {
   "cell_type": "code",
   "execution_count": 15,
   "metadata": {
    "scrolled": true
   },
   "outputs": [
    {
     "data": {
      "text/html": [
       "<ol class=list-inline>\n",
       "\t<li>1.14973524579636e-05</li>\n",
       "\t<li>0.355659310521016</li>\n",
       "\t<li>0.008037872058757</li>\n",
       "\t<li>0.0575752215780966</li>\n",
       "\t<li>0.242685290935305</li>\n",
       "\t<li>5.51976863540028e-07</li>\n",
       "\t<li>0.35050508352961</li>\n",
       "\t<li>0.391353053340149</li>\n",
       "\t<li>0.249686295586252</li>\n",
       "\t<li>0.163150722092042</li>\n",
       "\t<li>0.00400375626385738</li>\n",
       "\t<li>1.39293875042915e-15</li>\n",
       "\t<li>0.281770414385402</li>\n",
       "\t<li>2.12022947137383e-15</li>\n",
       "\t<li>0.0612109017797801</li>\n",
       "\t<li>1.48700460721755e-07</li>\n",
       "\t<li>0.0394731815121898</li>\n",
       "\t<li>0.000579308281883627</li>\n",
       "\t<li>0.000224122199911837</li>\n",
       "\t<li>7.44455775774704e-07</li>\n",
       "\t<li>0.326788371200719</li>\n",
       "\t<li>0.0430149213517916</li>\n",
       "\t<li>1.97406011916476e-07</li>\n",
       "\t<li>7.84564607011825e-05</li>\n",
       "\t<li>3.39420645970651e-05</li>\n",
       "\t<li>0.346215130167209</li>\n",
       "\t<li>0.00104857023113689</li>\n",
       "\t<li>5.70634095750881e-47</li>\n",
       "\t<li>0.02382905902428</li>\n",
       "\t<li>3.69712239481463e-16</li>\n",
       "\t<li>0.398862797300562</li>\n",
       "\t<li>2.15869755632447e-11</li>\n",
       "\t<li>0.000136885456132171</li>\n",
       "\t<li>1.51318569244755e-05</li>\n",
       "\t<li>0.188157761376483</li>\n",
       "\t<li>2.99978121363376e-09</li>\n",
       "\t<li>0.189445382478263</li>\n",
       "\t<li>0.000157851917390668</li>\n",
       "\t<li>0.351548596841948</li>\n",
       "\t<li>0.386085920440948</li>\n",
       "\t<li>0.000974350373616582</li>\n",
       "\t<li>7.74556516165993e-08</li>\n",
       "\t<li>0.00839675142072272</li>\n",
       "\t<li>0.00376841178372279</li>\n",
       "\t<li>0.0247399634900417</li>\n",
       "\t<li>3.05173197823752e-05</li>\n",
       "\t<li>1.08471902881677e-12</li>\n",
       "\t<li>0.390040680387755</li>\n",
       "\t<li>1.38773626594611e-17</li>\n",
       "\t<li>0.356105353782096</li>\n",
       "\t<li>0.178071294846866</li>\n",
       "\t<li>0.0235852565242178</li>\n",
       "\t<li>0.00199530346055231</li>\n",
       "\t<li>2.40601277722755e-17</li>\n",
       "\t<li>0.022992568890454</li>\n",
       "\t<li>1.49112972482903e-13</li>\n",
       "\t<li>0.294420363101187</li>\n",
       "\t<li>1.35292132504e-07</li>\n",
       "\t<li>6.22637664687318e-07</li>\n",
       "\t<li>2.91359811446318e-12</li>\n",
       "\t<li>2.25217397275856e-14</li>\n",
       "\t<li>0.328503829299311</li>\n",
       "\t<li>0.127823370913045</li>\n",
       "\t<li>0.103390244080125</li>\n",
       "\t<li>6.24437006638287e-19</li>\n",
       "\t<li>0.210389664373981</li>\n",
       "\t<li>0.307280165822082</li>\n",
       "\t<li>3.70004268651527e-06</li>\n",
       "\t<li>0.0730131360695733</li>\n",
       "\t<li>0.266237805008748</li>\n",
       "\t<li>0.00166666360355935</li>\n",
       "\t<li>0.0302226176355007</li>\n",
       "\t<li>0.369089307608857</li>\n",
       "\t<li>0.154507918778286</li>\n",
       "\t<li>1.73073193393378e-05</li>\n",
       "\t<li>0.192009443953682</li>\n",
       "\t<li>4.0252990895019e-07</li>\n",
       "\t<li>0.00245733044855911</li>\n",
       "\t<li>0.001154147296505</li>\n",
       "\t<li>0.378811087307772</li>\n",
       "\t<li>8.10484470602315e-10</li>\n",
       "\t<li>0.00581836621781774</li>\n",
       "\t<li>0.398055530240952</li>\n",
       "\t<li>0.0958700859943892</li>\n",
       "\t<li>0.395517589862073</li>\n",
       "\t<li>0.000349354296969168</li>\n",
       "\t<li>0.0911987930496991</li>\n",
       "\t<li>6.46305328129336e-09</li>\n",
       "\t<li>0.383084417780974</li>\n",
       "\t<li>1.82431949812994e-08</li>\n",
       "\t<li>0.398010998752062</li>\n",
       "\t<li>0.217186675735811</li>\n",
       "\t<li>0.0134015687073539</li>\n",
       "\t<li>0.030345490252362</li>\n",
       "\t<li>7.19095692143859e-24</li>\n",
       "\t<li>7.89224468515669e-15</li>\n",
       "\t<li>0.237215478185922</li>\n",
       "\t<li>0.000149936175446919</li>\n",
       "\t<li>0.106145358964847</li>\n",
       "\t<li>0.0358542443108436</li>\n",
       "</ol>\n"
      ],
      "text/latex": [
       "\\begin{enumerate*}\n",
       "\\item 1.14973524579636e-05\n",
       "\\item 0.355659310521016\n",
       "\\item 0.008037872058757\n",
       "\\item 0.0575752215780966\n",
       "\\item 0.242685290935305\n",
       "\\item 5.51976863540028e-07\n",
       "\\item 0.35050508352961\n",
       "\\item 0.391353053340149\n",
       "\\item 0.249686295586252\n",
       "\\item 0.163150722092042\n",
       "\\item 0.00400375626385738\n",
       "\\item 1.39293875042915e-15\n",
       "\\item 0.281770414385402\n",
       "\\item 2.12022947137383e-15\n",
       "\\item 0.0612109017797801\n",
       "\\item 1.48700460721755e-07\n",
       "\\item 0.0394731815121898\n",
       "\\item 0.000579308281883627\n",
       "\\item 0.000224122199911837\n",
       "\\item 7.44455775774704e-07\n",
       "\\item 0.326788371200719\n",
       "\\item 0.0430149213517916\n",
       "\\item 1.97406011916476e-07\n",
       "\\item 7.84564607011825e-05\n",
       "\\item 3.39420645970651e-05\n",
       "\\item 0.346215130167209\n",
       "\\item 0.00104857023113689\n",
       "\\item 5.70634095750881e-47\n",
       "\\item 0.02382905902428\n",
       "\\item 3.69712239481463e-16\n",
       "\\item 0.398862797300562\n",
       "\\item 2.15869755632447e-11\n",
       "\\item 0.000136885456132171\n",
       "\\item 1.51318569244755e-05\n",
       "\\item 0.188157761376483\n",
       "\\item 2.99978121363376e-09\n",
       "\\item 0.189445382478263\n",
       "\\item 0.000157851917390668\n",
       "\\item 0.351548596841948\n",
       "\\item 0.386085920440948\n",
       "\\item 0.000974350373616582\n",
       "\\item 7.74556516165993e-08\n",
       "\\item 0.00839675142072272\n",
       "\\item 0.00376841178372279\n",
       "\\item 0.0247399634900417\n",
       "\\item 3.05173197823752e-05\n",
       "\\item 1.08471902881677e-12\n",
       "\\item 0.390040680387755\n",
       "\\item 1.38773626594611e-17\n",
       "\\item 0.356105353782096\n",
       "\\item 0.178071294846866\n",
       "\\item 0.0235852565242178\n",
       "\\item 0.00199530346055231\n",
       "\\item 2.40601277722755e-17\n",
       "\\item 0.022992568890454\n",
       "\\item 1.49112972482903e-13\n",
       "\\item 0.294420363101187\n",
       "\\item 1.35292132504e-07\n",
       "\\item 6.22637664687318e-07\n",
       "\\item 2.91359811446318e-12\n",
       "\\item 2.25217397275856e-14\n",
       "\\item 0.328503829299311\n",
       "\\item 0.127823370913045\n",
       "\\item 0.103390244080125\n",
       "\\item 6.24437006638287e-19\n",
       "\\item 0.210389664373981\n",
       "\\item 0.307280165822082\n",
       "\\item 3.70004268651527e-06\n",
       "\\item 0.0730131360695733\n",
       "\\item 0.266237805008748\n",
       "\\item 0.00166666360355935\n",
       "\\item 0.0302226176355007\n",
       "\\item 0.369089307608857\n",
       "\\item 0.154507918778286\n",
       "\\item 1.73073193393378e-05\n",
       "\\item 0.192009443953682\n",
       "\\item 4.0252990895019e-07\n",
       "\\item 0.00245733044855911\n",
       "\\item 0.001154147296505\n",
       "\\item 0.378811087307772\n",
       "\\item 8.10484470602315e-10\n",
       "\\item 0.00581836621781774\n",
       "\\item 0.398055530240952\n",
       "\\item 0.0958700859943892\n",
       "\\item 0.395517589862073\n",
       "\\item 0.000349354296969168\n",
       "\\item 0.0911987930496991\n",
       "\\item 6.46305328129336e-09\n",
       "\\item 0.383084417780974\n",
       "\\item 1.82431949812994e-08\n",
       "\\item 0.398010998752062\n",
       "\\item 0.217186675735811\n",
       "\\item 0.0134015687073539\n",
       "\\item 0.030345490252362\n",
       "\\item 7.19095692143859e-24\n",
       "\\item 7.89224468515669e-15\n",
       "\\item 0.237215478185922\n",
       "\\item 0.000149936175446919\n",
       "\\item 0.106145358964847\n",
       "\\item 0.0358542443108436\n",
       "\\end{enumerate*}\n"
      ],
      "text/markdown": [
       "1. 1.14973524579636e-05\n",
       "2. 0.355659310521016\n",
       "3. 0.008037872058757\n",
       "4. 0.0575752215780966\n",
       "5. 0.242685290935305\n",
       "6. 5.51976863540028e-07\n",
       "7. 0.35050508352961\n",
       "8. 0.391353053340149\n",
       "9. 0.249686295586252\n",
       "10. 0.163150722092042\n",
       "11. 0.00400375626385738\n",
       "12. 1.39293875042915e-15\n",
       "13. 0.281770414385402\n",
       "14. 2.12022947137383e-15\n",
       "15. 0.0612109017797801\n",
       "16. 1.48700460721755e-07\n",
       "17. 0.0394731815121898\n",
       "18. 0.000579308281883627\n",
       "19. 0.000224122199911837\n",
       "20. 7.44455775774704e-07\n",
       "21. 0.326788371200719\n",
       "22. 0.0430149213517916\n",
       "23. 1.97406011916476e-07\n",
       "24. 7.84564607011825e-05\n",
       "25. 3.39420645970651e-05\n",
       "26. 0.346215130167209\n",
       "27. 0.00104857023113689\n",
       "28. 5.70634095750881e-47\n",
       "29. 0.02382905902428\n",
       "30. 3.69712239481463e-16\n",
       "31. 0.398862797300562\n",
       "32. 2.15869755632447e-11\n",
       "33. 0.000136885456132171\n",
       "34. 1.51318569244755e-05\n",
       "35. 0.188157761376483\n",
       "36. 2.99978121363376e-09\n",
       "37. 0.189445382478263\n",
       "38. 0.000157851917390668\n",
       "39. 0.351548596841948\n",
       "40. 0.386085920440948\n",
       "41. 0.000974350373616582\n",
       "42. 7.74556516165993e-08\n",
       "43. 0.00839675142072272\n",
       "44. 0.00376841178372279\n",
       "45. 0.0247399634900417\n",
       "46. 3.05173197823752e-05\n",
       "47. 1.08471902881677e-12\n",
       "48. 0.390040680387755\n",
       "49. 1.38773626594611e-17\n",
       "50. 0.356105353782096\n",
       "51. 0.178071294846866\n",
       "52. 0.0235852565242178\n",
       "53. 0.00199530346055231\n",
       "54. 2.40601277722755e-17\n",
       "55. 0.022992568890454\n",
       "56. 1.49112972482903e-13\n",
       "57. 0.294420363101187\n",
       "58. 1.35292132504e-07\n",
       "59. 6.22637664687318e-07\n",
       "60. 2.91359811446318e-12\n",
       "61. 2.25217397275856e-14\n",
       "62. 0.328503829299311\n",
       "63. 0.127823370913045\n",
       "64. 0.103390244080125\n",
       "65. 6.24437006638287e-19\n",
       "66. 0.210389664373981\n",
       "67. 0.307280165822082\n",
       "68. 3.70004268651527e-06\n",
       "69. 0.0730131360695733\n",
       "70. 0.266237805008748\n",
       "71. 0.00166666360355935\n",
       "72. 0.0302226176355007\n",
       "73. 0.369089307608857\n",
       "74. 0.154507918778286\n",
       "75. 1.73073193393378e-05\n",
       "76. 0.192009443953682\n",
       "77. 4.0252990895019e-07\n",
       "78. 0.00245733044855911\n",
       "79. 0.001154147296505\n",
       "80. 0.378811087307772\n",
       "81. 8.10484470602315e-10\n",
       "82. 0.00581836621781774\n",
       "83. 0.398055530240952\n",
       "84. 0.0958700859943892\n",
       "85. 0.395517589862073\n",
       "86. 0.000349354296969168\n",
       "87. 0.0911987930496991\n",
       "88. 6.46305328129336e-09\n",
       "89. 0.383084417780974\n",
       "90. 1.82431949812994e-08\n",
       "91. 0.398010998752062\n",
       "92. 0.217186675735811\n",
       "93. 0.0134015687073539\n",
       "94. 0.030345490252362\n",
       "95. 7.19095692143859e-24\n",
       "96. 7.89224468515669e-15\n",
       "97. 0.237215478185922\n",
       "98. 0.000149936175446919\n",
       "99. 0.106145358964847\n",
       "100. 0.0358542443108436\n",
       "\n",
       "\n"
      ],
      "text/plain": [
       "  [1] 1.149735e-05 3.556593e-01 8.037872e-03 5.757522e-02 2.426853e-01\n",
       "  [6] 5.519769e-07 3.505051e-01 3.913531e-01 2.496863e-01 1.631507e-01\n",
       " [11] 4.003756e-03 1.392939e-15 2.817704e-01 2.120229e-15 6.121090e-02\n",
       " [16] 1.487005e-07 3.947318e-02 5.793083e-04 2.241222e-04 7.444558e-07\n",
       " [21] 3.267884e-01 4.301492e-02 1.974060e-07 7.845646e-05 3.394206e-05\n",
       " [26] 3.462151e-01 1.048570e-03 5.706341e-47 2.382906e-02 3.697122e-16\n",
       " [31] 3.988628e-01 2.158698e-11 1.368855e-04 1.513186e-05 1.881578e-01\n",
       " [36] 2.999781e-09 1.894454e-01 1.578519e-04 3.515486e-01 3.860859e-01\n",
       " [41] 9.743504e-04 7.745565e-08 8.396751e-03 3.768412e-03 2.473996e-02\n",
       " [46] 3.051732e-05 1.084719e-12 3.900407e-01 1.387736e-17 3.561054e-01\n",
       " [51] 1.780713e-01 2.358526e-02 1.995303e-03 2.406013e-17 2.299257e-02\n",
       " [56] 1.491130e-13 2.944204e-01 1.352921e-07 6.226377e-07 2.913598e-12\n",
       " [61] 2.252174e-14 3.285038e-01 1.278234e-01 1.033902e-01 6.244370e-19\n",
       " [66] 2.103897e-01 3.072802e-01 3.700043e-06 7.301314e-02 2.662378e-01\n",
       " [71] 1.666664e-03 3.022262e-02 3.690893e-01 1.545079e-01 1.730732e-05\n",
       " [76] 1.920094e-01 4.025299e-07 2.457330e-03 1.154147e-03 3.788111e-01\n",
       " [81] 8.104845e-10 5.818366e-03 3.980555e-01 9.587009e-02 3.955176e-01\n",
       " [86] 3.493543e-04 9.119879e-02 6.463053e-09 3.830844e-01 1.824319e-08\n",
       " [91] 3.980110e-01 2.171867e-01 1.340157e-02 3.034549e-02 7.190957e-24\n",
       " [96] 7.892245e-15 2.372155e-01 1.499362e-04 1.061454e-01 3.585424e-02"
      ]
     },
     "metadata": {},
     "output_type": "display_data"
    },
    {
     "ename": "ERROR",
     "evalue": "Error in pnorm(q, mean = 0, sd = 1, lower.tail = TRUE, log.p = FALSE): Non-numeric argument to mathematical function\n",
     "output_type": "error",
     "traceback": [
      "Error in pnorm(q, mean = 0, sd = 1, lower.tail = TRUE, log.p = FALSE): Non-numeric argument to mathematical function\nTraceback:\n",
      "1. pnorm(q, mean = 0, sd = 1, lower.tail = TRUE, log.p = FALSE)"
     ]
    }
   ],
   "source": [
    "dnorm(x, mean=0, sd=1, log=FALSE)\n",
    "pnorm(q, mean=0, sd=1, lower.tail=TRUE, log.p=FALSE)\n",
    "qnorm(p, mean=0, sd=1, lower.tail=TRUE, log.p=FALSE)\n",
    "rnorm(n, mean=0, sd=1)"
   ]
  },
  {
   "cell_type": "markdown",
   "metadata": {},
   "source": [
    "> If sigma is the cumulativve distribution function for a standard Normal distribution, then pnorm(q)=sigm(q and qnorm(p)=sigma^-1 (p)"
   ]
  },
  {
   "cell_type": "code",
   "execution_count": 17,
   "metadata": {},
   "outputs": [
    {
     "data": {
      "text/html": [
       "<ol class=list-inline>\n",
       "\t<li>2.09808194803025</li>\n",
       "\t<li>-0.782675581991668</li>\n",
       "\t<li>-0.894369796560372</li>\n",
       "\t<li>0.965455023811529</li>\n",
       "\t<li>-1.09630921887807</li>\n",
       "\t<li>0.680987752913808</li>\n",
       "\t<li>-0.619989207071938</li>\n",
       "\t<li>-0.892322373309721</li>\n",
       "\t<li>0.276994630701146</li>\n",
       "\t<li>-0.279382832149242</li>\n",
       "</ol>\n"
      ],
      "text/latex": [
       "\\begin{enumerate*}\n",
       "\\item 2.09808194803025\n",
       "\\item -0.782675581991668\n",
       "\\item -0.894369796560372\n",
       "\\item 0.965455023811529\n",
       "\\item -1.09630921887807\n",
       "\\item 0.680987752913808\n",
       "\\item -0.619989207071938\n",
       "\\item -0.892322373309721\n",
       "\\item 0.276994630701146\n",
       "\\item -0.279382832149242\n",
       "\\end{enumerate*}\n"
      ],
      "text/markdown": [
       "1. 2.09808194803025\n",
       "2. -0.782675581991668\n",
       "3. -0.894369796560372\n",
       "4. 0.965455023811529\n",
       "5. -1.09630921887807\n",
       "6. 0.680987752913808\n",
       "7. -0.619989207071938\n",
       "8. -0.892322373309721\n",
       "9. 0.276994630701146\n",
       "10. -0.279382832149242\n",
       "\n",
       "\n"
      ],
      "text/plain": [
       " [1]  2.0980819 -0.7826756 -0.8943698  0.9654550 -1.0963092  0.6809878\n",
       " [7] -0.6199892 -0.8923224  0.2769946 -0.2793828"
      ]
     },
     "metadata": {},
     "output_type": "display_data"
    }
   ],
   "source": [
    "x <- rnorm(10)\n",
    "x"
   ]
  },
  {
   "cell_type": "code",
   "execution_count": 18,
   "metadata": {},
   "outputs": [
    {
     "data": {
      "text/html": [
       "<ol class=list-inline>\n",
       "\t<li>19.1217718835206</li>\n",
       "\t<li>18.0668505079765</li>\n",
       "\t<li>20.6260714040852</li>\n",
       "\t<li>20.3382175454842</li>\n",
       "\t<li>17.222718676564</li>\n",
       "\t<li>21.3650766450867</li>\n",
       "\t<li>22.4995496823891</li>\n",
       "\t<li>19.2295895252813</li>\n",
       "\t<li>15.9006733952766</li>\n",
       "\t<li>20.3126566041095</li>\n",
       "</ol>\n"
      ],
      "text/latex": [
       "\\begin{enumerate*}\n",
       "\\item 19.1217718835206\n",
       "\\item 18.0668505079765\n",
       "\\item 20.6260714040852\n",
       "\\item 20.3382175454842\n",
       "\\item 17.222718676564\n",
       "\\item 21.3650766450867\n",
       "\\item 22.4995496823891\n",
       "\\item 19.2295895252813\n",
       "\\item 15.9006733952766\n",
       "\\item 20.3126566041095\n",
       "\\end{enumerate*}\n"
      ],
      "text/markdown": [
       "1. 19.1217718835206\n",
       "2. 18.0668505079765\n",
       "3. 20.6260714040852\n",
       "4. 20.3382175454842\n",
       "5. 17.222718676564\n",
       "6. 21.3650766450867\n",
       "7. 22.4995496823891\n",
       "8. 19.2295895252813\n",
       "9. 15.9006733952766\n",
       "10. 20.3126566041095\n",
       "\n",
       "\n"
      ],
      "text/plain": [
       " [1] 19.12177 18.06685 20.62607 20.33822 17.22272 21.36508 22.49955 19.22959\n",
       " [9] 15.90067 20.31266"
      ]
     },
     "metadata": {},
     "output_type": "display_data"
    }
   ],
   "source": [
    "x <- rnorm(10, 20, 2)\n",
    "x"
   ]
  },
  {
   "cell_type": "code",
   "execution_count": 19,
   "metadata": {},
   "outputs": [
    {
     "data": {
      "text/plain": [
       "   Min. 1st Qu.  Median    Mean 3rd Qu.    Max. \n",
       "  15.90   18.33   19.77   19.47   20.55   22.50 "
      ]
     },
     "metadata": {},
     "output_type": "display_data"
    }
   ],
   "source": [
    "summary(x)"
   ]
  },
  {
   "cell_type": "markdown",
   "metadata": {},
   "source": [
    "> Setting the random number seed with `set.seed` ensures reproducibility."
   ]
  },
  {
   "cell_type": "code",
   "execution_count": 20,
   "metadata": {},
   "outputs": [
    {
     "data": {
      "text/html": [
       "<ol class=list-inline>\n",
       "\t<li>-0.626453810742332</li>\n",
       "\t<li>0.183643324222082</li>\n",
       "\t<li>-0.835628612410047</li>\n",
       "\t<li>1.59528080213779</li>\n",
       "\t<li>0.329507771815361</li>\n",
       "</ol>\n"
      ],
      "text/latex": [
       "\\begin{enumerate*}\n",
       "\\item -0.626453810742332\n",
       "\\item 0.183643324222082\n",
       "\\item -0.835628612410047\n",
       "\\item 1.59528080213779\n",
       "\\item 0.329507771815361\n",
       "\\end{enumerate*}\n"
      ],
      "text/markdown": [
       "1. -0.626453810742332\n",
       "2. 0.183643324222082\n",
       "3. -0.835628612410047\n",
       "4. 1.59528080213779\n",
       "5. 0.329507771815361\n",
       "\n",
       "\n"
      ],
      "text/plain": [
       "[1] -0.6264538  0.1836433 -0.8356286  1.5952808  0.3295078"
      ]
     },
     "metadata": {},
     "output_type": "display_data"
    }
   ],
   "source": [
    "set.seed(1)\n",
    "rnorm(5)"
   ]
  },
  {
   "cell_type": "code",
   "execution_count": 21,
   "metadata": {},
   "outputs": [
    {
     "data": {
      "text/html": [
       "<ol class=list-inline>\n",
       "\t<li>-0.820468384118015</li>\n",
       "\t<li>0.487429052428485</li>\n",
       "\t<li>0.738324705129217</li>\n",
       "\t<li>0.575781351653492</li>\n",
       "\t<li>-0.305388387156356</li>\n",
       "</ol>\n"
      ],
      "text/latex": [
       "\\begin{enumerate*}\n",
       "\\item -0.820468384118015\n",
       "\\item 0.487429052428485\n",
       "\\item 0.738324705129217\n",
       "\\item 0.575781351653492\n",
       "\\item -0.305388387156356\n",
       "\\end{enumerate*}\n"
      ],
      "text/markdown": [
       "1. -0.820468384118015\n",
       "2. 0.487429052428485\n",
       "3. 0.738324705129217\n",
       "4. 0.575781351653492\n",
       "5. -0.305388387156356\n",
       "\n",
       "\n"
      ],
      "text/plain": [
       "[1] -0.8204684  0.4874291  0.7383247  0.5757814 -0.3053884"
      ]
     },
     "metadata": {},
     "output_type": "display_data"
    }
   ],
   "source": [
    "rnorm(5)"
   ]
  },
  {
   "cell_type": "code",
   "execution_count": 22,
   "metadata": {},
   "outputs": [
    {
     "data": {
      "text/html": [
       "<ol class=list-inline>\n",
       "\t<li>-0.626453810742332</li>\n",
       "\t<li>0.183643324222082</li>\n",
       "\t<li>-0.835628612410047</li>\n",
       "\t<li>1.59528080213779</li>\n",
       "\t<li>0.329507771815361</li>\n",
       "</ol>\n"
      ],
      "text/latex": [
       "\\begin{enumerate*}\n",
       "\\item -0.626453810742332\n",
       "\\item 0.183643324222082\n",
       "\\item -0.835628612410047\n",
       "\\item 1.59528080213779\n",
       "\\item 0.329507771815361\n",
       "\\end{enumerate*}\n"
      ],
      "text/markdown": [
       "1. -0.626453810742332\n",
       "2. 0.183643324222082\n",
       "3. -0.835628612410047\n",
       "4. 1.59528080213779\n",
       "5. 0.329507771815361\n",
       "\n",
       "\n"
      ],
      "text/plain": [
       "[1] -0.6264538  0.1836433 -0.8356286  1.5952808  0.3295078"
      ]
     },
     "metadata": {},
     "output_type": "display_data"
    }
   ],
   "source": [
    "set.seed(1)\n",
    "rnorm(5)"
   ]
  },
  {
   "cell_type": "markdown",
   "metadata": {},
   "source": [
    "> Generating Poisson data"
   ]
  },
  {
   "cell_type": "code",
   "execution_count": 23,
   "metadata": {},
   "outputs": [
    {
     "data": {
      "text/html": [
       "<ol class=list-inline>\n",
       "\t<li>0</li>\n",
       "\t<li>0</li>\n",
       "\t<li>1</li>\n",
       "\t<li>1</li>\n",
       "\t<li>2</li>\n",
       "\t<li>1</li>\n",
       "\t<li>1</li>\n",
       "\t<li>4</li>\n",
       "\t<li>1</li>\n",
       "\t<li>2</li>\n",
       "</ol>\n"
      ],
      "text/latex": [
       "\\begin{enumerate*}\n",
       "\\item 0\n",
       "\\item 0\n",
       "\\item 1\n",
       "\\item 1\n",
       "\\item 2\n",
       "\\item 1\n",
       "\\item 1\n",
       "\\item 4\n",
       "\\item 1\n",
       "\\item 2\n",
       "\\end{enumerate*}\n"
      ],
      "text/markdown": [
       "1. 0\n",
       "2. 0\n",
       "3. 1\n",
       "4. 1\n",
       "5. 2\n",
       "6. 1\n",
       "7. 1\n",
       "8. 4\n",
       "9. 1\n",
       "10. 2\n",
       "\n",
       "\n"
      ],
      "text/plain": [
       " [1] 0 0 1 1 2 1 1 4 1 2"
      ]
     },
     "metadata": {},
     "output_type": "display_data"
    }
   ],
   "source": [
    "rpois(10, 1)"
   ]
  },
  {
   "cell_type": "code",
   "execution_count": 24,
   "metadata": {},
   "outputs": [
    {
     "data": {
      "text/html": [
       "<ol class=list-inline>\n",
       "\t<li>4</li>\n",
       "\t<li>1</li>\n",
       "\t<li>2</li>\n",
       "\t<li>0</li>\n",
       "\t<li>1</li>\n",
       "\t<li>1</li>\n",
       "\t<li>0</li>\n",
       "\t<li>1</li>\n",
       "\t<li>4</li>\n",
       "\t<li>1</li>\n",
       "</ol>\n"
      ],
      "text/latex": [
       "\\begin{enumerate*}\n",
       "\\item 4\n",
       "\\item 1\n",
       "\\item 2\n",
       "\\item 0\n",
       "\\item 1\n",
       "\\item 1\n",
       "\\item 0\n",
       "\\item 1\n",
       "\\item 4\n",
       "\\item 1\n",
       "\\end{enumerate*}\n"
      ],
      "text/markdown": [
       "1. 4\n",
       "2. 1\n",
       "3. 2\n",
       "4. 0\n",
       "5. 1\n",
       "6. 1\n",
       "7. 0\n",
       "8. 1\n",
       "9. 4\n",
       "10. 1\n",
       "\n",
       "\n"
      ],
      "text/plain": [
       " [1] 4 1 2 0 1 1 0 1 4 1"
      ]
     },
     "metadata": {},
     "output_type": "display_data"
    }
   ],
   "source": [
    "rpois(10,2)"
   ]
  },
  {
   "cell_type": "code",
   "execution_count": 25,
   "metadata": {},
   "outputs": [
    {
     "data": {
      "text/html": [
       "<ol class=list-inline>\n",
       "\t<li>19</li>\n",
       "\t<li>19</li>\n",
       "\t<li>24</li>\n",
       "\t<li>23</li>\n",
       "\t<li>22</li>\n",
       "\t<li>24</li>\n",
       "\t<li>23</li>\n",
       "\t<li>20</li>\n",
       "\t<li>11</li>\n",
       "\t<li>22</li>\n",
       "</ol>\n"
      ],
      "text/latex": [
       "\\begin{enumerate*}\n",
       "\\item 19\n",
       "\\item 19\n",
       "\\item 24\n",
       "\\item 23\n",
       "\\item 22\n",
       "\\item 24\n",
       "\\item 23\n",
       "\\item 20\n",
       "\\item 11\n",
       "\\item 22\n",
       "\\end{enumerate*}\n"
      ],
      "text/markdown": [
       "1. 19\n",
       "2. 19\n",
       "3. 24\n",
       "4. 23\n",
       "5. 22\n",
       "6. 24\n",
       "7. 23\n",
       "8. 20\n",
       "9. 11\n",
       "10. 22\n",
       "\n",
       "\n"
      ],
      "text/plain": [
       " [1] 19 19 24 23 22 24 23 20 11 22"
      ]
     },
     "metadata": {},
     "output_type": "display_data"
    }
   ],
   "source": [
    "rpois(10, 20)"
   ]
  },
  {
   "cell_type": "code",
   "execution_count": 29,
   "metadata": {},
   "outputs": [
    {
     "data": {
      "text/html": [
       "0.676676416183063"
      ],
      "text/latex": [
       "0.676676416183063"
      ],
      "text/markdown": [
       "0.676676416183063"
      ],
      "text/plain": [
       "[1] 0.6766764"
      ]
     },
     "metadata": {},
     "output_type": "display_data"
    }
   ],
   "source": [
    "ppois(2,2) # Cumulative distribution, Pr(x<=2)"
   ]
  },
  {
   "cell_type": "code",
   "execution_count": 30,
   "metadata": {},
   "outputs": [
    {
     "data": {
      "text/html": [
       "0.947346982656289"
      ],
      "text/latex": [
       "0.947346982656289"
      ],
      "text/markdown": [
       "0.947346982656289"
      ],
      "text/plain": [
       "[1] 0.947347"
      ]
     },
     "metadata": {},
     "output_type": "display_data"
    }
   ],
   "source": [
    "ppois(4,2) # Pr(x<=4)"
   ]
  },
  {
   "cell_type": "code",
   "execution_count": 31,
   "metadata": {},
   "outputs": [
    {
     "data": {
      "text/html": [
       "0.995466194473751"
      ],
      "text/latex": [
       "0.995466194473751"
      ],
      "text/markdown": [
       "0.995466194473751"
      ],
      "text/plain": [
       "[1] 0.9954662"
      ]
     },
     "metadata": {},
     "output_type": "display_data"
    }
   ],
   "source": [
    "ppois(6,2) # Pr(x<=6)"
   ]
  },
  {
   "cell_type": "markdown",
   "metadata": {},
   "source": [
    " ---\n",
    " # Generating random numbers from a linear model\n",
    " \n",
    " * Suppose we want to simulate from the following linear model\n",
    " ` y = B0 + B1 * X + E`\n",
    " \n",
    " > Where `E ~ N(0.2^2)`. Assume `x ~ N(0.1^2)`, `B0=0.5` and `B1=2`.\n"
   ]
  },
  {
   "cell_type": "code",
   "execution_count": 32,
   "metadata": {},
   "outputs": [
    {
     "data": {
      "text/plain": [
       "   Min. 1st Qu.  Median    Mean 3rd Qu.    Max. \n",
       "-6.4084 -1.5402  0.6789  0.6893  2.9303  6.5052 "
      ]
     },
     "metadata": {},
     "output_type": "display_data"
    },
    {
     "data": {
      "image/png": "[encoded data removed]",
      "text/plain": [
       "plot without title"
      ]
     },
     "metadata": {},
     "output_type": "display_data"
    }
   ],
   "source": [
    "set.seed(20)\n",
    "x <- rnorm(100)\n",
    "e <- rnorm(100,0,2)\n",
    "y <- 0.5+2*x+e\n",
    "summary(y)\n",
    "plot(x, y)"
   ]
  },
  {
   "cell_type": "markdown",
   "metadata": {},
   "source": [
    "> What if x is binary?"
   ]
  },
  {
   "cell_type": "code",
   "execution_count": 33,
   "metadata": {},
   "outputs": [
    {
     "data": {
      "text/plain": [
       "   Min. 1st Qu.  Median    Mean 3rd Qu.    Max. \n",
       "-3.4936 -0.1409  1.5767  1.4322  2.8397  6.9410 "
      ]
     },
     "metadata": {},
     "output_type": "display_data"
    },
    {
     "data": {
      "image/png": "[encoded data removed]",
      "text/plain": [
       "plot without title"
      ]
     },
     "metadata": {},
     "output_type": "display_data"
    }
   ],
   "source": [
    "set.seed(10)\n",
    "x <- rbinom(100, 1, 0.5)\n",
    "e <- rnorm(100, 0, 2)\n",
    "y <- 0.5 + 2 * x + e\n",
    "summary(y)\n",
    "plot(x, y)"
   ]
  },
  {
   "cell_type": "markdown",
   "metadata": {},
   "source": [
    "> Suppose we want to simulate from a Poisson model where\n",
    "\n",
    "* Y ~ Poisson(Delta);\n",
    "* log Delta = B0 + B1 * x;\n",
    "* and B0=0.5 and B1=0.3. We need to use the `rpois` function for this."
   ]
  },
  {
   "cell_type": "code",
   "execution_count": 66,
   "metadata": {},
   "outputs": [
    {
     "data": {
      "text/plain": [
       "   Min. 1st Qu.  Median    Mean 3rd Qu.    Max. \n",
       "   0.00    1.00    1.00    1.55    2.00    6.00 "
      ]
     },
     "metadata": {},
     "output_type": "display_data"
    },
    {
     "data": {
      "image/png": "[encoded data removed]",
      "text/plain": [
       "plot without title"
      ]
     },
     "metadata": {},
     "output_type": "display_data"
    }
   ],
   "source": [
    "set.seed(1)\n",
    "x <- rnorm(100)\n",
    "log.mu <- 0.5 + 0.3 * x\n",
    "y <- rpois(100, exp(log.mu))\n",
    "summary(y)\n",
    "plot(x, y)"
   ]
  },
  {
   "cell_type": "markdown",
   "metadata": {},
   "source": [
    "---\n",
    "# Random sampling\n",
    "\n",
    "* The `sample()` function draws dandomly from a specified set of (scalar) objects allowing you to sample from arbitrary distributions."
   ]
  },
  {
   "cell_type": "code",
   "execution_count": 67,
   "metadata": {},
   "outputs": [
    {
     "data": {
      "text/html": [
       "<ol class=list-inline>\n",
       "\t<li>3</li>\n",
       "\t<li>4</li>\n",
       "\t<li>5</li>\n",
       "\t<li>7</li>\n",
       "</ol>\n"
      ],
      "text/latex": [
       "\\begin{enumerate*}\n",
       "\\item 3\n",
       "\\item 4\n",
       "\\item 5\n",
       "\\item 7\n",
       "\\end{enumerate*}\n"
      ],
      "text/markdown": [
       "1. 3\n",
       "2. 4\n",
       "3. 5\n",
       "4. 7\n",
       "\n",
       "\n"
      ],
      "text/plain": [
       "[1] 3 4 5 7"
      ]
     },
     "metadata": {},
     "output_type": "display_data"
    }
   ],
   "source": [
    "set.seed(1)\n",
    "sample(1:10, 4)"
   ]
  },
  {
   "cell_type": "code",
   "execution_count": 68,
   "metadata": {},
   "outputs": [
    {
     "data": {
      "text/html": [
       "<ol class=list-inline>\n",
       "\t<li>3</li>\n",
       "\t<li>9</li>\n",
       "\t<li>8</li>\n",
       "\t<li>5</li>\n",
       "</ol>\n"
      ],
      "text/latex": [
       "\\begin{enumerate*}\n",
       "\\item 3\n",
       "\\item 9\n",
       "\\item 8\n",
       "\\item 5\n",
       "\\end{enumerate*}\n"
      ],
      "text/markdown": [
       "1. 3\n",
       "2. 9\n",
       "3. 8\n",
       "4. 5\n",
       "\n",
       "\n"
      ],
      "text/plain": [
       "[1] 3 9 8 5"
      ]
     },
     "metadata": {},
     "output_type": "display_data"
    }
   ],
   "source": [
    "sample(1:10, 4)"
   ]
  },
  {
   "cell_type": "code",
   "execution_count": 69,
   "metadata": {},
   "outputs": [
    {
     "data": {
      "text/html": [
       "<ol class=list-inline>\n",
       "\t<li>'q'</li>\n",
       "\t<li>'b'</li>\n",
       "\t<li>'e'</li>\n",
       "\t<li>'x'</li>\n",
       "</ol>\n"
      ],
      "text/latex": [
       "\\begin{enumerate*}\n",
       "\\item 'q'\n",
       "\\item 'b'\n",
       "\\item 'e'\n",
       "\\item 'x'\n",
       "\\end{enumerate*}\n"
      ],
      "text/markdown": [
       "1. 'q'\n",
       "2. 'b'\n",
       "3. 'e'\n",
       "4. 'x'\n",
       "\n",
       "\n"
      ],
      "text/plain": [
       "[1] \"q\" \"b\" \"e\" \"x\""
      ]
     },
     "metadata": {},
     "output_type": "display_data"
    }
   ],
   "source": [
    "sample(letters, 4)"
   ]
  },
  {
   "cell_type": "code",
   "execution_count": 70,
   "metadata": {},
   "outputs": [
    {
     "data": {
      "text/html": [
       "<ol class=list-inline>\n",
       "\t<li>7</li>\n",
       "\t<li>4</li>\n",
       "\t<li>10</li>\n",
       "\t<li>9</li>\n",
       "\t<li>5</li>\n",
       "\t<li>6</li>\n",
       "\t<li>2</li>\n",
       "\t<li>3</li>\n",
       "\t<li>8</li>\n",
       "\t<li>1</li>\n",
       "</ol>\n"
      ],
      "text/latex": [
       "\\begin{enumerate*}\n",
       "\\item 7\n",
       "\\item 4\n",
       "\\item 10\n",
       "\\item 9\n",
       "\\item 5\n",
       "\\item 6\n",
       "\\item 2\n",
       "\\item 3\n",
       "\\item 8\n",
       "\\item 1\n",
       "\\end{enumerate*}\n"
      ],
      "text/markdown": [
       "1. 7\n",
       "2. 4\n",
       "3. 10\n",
       "4. 9\n",
       "5. 5\n",
       "6. 6\n",
       "7. 2\n",
       "8. 3\n",
       "9. 8\n",
       "10. 1\n",
       "\n",
       "\n"
      ],
      "text/plain": [
       " [1]  7  4 10  9  5  6  2  3  8  1"
      ]
     },
     "metadata": {},
     "output_type": "display_data"
    }
   ],
   "source": [
    "sample(1:10) # permutation"
   ]
  },
  {
   "cell_type": "code",
   "execution_count": 71,
   "metadata": {},
   "outputs": [
    {
     "data": {
      "text/html": [
       "<ol class=list-inline>\n",
       "\t<li>7</li>\n",
       "\t<li>2</li>\n",
       "\t<li>3</li>\n",
       "\t<li>8</li>\n",
       "\t<li>1</li>\n",
       "\t<li>9</li>\n",
       "\t<li>4</li>\n",
       "\t<li>5</li>\n",
       "\t<li>6</li>\n",
       "\t<li>10</li>\n",
       "</ol>\n"
      ],
      "text/latex": [
       "\\begin{enumerate*}\n",
       "\\item 7\n",
       "\\item 2\n",
       "\\item 3\n",
       "\\item 8\n",
       "\\item 1\n",
       "\\item 9\n",
       "\\item 4\n",
       "\\item 5\n",
       "\\item 6\n",
       "\\item 10\n",
       "\\end{enumerate*}\n"
      ],
      "text/markdown": [
       "1. 7\n",
       "2. 2\n",
       "3. 3\n",
       "4. 8\n",
       "5. 1\n",
       "6. 9\n",
       "7. 4\n",
       "8. 5\n",
       "9. 6\n",
       "10. 10\n",
       "\n",
       "\n"
      ],
      "text/plain": [
       " [1]  7  2  3  8  1  9  4  5  6 10"
      ]
     },
     "metadata": {},
     "output_type": "display_data"
    }
   ],
   "source": [
    "sample(1:10)"
   ]
  },
  {
   "cell_type": "code",
   "execution_count": 72,
   "metadata": {},
   "outputs": [
    {
     "data": {
      "text/html": [
       "<ol class=list-inline>\n",
       "\t<li>5</li>\n",
       "\t<li>2</li>\n",
       "\t<li>9</li>\n",
       "\t<li>7</li>\n",
       "\t<li>8</li>\n",
       "\t<li>2</li>\n",
       "\t<li>8</li>\n",
       "\t<li>5</li>\n",
       "\t<li>9</li>\n",
       "\t<li>7</li>\n",
       "</ol>\n"
      ],
      "text/latex": [
       "\\begin{enumerate*}\n",
       "\\item 5\n",
       "\\item 2\n",
       "\\item 9\n",
       "\\item 7\n",
       "\\item 8\n",
       "\\item 2\n",
       "\\item 8\n",
       "\\item 5\n",
       "\\item 9\n",
       "\\item 7\n",
       "\\end{enumerate*}\n"
      ],
      "text/markdown": [
       "1. 5\n",
       "2. 2\n",
       "3. 9\n",
       "4. 7\n",
       "5. 8\n",
       "6. 2\n",
       "7. 8\n",
       "8. 5\n",
       "9. 9\n",
       "10. 7\n",
       "\n",
       "\n"
      ],
      "text/plain": [
       " [1] 5 2 9 7 8 2 8 5 9 7"
      ]
     },
     "metadata": {},
     "output_type": "display_data"
    }
   ],
   "source": [
    "sample(1:10, replace=TRUE) # Sample w/replacement"
   ]
  },
  {
   "cell_type": "markdown",
   "metadata": {},
   "source": [
    "## Simulation - summary\n",
    "\n",
    "* Drawing samples from specific probability distributions can be done with `r*` functions;\n",
    "* Standard distributions are built in: Normal, Poisson, Binomial, Exponential, Gamma, etc;\n",
    "* The `sample()` function can be used to draw random samples from arbitrary vectors;\n",
    "* Setting the random number generator seed via `set.seed()` is critical for reproducibility."
   ]
  },
  {
   "cell_type": "markdown",
   "metadata": {},
   "source": [
    "---\n",
    "# Profiling R code\n",
    "\n",
    "## Why is my code so slow?\n",
    "\n",
    "* Profiling is a systematic way to examine how much time is spend in different parts of a program;\n",
    "* Useful when trying to optimize your code;\n",
    "* Often code runs fine once, but what if you have to put it in a loop for 1,000 iterations? Is it still fast enough?\n",
    "* Profiling is better than guessing.\n",
    "\n",
    "## On optimizing your code\n",
    "\n",
    "* Getting biggest impact on speeding up code depends on knowing  where the code spends most of its time;\n",
    "* This cannot be done without performance analysis or profiling;\n",
    "* We should forget about small efficiencies, say about 97% of the time: premature optimization is the root of all evil (Donald Knuth).\n",
    "\n",
    "## Using `system.time()`\n",
    "\n",
    "* Takes an arbitrary R expression as input (can be wrapped in curly braces) and returns the amount of time taken to evaluate the expression.\n",
    "* Computes the time (in seconds) needed to execute an expression;\n",
    "\n",
    "> If there's an erro, gives time until the error occurred\n",
    "\n",
    "* Returns an object of class `proc_time`\n",
    "\n",
    "> **user time**: time charged to the CPU(s) for this expression;\n",
    "\n",
    "> **elapsed time**: \"wall clock\" time\n",
    "\n",
    "* Usually, the user time and elapsed time are relatively close, for straight computing tasks;\n",
    "* Elapsed time may be greater than usert time if the CPU spends a lot of time waiting around;\n",
    "* Elapsted time may be smaller than the user time if your machine has multiple cores/processors (and is capable of using them);\n",
    "\n",
    "> Multi-threaded BLAS libraries (vecLib/Accelerate, ATLAS, ACML, MKL);\n",
    "\n",
    "> Parallel processing via the **parallel** package."
   ]
  },
  {
   "cell_type": "code",
   "execution_count": 73,
   "metadata": {},
   "outputs": [
    {
     "data": {
      "text/plain": [
       "   user  system elapsed \n",
       "  0.044   0.008   4.852 "
      ]
     },
     "metadata": {},
     "output_type": "display_data"
    }
   ],
   "source": [
    "## Elapsed time > user time\n",
    "system.time(readLines(\"http://www.jhsph.edu\"))"
   ]
  },
  {
   "cell_type": "code",
   "execution_count": 74,
   "metadata": {},
   "outputs": [
    {
     "data": {
      "text/plain": [
       "   user  system elapsed \n",
       "  2.540   0.004   2.543 "
      ]
     },
     "metadata": {},
     "output_type": "display_data"
    }
   ],
   "source": [
    "## Elapsed time < user time\n",
    "hilbert <- function(n) {\n",
    "    i <- 1:n\n",
    "    1/outer(i-1,i,\"+\")\n",
    "}\n",
    "x <- hilbert(1000)\n",
    "system.time(svd(x))"
   ]
  },
  {
   "cell_type": "code",
   "execution_count": 75,
   "metadata": {},
   "outputs": [
    {
     "data": {
      "text/plain": [
       "   user  system elapsed \n",
       "  0.064   0.000   0.065 "
      ]
     },
     "metadata": {},
     "output_type": "display_data"
    }
   ],
   "source": [
    "system.time({\n",
    "    n <- 1000\n",
    "    r <- numeric(n)\n",
    "    for (i in 1:n) {\n",
    "        x <- rnorm(n)\n",
    "        r[i] <- mean(x)\n",
    "    }\n",
    "})"
   ]
  },
  {
   "cell_type": "markdown",
   "metadata": {},
   "source": [
    "## Beyond `system.time()`\n",
    "\n",
    "* Using `system.time()` allows you to test certain functions or code blocks to see if they are taking excessive amounts of time;\n",
    "* Assumes you already know where the problem is and can call `system.time()` on it;\n",
    "* What if you don't know where to start?"
   ]
  },
  {
   "cell_type": "markdown",
   "metadata": {},
   "source": [
    "---\n",
    "# The R profiler\n",
    "\n",
    "* The `Rprof()` function starts the profiler in R;\n",
    "\n",
    "> R must be compiled with profiler support (but this is usually the case).\n",
    "\n",
    "* The `summaryRprof()` function summarizes the output from `Rprof` (otherwise it's not readable);\n",
    "* DO NOT use `system.time()` and `Rprof()` together or you will be sad;\n",
    "* `Rprof()` keeps track of the function call stack at regularly sempled intervals and tabulates how much time is spend in each function;\n",
    "* Default sampling interval is 0.02 seconds;\n",
    "* NOTE: If your code runs very quickly, the profiler is not useful, but then you probably don't need it in that case."
   ]
  },
  {
   "cell_type": "code",
   "execution_count": 76,
   "metadata": {},
   "outputs": [],
   "source": [
    "## lm(y ~ x)\n",
    "\n",
    "sample.interval=10000"
   ]
  },
  {
   "cell_type": "markdown",
   "metadata": {},
   "source": [
    "## Using `summaryRprof()`\n",
    "\n",
    "* The `summaryRprof()` function tabulates the R profiler output and calculates how much time is spend in which function;\n",
    "* There are two methods for normalizing the data;\n",
    "* `by.total` divides the time spend in each function by the total run time;\n",
    "* `by.self` does the same but first substracts out time spent in functions above in the call stack."
   ]
  },
  {
   "cell_type": "code",
   "execution_count": 77,
   "metadata": {},
   "outputs": [
    {
     "ename": "ERROR",
     "evalue": "Error in parse(text = x, srcfile = src): <text>:1:1: unexpected '$'\n1: $\n    ^\n",
     "output_type": "error",
     "traceback": [
      "Error in parse(text = x, srcfile = src): <text>:1:1: unexpected '$'\n1: $\n    ^\nTraceback:\n"
     ]
    }
   ],
   "source": [
    "$by.total"
   ]
  },
  {
   "cell_type": "code",
   "execution_count": null,
   "metadata": {},
   "outputs": [],
   "source": [
    "$by.self"
   ]
  },
  {
   "cell_type": "markdown",
   "metadata": {},
   "source": [
    "## `summaryRprof()` output"
   ]
  },
  {
   "cell_type": "code",
   "execution_count": 64,
   "metadata": {},
   "outputs": [
    {
     "ename": "ERROR",
     "evalue": "Error in parse(text = x, srcfile = src): <text>:1:1: unexpected '$'\n1: $\n    ^\n",
     "output_type": "error",
     "traceback": [
      "Error in parse(text = x, srcfile = src): <text>:1:1: unexpected '$'\n1: $\n    ^\nTraceback:\n"
     ]
    }
   ],
   "source": [
    "$sample.interval"
   ]
  },
  {
   "cell_type": "code",
   "execution_count": 65,
   "metadata": {},
   "outputs": [
    {
     "ename": "ERROR",
     "evalue": "Error in parse(text = x, srcfile = src): <text>:1:1: unexpected '$'\n1: $\n    ^\n",
     "output_type": "error",
     "traceback": [
      "Error in parse(text = x, srcfile = src): <text>:1:1: unexpected '$'\n1: $\n    ^\nTraceback:\n"
     ]
    }
   ],
   "source": [
    "$sampling.time"
   ]
  },
  {
   "cell_type": "markdown",
   "metadata": {},
   "source": [
    "## Summary\n",
    "\n",
    "* `Rprof()` runs the profiler for performance of analysis of R code;\n",
    "* `summaryRprof()` summarizes the output of `Rprof()` and gives percent of time spent in each function (with two types of normalization);\n",
    "* Good to break your code into functions so that the profiler can give useful information about  where time is being spent;\n",
    "* C or Fortran code is not profiled."
   ]
  },
  {
   "cell_type": "code",
   "execution_count": null,
   "metadata": {},
   "outputs": [],
   "source": []
  }
 ],
 "metadata": {
  "kernelspec": {
   "display_name": "R 3.4.2",
   "language": "R",
   "name": "ir33"
  },
  "language_info": {
   "codemirror_mode": "r",
   "file_extension": ".r",
   "mimetype": "text/x-r-source",
   "name": "R",
   "pygments_lexer": "r",
   "version": "3.4.4"
  }
 },
 "nbformat": 4,
 "nbformat_minor": 2
}
