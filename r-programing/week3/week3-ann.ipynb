{
 "cells": [
  {
   "cell_type": "markdown",
   "metadata": {},
   "source": [
    "# Loop functions - `lapply()` and `sapply()`\n",
    "\n",
    "* Writing `for`, `while` loops is useful when programming but not particularly easy when working interactively on the command line;\n",
    "* There are some functions which implement looping to make life easier.\n",
    "\n",
    "\n",
    "1. `lapply()`: Loop over a list and evaluate a function on each element;\n",
    "2. `sapply()`: Same as `lapply()` but try to simplify the result;\n",
    "3. `apply()`: Apply a function over the margins of an array;\n",
    "4. `tapply()`: Apply a function over subsets of a vector;\n",
    "5. `mapply()`: Multivariate version of `lapply()`.\n",
    "\n",
    "\n",
    "* An auxiliary function `split()` is also useful, particularly in conjunction with `lapply()`.\n",
    "\n",
    "## `lapply()`\n",
    "\n",
    "* It takes three arguments: (1) **a list x**, (2) **a function** (or the name of a function) FUN, (3) **other arguments** via its argument;\n",
    "* If **x** is not a list, it will be coerced to a list using `as.list()`;\n",
    "* The actual looping is done internally in C code.\n"
   ]
  },
  {
   "cell_type": "code",
   "execution_count": 1,
   "metadata": {},
   "outputs": [
    {
     "data": {
      "text/html": [
       "<pre class=language-r><code>function (X, FUN, ...) \n",
       "{\n",
       "<span style=white-space:pre-wrap>    FUN &lt;- match.fun(FUN)</span>\n",
       "<span style=white-space:pre-wrap>    if (!is.vector(X) || is.object(X)) </span>\n",
       "<span style=white-space:pre-wrap>        X &lt;- as.list(X)</span>\n",
       "<span style=white-space:pre-wrap>    .Internal(lapply(X, FUN))</span>\n",
       "}</code></pre>"
      ],
      "text/latex": [
       "\\begin{minted}{r}\n",
       "function (X, FUN, ...) \n",
       "\\{\n",
       "    FUN <- match.fun(FUN)\n",
       "    if (!is.vector(X) \\textbar{}\\textbar{} is.object(X)) \n",
       "        X <- as.list(X)\n",
       "    .Internal(lapply(X, FUN))\n",
       "\\}\n",
       "\\end{minted}"
      ],
      "text/markdown": [
       "```r\n",
       "function (X, FUN, ...) \n",
       "{\n",
       "    FUN <- match.fun(FUN)\n",
       "    if (!is.vector(X) || is.object(X)) \n",
       "        X <- as.list(X)\n",
       "    .Internal(lapply(X, FUN))\n",
       "}\n",
       "```"
      ],
      "text/plain": [
       "function (X, FUN, ...) \n",
       "{\n",
       "    FUN <- match.fun(FUN)\n",
       "    if (!is.vector(X) || is.object(X)) \n",
       "        X <- as.list(X)\n",
       "    .Internal(lapply(X, FUN))\n",
       "}\n",
       "<bytecode: 0x17c7cd8>\n",
       "<environment: namespace:base>"
      ]
     },
     "metadata": {},
     "output_type": "display_data"
    }
   ],
   "source": [
    "lapply"
   ]
  },
  {
   "cell_type": "markdown",
   "metadata": {},
   "source": [
    "* It always returns a list, regardless of the class of the input."
   ]
  },
  {
   "cell_type": "code",
   "execution_count": 2,
   "metadata": {},
   "outputs": [
    {
     "data": {
      "text/html": [
       "<dl>\n",
       "\t<dt>$a</dt>\n",
       "\t\t<dd><ol class=list-inline>\n",
       "\t<li>1</li>\n",
       "\t<li>2</li>\n",
       "\t<li>3</li>\n",
       "\t<li>4</li>\n",
       "\t<li>5</li>\n",
       "</ol>\n",
       "</dd>\n",
       "\t<dt>$b</dt>\n",
       "\t\t<dd><ol class=list-inline>\n",
       "\t<li>0.346377333761392</li>\n",
       "\t<li>0.374012713733223</li>\n",
       "\t<li>-0.335321184830704</li>\n",
       "\t<li>-0.123272540865281</li>\n",
       "\t<li>-0.716513569751668</li>\n",
       "\t<li>1.41987657076658</li>\n",
       "\t<li>-0.604431982071018</li>\n",
       "\t<li>-1.56002277812268</li>\n",
       "\t<li>-0.680300920143678</li>\n",
       "\t<li>0.618445464399335</li>\n",
       "</ol>\n",
       "</dd>\n",
       "</dl>\n"
      ],
      "text/latex": [
       "\\begin{description}\n",
       "\\item[\\$a] \\begin{enumerate*}\n",
       "\\item 1\n",
       "\\item 2\n",
       "\\item 3\n",
       "\\item 4\n",
       "\\item 5\n",
       "\\end{enumerate*}\n",
       "\n",
       "\\item[\\$b] \\begin{enumerate*}\n",
       "\\item 0.346377333761392\n",
       "\\item 0.374012713733223\n",
       "\\item -0.335321184830704\n",
       "\\item -0.123272540865281\n",
       "\\item -0.716513569751668\n",
       "\\item 1.41987657076658\n",
       "\\item -0.604431982071018\n",
       "\\item -1.56002277812268\n",
       "\\item -0.680300920143678\n",
       "\\item 0.618445464399335\n",
       "\\end{enumerate*}\n",
       "\n",
       "\\end{description}\n"
      ],
      "text/markdown": [
       "$a\n",
       ":   1. 1\n",
       "2. 2\n",
       "3. 3\n",
       "4. 4\n",
       "5. 5\n",
       "\n",
       "\n",
       "\n",
       "$b\n",
       ":   1. 0.346377333761392\n",
       "2. 0.374012713733223\n",
       "3. -0.335321184830704\n",
       "4. -0.123272540865281\n",
       "5. -0.716513569751668\n",
       "6. 1.41987657076658\n",
       "7. -0.604431982071018\n",
       "8. -1.56002277812268\n",
       "9. -0.680300920143678\n",
       "10. 0.618445464399335\n",
       "\n",
       "\n",
       "\n",
       "\n",
       "\n"
      ],
      "text/plain": [
       "$a\n",
       "[1] 1 2 3 4 5\n",
       "\n",
       "$b\n",
       " [1]  0.3463773  0.3740127 -0.3353212 -0.1232725 -0.7165136  1.4198766\n",
       " [7] -0.6044320 -1.5600228 -0.6803009  0.6184455\n"
      ]
     },
     "metadata": {},
     "output_type": "display_data"
    },
    {
     "data": {
      "text/html": [
       "<dl>\n",
       "\t<dt>$a</dt>\n",
       "\t\t<dd>3</dd>\n",
       "\t<dt>$b</dt>\n",
       "\t\t<dd>-0.12611508931245</dd>\n",
       "</dl>\n"
      ],
      "text/latex": [
       "\\begin{description}\n",
       "\\item[\\$a] 3\n",
       "\\item[\\$b] -0.12611508931245\n",
       "\\end{description}\n"
      ],
      "text/markdown": [
       "$a\n",
       ":   3\n",
       "$b\n",
       ":   -0.12611508931245\n",
       "\n",
       "\n"
      ],
      "text/plain": [
       "$a\n",
       "[1] 3\n",
       "\n",
       "$b\n",
       "[1] -0.1261151\n"
      ]
     },
     "metadata": {},
     "output_type": "display_data"
    }
   ],
   "source": [
    "x <- list(a=1:5, b=rnorm(10))\n",
    "x\n",
    "lapply(x, mean)"
   ]
  },
  {
   "cell_type": "code",
   "execution_count": 3,
   "metadata": {
    "scrolled": true
   },
   "outputs": [
    {
     "data": {
      "text/html": [
       "<dl>\n",
       "\t<dt>$a</dt>\n",
       "\t\t<dd><ol class=list-inline>\n",
       "\t<li>1</li>\n",
       "\t<li>2</li>\n",
       "\t<li>3</li>\n",
       "\t<li>4</li>\n",
       "</ol>\n",
       "</dd>\n",
       "\t<dt>$b</dt>\n",
       "\t\t<dd><ol class=list-inline>\n",
       "\t<li>1.5946823796687</li>\n",
       "\t<li>0.166378430334041</li>\n",
       "\t<li>0.165699180900486</li>\n",
       "\t<li>-0.976603557829877</li>\n",
       "\t<li>0.560061176655241</li>\n",
       "\t<li>2.18608082574116</li>\n",
       "\t<li>0.207429553791678</li>\n",
       "\t<li>-0.0252097272138166</li>\n",
       "\t<li>0.644227746492414</li>\n",
       "\t<li>1.08429708963119</li>\n",
       "</ol>\n",
       "</dd>\n",
       "\t<dt>$c</dt>\n",
       "\t\t<dd><ol class=list-inline>\n",
       "\t<li>1.15165658859889</li>\n",
       "\t<li>0.214236624825639</li>\n",
       "\t<li>0.740203638128074</li>\n",
       "\t<li>1.47520627087949</li>\n",
       "\t<li>-0.583604369283263</li>\n",
       "\t<li>2.66121246738701</li>\n",
       "\t<li>-0.212573934343113</li>\n",
       "\t<li>2.12525904181157</li>\n",
       "\t<li>2.97734950930563</li>\n",
       "\t<li>-0.343767896239644</li>\n",
       "\t<li>-0.21849266087835</li>\n",
       "\t<li>1.9344724651736</li>\n",
       "\t<li>0.689532728798729</li>\n",
       "\t<li>0.330704231819479</li>\n",
       "\t<li>2.32243184643518</li>\n",
       "\t<li>1.73266484003032</li>\n",
       "\t<li>0.665642793069684</li>\n",
       "\t<li>2.15840145500263</li>\n",
       "\t<li>-1.15414672567716</li>\n",
       "\t<li>0.495227033709987</li>\n",
       "</ol>\n",
       "</dd>\n",
       "\t<dt>$d</dt>\n",
       "\t\t<dd><ol class=list-inline>\n",
       "\t<li>4.71973567259107</li>\n",
       "\t<li>3.96803812763896</li>\n",
       "\t<li>4.3257747360776</li>\n",
       "\t<li>5.21962078595467</li>\n",
       "\t<li>5.45542350058295</li>\n",
       "\t<li>5.70206051250353</li>\n",
       "\t<li>5.45848016721633</li>\n",
       "\t<li>3.85379261967798</li>\n",
       "\t<li>5.3198027138798</li>\n",
       "\t<li>5.43366227497826</li>\n",
       "\t<li>4.7556755494398</li>\n",
       "\t<li>4.74892982207904</li>\n",
       "\t<li>5.36264817680317</li>\n",
       "\t<li>5.05297047630654</li>\n",
       "\t<li>5.01206301247367</li>\n",
       "\t<li>4.98566988053886</li>\n",
       "\t<li>4.60066269549976</li>\n",
       "\t<li>6.2125632895064</li>\n",
       "\t<li>4.51614555329603</li>\n",
       "\t<li>4.63811128260737</li>\n",
       "\t<li>5.31913071992372</li>\n",
       "\t<li>3.59694680493621</li>\n",
       "\t<li>5.54557033562281</li>\n",
       "\t<li>5.67774938181027</li>\n",
       "\t<li>4.46340334687952</li>\n",
       "\t<li>4.98307807152743</li>\n",
       "\t<li>4.09340568867539</li>\n",
       "\t<li>6.34225462985105</li>\n",
       "\t<li>4.8072519345385</li>\n",
       "\t<li>5.28425403550032</li>\n",
       "\t<li>3.79635103853425</li>\n",
       "\t<li>4.8353829258301</li>\n",
       "\t<li>5.21946779531128</li>\n",
       "\t<li>5.52548253596181</li>\n",
       "\t<li>4.66964547647114</li>\n",
       "\t<li>5.99294928660688</li>\n",
       "\t<li>3.20307949262072</li>\n",
       "\t<li>4.34040257438863</li>\n",
       "\t<li>4.32487505958253</li>\n",
       "\t<li>4.27288224581815</li>\n",
       "\t<li>4.63386930092725</li>\n",
       "\t<li>4.44265088069225</li>\n",
       "\t<li>4.11508168296005</li>\n",
       "\t<li>3.68655292135046</li>\n",
       "\t<li>4.8899292458595</li>\n",
       "\t<li>4.98034925651991</li>\n",
       "\t<li>5.65502293096891</li>\n",
       "\t<li>4.52638659890753</li>\n",
       "\t<li>3.60781516305484</li>\n",
       "\t<li>4.98293801371729</li>\n",
       "\t<li>4.70654098706503</li>\n",
       "\t<li>4.54900144664885</li>\n",
       "\t<li>5.40091907242754</li>\n",
       "\t<li>4.42008225126292</li>\n",
       "\t<li>4.0789860295574</li>\n",
       "\t<li>5.66746922301799</li>\n",
       "\t<li>2.81000998883985</li>\n",
       "\t<li>5.52151333609779</li>\n",
       "\t<li>2.2520190905083</li>\n",
       "\t<li>5.44434702474071</li>\n",
       "\t<li>5.44264996788981</li>\n",
       "\t<li>5.04716605686661</li>\n",
       "\t<li>7.32397540781369</li>\n",
       "\t<li>5.69652448658867</li>\n",
       "\t<li>5.71994831754846</li>\n",
       "\t<li>4.12618776382082</li>\n",
       "\t<li>5.90592456587676</li>\n",
       "\t<li>2.33461239769941</li>\n",
       "\t<li>3.69857386590337</li>\n",
       "\t<li>4.9967664880777</li>\n",
       "\t<li>6.23769017337279</li>\n",
       "\t<li>5.35772412985294</li>\n",
       "\t<li>4.64114631648484</li>\n",
       "\t<li>4.83332316280107</li>\n",
       "\t<li>4.46457794286991</li>\n",
       "\t<li>4.7666840216361</li>\n",
       "\t<li>5.3250931834045</li>\n",
       "\t<li>5.68482716173083</li>\n",
       "\t<li>4.31688853490323</li>\n",
       "\t<li>4.98681541494892</li>\n",
       "\t<li>5.2403430815599</li>\n",
       "\t<li>4.19980552888902</li>\n",
       "\t<li>5.04200042014073</li>\n",
       "\t<li>5.56276957952146</li>\n",
       "\t<li>6.78535600620366</li>\n",
       "\t<li>4.46262525641844</li>\n",
       "\t<li>5.53704332791472</li>\n",
       "\t<li>4.34472377926837</li>\n",
       "\t<li>4.89538513877091</li>\n",
       "\t<li>5.22736902208321</li>\n",
       "\t<li>4.36094053428458</li>\n",
       "\t<li>6.27883971008731</li>\n",
       "\t<li>4.50763359345922</li>\n",
       "\t<li>6.06162219538606</li>\n",
       "\t<li>5.01440763101144</li>\n",
       "\t<li>4.53599060349369</li>\n",
       "\t<li>5.97471940511941</li>\n",
       "\t<li>6.71063848508301</li>\n",
       "\t<li>4.01471361515263</li>\n",
       "\t<li>4.2174786165602</li>\n",
       "</ol>\n",
       "</dd>\n",
       "</dl>\n"
      ],
      "text/latex": [
       "\\begin{description}\n",
       "\\item[\\$a] \\begin{enumerate*}\n",
       "\\item 1\n",
       "\\item 2\n",
       "\\item 3\n",
       "\\item 4\n",
       "\\end{enumerate*}\n",
       "\n",
       "\\item[\\$b] \\begin{enumerate*}\n",
       "\\item 1.5946823796687\n",
       "\\item 0.166378430334041\n",
       "\\item 0.165699180900486\n",
       "\\item -0.976603557829877\n",
       "\\item 0.560061176655241\n",
       "\\item 2.18608082574116\n",
       "\\item 0.207429553791678\n",
       "\\item -0.0252097272138166\n",
       "\\item 0.644227746492414\n",
       "\\item 1.08429708963119\n",
       "\\end{enumerate*}\n",
       "\n",
       "\\item[\\$c] \\begin{enumerate*}\n",
       "\\item 1.15165658859889\n",
       "\\item 0.214236624825639\n",
       "\\item 0.740203638128074\n",
       "\\item 1.47520627087949\n",
       "\\item -0.583604369283263\n",
       "\\item 2.66121246738701\n",
       "\\item -0.212573934343113\n",
       "\\item 2.12525904181157\n",
       "\\item 2.97734950930563\n",
       "\\item -0.343767896239644\n",
       "\\item -0.21849266087835\n",
       "\\item 1.9344724651736\n",
       "\\item 0.689532728798729\n",
       "\\item 0.330704231819479\n",
       "\\item 2.32243184643518\n",
       "\\item 1.73266484003032\n",
       "\\item 0.665642793069684\n",
       "\\item 2.15840145500263\n",
       "\\item -1.15414672567716\n",
       "\\item 0.495227033709987\n",
       "\\end{enumerate*}\n",
       "\n",
       "\\item[\\$d] \\begin{enumerate*}\n",
       "\\item 4.71973567259107\n",
       "\\item 3.96803812763896\n",
       "\\item 4.3257747360776\n",
       "\\item 5.21962078595467\n",
       "\\item 5.45542350058295\n",
       "\\item 5.70206051250353\n",
       "\\item 5.45848016721633\n",
       "\\item 3.85379261967798\n",
       "\\item 5.3198027138798\n",
       "\\item 5.43366227497826\n",
       "\\item 4.7556755494398\n",
       "\\item 4.74892982207904\n",
       "\\item 5.36264817680317\n",
       "\\item 5.05297047630654\n",
       "\\item 5.01206301247367\n",
       "\\item 4.98566988053886\n",
       "\\item 4.60066269549976\n",
       "\\item 6.2125632895064\n",
       "\\item 4.51614555329603\n",
       "\\item 4.63811128260737\n",
       "\\item 5.31913071992372\n",
       "\\item 3.59694680493621\n",
       "\\item 5.54557033562281\n",
       "\\item 5.67774938181027\n",
       "\\item 4.46340334687952\n",
       "\\item 4.98307807152743\n",
       "\\item 4.09340568867539\n",
       "\\item 6.34225462985105\n",
       "\\item 4.8072519345385\n",
       "\\item 5.28425403550032\n",
       "\\item 3.79635103853425\n",
       "\\item 4.8353829258301\n",
       "\\item 5.21946779531128\n",
       "\\item 5.52548253596181\n",
       "\\item 4.66964547647114\n",
       "\\item 5.99294928660688\n",
       "\\item 3.20307949262072\n",
       "\\item 4.34040257438863\n",
       "\\item 4.32487505958253\n",
       "\\item 4.27288224581815\n",
       "\\item 4.63386930092725\n",
       "\\item 4.44265088069225\n",
       "\\item 4.11508168296005\n",
       "\\item 3.68655292135046\n",
       "\\item 4.8899292458595\n",
       "\\item 4.98034925651991\n",
       "\\item 5.65502293096891\n",
       "\\item 4.52638659890753\n",
       "\\item 3.60781516305484\n",
       "\\item 4.98293801371729\n",
       "\\item 4.70654098706503\n",
       "\\item 4.54900144664885\n",
       "\\item 5.40091907242754\n",
       "\\item 4.42008225126292\n",
       "\\item 4.0789860295574\n",
       "\\item 5.66746922301799\n",
       "\\item 2.81000998883985\n",
       "\\item 5.52151333609779\n",
       "\\item 2.2520190905083\n",
       "\\item 5.44434702474071\n",
       "\\item 5.44264996788981\n",
       "\\item 5.04716605686661\n",
       "\\item 7.32397540781369\n",
       "\\item 5.69652448658867\n",
       "\\item 5.71994831754846\n",
       "\\item 4.12618776382082\n",
       "\\item 5.90592456587676\n",
       "\\item 2.33461239769941\n",
       "\\item 3.69857386590337\n",
       "\\item 4.9967664880777\n",
       "\\item 6.23769017337279\n",
       "\\item 5.35772412985294\n",
       "\\item 4.64114631648484\n",
       "\\item 4.83332316280107\n",
       "\\item 4.46457794286991\n",
       "\\item 4.7666840216361\n",
       "\\item 5.3250931834045\n",
       "\\item 5.68482716173083\n",
       "\\item 4.31688853490323\n",
       "\\item 4.98681541494892\n",
       "\\item 5.2403430815599\n",
       "\\item 4.19980552888902\n",
       "\\item 5.04200042014073\n",
       "\\item 5.56276957952146\n",
       "\\item 6.78535600620366\n",
       "\\item 4.46262525641844\n",
       "\\item 5.53704332791472\n",
       "\\item 4.34472377926837\n",
       "\\item 4.89538513877091\n",
       "\\item 5.22736902208321\n",
       "\\item 4.36094053428458\n",
       "\\item 6.27883971008731\n",
       "\\item 4.50763359345922\n",
       "\\item 6.06162219538606\n",
       "\\item 5.01440763101144\n",
       "\\item 4.53599060349369\n",
       "\\item 5.97471940511941\n",
       "\\item 6.71063848508301\n",
       "\\item 4.01471361515263\n",
       "\\item 4.2174786165602\n",
       "\\end{enumerate*}\n",
       "\n",
       "\\end{description}\n"
      ],
      "text/markdown": [
       "$a\n",
       ":   1. 1\n",
       "2. 2\n",
       "3. 3\n",
       "4. 4\n",
       "\n",
       "\n",
       "\n",
       "$b\n",
       ":   1. 1.5946823796687\n",
       "2. 0.166378430334041\n",
       "3. 0.165699180900486\n",
       "4. -0.976603557829877\n",
       "5. 0.560061176655241\n",
       "6. 2.18608082574116\n",
       "7. 0.207429553791678\n",
       "8. -0.0252097272138166\n",
       "9. 0.644227746492414\n",
       "10. 1.08429708963119\n",
       "\n",
       "\n",
       "\n",
       "$c\n",
       ":   1. 1.15165658859889\n",
       "2. 0.214236624825639\n",
       "3. 0.740203638128074\n",
       "4. 1.47520627087949\n",
       "5. -0.583604369283263\n",
       "6. 2.66121246738701\n",
       "7. -0.212573934343113\n",
       "8. 2.12525904181157\n",
       "9. 2.97734950930563\n",
       "10. -0.343767896239644\n",
       "11. -0.21849266087835\n",
       "12. 1.9344724651736\n",
       "13. 0.689532728798729\n",
       "14. 0.330704231819479\n",
       "15. 2.32243184643518\n",
       "16. 1.73266484003032\n",
       "17. 0.665642793069684\n",
       "18. 2.15840145500263\n",
       "19. -1.15414672567716\n",
       "20. 0.495227033709987\n",
       "\n",
       "\n",
       "\n",
       "$d\n",
       ":   1. 4.71973567259107\n",
       "2. 3.96803812763896\n",
       "3. 4.3257747360776\n",
       "4. 5.21962078595467\n",
       "5. 5.45542350058295\n",
       "6. 5.70206051250353\n",
       "7. 5.45848016721633\n",
       "8. 3.85379261967798\n",
       "9. 5.3198027138798\n",
       "10. 5.43366227497826\n",
       "11. 4.7556755494398\n",
       "12. 4.74892982207904\n",
       "13. 5.36264817680317\n",
       "14. 5.05297047630654\n",
       "15. 5.01206301247367\n",
       "16. 4.98566988053886\n",
       "17. 4.60066269549976\n",
       "18. 6.2125632895064\n",
       "19. 4.51614555329603\n",
       "20. 4.63811128260737\n",
       "21. 5.31913071992372\n",
       "22. 3.59694680493621\n",
       "23. 5.54557033562281\n",
       "24. 5.67774938181027\n",
       "25. 4.46340334687952\n",
       "26. 4.98307807152743\n",
       "27. 4.09340568867539\n",
       "28. 6.34225462985105\n",
       "29. 4.8072519345385\n",
       "30. 5.28425403550032\n",
       "31. 3.79635103853425\n",
       "32. 4.8353829258301\n",
       "33. 5.21946779531128\n",
       "34. 5.52548253596181\n",
       "35. 4.66964547647114\n",
       "36. 5.99294928660688\n",
       "37. 3.20307949262072\n",
       "38. 4.34040257438863\n",
       "39. 4.32487505958253\n",
       "40. 4.27288224581815\n",
       "41. 4.63386930092725\n",
       "42. 4.44265088069225\n",
       "43. 4.11508168296005\n",
       "44. 3.68655292135046\n",
       "45. 4.8899292458595\n",
       "46. 4.98034925651991\n",
       "47. 5.65502293096891\n",
       "48. 4.52638659890753\n",
       "49. 3.60781516305484\n",
       "50. 4.98293801371729\n",
       "51. 4.70654098706503\n",
       "52. 4.54900144664885\n",
       "53. 5.40091907242754\n",
       "54. 4.42008225126292\n",
       "55. 4.0789860295574\n",
       "56. 5.66746922301799\n",
       "57. 2.81000998883985\n",
       "58. 5.52151333609779\n",
       "59. 2.2520190905083\n",
       "60. 5.44434702474071\n",
       "61. 5.44264996788981\n",
       "62. 5.04716605686661\n",
       "63. 7.32397540781369\n",
       "64. 5.69652448658867\n",
       "65. 5.71994831754846\n",
       "66. 4.12618776382082\n",
       "67. 5.90592456587676\n",
       "68. 2.33461239769941\n",
       "69. 3.69857386590337\n",
       "70. 4.9967664880777\n",
       "71. 6.23769017337279\n",
       "72. 5.35772412985294\n",
       "73. 4.64114631648484\n",
       "74. 4.83332316280107\n",
       "75. 4.46457794286991\n",
       "76. 4.7666840216361\n",
       "77. 5.3250931834045\n",
       "78. 5.68482716173083\n",
       "79. 4.31688853490323\n",
       "80. 4.98681541494892\n",
       "81. 5.2403430815599\n",
       "82. 4.19980552888902\n",
       "83. 5.04200042014073\n",
       "84. 5.56276957952146\n",
       "85. 6.78535600620366\n",
       "86. 4.46262525641844\n",
       "87. 5.53704332791472\n",
       "88. 4.34472377926837\n",
       "89. 4.89538513877091\n",
       "90. 5.22736902208321\n",
       "91. 4.36094053428458\n",
       "92. 6.27883971008731\n",
       "93. 4.50763359345922\n",
       "94. 6.06162219538606\n",
       "95. 5.01440763101144\n",
       "96. 4.53599060349369\n",
       "97. 5.97471940511941\n",
       "98. 6.71063848508301\n",
       "99. 4.01471361515263\n",
       "100. 4.2174786165602\n",
       "\n",
       "\n",
       "\n",
       "\n",
       "\n"
      ],
      "text/plain": [
       "$a\n",
       "[1] 1 2 3 4\n",
       "\n",
       "$b\n",
       " [1]  1.59468238  0.16637843  0.16569918 -0.97660356  0.56006118  2.18608083\n",
       " [7]  0.20742955 -0.02520973  0.64422775  1.08429709\n",
       "\n",
       "$c\n",
       " [1]  1.1516566  0.2142366  0.7402036  1.4752063 -0.5836044  2.6612125\n",
       " [7] -0.2125739  2.1252590  2.9773495 -0.3437679 -0.2184927  1.9344725\n",
       "[13]  0.6895327  0.3307042  2.3224318  1.7326648  0.6656428  2.1584015\n",
       "[19] -1.1541467  0.4952270\n",
       "\n",
       "$d\n",
       "  [1] 4.719736 3.968038 4.325775 5.219621 5.455424 5.702061 5.458480 3.853793\n",
       "  [9] 5.319803 5.433662 4.755676 4.748930 5.362648 5.052970 5.012063 4.985670\n",
       " [17] 4.600663 6.212563 4.516146 4.638111 5.319131 3.596947 5.545570 5.677749\n",
       " [25] 4.463403 4.983078 4.093406 6.342255 4.807252 5.284254 3.796351 4.835383\n",
       " [33] 5.219468 5.525483 4.669645 5.992949 3.203079 4.340403 4.324875 4.272882\n",
       " [41] 4.633869 4.442651 4.115082 3.686553 4.889929 4.980349 5.655023 4.526387\n",
       " [49] 3.607815 4.982938 4.706541 4.549001 5.400919 4.420082 4.078986 5.667469\n",
       " [57] 2.810010 5.521513 2.252019 5.444347 5.442650 5.047166 7.323975 5.696524\n",
       " [65] 5.719948 4.126188 5.905925 2.334612 3.698574 4.996766 6.237690 5.357724\n",
       " [73] 4.641146 4.833323 4.464578 4.766684 5.325093 5.684827 4.316889 4.986815\n",
       " [81] 5.240343 4.199806 5.042000 5.562770 6.785356 4.462625 5.537043 4.344724\n",
       " [89] 4.895385 5.227369 4.360941 6.278840 4.507634 6.061622 5.014408 4.535991\n",
       " [97] 5.974719 6.710638 4.014714 4.217479\n"
      ]
     },
     "metadata": {},
     "output_type": "display_data"
    },
    {
     "data": {
      "text/html": [
       "<dl>\n",
       "\t<dt>$a</dt>\n",
       "\t\t<dd>2.5</dd>\n",
       "\t<dt>$b</dt>\n",
       "\t\t<dd>0.560704309817121</dd>\n",
       "\t<dt>$c</dt>\n",
       "\t\t<dd>0.958080797427719</dd>\n",
       "\t<dt>$d</dt>\n",
       "\t\t<dd>4.89888383565665</dd>\n",
       "</dl>\n"
      ],
      "text/latex": [
       "\\begin{description}\n",
       "\\item[\\$a] 2.5\n",
       "\\item[\\$b] 0.560704309817121\n",
       "\\item[\\$c] 0.958080797427719\n",
       "\\item[\\$d] 4.89888383565665\n",
       "\\end{description}\n"
      ],
      "text/markdown": [
       "$a\n",
       ":   2.5\n",
       "$b\n",
       ":   0.560704309817121\n",
       "$c\n",
       ":   0.958080797427719\n",
       "$d\n",
       ":   4.89888383565665\n",
       "\n",
       "\n"
      ],
      "text/plain": [
       "$a\n",
       "[1] 2.5\n",
       "\n",
       "$b\n",
       "[1] 0.5607043\n",
       "\n",
       "$c\n",
       "[1] 0.9580808\n",
       "\n",
       "$d\n",
       "[1] 4.898884\n"
      ]
     },
     "metadata": {},
     "output_type": "display_data"
    }
   ],
   "source": [
    "x <- list(a=1:4, b=rnorm(10), c=rnorm(20,1), d=rnorm(100,5))\n",
    "x\n",
    "lapply(x, mean)"
   ]
  },
  {
   "cell_type": "code",
   "execution_count": 5,
   "metadata": {},
   "outputs": [
    {
     "data": {
      "text/html": [
       "<ol class=list-inline>\n",
       "\t<li>1</li>\n",
       "\t<li>2</li>\n",
       "\t<li>3</li>\n",
       "\t<li>4</li>\n",
       "</ol>\n"
      ],
      "text/latex": [
       "\\begin{enumerate*}\n",
       "\\item 1\n",
       "\\item 2\n",
       "\\item 3\n",
       "\\item 4\n",
       "\\end{enumerate*}\n"
      ],
      "text/markdown": [
       "1. 1\n",
       "2. 2\n",
       "3. 3\n",
       "4. 4\n",
       "\n",
       "\n"
      ],
      "text/plain": [
       "[1] 1 2 3 4"
      ]
     },
     "metadata": {},
     "output_type": "display_data"
    },
    {
     "data": {
      "text/html": [
       "<ol>\n",
       "\t<li>0.188905724557117</li>\n",
       "\t<li><ol class=list-inline>\n",
       "\t<li>0.985887030838057</li>\n",
       "\t<li>0.402220973279327</li>\n",
       "</ol>\n",
       "</li>\n",
       "\t<li><ol class=list-inline>\n",
       "\t<li>0.0173477588687092</li>\n",
       "\t<li>0.488899658201262</li>\n",
       "\t<li>0.112391841132194</li>\n",
       "</ol>\n",
       "</li>\n",
       "\t<li><ol class=list-inline>\n",
       "\t<li>0.25776355387643</li>\n",
       "\t<li>0.448654320789501</li>\n",
       "\t<li>0.257886779261753</li>\n",
       "\t<li>0.968153464607894</li>\n",
       "</ol>\n",
       "</li>\n",
       "</ol>\n"
      ],
      "text/latex": [
       "\\begin{enumerate}\n",
       "\\item 0.188905724557117\n",
       "\\item \\begin{enumerate*}\n",
       "\\item 0.985887030838057\n",
       "\\item 0.402220973279327\n",
       "\\end{enumerate*}\n",
       "\n",
       "\\item \\begin{enumerate*}\n",
       "\\item 0.0173477588687092\n",
       "\\item 0.488899658201262\n",
       "\\item 0.112391841132194\n",
       "\\end{enumerate*}\n",
       "\n",
       "\\item \\begin{enumerate*}\n",
       "\\item 0.25776355387643\n",
       "\\item 0.448654320789501\n",
       "\\item 0.257886779261753\n",
       "\\item 0.968153464607894\n",
       "\\end{enumerate*}\n",
       "\n",
       "\\end{enumerate}\n"
      ],
      "text/markdown": [
       "1. 0.188905724557117\n",
       "2. 1. 0.985887030838057\n",
       "2. 0.402220973279327\n",
       "\n",
       "\n",
       "\n",
       "3. 1. 0.0173477588687092\n",
       "2. 0.488899658201262\n",
       "3. 0.112391841132194\n",
       "\n",
       "\n",
       "\n",
       "4. 1. 0.25776355387643\n",
       "2. 0.448654320789501\n",
       "3. 0.257886779261753\n",
       "4. 0.968153464607894\n",
       "\n",
       "\n",
       "\n",
       "\n",
       "\n"
      ],
      "text/plain": [
       "[[1]]\n",
       "[1] 0.1889057\n",
       "\n",
       "[[2]]\n",
       "[1] 0.985887 0.402221\n",
       "\n",
       "[[3]]\n",
       "[1] 0.01734776 0.48889966 0.11239184\n",
       "\n",
       "[[4]]\n",
       "[1] 0.2577636 0.4486543 0.2578868 0.9681535\n"
      ]
     },
     "metadata": {},
     "output_type": "display_data"
    }
   ],
   "source": [
    "x <- 1:4\n",
    "x\n",
    "lapply(x, runif)"
   ]
  },
  {
   "cell_type": "markdown",
   "metadata": {},
   "source": [
    "* `lapply()` and friends make heavy use of *anonymous functions*"
   ]
  },
  {
   "cell_type": "code",
   "execution_count": 7,
   "metadata": {},
   "outputs": [
    {
     "data": {
      "text/html": [
       "<dl>\n",
       "\t<dt>$a</dt>\n",
       "\t\t<dd><table>\n",
       "<tbody>\n",
       "\t<tr><td>1</td><td>3</td></tr>\n",
       "\t<tr><td>2</td><td>4</td></tr>\n",
       "</tbody>\n",
       "</table>\n",
       "</dd>\n",
       "\t<dt>$b</dt>\n",
       "\t\t<dd><table>\n",
       "<tbody>\n",
       "\t<tr><td>1</td><td>4</td></tr>\n",
       "\t<tr><td>2</td><td>5</td></tr>\n",
       "\t<tr><td>3</td><td>6</td></tr>\n",
       "</tbody>\n",
       "</table>\n",
       "</dd>\n",
       "</dl>\n"
      ],
      "text/latex": [
       "\\begin{description}\n",
       "\\item[\\$a] \\begin{tabular}{ll}\n",
       "\t 1 & 3\\\\\n",
       "\t 2 & 4\\\\\n",
       "\\end{tabular}\n",
       "\n",
       "\\item[\\$b] \\begin{tabular}{ll}\n",
       "\t 1 & 4\\\\\n",
       "\t 2 & 5\\\\\n",
       "\t 3 & 6\\\\\n",
       "\\end{tabular}\n",
       "\n",
       "\\end{description}\n"
      ],
      "text/markdown": [
       "$a\n",
       ":   \n",
       "| 1 | 3 | \n",
       "| 2 | 4 | \n",
       "\n",
       "\n",
       "\n",
       "$b\n",
       ":   \n",
       "| 1 | 4 | \n",
       "| 2 | 5 | \n",
       "| 3 | 6 | \n",
       "\n",
       "\n",
       "\n",
       "\n",
       "\n"
      ],
      "text/plain": [
       "$a\n",
       "     [,1] [,2]\n",
       "[1,]    1    3\n",
       "[2,]    2    4\n",
       "\n",
       "$b\n",
       "     [,1] [,2]\n",
       "[1,]    1    4\n",
       "[2,]    2    5\n",
       "[3,]    3    6\n"
      ]
     },
     "metadata": {},
     "output_type": "display_data"
    }
   ],
   "source": [
    "x <- list(a=matrix(1:4,2,2), b=matrix(1:6,3,2))\n",
    "x"
   ]
  },
  {
   "cell_type": "markdown",
   "metadata": {},
   "source": [
    "* Example of an anonymous function for extracting the first column of each matrix:"
   ]
  },
  {
   "cell_type": "code",
   "execution_count": 8,
   "metadata": {},
   "outputs": [
    {
     "data": {
      "text/html": [
       "<dl>\n",
       "\t<dt>$a</dt>\n",
       "\t\t<dd><ol class=list-inline>\n",
       "\t<li>1</li>\n",
       "\t<li>2</li>\n",
       "</ol>\n",
       "</dd>\n",
       "\t<dt>$b</dt>\n",
       "\t\t<dd><ol class=list-inline>\n",
       "\t<li>1</li>\n",
       "\t<li>2</li>\n",
       "\t<li>3</li>\n",
       "</ol>\n",
       "</dd>\n",
       "</dl>\n"
      ],
      "text/latex": [
       "\\begin{description}\n",
       "\\item[\\$a] \\begin{enumerate*}\n",
       "\\item 1\n",
       "\\item 2\n",
       "\\end{enumerate*}\n",
       "\n",
       "\\item[\\$b] \\begin{enumerate*}\n",
       "\\item 1\n",
       "\\item 2\n",
       "\\item 3\n",
       "\\end{enumerate*}\n",
       "\n",
       "\\end{description}\n"
      ],
      "text/markdown": [
       "$a\n",
       ":   1. 1\n",
       "2. 2\n",
       "\n",
       "\n",
       "\n",
       "$b\n",
       ":   1. 1\n",
       "2. 2\n",
       "3. 3\n",
       "\n",
       "\n",
       "\n",
       "\n",
       "\n"
      ],
      "text/plain": [
       "$a\n",
       "[1] 1 2\n",
       "\n",
       "$b\n",
       "[1] 1 2 3\n"
      ]
     },
     "metadata": {},
     "output_type": "display_data"
    }
   ],
   "source": [
    "lapply(x, function(elt) elt[,1])"
   ]
  },
  {
   "cell_type": "markdown",
   "metadata": {},
   "source": [
    "## `sapply()`\n",
    "\n",
    "* It will try to simplify the result of `lapply()`if possible:\n",
    "\n",
    "\n",
    "1. If the result is a list where every element is length 1, then a vector is returned;\n",
    "2. If the result is a list where every element is a vector of the same length(>1), a matrix is returned;\n",
    "3. If it can't figure things out, a list is returned."
   ]
  },
  {
   "cell_type": "code",
   "execution_count": 9,
   "metadata": {},
   "outputs": [
    {
     "data": {
      "text/html": [
       "<dl>\n",
       "\t<dt>$a</dt>\n",
       "\t\t<dd>2.5</dd>\n",
       "\t<dt>$b</dt>\n",
       "\t\t<dd>-0.0144401704733884</dd>\n",
       "\t<dt>$c</dt>\n",
       "\t\t<dd>1.30919972397304</dd>\n",
       "\t<dt>$d</dt>\n",
       "\t\t<dd>5.05371881418342</dd>\n",
       "</dl>\n"
      ],
      "text/latex": [
       "\\begin{description}\n",
       "\\item[\\$a] 2.5\n",
       "\\item[\\$b] -0.0144401704733884\n",
       "\\item[\\$c] 1.30919972397304\n",
       "\\item[\\$d] 5.05371881418342\n",
       "\\end{description}\n"
      ],
      "text/markdown": [
       "$a\n",
       ":   2.5\n",
       "$b\n",
       ":   -0.0144401704733884\n",
       "$c\n",
       ":   1.30919972397304\n",
       "$d\n",
       ":   5.05371881418342\n",
       "\n",
       "\n"
      ],
      "text/plain": [
       "$a\n",
       "[1] 2.5\n",
       "\n",
       "$b\n",
       "[1] -0.01444017\n",
       "\n",
       "$c\n",
       "[1] 1.3092\n",
       "\n",
       "$d\n",
       "[1] 5.053719\n"
      ]
     },
     "metadata": {},
     "output_type": "display_data"
    }
   ],
   "source": [
    "x <- list(a=1:4, b=rnorm(10), c=rnorm(20,1), d=rnorm(100,5))\n",
    "lapply(x, mean)"
   ]
  },
  {
   "cell_type": "code",
   "execution_count": 12,
   "metadata": {},
   "outputs": [
    {
     "data": {
      "text/html": [
       "<dl class=dl-horizontal>\n",
       "\t<dt>a</dt>\n",
       "\t\t<dd>2.5</dd>\n",
       "\t<dt>b</dt>\n",
       "\t\t<dd>-0.0144401704733884</dd>\n",
       "\t<dt>c</dt>\n",
       "\t\t<dd>1.30919972397304</dd>\n",
       "\t<dt>d</dt>\n",
       "\t\t<dd>5.05371881418342</dd>\n",
       "</dl>\n"
      ],
      "text/latex": [
       "\\begin{description*}\n",
       "\\item[a] 2.5\n",
       "\\item[b] -0.0144401704733884\n",
       "\\item[c] 1.30919972397304\n",
       "\\item[d] 5.05371881418342\n",
       "\\end{description*}\n"
      ],
      "text/markdown": [
       "a\n",
       ":   2.5b\n",
       ":   -0.0144401704733884c\n",
       ":   1.30919972397304d\n",
       ":   5.05371881418342\n",
       "\n"
      ],
      "text/plain": [
       "          a           b           c           d \n",
       " 2.50000000 -0.01444017  1.30919972  5.05371881 "
      ]
     },
     "metadata": {},
     "output_type": "display_data"
    }
   ],
   "source": [
    "sapply(x, mean) # returns a vector"
   ]
  },
  {
   "cell_type": "code",
   "execution_count": 11,
   "metadata": {},
   "outputs": [
    {
     "name": "stderr",
     "output_type": "stream",
     "text": [
      "Warning message in mean.default(x):\n",
      "“argument is not numeric or logical: returning NA”"
     ]
    },
    {
     "data": {
      "text/html": [
       "&lt;NA&gt;"
      ],
      "text/latex": [
       "<NA>"
      ],
      "text/markdown": [
       "&lt;NA&gt;"
      ],
      "text/plain": [
       "[1] NA"
      ]
     },
     "metadata": {},
     "output_type": "display_data"
    }
   ],
   "source": [
    "mean(x)"
   ]
  },
  {
   "cell_type": "markdown",
   "metadata": {},
   "source": [
    "---\n",
    "## apply()\n",
    "\n",
    "* It is used to evaluate a function (often an anonymous one) over the margins of an array;\n",
    "* The main reasion to use it is less typing.\n",
    "\n",
    "\n",
    "1. It is most often used to apply a function to the rows or columns of a matrix;\n",
    "2. It can be used with general arrays (taking the average of an array of matrices);\n",
    "3. It is not really faster than writing a loop, but it works in one line.\n",
    "\n"
   ]
  },
  {
   "cell_type": "code",
   "execution_count": 13,
   "metadata": {},
   "outputs": [
    {
     "name": "stdout",
     "output_type": "stream",
     "text": [
      "function (X, MARGIN, FUN, ...)  \n"
     ]
    }
   ],
   "source": [
    "str(apply)"
   ]
  },
  {
   "cell_type": "markdown",
   "metadata": {},
   "source": [
    "* **x** is an array;\n",
    "* **MARGIN** is an integer vector indicating which margins should be *retained*;\n",
    "* **FUN** is a function to be applied;\n",
    "* **...** is for other arguments to be passed to **FUN**."
   ]
  },
  {
   "cell_type": "code",
   "execution_count": 25,
   "metadata": {},
   "outputs": [
    {
     "name": "stdout",
     "output_type": "stream",
     "text": [
      " [1] -0.45860586 -0.04821500 -0.10902990 -0.06394621  0.36047431 -0.23218423\n",
      " [7]  0.08775499  0.19499142 -0.38224370  0.33730712\n",
      "[1] \"---\"\n",
      " [1]  0.53440815  8.15617231  2.09784355  3.68881127  2.93681205 -4.38584805\n",
      " [7] -0.65427916 -1.27904362  1.61203779  0.40545089 -0.62957700 -3.48513927\n",
      "[13] -0.47367387 -0.50262289  0.08750964 -2.73329140 -0.94222103 -5.93470970\n",
      "[19]  1.64671962 -6.41930029\n"
     ]
    }
   ],
   "source": [
    "x <- matrix(rnorm(200), 20, 10)\n",
    "print(apply(x, 2, mean))  # 2 == columns\n",
    "print('---')\n",
    "print(apply(x, 1, sum))  # 1 == rows"
   ]
  },
  {
   "cell_type": "markdown",
   "metadata": {},
   "source": [
    "## col/row sums and means\n",
    "\n",
    "* For sums and means of matrix dimensions, we have some shortcuts:\n",
    "\n",
    "\n",
    "1. `rowSums()` = `apply(x, 1, sum)`\n",
    "2. `rowMeans()` = `apply(x, 1, mean)`\n",
    "3. `colSums()` = `apply(x, 2, sum)`\n",
    "4. `colMeans()` = `apply(x, 2, mean)`\n",
    "\n",
    "\n",
    "* The shortcut functions are **much** faster, but you won't notice unless you're using a large matrix."
   ]
  },
  {
   "cell_type": "markdown",
   "metadata": {},
   "source": [
    "## Other ways to apply\n",
    "\n",
    "* Quantiles of the rows of a matrix."
   ]
  },
  {
   "cell_type": "code",
   "execution_count": 27,
   "metadata": {},
   "outputs": [
    {
     "name": "stdout",
     "output_type": "stream",
     "text": [
      "          [,1]       [,2]       [,3]       [,4]       [,5]       [,6]      [,7]\n",
      "25% -1.1229583 -0.7201730 -0.4798213 -0.6320166 -1.0089346 -0.7584882 0.3959865\n",
      "75%  0.6286197  0.9856762  0.1340930  1.3958415  0.3423727  0.4916413 1.0270753\n",
      "          [,8]       [,9]      [,10]      [,11]      [,12]      [,13]\n",
      "25% -1.0320469 -1.4248100 -0.6639273 -0.6500948 -0.3627748 -0.2240410\n",
      "75% -0.2537827 -0.2202204  0.6593582  0.3034206  1.0147624  0.6909585\n",
      "         [,14]      [,15]      [,16]      [,17]      [,18]      [,19]\n",
      "25% -0.7003952 -0.7707818 -0.5530322 0.02971026 -0.3929981 -0.2323060\n",
      "75%  0.7379277  0.6205212  0.8758019 1.09297908  0.5296029  0.2858213\n",
      "         [,20]\n",
      "25% -0.9432065\n",
      "75%  0.1439631\n"
     ]
    }
   ],
   "source": [
    "x <- matrix(rnorm(200), 20, 10)\n",
    "print(apply(x, 1, quantile, probs=c(0.25, 0.75)))"
   ]
  },
  {
   "cell_type": "markdown",
   "metadata": {},
   "source": [
    "* Average matrix in an array:"
   ]
  },
  {
   "cell_type": "code",
   "execution_count": 37,
   "metadata": {
    "scrolled": false
   },
   "outputs": [
    {
     "name": "stdout",
     "output_type": "stream",
     "text": [
      "           [,1]       [,2]\n",
      "[1,] -0.1269778 -0.1335441\n",
      "[2,] -0.5702521  0.6789206\n",
      "[1] \"---\"\n",
      "           [,1]       [,2]\n",
      "[1,] -0.1269778 -0.1335441\n",
      "[2,] -0.5702521  0.6789206\n"
     ]
    }
   ],
   "source": [
    "a <- array(rnorm(2*2*10), c(2,2,10))  # 40 aleatory numbers organized in ten arrays with 2x2\n",
    "print(apply(a, c(1,2), mean))\n",
    "print('---')\n",
    "print(rowMeans(a, dims=2))"
   ]
  },
  {
   "cell_type": "markdown",
   "metadata": {},
   "source": [
    "---\n",
    "## `mapply()`\n",
    "\n",
    "* Is a multivariate apply of sorts which applies a function in parallel over a set of arguments;"
   ]
  },
  {
   "cell_type": "code",
   "execution_count": 38,
   "metadata": {},
   "outputs": [
    {
     "name": "stdout",
     "output_type": "stream",
     "text": [
      "function (FUN, ..., MoreArgs = NULL, SIMPLIFY = TRUE, USE.NAMES = TRUE)  \n"
     ]
    }
   ],
   "source": [
    "str(mapply)"
   ]
  },
  {
   "cell_type": "markdown",
   "metadata": {},
   "source": [
    "* **FUN** is a function to apply;\n",
    "* **...** contains arguments to apply over;\n",
    "* **MoreArgs** is a list of other arguments to **FUN**;\n",
    "* **SIMPLIFY** indicates whether the result should be simplified\n",
    "\n",
    "> The following is tedious to type:"
   ]
  },
  {
   "cell_type": "code",
   "execution_count": 41,
   "metadata": {},
   "outputs": [
    {
     "name": "stdout",
     "output_type": "stream",
     "text": [
      "[[1]]\n",
      "[1] 1 1 1 1\n",
      "\n",
      "[[2]]\n",
      "[1] 2 2 2\n",
      "\n",
      "[[3]]\n",
      "[1] 3 3\n",
      "\n",
      "[[4]]\n",
      "[1] 4\n",
      "\n"
     ]
    }
   ],
   "source": [
    "print(list(rep(1,4), rep(2,3), rep(3,2), rep(4,1)))"
   ]
  },
  {
   "cell_type": "markdown",
   "metadata": {},
   "source": [
    "> Instead we can do:"
   ]
  },
  {
   "cell_type": "code",
   "execution_count": 42,
   "metadata": {},
   "outputs": [
    {
     "name": "stdout",
     "output_type": "stream",
     "text": [
      "[[1]]\n",
      "[1] 1 1 1 1\n",
      "\n",
      "[[2]]\n",
      "[1] 2 2 2\n",
      "\n",
      "[[3]]\n",
      "[1] 3 3\n",
      "\n",
      "[[4]]\n",
      "[1] 4\n",
      "\n"
     ]
    }
   ],
   "source": [
    "print(mapply(rep, 1:4, 4:1))"
   ]
  },
  {
   "cell_type": "markdown",
   "metadata": {},
   "source": [
    "## - Vectorizing a function\n"
   ]
  },
  {
   "cell_type": "code",
   "execution_count": 47,
   "metadata": {},
   "outputs": [
    {
     "name": "stdout",
     "output_type": "stream",
     "text": [
      "[1]  1.3787703  4.7100678  1.9037110 -0.0045433  2.5863238\n",
      "[1] \"---\"\n",
      "[1] 2.134702 2.884352 1.474108 1.756641 4.358317\n"
     ]
    }
   ],
   "source": [
    "noise <- function(n, mean, sd) {\n",
    "    rnorm(n, mean, sd)\n",
    "}\n",
    "\n",
    "print(noise(5,1,2))\n",
    "print('---')\n",
    "print(noise(1:5, 1:5, 2)) # here it doesn't work properly, been necessary use `mapply()`"
   ]
  },
  {
   "cell_type": "code",
   "execution_count": 46,
   "metadata": {},
   "outputs": [
    {
     "name": "stdout",
     "output_type": "stream",
     "text": [
      "[[1]]\n",
      "[1] -0.7074835\n",
      "\n",
      "[[2]]\n",
      "[1] 0.8753265 1.4578100\n",
      "\n",
      "[[3]]\n",
      "[1] 1.6181635 0.1841707 2.7530993\n",
      "\n",
      "[[4]]\n",
      "[1] 4.713487 2.964363 4.008731 4.495350\n",
      "\n",
      "[[5]]\n",
      "[1] 3.752158 6.074472 7.887333 9.122761 5.093533\n",
      "\n"
     ]
    }
   ],
   "source": [
    "print(mapply(noise, 1:5, 1:5, 2))"
   ]
  },
  {
   "cell_type": "markdown",
   "metadata": {},
   "source": [
    "* Which is the same as:"
   ]
  },
  {
   "cell_type": "code",
   "execution_count": 48,
   "metadata": {},
   "outputs": [
    {
     "name": "stdout",
     "output_type": "stream",
     "text": [
      "[[1]]\n",
      "[1] 2.358179\n",
      "\n",
      "[[2]]\n",
      "[1] 3.707294 1.571609\n",
      "\n",
      "[[3]]\n",
      "[1] 3.786568 1.017364 3.778746\n",
      "\n",
      "[[4]]\n",
      "[1] 3.168267 2.861526 5.477760 3.930258\n",
      "\n",
      "[[5]]\n",
      "[1] 3.763899 2.681291 5.970280 8.151980 5.228499\n",
      "\n"
     ]
    }
   ],
   "source": [
    "print(list(noise(1,1,2), noise(2,2,2), noise(3,3,2), noise(4,4,2), noise(5,5,2)))"
   ]
  },
  {
   "cell_type": "markdown",
   "metadata": {},
   "source": [
    "---\n",
    "## `tapply()`\n",
    "\n",
    "* It is used to apply a function over subsets of a vector;"
   ]
  },
  {
   "cell_type": "code",
   "execution_count": 49,
   "metadata": {},
   "outputs": [
    {
     "name": "stdout",
     "output_type": "stream",
     "text": [
      "function (X, INDEX, FUN = NULL, ..., default = NA, simplify = TRUE)  \n"
     ]
    }
   ],
   "source": [
    "str(tapply)"
   ]
  },
  {
   "cell_type": "markdown",
   "metadata": {},
   "source": [
    "* **x** is a vector;\n",
    "* **INDEX** is a factor or a list of factors (or else they are coerced to factors);\n",
    "* **FUN** is a function to be applied;\n",
    "* **...** contains other arguments to be passed to **FUN**;\n",
    "* **simplify** should we simplify the result?"
   ]
  },
  {
   "cell_type": "code",
   "execution_count": 58,
   "metadata": {},
   "outputs": [
    {
     "name": "stdout",
     "output_type": "stream",
     "text": [
      " [1]  0.73251796  0.09171256 -0.39233184  0.15589176 -0.20850068  1.57831916\n",
      " [7] -0.56046739  1.47781611 -1.10053625 -0.22404224  0.71290907  0.80418300\n",
      "[13]  0.68092608  0.50336359  0.50087476  0.20034499  0.84248251  0.40531634\n",
      "[19]  0.09277781  0.35403662  0.50260783  2.20195048  1.94859538  0.79318807\n",
      "[25] -0.40947244  0.45125235  1.77408893  0.61831982  1.32273434  0.20748295\n",
      " [1] 1 1 1 1 1 1 1 1 1 1 2 2 2 2 2 2 2 2 2 2 3 3 3 3 3 3 3 3 3 3\n",
      "Levels: 1 2 3\n",
      "        1         2         3 \n",
      "0.1550379 0.5097215 0.9410748 \n"
     ]
    }
   ],
   "source": [
    "x <- c(rnorm(10), runif(10), rnorm(10,1))\n",
    "f <- gl(3, 10)\n",
    "print(x)\n",
    "print(f)\n",
    "\n",
    "print(tapply(x, f, mean))"
   ]
  },
  {
   "cell_type": "markdown",
   "metadata": {},
   "source": [
    "* Takes group means without simplification"
   ]
  },
  {
   "cell_type": "code",
   "execution_count": 60,
   "metadata": {},
   "outputs": [
    {
     "name": "stdout",
     "output_type": "stream",
     "text": [
      "$`1`\n",
      "[1] 0.1550379\n",
      "\n",
      "$`2`\n",
      "[1] 0.5097215\n",
      "\n",
      "$`3`\n",
      "[1] 0.9410748\n",
      "\n"
     ]
    }
   ],
   "source": [
    "print(tapply(x, f, mean, simplify=FALSE))"
   ]
  },
  {
   "cell_type": "markdown",
   "metadata": {},
   "source": [
    "---\n",
    "## `split()`\n",
    "\n",
    "* It takes a vector or other objects and splits it into groups determined by a factor or list of factors."
   ]
  },
  {
   "cell_type": "code",
   "execution_count": 61,
   "metadata": {},
   "outputs": [
    {
     "name": "stdout",
     "output_type": "stream",
     "text": [
      "function (x, f, drop = FALSE, ...)  \n"
     ]
    }
   ],
   "source": [
    "str(split)"
   ]
  },
  {
   "cell_type": "markdown",
   "metadata": {},
   "source": [
    "* **x** is a vector (or list) or data frame;\n",
    "* **f** is a factor (or coerced to one) or a list of factors;\n",
    "* **drop** indicates whether empty factors levels should be dropped."
   ]
  },
  {
   "cell_type": "code",
   "execution_count": 64,
   "metadata": {},
   "outputs": [
    {
     "name": "stdout",
     "output_type": "stream",
     "text": [
      "$`1`\n",
      " [1]  1.72840066  0.26888565  0.10244064 -1.25632116  0.46814248  0.06448892\n",
      " [7] -1.13188332 -3.12751256 -0.77302421  0.48145892\n",
      "\n",
      "$`2`\n",
      " [1] 0.4907943 0.8835422 0.2051925 0.3416405 0.5532782 0.1433677 0.5975480\n",
      " [8] 0.1990694 0.7812303 0.2547684\n",
      "\n",
      "$`3`\n",
      " [1]  0.4398967  1.3803923  0.5416893 -0.7331889  0.4167218  1.5948983\n",
      " [7] -1.7745058 -0.4972197  2.7039631  2.0676326\n",
      "\n"
     ]
    }
   ],
   "source": [
    "x <- c(rnorm(10), runif(10), rnorm(10,1))\n",
    "f <- gl(3, 10)\n",
    "print(split(x, f))"
   ]
  },
  {
   "cell_type": "markdown",
   "metadata": {},
   "source": [
    "* A common idiom is `split()` followed by an `lapply()`"
   ]
  },
  {
   "cell_type": "code",
   "execution_count": 65,
   "metadata": {},
   "outputs": [
    {
     "data": {
      "text/html": [
       "<dl>\n",
       "\t<dt>$`1`</dt>\n",
       "\t\t<dd>-0.317492398038357</dd>\n",
       "\t<dt>$`2`</dt>\n",
       "\t\t<dd>0.445043153478764</dd>\n",
       "\t<dt>$`3`</dt>\n",
       "\t\t<dd>0.614027967221817</dd>\n",
       "</dl>\n"
      ],
      "text/latex": [
       "\\begin{description}\n",
       "\\item[\\$`1`] -0.317492398038357\n",
       "\\item[\\$`2`] 0.445043153478764\n",
       "\\item[\\$`3`] 0.614027967221817\n",
       "\\end{description}\n"
      ],
      "text/markdown": [
       "$`1`\n",
       ":   -0.317492398038357\n",
       "$`2`\n",
       ":   0.445043153478764\n",
       "$`3`\n",
       ":   0.614027967221817\n",
       "\n",
       "\n"
      ],
      "text/plain": [
       "$`1`\n",
       "[1] -0.3174924\n",
       "\n",
       "$`2`\n",
       "[1] 0.4450432\n",
       "\n",
       "$`3`\n",
       "[1] 0.614028\n"
      ]
     },
     "metadata": {},
     "output_type": "display_data"
    }
   ],
   "source": [
    "lapply(split(x,f), mean)"
   ]
  },
  {
   "cell_type": "markdown",
   "metadata": {},
   "source": [
    "## - Splitting a data frame"
   ]
  },
  {
   "cell_type": "code",
   "execution_count": 66,
   "metadata": {},
   "outputs": [
    {
     "data": {
      "text/html": [
       "<table>\n",
       "<thead><tr><th scope=col>Ozone</th><th scope=col>Solar.R</th><th scope=col>Wind</th><th scope=col>Temp</th><th scope=col>Month</th><th scope=col>Day</th></tr></thead>\n",
       "<tbody>\n",
       "\t<tr><td>41  </td><td>190 </td><td> 7.4</td><td>67  </td><td>5   </td><td>1   </td></tr>\n",
       "\t<tr><td>36  </td><td>118 </td><td> 8.0</td><td>72  </td><td>5   </td><td>2   </td></tr>\n",
       "\t<tr><td>12  </td><td>149 </td><td>12.6</td><td>74  </td><td>5   </td><td>3   </td></tr>\n",
       "\t<tr><td>18  </td><td>313 </td><td>11.5</td><td>62  </td><td>5   </td><td>4   </td></tr>\n",
       "\t<tr><td>NA  </td><td> NA </td><td>14.3</td><td>56  </td><td>5   </td><td>5   </td></tr>\n",
       "\t<tr><td>28  </td><td> NA </td><td>14.9</td><td>66  </td><td>5   </td><td>6   </td></tr>\n",
       "</tbody>\n",
       "</table>\n"
      ],
      "text/latex": [
       "\\begin{tabular}{r|llllll}\n",
       " Ozone & Solar.R & Wind & Temp & Month & Day\\\\\n",
       "\\hline\n",
       "\t 41   & 190  &  7.4 & 67   & 5    & 1   \\\\\n",
       "\t 36   & 118  &  8.0 & 72   & 5    & 2   \\\\\n",
       "\t 12   & 149  & 12.6 & 74   & 5    & 3   \\\\\n",
       "\t 18   & 313  & 11.5 & 62   & 5    & 4   \\\\\n",
       "\t NA   &  NA  & 14.3 & 56   & 5    & 5   \\\\\n",
       "\t 28   &  NA  & 14.9 & 66   & 5    & 6   \\\\\n",
       "\\end{tabular}\n"
      ],
      "text/markdown": [
       "\n",
       "Ozone | Solar.R | Wind | Temp | Month | Day | \n",
       "|---|---|---|---|---|---|\n",
       "| 41   | 190  |  7.4 | 67   | 5    | 1    | \n",
       "| 36   | 118  |  8.0 | 72   | 5    | 2    | \n",
       "| 12   | 149  | 12.6 | 74   | 5    | 3    | \n",
       "| 18   | 313  | 11.5 | 62   | 5    | 4    | \n",
       "| NA   |  NA  | 14.3 | 56   | 5    | 5    | \n",
       "| 28   |  NA  | 14.9 | 66   | 5    | 6    | \n",
       "\n",
       "\n"
      ],
      "text/plain": [
       "  Ozone Solar.R Wind Temp Month Day\n",
       "1 41    190      7.4 67   5     1  \n",
       "2 36    118      8.0 72   5     2  \n",
       "3 12    149     12.6 74   5     3  \n",
       "4 18    313     11.5 62   5     4  \n",
       "5 NA     NA     14.3 56   5     5  \n",
       "6 28     NA     14.9 66   5     6  "
      ]
     },
     "metadata": {},
     "output_type": "display_data"
    }
   ],
   "source": [
    "library(datasets)\n",
    "head(airquality)"
   ]
  },
  {
   "cell_type": "code",
   "execution_count": 68,
   "metadata": {},
   "outputs": [
    {
     "name": "stdout",
     "output_type": "stream",
     "text": [
      "$`5`\n",
      "   Ozone  Solar.R     Wind \n",
      "      NA       NA 11.62258 \n",
      "\n",
      "$`6`\n",
      "    Ozone   Solar.R      Wind \n",
      "       NA 190.16667  10.26667 \n",
      "\n",
      "$`7`\n",
      "     Ozone    Solar.R       Wind \n",
      "        NA 216.483871   8.941935 \n",
      "\n",
      "$`8`\n",
      "   Ozone  Solar.R     Wind \n",
      "      NA       NA 8.793548 \n",
      "\n",
      "$`9`\n",
      "   Ozone  Solar.R     Wind \n",
      "      NA 167.4333  10.1800 \n",
      "\n"
     ]
    }
   ],
   "source": [
    "s <- split(airquality, airquality$Month)\n",
    "print(lapply(s, function(x) colMeans(x[,c(\"Ozone\", \"Solar.R\", \"Wind\")])))"
   ]
  },
  {
   "cell_type": "code",
   "execution_count": 69,
   "metadata": {},
   "outputs": [
    {
     "name": "stdout",
     "output_type": "stream",
     "text": [
      "               5         6          7        8        9\n",
      "Ozone         NA        NA         NA       NA       NA\n",
      "Solar.R       NA 190.16667 216.483871       NA 167.4333\n",
      "Wind    11.62258  10.26667   8.941935 8.793548  10.1800\n"
     ]
    }
   ],
   "source": [
    "print(sapply(s, function(x) colMeans(x[, c(\"Ozone\", \"Solar.R\", \"Wind\")])))"
   ]
  },
  {
   "cell_type": "code",
   "execution_count": 70,
   "metadata": {},
   "outputs": [
    {
     "name": "stdout",
     "output_type": "stream",
     "text": [
      "                5         6          7          8         9\n",
      "Ozone    23.61538  29.44444  59.115385  59.961538  31.44828\n",
      "Solar.R 181.29630 190.16667 216.483871 171.857143 167.43333\n",
      "Wind     11.62258  10.26667   8.941935   8.793548  10.18000\n"
     ]
    }
   ],
   "source": [
    "print(sapply(s, function(x) colMeans(x[, c(\"Ozone\", \"Solar.R\", \"Wind\")], na.rm=TRUE)))"
   ]
  },
  {
   "cell_type": "markdown",
   "metadata": {},
   "source": [
    "## Splitting on more than one level"
   ]
  },
  {
   "cell_type": "code",
   "execution_count": 72,
   "metadata": {},
   "outputs": [
    {
     "name": "stdout",
     "output_type": "stream",
     "text": [
      " [1] 1 1 1 1 1 2 2 2 2 2\n",
      "Levels: 1 2\n",
      " [1] 1 1 2 2 3 3 4 4 5 5\n",
      "Levels: 1 2 3 4 5\n",
      " [1] 1.1 1.1 1.2 1.2 1.3 2.3 2.4 2.4 2.5 2.5\n",
      "Levels: 1.1 2.1 1.2 2.2 1.3 2.3 1.4 2.4 1.5 2.5\n"
     ]
    }
   ],
   "source": [
    "x <- rnorm(10)\n",
    "f1 <- gl(2,5)\n",
    "f2 <- gl(5,2)\n",
    "print(f1)\n",
    "print(f2)\n",
    "print(interaction(f1,f2))"
   ]
  },
  {
   "cell_type": "markdown",
   "metadata": {},
   "source": [
    "* Interactions can create empty levels"
   ]
  },
  {
   "cell_type": "code",
   "execution_count": 73,
   "metadata": {},
   "outputs": [
    {
     "name": "stdout",
     "output_type": "stream",
     "text": [
      "List of 10\n",
      " $ 1.1: num [1:2] 0.00884 -0.12451\n",
      " $ 2.1: num(0) \n",
      " $ 1.2: num [1:2] 0.168 1.677\n",
      " $ 2.2: num(0) \n",
      " $ 1.3: num 0.362\n",
      " $ 2.3: num -0.781\n",
      " $ 1.4: num(0) \n",
      " $ 2.4: num [1:2] -2.36 1.62\n",
      " $ 1.5: num(0) \n",
      " $ 2.5: num [1:2] -2.611 -0.662\n"
     ]
    }
   ],
   "source": [
    "str(split(x, list(f1, f2)))"
   ]
  },
  {
   "cell_type": "markdown",
   "metadata": {},
   "source": [
    "* Empty levels can be dropped"
   ]
  },
  {
   "cell_type": "code",
   "execution_count": 74,
   "metadata": {},
   "outputs": [
    {
     "name": "stdout",
     "output_type": "stream",
     "text": [
      "List of 6\n",
      " $ 1.1: num [1:2] 0.00884 -0.12451\n",
      " $ 1.2: num [1:2] 0.168 1.677\n",
      " $ 1.3: num 0.362\n",
      " $ 2.3: num -0.781\n",
      " $ 2.4: num [1:2] -2.36 1.62\n",
      " $ 2.5: num [1:2] -2.611 -0.662\n"
     ]
    }
   ],
   "source": [
    "str(split(x, list(f1, f2), drop=TRUE))"
   ]
  },
  {
   "cell_type": "markdown",
   "metadata": {},
   "source": [
    "---\n",
    "# Debugging tools - diagnosing the problem\n",
    "\n",
    "* Indications that something's not right:\n",
    "\n",
    "\n",
    "1. `message`: A generic notification/diagnostic message produced by the `message` function, execution of the function continues;\n",
    "2. `warning`: An indication that something is wrong but not necessarily fatal (generated by the `warning` function, execution of the function continues;\n",
    "3. `error`: An indication that a fatal problem has occurred (produced by the `stop` function), execution stops;\n",
    "4. `condition`: A generic concept for indicating  that something unexpected can occur, programmers can create their own conditions."
   ]
  },
  {
   "cell_type": "markdown",
   "metadata": {},
   "source": [
    "## - Something's wrong!\n",
    "\n",
    "* Warning"
   ]
  },
  {
   "cell_type": "code",
   "execution_count": 75,
   "metadata": {},
   "outputs": [
    {
     "name": "stderr",
     "output_type": "stream",
     "text": [
      "Warning message in log(-1):\n",
      "“NaNs produced”"
     ]
    },
    {
     "data": {
      "text/html": [
       "NaN"
      ],
      "text/latex": [
       "NaN"
      ],
      "text/markdown": [
       "NaN"
      ],
      "text/plain": [
       "[1] NaN"
      ]
     },
     "metadata": {},
     "output_type": "display_data"
    }
   ],
   "source": [
    "log(-1)"
   ]
  },
  {
   "cell_type": "code",
   "execution_count": 77,
   "metadata": {},
   "outputs": [
    {
     "name": "stdout",
     "output_type": "stream",
     "text": [
      "[1] \"x is greater than zero\"\n"
     ]
    },
    {
     "ename": "ERROR",
     "evalue": "Error in if (x > 0) print(\"x is greater than zero\") else print(\"c is less than or equal to zero\"): missing value where TRUE/FALSE needed\n",
     "output_type": "error",
     "traceback": [
      "Error in if (x > 0) print(\"x is greater than zero\") else print(\"c is less than or equal to zero\"): missing value where TRUE/FALSE needed\nTraceback:\n",
      "1. printmessage(NA)"
     ]
    }
   ],
   "source": [
    "printmessage <- function(x) {\n",
    "    if(x>0)\n",
    "        print(\"x is greater than zero\")\n",
    "    else\n",
    "        print(\"c is less than or equal to zero\")\n",
    "    invisible(x)\n",
    "}\n",
    "\n",
    "printmessage(1)\n",
    "printmessage(NA)"
   ]
  },
  {
   "cell_type": "code",
   "execution_count": 79,
   "metadata": {},
   "outputs": [
    {
     "name": "stderr",
     "output_type": "stream",
     "text": [
      "Warning message in log(-1):\n",
      "“NaNs produced”"
     ]
    },
    {
     "name": "stdout",
     "output_type": "stream",
     "text": [
      "[1] \"x is a missing value!\"\n"
     ]
    }
   ],
   "source": [
    "printmessage2 <- function(x) {\n",
    "    if(is.na(x))\n",
    "        print(\"x is a missing value!\")\n",
    "    else if(x>0)\n",
    "        print(\"x is greater than zero\")\n",
    "    else\n",
    "        print(\"x is less than or equal to zero\")\n",
    "    invisible(x)\n",
    "}\n",
    "\n",
    "x <- log(-1)\n",
    "printmessage2(x)"
   ]
  },
  {
   "cell_type": "markdown",
   "metadata": {},
   "source": [
    "* How do you know that something is wrong with your function?\n",
    "\n",
    "\n",
    "1. What was your input? How did you call the function?\n",
    "2. What were you expecting? Output, messages, other results?\n",
    "3. What did you get?\n",
    "4. How does what you get differ from what you were expecting?\n",
    "5. Were your expectations correct in the first place?\n",
    "6. Can you reproduce the problem (exactly?)"
   ]
  },
  {
   "cell_type": "markdown",
   "metadata": {},
   "source": [
    "---\n",
    "# Debugging tools - basic tools\n",
    "\n",
    "* `traceback`: prints out the function call stack after an error occurs, does nothing if there's no erro;\n",
    "* `debug`: flags a function for **debug** mode which allows you to step though execution of a function one line at a time;\n",
    "* `browser`: suspends the execution of a function wherever it is called puts the function in debug mode;\n",
    "* `trace`: allows you to insert debugging code into a function in specific places;\n",
    "* `recover`: allows you to modify the error behavior so that you can browse the function call stack.\n",
    "\n",
    "\n",
    "> These are interactive tools specificially designed to allow you to pick through a function;\n",
    "\n",
    "> There's also the more blunt technique of inserting print/cat statements in the function."
   ]
  },
  {
   "cell_type": "markdown",
   "metadata": {},
   "source": [
    "---\n",
    "## traceback\n"
   ]
  },
  {
   "cell_type": "code",
   "execution_count": 83,
   "metadata": {},
   "outputs": [
    {
     "ename": "ERROR",
     "evalue": "Error in mean(o): object 'o' not found\n",
     "output_type": "error",
     "traceback": [
      "Error in mean(o): object 'o' not found\nTraceback:\n",
      "1. mean(o)"
     ]
    }
   ],
   "source": [
    "mean(o)\n",
    "\n",
    "traceback()"
   ]
  },
  {
   "cell_type": "code",
   "execution_count": 86,
   "metadata": {},
   "outputs": [
    {
     "ename": "ERROR",
     "evalue": "Error in stats::model.frame(formula = y - x, drop.unused.levels = TRUE): object 'y' not found\n",
     "output_type": "error",
     "traceback": [
      "Error in stats::model.frame(formula = y - x, drop.unused.levels = TRUE): object 'y' not found\nTraceback:\n",
      "1. lm(y - x)",
      "2. eval(mf, parent.frame())",
      "3. eval(mf, parent.frame())",
      "4. stats::model.frame(formula = y - x, drop.unused.levels = TRUE)"
     ]
    }
   ],
   "source": [
    "lm(y-x)\n",
    "traceback()"
   ]
  },
  {
   "cell_type": "markdown",
   "metadata": {},
   "source": [
    "## debug"
   ]
  },
  {
   "cell_type": "code",
   "execution_count": 87,
   "metadata": {
    "scrolled": true
   },
   "outputs": [
    {
     "name": "stdout",
     "output_type": "stream",
     "text": [
      "debugging in: lm(y - x)\n",
      "debug: {\n",
      "    ret.x <- x\n",
      "    ret.y <- y\n",
      "    cl <- match.call()\n",
      "    mf <- match.call(expand.dots = FALSE)\n",
      "    m <- match(c(\"formula\", \"data\", \"subset\", \"weights\", \"na.action\", \n",
      "        \"offset\"), names(mf), 0L)\n",
      "    mf <- mf[c(1L, m)]\n",
      "    mf$drop.unused.levels <- TRUE\n",
      "    mf[[1L]] <- quote(stats::model.frame)\n",
      "    mf <- eval(mf, parent.frame())\n",
      "    if (method == \"model.frame\") \n",
      "        return(mf)\n",
      "    else if (method != \"qr\") \n",
      "        warning(gettextf(\"method = '%s' is not supported. Using 'qr'\", \n",
      "            method), domain = NA)\n",
      "    mt <- attr(mf, \"terms\")\n",
      "    y <- model.response(mf, \"numeric\")\n",
      "    w <- as.vector(model.weights(mf))\n",
      "    if (!is.null(w) && !is.numeric(w)) \n",
      "        stop(\"'weights' must be a numeric vector\")\n",
      "    offset <- as.vector(model.offset(mf))\n",
      "    if (!is.null(offset)) {\n",
      "        if (length(offset) != NROW(y)) \n",
      "            stop(gettextf(\"number of offsets is %d, should equal %d (number of observations)\", \n",
      "                length(offset), NROW(y)), domain = NA)\n",
      "    }\n",
      "    if (is.empty.model(mt)) {\n",
      "        x <- NULL\n",
      "        z <- list(coefficients = if (is.matrix(y)) matrix(, 0, \n",
      "            3) else numeric(), residuals = y, fitted.values = 0 * \n",
      "            y, weights = w, rank = 0L, df.residual = if (!is.null(w)) sum(w != \n",
      "            0) else if (is.matrix(y)) nrow(y) else length(y))\n",
      "        if (!is.null(offset)) {\n",
      "            z$fitted.values <- offset\n",
      "            z$residuals <- y - offset\n",
      "        }\n",
      "    }\n",
      "    else {\n",
      "        x <- model.matrix(mt, mf, contrasts)\n",
      "        z <- if (is.null(w)) \n",
      "            lm.fit(x, y, offset = offset, singular.ok = singular.ok, \n",
      "                ...)\n",
      "        else lm.wfit(x, y, w, offset = offset, singular.ok = singular.ok, \n",
      "            ...)\n",
      "    }\n",
      "    class(z) <- c(if (is.matrix(y)) \"mlm\", \"lm\")\n",
      "    z$na.action <- attr(mf, \"na.action\")\n",
      "    z$offset <- offset\n",
      "    z$contrasts <- attr(x, \"contrasts\")\n",
      "    z$xlevels <- .getXlevels(mt, mf)\n",
      "    z$call <- cl\n",
      "    z$terms <- mt\n",
      "    if (model) \n",
      "        z$model <- mf\n",
      "    if (ret.x) \n",
      "        z$x <- x\n",
      "    if (ret.y) \n",
      "        z$y <- y\n",
      "    if (!qr) \n",
      "        z$qr <- NULL\n",
      "    z\n",
      "}\n",
      "debug: ret.x <- x\n",
      "debug: ret.y <- y\n",
      "debug: cl <- match.call()\n",
      "debug: mf <- match.call(expand.dots = FALSE)\n",
      "debug: m <- match(c(\"formula\", \"data\", \"subset\", \"weights\", \"na.action\", \n",
      "    \"offset\"), names(mf), 0L)\n",
      "debug: mf <- mf[c(1L, m)]\n",
      "debug: mf$drop.unused.levels <- TRUE\n",
      "debug: mf[[1L]] <- quote(stats::model.frame)\n",
      "debug: mf <- eval(mf, parent.frame())\n"
     ]
    },
    {
     "ename": "ERROR",
     "evalue": "Error in stats::model.frame(formula = y - x, drop.unused.levels = TRUE): object 'y' not found\n",
     "output_type": "error",
     "traceback": [
      "Error in stats::model.frame(formula = y - x, drop.unused.levels = TRUE): object 'y' not found\nTraceback:\n",
      "1. lm(y - x)",
      "2. eval(mf, parent.frame())",
      "3. eval(mf, parent.frame())",
      "4. stats::model.frame(formula = y - x, drop.unused.levels = TRUE)"
     ]
    }
   ],
   "source": [
    "debug(lm)\n",
    "lm(y-x)"
   ]
  },
  {
   "cell_type": "markdown",
   "metadata": {},
   "source": [
    "## recover\n"
   ]
  },
  {
   "cell_type": "code",
   "execution_count": 89,
   "metadata": {},
   "outputs": [
    {
     "name": "stderr",
     "output_type": "stream",
     "text": [
      "Warning message in file(file, \"rt\"):\n",
      "“cannot open file 'nosuchfile': No such file or directory”"
     ]
    },
    {
     "ename": "ERROR",
     "evalue": "Error in file(file, \"rt\"): cannot open the connection\n",
     "output_type": "error",
     "traceback": [
      "Error in file(file, \"rt\"): cannot open the connection\nTraceback:\n",
      "1. read.csv(\"nosuchfile\")",
      "2. read.table(file = file, header = header, sep = sep, quote = quote, \n .     dec = dec, fill = fill, comment.char = comment.char, ...)",
      "3. file(file, \"rt\")"
     ]
    }
   ],
   "source": [
    "options(error=recover)\n",
    "read.csv(\"nosuchfile\")"
   ]
  },
  {
   "cell_type": "markdown",
   "metadata": {},
   "source": [
    "## Debugging - summary\n",
    "\n",
    "* There are three main indications of a problem/condition: `message`, `warning` and `error` (only `error` is fatal);\n",
    "* When analyzing a function witth a problem, make sure you can reproduce the problem, clearly state your expectations and how the output differs from your expectation;\n",
    "* Interactive debugging tools `traceback`, `debug`, `browser`, `trace` and `recover` can be used to find problematic code in functions;\n",
    "* Debugging tools are not a substitute for thinking!"
   ]
  },
  {
   "cell_type": "code",
   "execution_count": null,
   "metadata": {},
   "outputs": [],
   "source": []
  }
 ],
 "metadata": {
  "kernelspec": {
   "display_name": "R 3.4.2",
   "language": "R",
   "name": "ir33"
  },
  "language_info": {
   "codemirror_mode": "r",
   "file_extension": ".r",
   "mimetype": "text/x-r-source",
   "name": "R",
   "pygments_lexer": "r",
   "version": "3.4.4"
  }
 },
 "nbformat": 4,
 "nbformat_minor": 2
}
