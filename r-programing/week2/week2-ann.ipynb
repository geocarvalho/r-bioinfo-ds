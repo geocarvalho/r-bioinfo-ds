{
 "cells": [
  {
   "cell_type": "markdown",
   "metadata": {},
   "source": [
    "# Control structures in R\n",
    "\n",
    "* Allow you to control the flow of an R program, depending on runtime conditions;\n",
    "* `if | else`: testing a condition;\n",
    "* `for`: execute a loop a fixed number of times;\n",
    "* `while`: execute a loop *while* the condition is true;\n",
    "* `repeat`: execute an infinite loop;\n",
    "* `break`: break the execution of a loop;\n",
    "* `next`: skip an interation of a loop;\n",
    "* `return`: exit a function;\n",
    "> Most of control structures are not used in interactive sessions, but rather when writing functions or longer expressions;\n",
    "\n",
    "---\n",
    "# Controle structures: `if` - `else`\n",
    "\n"
   ]
  },
  {
   "cell_type": "code",
   "execution_count": 5,
   "metadata": {},
   "outputs": [
    {
     "name": "stdout",
     "output_type": "stream",
     "text": [
      "[1] \"<20\"\n",
      "[1] \" <20 & >=10\"\n"
     ]
    }
   ],
   "source": [
    "# if(<condition>) {\n",
    "#     do something\n",
    "# } else {\n",
    "#     do something else\n",
    "# }\n",
    "\n",
    "x=10\n",
    "if(x<20) {\n",
    "    print(\"<20\")\n",
    "} else {\n",
    "    print(\">=20\")\n",
    "}\n",
    "\n",
    "# If you have more than one condition:\n",
    "if(x<10) {\n",
    "    print(\"<10\")\n",
    "} else if (x<20) {\n",
    "    print(\" <20 & >=10\")\n",
    "} else {\n",
    "    print(\">=20\")\n",
    "}"
   ]
  },
  {
   "cell_type": "code",
   "execution_count": 7,
   "metadata": {},
   "outputs": [
    {
     "name": "stdout",
     "output_type": "stream",
     "text": [
      "[1] 10\n"
     ]
    }
   ],
   "source": [
    "if(x<3) {\n",
    "    y<-10\n",
    "} else {\n",
    "    y<-0\n",
    "}\n",
    "\n",
    "y <- if(x>3) {\n",
    "    10\n",
    "} else {\n",
    "    0\n",
    "}\n",
    "print(y)"
   ]
  },
  {
   "cell_type": "code",
   "execution_count": 9,
   "metadata": {},
   "outputs": [
    {
     "name": "stdout",
     "output_type": "stream",
     "text": [
      "[1] \" <20 & >=10\"\n"
     ]
    }
   ],
   "source": [
    "# The else statement isn't necessary\n",
    "if(x<10) {\n",
    "    print(\"<10\")\n",
    "}\n",
    "\n",
    "if (x<20) {\n",
    "    print(\" <20 & >=10\")\n",
    "}"
   ]
  },
  {
   "cell_type": "markdown",
   "metadata": {},
   "source": [
    "---\n",
    "# Control structures - For loops\n",
    "\n",
    "* Take an interator variable and assign it sucessive values from a sequence or vector;\n",
    "* Are most commonly used for iterating over the elements of an object (list, vector, etc)"
   ]
  },
  {
   "cell_type": "code",
   "execution_count": 10,
   "metadata": {},
   "outputs": [
    {
     "name": "stdout",
     "output_type": "stream",
     "text": [
      "[1] 1\n",
      "[1] 2\n",
      "[1] 3\n",
      "[1] 4\n",
      "[1] 5\n",
      "[1] 6\n",
      "[1] 7\n",
      "[1] 8\n",
      "[1] 9\n",
      "[1] 10\n"
     ]
    }
   ],
   "source": [
    "for(i in 1:10){\n",
    "    print(i)\n",
    "}"
   ]
  },
  {
   "cell_type": "code",
   "execution_count": 14,
   "metadata": {},
   "outputs": [
    {
     "name": "stdout",
     "output_type": "stream",
     "text": [
      "[1] \"a\"\n",
      "[1] \"b\"\n",
      "[1] \"c\"\n",
      "[1] \"d\"\n",
      "[1] \"---\"\n",
      "[1] \"a\"\n",
      "[1] \"b\"\n",
      "[1] \"c\"\n",
      "[1] \"d\"\n",
      "[1] \"---\"\n",
      "[1] \"a\"\n",
      "[1] \"b\"\n",
      "[1] \"c\"\n",
      "[1] \"d\"\n",
      "[1] \"---\"\n",
      "[1] \"a\"\n",
      "[1] \"b\"\n",
      "[1] \"c\"\n",
      "[1] \"d\"\n"
     ]
    }
   ],
   "source": [
    "x <- c(\"a\", \"b\", \"c\", \"d\")\n",
    "\n",
    "for(i in 1:4) {\n",
    "    print(x[i])\n",
    "}\n",
    "print('---')\n",
    "for(i in seq_along(x)) {\n",
    "    print(x[i])\n",
    "}\n",
    "print('---')\n",
    "for(letter in x) {\n",
    "    print(letter)\n",
    "}\n",
    "print('---')\n",
    "for(i in 1:4) print(x[i])"
   ]
  },
  {
   "cell_type": "markdown",
   "metadata": {},
   "source": [
    "## Nested for loops\n",
    "\n",
    "* Nesting beyond 2-3 levels is often difficult to read/understand"
   ]
  },
  {
   "cell_type": "code",
   "execution_count": 16,
   "metadata": {},
   "outputs": [
    {
     "name": "stdout",
     "output_type": "stream",
     "text": [
      "     [,1] [,2] [,3]\n",
      "[1,]    1    3    5\n",
      "[2,]    2    4    6\n",
      "[1] 1\n",
      "[1] 3\n",
      "[1] 5\n",
      "[1] 2\n",
      "[1] 4\n",
      "[1] 6\n"
     ]
    }
   ],
   "source": [
    "x <- matrix(1:6,2,3)\n",
    "print(x)\n",
    "for(i in seq_len(nrow(x))) {\n",
    "    for(j in seq_len(ncol(x))) {\n",
    "        print(x[i,j])\n",
    "    }\n",
    "}"
   ]
  },
  {
   "cell_type": "markdown",
   "metadata": {},
   "source": [
    "---\n",
    "# Control structures: While loops\n",
    "\n",
    "* It begin by testing a condition (if true they execute  the loop body, if false the condition is tested again and so forth);\n",
    "* It cat result in infinite loops if not written properly."
   ]
  },
  {
   "cell_type": "code",
   "execution_count": 1,
   "metadata": {},
   "outputs": [
    {
     "name": "stdout",
     "output_type": "stream",
     "text": [
      "[1] 0\n",
      "[1] 1\n",
      "[1] 2\n",
      "[1] 3\n",
      "[1] 4\n",
      "[1] 5\n",
      "[1] 6\n",
      "[1] 7\n",
      "[1] 8\n",
      "[1] 9\n"
     ]
    }
   ],
   "source": [
    "count <- 0\n",
    "while(count<10) {\n",
    "    print(count)\n",
    "    count <- count + 1\n",
    "}"
   ]
  },
  {
   "cell_type": "markdown",
   "metadata": {},
   "source": [
    "* Sometimes there will be more than one condition in the test:"
   ]
  },
  {
   "cell_type": "code",
   "execution_count": 3,
   "metadata": {},
   "outputs": [
    {
     "name": "stdout",
     "output_type": "stream",
     "text": [
      "[1] 5\n",
      "[1] 6\n",
      "[1] 5\n",
      "[1] 4\n",
      "[1] 5\n",
      "[1] 4\n",
      "[1] 3\n"
     ]
    }
   ],
   "source": [
    "z<-5\n",
    "while (z>=3 && z<=10) {\n",
    "    print(z)\n",
    "    coin <- rbinom(1,1,0.5)\n",
    "    if(coin == 1) {\n",
    "        # Random walk\n",
    "        z <- z+1\n",
    "    } else {\n",
    "        z <- z-1\n",
    "    }\n",
    "}"
   ]
  },
  {
   "cell_type": "markdown",
   "metadata": {},
   "source": [
    "---\n",
    "# Control structures: repeat, next, break\n",
    "\n",
    "* It initiates an infinite loop;\n",
    "* The only way to exit a `repeat` loop is calling `break`."
   ]
  },
  {
   "cell_type": "code",
   "execution_count": 6,
   "metadata": {
    "scrolled": true
   },
   "outputs": [
    {
     "name": "stdout",
     "output_type": "stream",
     "text": [
      "[1] 5\n",
      "[1] 4\n",
      "[1] 5\n",
      "[1] 6\n",
      "[1] 5\n",
      "[1] 6\n",
      "[1] 5\n",
      "[1] 4\n",
      "[1] 5\n",
      "[1] 6\n",
      "[1] 5\n",
      "[1] 4\n",
      "[1] 5\n",
      "[1] 6\n",
      "[1] 7\n",
      "[1] 8\n",
      "[1] 7\n",
      "[1] 6\n",
      "[1] 5\n",
      "[1] 4\n",
      "[1] 3\n",
      "[1] 4\n",
      "[1] 3\n"
     ]
    }
   ],
   "source": [
    "z<-5\n",
    "repeat {\n",
    "    print(z)\n",
    "    coin <- rbinom(1,1,0.5)\n",
    "    if(coin == 1) {\n",
    "        # Random walk\n",
    "        z <- z+1\n",
    "    } else {\n",
    "        z <- z-1\n",
    "    }\n",
    "    if (z < 3 | z > 10) {\n",
    "        break\n",
    "    }\n",
    "}"
   ]
  },
  {
   "cell_type": "markdown",
   "metadata": {},
   "source": [
    "## - Next\n",
    "\n",
    "* Used to skip an iteration of a loop"
   ]
  },
  {
   "cell_type": "code",
   "execution_count": 10,
   "metadata": {
    "scrolled": true
   },
   "outputs": [
    {
     "name": "stdout",
     "output_type": "stream",
     "text": [
      "[1] 21\n",
      "[1] 22\n",
      "[1] 23\n",
      "[1] 24\n",
      "[1] 25\n",
      "[1] 26\n",
      "[1] 27\n",
      "[1] 28\n",
      "[1] 29\n",
      "[1] 30\n",
      "[1] 31\n",
      "[1] 32\n",
      "[1] 33\n",
      "[1] 34\n",
      "[1] 35\n",
      "[1] 36\n",
      "[1] 37\n",
      "[1] 38\n",
      "[1] 39\n",
      "[1] 40\n",
      "[1] 41\n",
      "[1] 42\n",
      "[1] 43\n",
      "[1] 44\n",
      "[1] 45\n",
      "[1] 46\n",
      "[1] 47\n",
      "[1] 48\n",
      "[1] 49\n",
      "[1] 50\n",
      "[1] 51\n",
      "[1] 52\n",
      "[1] 53\n",
      "[1] 54\n",
      "[1] 55\n",
      "[1] 56\n",
      "[1] 57\n",
      "[1] 58\n",
      "[1] 59\n",
      "[1] 60\n",
      "[1] 61\n",
      "[1] 62\n",
      "[1] 63\n",
      "[1] 64\n",
      "[1] 65\n",
      "[1] 66\n",
      "[1] 67\n",
      "[1] 68\n",
      "[1] 69\n",
      "[1] 70\n",
      "[1] 71\n",
      "[1] 72\n",
      "[1] 73\n",
      "[1] 74\n",
      "[1] 75\n",
      "[1] 76\n",
      "[1] 77\n",
      "[1] 78\n",
      "[1] 79\n",
      "[1] 80\n",
      "[1] 81\n",
      "[1] 82\n",
      "[1] 83\n",
      "[1] 84\n",
      "[1] 85\n",
      "[1] 86\n",
      "[1] 87\n",
      "[1] 88\n",
      "[1] 89\n",
      "[1] 90\n",
      "[1] 91\n",
      "[1] 92\n",
      "[1] 93\n",
      "[1] 94\n",
      "[1] 95\n",
      "[1] 96\n",
      "[1] 97\n",
      "[1] 98\n",
      "[1] 99\n",
      "[1] 100\n"
     ]
    }
   ],
   "source": [
    "for (i in 1:100) {\n",
    "    if(i<=20) {\n",
    "        next\n",
    "    }\n",
    "    print(i)\n",
    "}"
   ]
  },
  {
   "cell_type": "markdown",
   "metadata": {},
   "source": [
    "## - Summary\n",
    "\n",
    "* Control structures like `if`, `while`, and `for` allows you to control the flow of the program;\n",
    "* Infinite loops should generally be avoided, even if they are theoretically correct;\n",
    "* Control structures mentioned here are useful to writing programs, for command-line interactive work the `apply()` function is more useful."
   ]
  },
  {
   "cell_type": "markdown",
   "metadata": {},
   "source": [
    "---\n",
    "# Your first R function"
   ]
  },
  {
   "cell_type": "code",
   "execution_count": 20,
   "metadata": {},
   "outputs": [],
   "source": [
    " add2 <- function(x,y) {\n",
    "     x+y\n",
    " }\n",
    "\n",
    "above10 <- function(x) {\n",
    "    use <- x > 10\n",
    "    x[use]\n",
    "}\n",
    "\n",
    "above <- function(x,n=10) {\n",
    "    use <- x > n\n",
    "    x[use]\n",
    "}\n",
    "\n",
    "columnmean <- function(y, removeNA=TRUE) {\n",
    "    nc <- ncol(y)\n",
    "    means <- numeric(nc)\n",
    "    for(i in 1:nc) {\n",
    "        means[i] <- mean(y[,i], na.rm=removeNA)\n",
    "    }\n",
    "    means\n",
    "}"
   ]
  },
  {
   "cell_type": "code",
   "execution_count": 23,
   "metadata": {},
   "outputs": [
    {
     "data": {
      "text/html": [
       "6"
      ],
      "text/latex": [
       "6"
      ],
      "text/markdown": [
       "6"
      ],
      "text/plain": [
       "[1] 6"
      ]
     },
     "metadata": {},
     "output_type": "display_data"
    },
    {
     "data": {
      "text/html": [
       "<ol class=list-inline>\n",
       "\t<li>11</li>\n",
       "\t<li>12</li>\n",
       "\t<li>13</li>\n",
       "\t<li>14</li>\n",
       "\t<li>15</li>\n",
       "\t<li>16</li>\n",
       "\t<li>17</li>\n",
       "\t<li>18</li>\n",
       "\t<li>19</li>\n",
       "\t<li>20</li>\n",
       "</ol>\n"
      ],
      "text/latex": [
       "\\begin{enumerate*}\n",
       "\\item 11\n",
       "\\item 12\n",
       "\\item 13\n",
       "\\item 14\n",
       "\\item 15\n",
       "\\item 16\n",
       "\\item 17\n",
       "\\item 18\n",
       "\\item 19\n",
       "\\item 20\n",
       "\\end{enumerate*}\n"
      ],
      "text/markdown": [
       "1. 11\n",
       "2. 12\n",
       "3. 13\n",
       "4. 14\n",
       "5. 15\n",
       "6. 16\n",
       "7. 17\n",
       "8. 18\n",
       "9. 19\n",
       "10. 20\n",
       "\n",
       "\n"
      ],
      "text/plain": [
       " [1] 11 12 13 14 15 16 17 18 19 20"
      ]
     },
     "metadata": {},
     "output_type": "display_data"
    },
    {
     "data": {
      "text/html": [
       "<ol class=list-inline>\n",
       "\t<li>16</li>\n",
       "\t<li>17</li>\n",
       "\t<li>18</li>\n",
       "\t<li>19</li>\n",
       "\t<li>20</li>\n",
       "</ol>\n"
      ],
      "text/latex": [
       "\\begin{enumerate*}\n",
       "\\item 16\n",
       "\\item 17\n",
       "\\item 18\n",
       "\\item 19\n",
       "\\item 20\n",
       "\\end{enumerate*}\n"
      ],
      "text/markdown": [
       "1. 16\n",
       "2. 17\n",
       "3. 18\n",
       "4. 19\n",
       "5. 20\n",
       "\n",
       "\n"
      ],
      "text/plain": [
       "[1] 16 17 18 19 20"
      ]
     },
     "metadata": {},
     "output_type": "display_data"
    },
    {
     "data": {
      "text/html": [
       "<ol class=list-inline>\n",
       "\t<li>42.1293103448276</li>\n",
       "\t<li>185.931506849315</li>\n",
       "\t<li>9.95751633986928</li>\n",
       "\t<li>77.8823529411765</li>\n",
       "\t<li>6.99346405228758</li>\n",
       "\t<li>15.8039215686275</li>\n",
       "</ol>\n"
      ],
      "text/latex": [
       "\\begin{enumerate*}\n",
       "\\item 42.1293103448276\n",
       "\\item 185.931506849315\n",
       "\\item 9.95751633986928\n",
       "\\item 77.8823529411765\n",
       "\\item 6.99346405228758\n",
       "\\item 15.8039215686275\n",
       "\\end{enumerate*}\n"
      ],
      "text/markdown": [
       "1. 42.1293103448276\n",
       "2. 185.931506849315\n",
       "3. 9.95751633986928\n",
       "4. 77.8823529411765\n",
       "5. 6.99346405228758\n",
       "6. 15.8039215686275\n",
       "\n",
       "\n"
      ],
      "text/plain": [
       "[1]  42.129310 185.931507   9.957516  77.882353   6.993464  15.803922"
      ]
     },
     "metadata": {},
     "output_type": "display_data"
    }
   ],
   "source": [
    "add2(2,4)\n",
    "above10(1:20)\n",
    "above(1:20, 15)\n",
    "columnmean(airquality)"
   ]
  },
  {
   "cell_type": "markdown",
   "metadata": {},
   "source": [
    "---\n",
    "# R functions\n",
    "\n",
    "* Are created using the `function()` directive and are stored as R objects (class `function`)\n",
    "\n",
    "```\n",
    "f <- function(<arg1,arg2>) {\n",
    "    Do something interesting\n",
    "}\n",
    "```\n",
    "\n",
    "* Functios can be passed as arguments to other functions;\n",
    "* It can be nested (function inside another);\n",
    "* The return value of a function is the last expression in the function body to be evaluated.\n",
    "\n",
    "## Named arguments\n",
    "\n",
    "* It potentially have default values;\n",
    "* The **formal arguments** are the arguments included in the function definition;\n",
    "* The **formals** function returns a list of all the formal arguments of a function;\n",
    "* Not every function call in R makes use of all the formal arguments;\n",
    "* Function arguments can be missing or might have default values.\n",
    "\n",
    "## Argument matching\n",
    "\n",
    "* R functions arguments can be matched positionally or by name (but is recommended to use the arguments to specify the inputs):\n",
    "\n"
   ]
  },
  {
   "cell_type": "code",
   "execution_count": 1,
   "metadata": {},
   "outputs": [
    {
     "data": {
      "text/html": [
       "0.949218681930038"
      ],
      "text/latex": [
       "0.949218681930038"
      ],
      "text/markdown": [
       "0.949218681930038"
      ],
      "text/plain": [
       "[1] 0.9492187"
      ]
     },
     "metadata": {},
     "output_type": "display_data"
    },
    {
     "data": {
      "text/html": [
       "0.949218681930038"
      ],
      "text/latex": [
       "0.949218681930038"
      ],
      "text/markdown": [
       "0.949218681930038"
      ],
      "text/plain": [
       "[1] 0.9492187"
      ]
     },
     "metadata": {},
     "output_type": "display_data"
    },
    {
     "data": {
      "text/html": [
       "0.949218681930038"
      ],
      "text/latex": [
       "0.949218681930038"
      ],
      "text/markdown": [
       "0.949218681930038"
      ],
      "text/plain": [
       "[1] 0.9492187"
      ]
     },
     "metadata": {},
     "output_type": "display_data"
    },
    {
     "data": {
      "text/html": [
       "0.949218681930038"
      ],
      "text/latex": [
       "0.949218681930038"
      ],
      "text/markdown": [
       "0.949218681930038"
      ],
      "text/plain": [
       "[1] 0.9492187"
      ]
     },
     "metadata": {},
     "output_type": "display_data"
    },
    {
     "data": {
      "text/html": [
       "0.949218681930038"
      ],
      "text/latex": [
       "0.949218681930038"
      ],
      "text/markdown": [
       "0.949218681930038"
      ],
      "text/plain": [
       "[1] 0.9492187"
      ]
     },
     "metadata": {},
     "output_type": "display_data"
    }
   ],
   "source": [
    "mydata <- rnorm(100)\n",
    "# Calculating standard desviation\n",
    "sd(mydata)\n",
    "sd(x=mydata)\n",
    "sd(x=mydata, na.rm=FALSE)\n",
    "sd(na.rm=FALSE, x=mydata)\n",
    "sd(na.rm=FALSE, mydata)"
   ]
  },
  {
   "cell_type": "markdown",
   "metadata": {},
   "source": [
    "* You can mix positional matching with matching by name. It is \"taken out\" of the argument list and the remaining unnamed arguments are matched in the order than they are listed in the function definition;\n",
    "* Named arguments are useful on the command line when you have a long argument list and you want to use the defaults for everything except for an argument near the end of the list;\n",
    "* Named arguments also help you can remember the name of the argument and not its position on the argument list;\n",
    "* Function arguments can also be partially matched, which is useful for interactive work:\n",
    "    1. Check for exact match for a named argument;\n",
    "    2. Check for a partial match;\n",
    "    3. Check for a positional match.\n",
    "    \n",
    "---\n",
    "# Defining a function\n",
    "\n",
    "* Adding default values or not"
   ]
  },
  {
   "cell_type": "code",
   "execution_count": 3,
   "metadata": {},
   "outputs": [],
   "source": [
    "f <- function(a,b=1,c=2,d=NULL){\n",
    "    print(a)\n",
    "    print(b)\n",
    "    print(c)\n",
    "    print(d)\n",
    "}"
   ]
  },
  {
   "cell_type": "code",
   "execution_count": 4,
   "metadata": {},
   "outputs": [
    {
     "name": "stdout",
     "output_type": "stream",
     "text": [
      "[1] 2\n",
      "[1] 1\n",
      "[1] 2\n",
      "NULL\n"
     ]
    }
   ],
   "source": [
    "f(2)"
   ]
  },
  {
   "cell_type": "markdown",
   "metadata": {},
   "source": [
    "## - Lazy evaluation\n",
    "\n",
    "* Arguments to functions are evaluated lazily (only as need)"
   ]
  },
  {
   "cell_type": "code",
   "execution_count": 5,
   "metadata": {},
   "outputs": [
    {
     "data": {
      "text/html": [
       "4"
      ],
      "text/latex": [
       "4"
      ],
      "text/markdown": [
       "4"
      ],
      "text/plain": [
       "[1] 4"
      ]
     },
     "metadata": {},
     "output_type": "display_data"
    }
   ],
   "source": [
    "f <- function(a,b) {\n",
    "    a^2\n",
    "}\n",
    "f(2)"
   ]
  },
  {
   "cell_type": "code",
   "execution_count": 6,
   "metadata": {},
   "outputs": [
    {
     "name": "stdout",
     "output_type": "stream",
     "text": [
      "[1] 45\n"
     ]
    },
    {
     "ename": "ERROR",
     "evalue": "Error in print(b): argument \"b\" is missing, with no default\n",
     "output_type": "error",
     "traceback": [
      "Error in print(b): argument \"b\" is missing, with no default\nTraceback:\n",
      "1. f(45)",
      "2. print(b)   # at line 3 of file <text>"
     ]
    }
   ],
   "source": [
    "f <- function(a,b) {\n",
    "    print(a)\n",
    "    print(b)\n",
    "}\n",
    "f(45)"
   ]
  },
  {
   "cell_type": "markdown",
   "metadata": {},
   "source": [
    "## - The \"...\" argument\n",
    "\n",
    "* It indicates a variable number of arguments that are usually passed on to other functions;\n",
    "* It's often used when extending another function and you don't want to copy the entire argument list of the original function."
   ]
  },
  {
   "cell_type": "code",
   "execution_count": 7,
   "metadata": {},
   "outputs": [],
   "source": [
    "mplot <- function(x,y,type=\"l\",...) {\n",
    "    plot(x,y,type=type,...)\n",
    "}"
   ]
  },
  {
   "cell_type": "markdown",
   "metadata": {},
   "source": [
    "* Generic functions use \"...\" so that extra arguments can be passed to methods (more on this later)."
   ]
  },
  {
   "cell_type": "code",
   "execution_count": 8,
   "metadata": {},
   "outputs": [
    {
     "data": {
      "text/html": [
       "<pre class=language-r><code>function (x, ...) \n",
       "UseMethod(\"mean\")</code></pre>"
      ],
      "text/latex": [
       "\\begin{minted}{r}\n",
       "function (x, ...) \n",
       "UseMethod(\"mean\")\n",
       "\\end{minted}"
      ],
      "text/markdown": [
       "```r\n",
       "function (x, ...) \n",
       "UseMethod(\"mean\")\n",
       "```"
      ],
      "text/plain": [
       "function (x, ...) \n",
       "UseMethod(\"mean\")\n",
       "<bytecode: 0x2f7f250>\n",
       "<environment: namespace:base>"
      ]
     },
     "metadata": {},
     "output_type": "display_data"
    }
   ],
   "source": [
    "mean"
   ]
  },
  {
   "cell_type": "markdown",
   "metadata": {},
   "source": [
    "* It is also necessary when the number of arguments passed to the function cannot be known in advance."
   ]
  },
  {
   "cell_type": "code",
   "execution_count": 11,
   "metadata": {},
   "outputs": [
    {
     "data": {
      "text/html": [
       "<pre class=language-r><code>function (..., sep = \" \", collapse = NULL) \n",
       "NULL</code></pre>"
      ],
      "text/latex": [
       "\\begin{minted}{r}\n",
       "function (..., sep = \" \", collapse = NULL) \n",
       "NULL\n",
       "\\end{minted}"
      ],
      "text/markdown": [
       "```r\n",
       "function (..., sep = \" \", collapse = NULL) \n",
       "NULL\n",
       "```"
      ],
      "text/plain": [
       "function (..., sep = \" \", collapse = NULL) \n",
       "NULL"
      ]
     },
     "metadata": {},
     "output_type": "display_data"
    }
   ],
   "source": [
    "args(paste)"
   ]
  },
  {
   "cell_type": "code",
   "execution_count": 10,
   "metadata": {},
   "outputs": [
    {
     "data": {
      "text/html": [
       "<pre class=language-r><code>function (..., file = \"\", sep = \" \", fill = FALSE, labels = NULL, \n",
       "<span style=white-space:pre-wrap>    append = FALSE) </span>\n",
       "NULL</code></pre>"
      ],
      "text/latex": [
       "\\begin{minted}{r}\n",
       "function (..., file = \"\", sep = \" \", fill = FALSE, labels = NULL, \n",
       "    append = FALSE) \n",
       "NULL\n",
       "\\end{minted}"
      ],
      "text/markdown": [
       "```r\n",
       "function (..., file = \"\", sep = \" \", fill = FALSE, labels = NULL, \n",
       "    append = FALSE) \n",
       "NULL\n",
       "```"
      ],
      "text/plain": [
       "function (..., file = \"\", sep = \" \", fill = FALSE, labels = NULL, \n",
       "    append = FALSE) \n",
       "NULL"
      ]
     },
     "metadata": {},
     "output_type": "display_data"
    }
   ],
   "source": [
    "args(cat)"
   ]
  },
  {
   "cell_type": "markdown",
   "metadata": {},
   "source": [
    "* Any argument that appear after \"...\" on the argument list must be  named explicity and cannot be partially map."
   ]
  },
  {
   "cell_type": "code",
   "execution_count": 12,
   "metadata": {},
   "outputs": [
    {
     "data": {
      "text/html": [
       "<pre class=language-r><code>function (..., sep = \" \", collapse = NULL) \n",
       "NULL</code></pre>"
      ],
      "text/latex": [
       "\\begin{minted}{r}\n",
       "function (..., sep = \" \", collapse = NULL) \n",
       "NULL\n",
       "\\end{minted}"
      ],
      "text/markdown": [
       "```r\n",
       "function (..., sep = \" \", collapse = NULL) \n",
       "NULL\n",
       "```"
      ],
      "text/plain": [
       "function (..., sep = \" \", collapse = NULL) \n",
       "NULL"
      ]
     },
     "metadata": {},
     "output_type": "display_data"
    },
    {
     "data": {
      "text/html": [
       "'a:b'"
      ],
      "text/latex": [
       "'a:b'"
      ],
      "text/markdown": [
       "'a:b'"
      ],
      "text/plain": [
       "[1] \"a:b\""
      ]
     },
     "metadata": {},
     "output_type": "display_data"
    },
    {
     "data": {
      "text/html": [
       "'a b :'"
      ],
      "text/latex": [
       "'a b :'"
      ],
      "text/markdown": [
       "'a b :'"
      ],
      "text/plain": [
       "[1] \"a b :\""
      ]
     },
     "metadata": {},
     "output_type": "display_data"
    }
   ],
   "source": [
    "args(paste)\n",
    "paste(\"a\", \"b\", sep=\":\")\n",
    "paste(\"a\", \"b\", se=\":\")"
   ]
  },
  {
   "cell_type": "markdown",
   "metadata": {},
   "source": [
    "---\n",
    "# Scoping rules - Symbol binding\n",
    "\n",
    "## - A diversion on binding values to symbol\n",
    "\n",
    "* `lm()` already exist as a function for linear model"
   ]
  },
  {
   "cell_type": "code",
   "execution_count": 3,
   "metadata": {},
   "outputs": [
    {
     "data": {
      "text/html": [
       "<pre class=language-r><code>function (x) \n",
       "{\n",
       "<span style=white-space:pre-wrap>    x * x</span>\n",
       "}</code></pre>"
      ],
      "text/latex": [
       "\\begin{minted}{r}\n",
       "function (x) \n",
       "\\{\n",
       "    x * x\n",
       "\\}\n",
       "\\end{minted}"
      ],
      "text/markdown": [
       "```r\n",
       "function (x) \n",
       "{\n",
       "    x * x\n",
       "}\n",
       "```"
      ],
      "text/plain": [
       "function(x) { x*x }"
      ]
     },
     "metadata": {},
     "output_type": "display_data"
    }
   ],
   "source": [
    "lm <- function(x) { x*x }\n",
    "lm"
   ]
  },
  {
   "cell_type": "markdown",
   "metadata": {},
   "source": [
    "* When R tries to bind a value to a symbol, it searches through a series of enviroments to find the appropriate value;\n",
    "* When you are working on the command line and need to retrieve the value of an R object, the order is:\n",
    "    1. Search the global enviroment for a symbol name matching the one requested;\n",
    "    2. Search the namespaces of each of the packages on the search list"
   ]
  },
  {
   "cell_type": "code",
   "execution_count": 4,
   "metadata": {},
   "outputs": [
    {
     "data": {
      "text/html": [
       "<ol class=list-inline>\n",
       "\t<li>'.GlobalEnv'</li>\n",
       "\t<li>'jupyter:irkernel'</li>\n",
       "\t<li>'jupyter:irkernel'</li>\n",
       "\t<li>'package:stats'</li>\n",
       "\t<li>'package:graphics'</li>\n",
       "\t<li>'package:grDevices'</li>\n",
       "\t<li>'package:utils'</li>\n",
       "\t<li>'package:datasets'</li>\n",
       "\t<li>'package:methods'</li>\n",
       "\t<li>'Autoloads'</li>\n",
       "\t<li>'package:base'</li>\n",
       "</ol>\n"
      ],
      "text/latex": [
       "\\begin{enumerate*}\n",
       "\\item '.GlobalEnv'\n",
       "\\item 'jupyter:irkernel'\n",
       "\\item 'jupyter:irkernel'\n",
       "\\item 'package:stats'\n",
       "\\item 'package:graphics'\n",
       "\\item 'package:grDevices'\n",
       "\\item 'package:utils'\n",
       "\\item 'package:datasets'\n",
       "\\item 'package:methods'\n",
       "\\item 'Autoloads'\n",
       "\\item 'package:base'\n",
       "\\end{enumerate*}\n"
      ],
      "text/markdown": [
       "1. '.GlobalEnv'\n",
       "2. 'jupyter:irkernel'\n",
       "3. 'jupyter:irkernel'\n",
       "4. 'package:stats'\n",
       "5. 'package:graphics'\n",
       "6. 'package:grDevices'\n",
       "7. 'package:utils'\n",
       "8. 'package:datasets'\n",
       "9. 'package:methods'\n",
       "10. 'Autoloads'\n",
       "11. 'package:base'\n",
       "\n",
       "\n"
      ],
      "text/plain": [
       " [1] \".GlobalEnv\"        \"jupyter:irkernel\"  \"jupyter:irkernel\" \n",
       " [4] \"package:stats\"     \"package:graphics\"  \"package:grDevices\"\n",
       " [7] \"package:utils\"     \"package:datasets\"  \"package:methods\"  \n",
       "[10] \"Autoloads\"         \"package:base\"     "
      ]
     },
     "metadata": {},
     "output_type": "display_data"
    }
   ],
   "source": [
    "search()"
   ]
  },
  {
   "cell_type": "markdown",
   "metadata": {},
   "source": [
    "* R search in each packagen and so if there's a symbol there that matches the name of the one that you're requesting then it will take that symbol and retrieve the value that's associated with that symbol;\n",
    "* In the case above, I've defined `lm()` in my global environment that always comes first (\".GlobalEnv\");\n",
    "* If there's no match in the global environment, then R will search the namespaces of each of the packages on the search list.\n",
    "* The order of the packages on the search list matters (it is configurable);\n",
    "* When a user loads a package with `library()` the namespace of that package gets put in position 2 of the search list (by default) and everything else gets shifted down the list;\n",
    "* The scoping rules for R are the main feature that make it different from the original S language:\n",
    "    * It determines how a value is associated with a free variable in a function;\n",
    "    * Uses *lexical scoping* or *static scoping* (common alternative is *dynamic scoping*);\n",
    "    * How R uses the search list to bind a value to a symbol;\n",
    "    * *Lexical scoping* turns out to be particulary useful for simplifying statistical computations."
   ]
  },
  {
   "cell_type": "code",
   "execution_count": 5,
   "metadata": {},
   "outputs": [],
   "source": [
    "f <- function(x,y) {\n",
    "    x^2+y/z\n",
    "}"
   ]
  },
  {
   "cell_type": "markdown",
   "metadata": {},
   "source": [
    "* In the case above `z` is called a *free variable*\n",
    "* *Free variables* are not formal arguments and are not local variables (assigned insided the function body)\n",
    "\n",
    "## - Lexical scoping\n",
    "\n",
    "* It means that *the values of free variables are searched for in the environment in which the function was defined*;\n",
    "* An *environment* is a collection of pairs (symbol - value; x=3.14); \n",
    "* Every environment has a parent environment (is possible for an environment to have multiple \"children\", except the *empty environment*);\n",
    "* *closure* or *function closure* = function + environment.\n",
    "* Searching for the value for a *free variable*:\n",
    "    * If the value of a symbol is not found in the environment in which a function was defined, then the search is continued in the *parent environment*;\n",
    "    * The search continues down the sequence of parent environmnets until it hit the *top-level environment* (usually the global environment or the namespace of a package);\n",
    "    * After the *top-level environment*, the search continues down the search list until we hit the *empty environment*. If a value for a givevn symbol cannot be found once the empty environment is arrived at, then an error is thrown.\n",
    "* Tipically, a function is defined in the global environment, so that the values of free variables are just found in the user's workspace;\n",
    "* In R you can have functions defined *inside other functions*. In this case the environment in which a function is defined is the body of another function.\n"
   ]
  },
  {
   "cell_type": "code",
   "execution_count": 1,
   "metadata": {},
   "outputs": [
    {
     "data": {
      "text/html": [
       "27"
      ],
      "text/latex": [
       "27"
      ],
      "text/markdown": [
       "27"
      ],
      "text/plain": [
       "[1] 27"
      ]
     },
     "metadata": {},
     "output_type": "display_data"
    },
    {
     "data": {
      "text/html": [
       "9"
      ],
      "text/latex": [
       "9"
      ],
      "text/markdown": [
       "9"
      ],
      "text/plain": [
       "[1] 9"
      ]
     },
     "metadata": {},
     "output_type": "display_data"
    }
   ],
   "source": [
    "make.power <- function(n) {\n",
    "    pow <- function(x) {\n",
    "        x^n\n",
    "    }\n",
    "    pow\n",
    "}\n",
    "\n",
    "cube <- make.power(3)\n",
    "square <- make.power(2)\n",
    "cube(3)\n",
    "square(3)"
   ]
  },
  {
   "cell_type": "markdown",
   "metadata": {},
   "source": [
    "* What's in a function's environment?"
   ]
  },
  {
   "cell_type": "code",
   "execution_count": 3,
   "metadata": {},
   "outputs": [
    {
     "data": {
      "text/html": [
       "<ol class=list-inline>\n",
       "\t<li>'n'</li>\n",
       "\t<li>'pow'</li>\n",
       "</ol>\n"
      ],
      "text/latex": [
       "\\begin{enumerate*}\n",
       "\\item 'n'\n",
       "\\item 'pow'\n",
       "\\end{enumerate*}\n"
      ],
      "text/markdown": [
       "1. 'n'\n",
       "2. 'pow'\n",
       "\n",
       "\n"
      ],
      "text/plain": [
       "[1] \"n\"   \"pow\""
      ]
     },
     "metadata": {},
     "output_type": "display_data"
    },
    {
     "data": {
      "text/html": [
       "3"
      ],
      "text/latex": [
       "3"
      ],
      "text/markdown": [
       "3"
      ],
      "text/plain": [
       "[1] 3"
      ]
     },
     "metadata": {},
     "output_type": "display_data"
    },
    {
     "data": {
      "text/html": [
       "<ol class=list-inline>\n",
       "\t<li>'n'</li>\n",
       "\t<li>'pow'</li>\n",
       "</ol>\n"
      ],
      "text/latex": [
       "\\begin{enumerate*}\n",
       "\\item 'n'\n",
       "\\item 'pow'\n",
       "\\end{enumerate*}\n"
      ],
      "text/markdown": [
       "1. 'n'\n",
       "2. 'pow'\n",
       "\n",
       "\n"
      ],
      "text/plain": [
       "[1] \"n\"   \"pow\""
      ]
     },
     "metadata": {},
     "output_type": "display_data"
    },
    {
     "data": {
      "text/html": [
       "2"
      ],
      "text/latex": [
       "2"
      ],
      "text/markdown": [
       "2"
      ],
      "text/plain": [
       "[1] 2"
      ]
     },
     "metadata": {},
     "output_type": "display_data"
    }
   ],
   "source": [
    "ls(environment(cube))\n",
    "get(\"n\", environment(cube))\n",
    "ls(environment(square))\n",
    "get(\"n\", environment(square))"
   ]
  },
  {
   "cell_type": "code",
   "execution_count": 4,
   "metadata": {},
   "outputs": [
    {
     "data": {
      "text/html": [
       "34"
      ],
      "text/latex": [
       "34"
      ],
      "text/markdown": [
       "34"
      ],
      "text/plain": [
       "[1] 34"
      ]
     },
     "metadata": {},
     "output_type": "display_data"
    }
   ],
   "source": [
    "y <- 10\n",
    "f <- function(x) {\n",
    "    y <- 2\n",
    "    y^2 + g(x)\n",
    "}\n",
    "\n",
    "g <- function(x) {\n",
    "    x*y\n",
    "}\n",
    "f(3)"
   ]
  },
  {
   "cell_type": "markdown",
   "metadata": {},
   "source": [
    "## - Lexical vs. Dynamic scoping\n",
    "\n",
    "* With lexical scoping the value of `y` in the function `g` is looked up in the environment in which the function was defined, in this case the global environment, so the value of `y` is 10;\n",
    "* With dynamic scoping, the value of `y` is looked up in the environment from which the function was `called`(sometimes referred to as the *calling environment*). So the value of `y` would be 2;\n",
    "    * In R the calling environment is known as the *parent frame*\n",
    "* When a function is *defined* in the global environment and is subsequently *called* from the global environment, then the defining environment and the calling environment are the same. This can sometimes give the appearance of dynamic scoping;"
   ]
  },
  {
   "cell_type": "code",
   "execution_count": 7,
   "metadata": {},
   "outputs": [
    {
     "ename": "ERROR",
     "evalue": "Error in g(2): object 'h' not found\n",
     "output_type": "error",
     "traceback": [
      "Error in g(2): object 'h' not found\nTraceback:\n",
      "1. g(2)"
     ]
    }
   ],
   "source": [
    "g <- function(x) {\n",
    "    a <- 3\n",
    "    x+a+h\n",
    "}\n",
    "g(2)"
   ]
  },
  {
   "cell_type": "code",
   "execution_count": 8,
   "metadata": {},
   "outputs": [
    {
     "data": {
      "text/html": [
       "8"
      ],
      "text/latex": [
       "8"
      ],
      "text/markdown": [
       "8"
      ],
      "text/plain": [
       "[1] 8"
      ]
     },
     "metadata": {},
     "output_type": "display_data"
    }
   ],
   "source": [
    "h <- 3\n",
    "g(2)"
   ]
  },
  {
   "cell_type": "markdown",
   "metadata": {},
   "source": [
    "## - Other languages\n",
    "\n",
    "* That support lexical scoping: Scheme, Perl, Python, Common Lisp (all languages converge to Lisp)\n",
    "\n",
    "## - Consequences of lexical scoping\n",
    "\n",
    "* All objects must be stored in memory\n",
    "* All functions must carry a pointer to their respective defining environments, which could be anywhere;\n",
    "* In S-PLUS, free variables are always looked up in the global workspace, so everything can be stored on the disk because the \"defining environment\" of all functions is the same.\n",
    "\n",
    "---\n",
    "# Application: Optimization\n",
    "\n",
    "* Optimization routines in R like `optim`, `nlm` and `optimize` require you to pass a function whose argument is a vector of parameters (eg.: a log-likelihood);\n",
    "* However, an object function might depend on a host of other things besides its parameters (like *data*);\n",
    "* When writingn software whichh does optimization, it may be desirable to allow the user to hold certain parameters fixed.\n",
    "\n",
    "## - Maximizing a normal likelihood\n",
    "\n",
    "* Construtor function:"
   ]
  },
  {
   "cell_type": "code",
   "execution_count": 11,
   "metadata": {},
   "outputs": [],
   "source": [
    "make.NegLogLik <- function(data, fixed=c(FALSE, FALSE)) {\n",
    "    params <- fixed\n",
    "    function(p) {\n",
    "        params[!fixed] <- p\n",
    "        mu <- params[1]\n",
    "        sigma <- params[2]\n",
    "        a <- -0.5*length(data)*log(2*pi*sigma^2)\n",
    "        b <- -0.5*sum((data-mu)^2) / (sigma^2)\n",
    "        -(a+b)\n",
    "    }\n",
    "}"
   ]
  },
  {
   "cell_type": "markdown",
   "metadata": {},
   "source": [
    "> Optimization functions in R *minimize* functions, so you need to use the negative log-likelihood."
   ]
  },
  {
   "cell_type": "code",
   "execution_count": 12,
   "metadata": {},
   "outputs": [
    {
     "data": {
      "text/html": [
       "<pre class=language-r><code>function (p) \n",
       "{\n",
       "<span style=white-space:pre-wrap>    params[!fixed] &lt;- p</span>\n",
       "<span style=white-space:pre-wrap>    mu &lt;- params[1]</span>\n",
       "<span style=white-space:pre-wrap>    sigma &lt;- params[2]</span>\n",
       "<span style=white-space:pre-wrap>    a &lt;- -0.5 * length(data) * log(2 * pi * sigma^2)</span>\n",
       "<span style=white-space:pre-wrap>    b &lt;- -0.5 * sum((data - mu)^2)/(sigma^2)</span>\n",
       "<span style=white-space:pre-wrap>    -(a + b)</span>\n",
       "}</code></pre>"
      ],
      "text/latex": [
       "\\begin{minted}{r}\n",
       "function (p) \n",
       "\\{\n",
       "    params{[}!fixed{]} <- p\n",
       "    mu <- params{[}1{]}\n",
       "    sigma <- params{[}2{]}\n",
       "    a <- -0.5 * length(data) * log(2 * pi * sigma\\textasciicircum{}2)\n",
       "    b <- -0.5 * sum((data - mu)\\textasciicircum{}2)/(sigma\\textasciicircum{}2)\n",
       "    -(a + b)\n",
       "\\}\n",
       "\\end{minted}"
      ],
      "text/markdown": [
       "```r\n",
       "function (p) \n",
       "{\n",
       "    params[!fixed] <- p\n",
       "    mu <- params[1]\n",
       "    sigma <- params[2]\n",
       "    a <- -0.5 * length(data) * log(2 * pi * sigma^2)\n",
       "    b <- -0.5 * sum((data - mu)^2)/(sigma^2)\n",
       "    -(a + b)\n",
       "}\n",
       "```"
      ],
      "text/plain": [
       "function(p) {\n",
       "        params[!fixed] <- p\n",
       "        mu <- params[1]\n",
       "        sigma <- params[2]\n",
       "        a <- -0.5*length(data)*log(2*pi*sigma^2)\n",
       "        b <- -0.5*sum((data-mu)^2) / (sigma^2)\n",
       "        -(a+b)\n",
       "    }\n",
       "<bytecode: 0x4679108>\n",
       "<environment: 0x4249768>"
      ]
     },
     "metadata": {},
     "output_type": "display_data"
    },
    {
     "data": {
      "text/html": [
       "<ol class=list-inline>\n",
       "\t<li>'data'</li>\n",
       "\t<li>'fixed'</li>\n",
       "\t<li>'params'</li>\n",
       "</ol>\n"
      ],
      "text/latex": [
       "\\begin{enumerate*}\n",
       "\\item 'data'\n",
       "\\item 'fixed'\n",
       "\\item 'params'\n",
       "\\end{enumerate*}\n"
      ],
      "text/markdown": [
       "1. 'data'\n",
       "2. 'fixed'\n",
       "3. 'params'\n",
       "\n",
       "\n"
      ],
      "text/plain": [
       "[1] \"data\"   \"fixed\"  \"params\""
      ]
     },
     "metadata": {},
     "output_type": "display_data"
    }
   ],
   "source": [
    "set.seed(1); normals <- rnorm(100, 1, 2)\n",
    "nLL <- make.NegLogLik(normals)\n",
    "nLL\n",
    "ls(environment(nLL))"
   ]
  },
  {
   "cell_type": "markdown",
   "metadata": {},
   "source": [
    "## - Estimating parameters"
   ]
  },
  {
   "cell_type": "code",
   "execution_count": 13,
   "metadata": {},
   "outputs": [
    {
     "data": {
      "text/html": [
       "<dl class=dl-horizontal>\n",
       "\t<dt>mu</dt>\n",
       "\t\t<dd>1.21823870094054</dd>\n",
       "\t<dt>sigma</dt>\n",
       "\t\t<dd>1.78734322778414</dd>\n",
       "</dl>\n"
      ],
      "text/latex": [
       "\\begin{description*}\n",
       "\\item[mu] 1.21823870094054\n",
       "\\item[sigma] 1.78734322778414\n",
       "\\end{description*}\n"
      ],
      "text/markdown": [
       "mu\n",
       ":   1.21823870094054sigma\n",
       ":   1.78734322778414\n",
       "\n"
      ],
      "text/plain": [
       "      mu    sigma \n",
       "1.218239 1.787343 "
      ]
     },
     "metadata": {},
     "output_type": "display_data"
    }
   ],
   "source": [
    "optim(c(mu=0, sigma=1), nLL)$par"
   ]
  },
  {
   "cell_type": "markdown",
   "metadata": {},
   "source": [
    "* Fixing sigma=2"
   ]
  },
  {
   "cell_type": "code",
   "execution_count": 14,
   "metadata": {},
   "outputs": [
    {
     "data": {
      "text/html": [
       "1.21777473382931"
      ],
      "text/latex": [
       "1.21777473382931"
      ],
      "text/markdown": [
       "1.21777473382931"
      ],
      "text/plain": [
       "[1] 1.217775"
      ]
     },
     "metadata": {},
     "output_type": "display_data"
    }
   ],
   "source": [
    "nLL <- make.NegLogLik(normals, c(FALSE, 2))\n",
    "optimize(nLL, c(-1, 3))$minimum"
   ]
  },
  {
   "cell_type": "markdown",
   "metadata": {},
   "source": [
    "* Fixing  mu=1"
   ]
  },
  {
   "cell_type": "code",
   "execution_count": 15,
   "metadata": {},
   "outputs": [
    {
     "data": {
      "text/html": [
       "1.80059579512448"
      ],
      "text/latex": [
       "1.80059579512448"
      ],
      "text/markdown": [
       "1.80059579512448"
      ],
      "text/plain": [
       "[1] 1.800596"
      ]
     },
     "metadata": {},
     "output_type": "display_data"
    }
   ],
   "source": [
    "nLL <- make.NegLogLik(normals, c(1, FALSE))\n",
    "optimize(nLL, c(1e-6, 10))$minimum"
   ]
  },
  {
   "cell_type": "markdown",
   "metadata": {},
   "source": [
    "## - Plotting the likelihood"
   ]
  },
  {
   "cell_type": "code",
   "execution_count": 18,
   "metadata": {
    "scrolled": true
   },
   "outputs": [
    {
     "data": {
      "image/png": "[encoded data removed]",
      "text/plain": [
       "plot without title"
      ]
     },
     "metadata": {},
     "output_type": "display_data"
    },
    {
     "data": {
      "image/png": "[encoded data removed]",
      "text/plain": [
       "plot without title"
      ]
     },
     "metadata": {},
     "output_type": "display_data"
    }
   ],
   "source": [
    "nLL <- make.NegLogLik(normals, c(1, FALSE))\n",
    "x <- seq(1.7, 1.9, len=100)\n",
    "y <- sapply(x, nLL)\n",
    "plot(x, exp(-(y - min(y))), type=\"l\")\n",
    "\n",
    "nLL <- make.NegLogLik(normals, c(FALSE, 2))\n",
    "x <- seq(0.5, 1.5, len=100)\n",
    "y <- sapply(x, nLL)\n",
    "plot(x, exp(-(y-min(y))), type=\"l\")"
   ]
  },
  {
   "cell_type": "markdown",
   "metadata": {},
   "source": [
    "## - Lexical scoping summary\n",
    "\n",
    "* Objective functions can be \"built\" which contain all of the necessary data for evaluating the function;\n",
    "* No need to carry around long argument lists - useful for interactive and exploratory work;\n",
    "* Code can be simplified and cleand up;\n",
    "* Reference: *Robert Gentleman and Ross Ihaka (2000). \"Lexical scope and statistical computing\" JGGs, 9, 491-508*."
   ]
  },
  {
   "cell_type": "markdown",
   "metadata": {},
   "source": [
    "---\n",
    "# Coding standards\n",
    "\n",
    "> *\"... make your code readable and allow you and other people to understand what's going on in your code.\"*\n",
    "\n",
    "1. You should always write your code using a text editor and save it as a text file (ASCII);\n",
    "2. Indenting your code (indents of 4 spaces at minimum, 8 spaces are ideal);\n",
    "3. Limit the width of your code (80 columns?);\n",
    "4. Limit the length of individual functions.\n",
    "\n",
    "---\n",
    "# Dates and times\n",
    "\n",
    "* Dates are represented by the `Date` class;\n",
    "* Times are represented by the `POSIXct` or the `POSIXlt` class;\n",
    "* Dates are stored internally as the number of days since 1970-01-01;\n",
    "* Times are stored internally as the number of seconds since 1970-01-01;\n",
    "* Dates can be coerced from a character string using the `as.Date()` function:"
   ]
  },
  {
   "cell_type": "code",
   "execution_count": 22,
   "metadata": {},
   "outputs": [
    {
     "data": {
      "text/html": [
       "<time datetime=\"1970-01-01\">1970-01-01</time>"
      ],
      "text/latex": [
       "1970-01-01"
      ],
      "text/markdown": [
       "1970-01-01"
      ],
      "text/plain": [
       "[1] \"1970-01-01\""
      ]
     },
     "metadata": {},
     "output_type": "display_data"
    },
    {
     "data": {
      "text/html": [
       "0"
      ],
      "text/latex": [
       "0"
      ],
      "text/markdown": [
       "0"
      ],
      "text/plain": [
       "[1] 0"
      ]
     },
     "metadata": {},
     "output_type": "display_data"
    },
    {
     "data": {
      "text/html": [
       "1"
      ],
      "text/latex": [
       "1"
      ],
      "text/markdown": [
       "1"
      ],
      "text/plain": [
       "[1] 1"
      ]
     },
     "metadata": {},
     "output_type": "display_data"
    },
    {
     "data": {
      "text/html": [
       "-1"
      ],
      "text/latex": [
       "-1"
      ],
      "text/markdown": [
       "-1"
      ],
      "text/plain": [
       "[1] -1"
      ]
     },
     "metadata": {},
     "output_type": "display_data"
    }
   ],
   "source": [
    "x <- as.Date(\"1970-01-01\")\n",
    "x\n",
    "unclass(x)\n",
    "unclass(as.Date(\"1970-01-02\"))\n",
    "unclass(as.Date(\"1969-12-31\"))"
   ]
  },
  {
   "cell_type": "markdown",
   "metadata": {},
   "source": [
    "## - Times in R\n",
    "\n",
    "* `POSIXct` is just a very large integer under the hood. It use a useful class when you want to store times in something like a data frame;\n",
    "* `POSIXlt` is a list undermeath and it stores a bunch of other useful information like the day of the week, day of the year, moth, day of the month;\n",
    "* `weekdays` give the day of the week;\n",
    "* `months` give the month name;\n",
    "* `quarters` give the quarter number (*Q1*, *Q2*, *Q3* or *Q4*)\n",
    "* Times can be coerced from a character string using the `as.POSIXlt()` or `as.POSIXct()` functions:"
   ]
  },
  {
   "cell_type": "code",
   "execution_count": 26,
   "metadata": {},
   "outputs": [
    {
     "data": {
      "text/plain": [
       "[1] \"2018-04-16 16:29:19 -03\""
      ]
     },
     "metadata": {},
     "output_type": "display_data"
    },
    {
     "data": {
      "text/html": [
       "<ol class=list-inline>\n",
       "\t<li>'sec'</li>\n",
       "\t<li>'min'</li>\n",
       "\t<li>'hour'</li>\n",
       "\t<li>'mday'</li>\n",
       "\t<li>'mon'</li>\n",
       "\t<li>'year'</li>\n",
       "\t<li>'wday'</li>\n",
       "\t<li>'yday'</li>\n",
       "\t<li>'isdst'</li>\n",
       "\t<li>'zone'</li>\n",
       "\t<li>'gmtoff'</li>\n",
       "</ol>\n"
      ],
      "text/latex": [
       "\\begin{enumerate*}\n",
       "\\item 'sec'\n",
       "\\item 'min'\n",
       "\\item 'hour'\n",
       "\\item 'mday'\n",
       "\\item 'mon'\n",
       "\\item 'year'\n",
       "\\item 'wday'\n",
       "\\item 'yday'\n",
       "\\item 'isdst'\n",
       "\\item 'zone'\n",
       "\\item 'gmtoff'\n",
       "\\end{enumerate*}\n"
      ],
      "text/markdown": [
       "1. 'sec'\n",
       "2. 'min'\n",
       "3. 'hour'\n",
       "4. 'mday'\n",
       "5. 'mon'\n",
       "6. 'year'\n",
       "7. 'wday'\n",
       "8. 'yday'\n",
       "9. 'isdst'\n",
       "10. 'zone'\n",
       "11. 'gmtoff'\n",
       "\n",
       "\n"
      ],
      "text/plain": [
       " [1] \"sec\"    \"min\"    \"hour\"   \"mday\"   \"mon\"    \"year\"   \"wday\"   \"yday\"  \n",
       " [9] \"isdst\"  \"zone\"   \"gmtoff\""
      ]
     },
     "metadata": {},
     "output_type": "display_data"
    },
    {
     "data": {
      "text/html": [
       "16"
      ],
      "text/latex": [
       "16"
      ],
      "text/markdown": [
       "16"
      ],
      "text/plain": [
       "[1] 16"
      ]
     },
     "metadata": {},
     "output_type": "display_data"
    },
    {
     "data": {
      "text/html": [
       "105"
      ],
      "text/latex": [
       "105"
      ],
      "text/markdown": [
       "105"
      ],
      "text/plain": [
       "[1] 105"
      ]
     },
     "metadata": {},
     "output_type": "display_data"
    },
    {
     "data": {
      "text/html": [
       "1"
      ],
      "text/latex": [
       "1"
      ],
      "text/markdown": [
       "1"
      ],
      "text/plain": [
       "[1] 1"
      ]
     },
     "metadata": {},
     "output_type": "display_data"
    },
    {
     "data": {
      "text/html": [
       "19.8057038784027"
      ],
      "text/latex": [
       "19.8057038784027"
      ],
      "text/markdown": [
       "19.8057038784027"
      ],
      "text/plain": [
       "[1] 19.8057"
      ]
     },
     "metadata": {},
     "output_type": "display_data"
    }
   ],
   "source": [
    "x <- Sys.time()\n",
    "x\n",
    "p <- as.POSIXlt(x)\n",
    "names(unclass(p))\n",
    "p$mday\n",
    "p$yday\n",
    "p$wday\n",
    "p$sec"
   ]
  },
  {
   "cell_type": "code",
   "execution_count": 29,
   "metadata": {},
   "outputs": [
    {
     "data": {
      "text/html": [
       "1523906959.8057"
      ],
      "text/latex": [
       "1523906959.8057"
      ],
      "text/markdown": [
       "1523906959.8057"
      ],
      "text/plain": [
       "[1] 1523906960"
      ]
     },
     "metadata": {},
     "output_type": "display_data"
    },
    {
     "data": {
      "text/html": [
       "19.8057038784027"
      ],
      "text/latex": [
       "19.8057038784027"
      ],
      "text/markdown": [
       "19.8057038784027"
      ],
      "text/plain": [
       "[1] 19.8057"
      ]
     },
     "metadata": {},
     "output_type": "display_data"
    },
    {
     "ename": "ERROR",
     "evalue": "Error in x$sec: $ operator is invalid for atomic vectors\n",
     "output_type": "error",
     "traceback": [
      "Error in x$sec: $ operator is invalid for atomic vectors\nTraceback:\n"
     ]
    }
   ],
   "source": [
    "unclass(x)\n",
    "p$sec\n",
    "x$sec"
   ]
  },
  {
   "cell_type": "markdown",
   "metadata": {},
   "source": [
    "* Finally, there is the `strptime` function in case your dates are written in a different format:"
   ]
  },
  {
   "cell_type": "code",
   "execution_count": 44,
   "metadata": {},
   "outputs": [
    {
     "data": {
      "text/plain": [
       "[1] NA NA"
      ]
     },
     "metadata": {},
     "output_type": "display_data"
    },
    {
     "data": {
      "text/html": [
       "<ol class=list-inline>\n",
       "\t<li>'POSIXlt'</li>\n",
       "\t<li>'POSIXt'</li>\n",
       "</ol>\n"
      ],
      "text/latex": [
       "\\begin{enumerate*}\n",
       "\\item 'POSIXlt'\n",
       "\\item 'POSIXt'\n",
       "\\end{enumerate*}\n"
      ],
      "text/markdown": [
       "1. 'POSIXlt'\n",
       "2. 'POSIXt'\n",
       "\n",
       "\n"
      ],
      "text/plain": [
       "[1] \"POSIXlt\" \"POSIXt\" "
      ]
     },
     "metadata": {},
     "output_type": "display_data"
    }
   ],
   "source": [
    "datestring <- c(\"January 10, 2012 10:40\", \"December 9, 2011 9:10\")\n",
    "x <- strptime(datestring,format=\"%B %d, %Y %H:%M\")\n",
    "x\n",
    "class(x)"
   ]
  },
  {
   "cell_type": "code",
   "execution_count": 33,
   "metadata": {},
   "outputs": [],
   "source": [
    "?strptime"
   ]
  },
  {
   "cell_type": "markdown",
   "metadata": {},
   "source": [
    "## - Operations on dates and times\n",
    "\n",
    "* You can use mathematical operations on dates and times (+,-,==,<=,...)"
   ]
  },
  {
   "cell_type": "code",
   "execution_count": 46,
   "metadata": {},
   "outputs": [
    {
     "name": "stderr",
     "output_type": "stream",
     "text": [
      "Warning message in eval(expr, envir, enclos):\n",
      "“Incompatible methods (\"-.Date\", \"-.POSIXt\") for \"-\"”"
     ]
    },
    {
     "ename": "ERROR",
     "evalue": "Error in x - y: non-numeric argument to binary operator\n",
     "output_type": "error",
     "traceback": [
      "Error in x - y: non-numeric argument to binary operator\nTraceback:\n"
     ]
    }
   ],
   "source": [
    "x <- as.Date(\"2012-01-01\")\n",
    "y <- strptime(\"9 Jan 2011 11:34:21\", \"%d %b %Y %H:%M:%S\")\n",
    "x-y"
   ]
  },
  {
   "cell_type": "code",
   "execution_count": 47,
   "metadata": {},
   "outputs": [
    {
     "data": {
      "text/plain": [
       "Time difference of 356.3928 days"
      ]
     },
     "metadata": {},
     "output_type": "display_data"
    }
   ],
   "source": [
    "x <- as.POSIXlt(x)\n",
    "x-y"
   ]
  },
  {
   "cell_type": "markdown",
   "metadata": {},
   "source": [
    "* Even keeps track of leap years, leap seconds, daylight savings and time zones."
   ]
  },
  {
   "cell_type": "code",
   "execution_count": 48,
   "metadata": {},
   "outputs": [
    {
     "data": {
      "text/plain": [
       "Time difference of 2 days"
      ]
     },
     "metadata": {},
     "output_type": "display_data"
    },
    {
     "data": {
      "text/plain": [
       "Time difference of 2 hours"
      ]
     },
     "metadata": {},
     "output_type": "display_data"
    }
   ],
   "source": [
    "x <- as.Date(\"2012-03-01\"); y <- as.Date(\"2012-02-28\")\n",
    "x-y\n",
    "\n",
    "x <- as.POSIXct(\"2012-10-25 01:00:00\")\n",
    "y <- as.POSIXct(\"2012-10-25 06:00:00\", tz=\"GMT\")\n",
    "y-x"
   ]
  },
  {
   "cell_type": "markdown",
   "metadata": {},
   "source": [
    "## - Summary\n",
    "\n",
    "* Dates and times have special classes in R that allow for a numerical and statistical calculations;\n",
    "* Dates use the `Date` class;\n",
    "* Times use the `POSIXct` and `POSIXlt` class;\n",
    "* Character strings can be coerced to Date/Time classes using the `strptime` function or the `as.Date`, `as.POSIXlt` or `as.POSIXct`."
   ]
  },
  {
   "cell_type": "code",
   "execution_count": null,
   "metadata": {},
   "outputs": [],
   "source": []
  }
 ],
 "metadata": {
  "kernelspec": {
   "display_name": "R 3.4.2",
   "language": "R",
   "name": "ir33"
  },
  "language_info": {
   "codemirror_mode": "r",
   "file_extension": ".r",
   "mimetype": "text/x-r-source",
   "name": "R",
   "pygments_lexer": "r",
   "version": "3.4.4"
  }
 },
 "nbformat": 4,
 "nbformat_minor": 2
}
