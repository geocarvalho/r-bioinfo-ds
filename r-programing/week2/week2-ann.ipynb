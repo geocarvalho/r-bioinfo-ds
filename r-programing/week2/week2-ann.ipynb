{
 "cells": [
  {
   "cell_type": "markdown",
   "metadata": {},
   "source": [
    "# Control structures in R\n",
    "\n",
    "* Allow you to control the flow of an R program, depending on runtime conditions;\n",
    "* `if | else`: testing a condition;\n",
    "* `for`: execute a loop a fixed number of times;\n",
    "* `while`: execute a loop *while* the condition is true;\n",
    "* `repeat`: execute an infinite loop;\n",
    "* `break`: break the execution of a loop;\n",
    "* `next`: skip an interation of a loop;\n",
    "* `return`: exit a function;\n",
    "> Most of control structures are not used in interactive sessions, but rather when writing functions or longer expressions;\n",
    "\n",
    "---\n",
    "# Controle structures: `if` - `else`\n",
    "\n"
   ]
  },
  {
   "cell_type": "code",
   "execution_count": 5,
   "metadata": {},
   "outputs": [
    {
     "name": "stdout",
     "output_type": "stream",
     "text": [
      "[1] \"<20\"\n",
      "[1] \" <20 & >=10\"\n"
     ]
    }
   ],
   "source": [
    "# if(<condition>) {\n",
    "#     do something\n",
    "# } else {\n",
    "#     do something else\n",
    "# }\n",
    "\n",
    "x=10\n",
    "if(x<20) {\n",
    "    print(\"<20\")\n",
    "} else {\n",
    "    print(\">=20\")\n",
    "}\n",
    "\n",
    "# If you have more than one condition:\n",
    "if(x<10) {\n",
    "    print(\"<10\")\n",
    "} else if (x<20) {\n",
    "    print(\" <20 & >=10\")\n",
    "} else {\n",
    "    print(\">=20\")\n",
    "}"
   ]
  },
  {
   "cell_type": "code",
   "execution_count": 7,
   "metadata": {},
   "outputs": [
    {
     "name": "stdout",
     "output_type": "stream",
     "text": [
      "[1] 10\n"
     ]
    }
   ],
   "source": [
    "if(x<3) {\n",
    "    y<-10\n",
    "} else {\n",
    "    y<-0\n",
    "}\n",
    "\n",
    "y <- if(x>3) {\n",
    "    10\n",
    "} else {\n",
    "    0\n",
    "}\n",
    "print(y)"
   ]
  },
  {
   "cell_type": "code",
   "execution_count": 9,
   "metadata": {},
   "outputs": [
    {
     "name": "stdout",
     "output_type": "stream",
     "text": [
      "[1] \" <20 & >=10\"\n"
     ]
    }
   ],
   "source": [
    "# The else statement isn't necessary\n",
    "if(x<10) {\n",
    "    print(\"<10\")\n",
    "}\n",
    "\n",
    "if (x<20) {\n",
    "    print(\" <20 & >=10\")\n",
    "}"
   ]
  },
  {
   "cell_type": "markdown",
   "metadata": {},
   "source": [
    "---\n",
    "# Control structures - For loops\n",
    "\n",
    "* Take an interator variable and assign it sucessive values from a sequence or vector;\n",
    "* Are most commonly used for iterating over the elements of an object (list, vector, etc)"
   ]
  },
  {
   "cell_type": "code",
   "execution_count": 10,
   "metadata": {},
   "outputs": [
    {
     "name": "stdout",
     "output_type": "stream",
     "text": [
      "[1] 1\n",
      "[1] 2\n",
      "[1] 3\n",
      "[1] 4\n",
      "[1] 5\n",
      "[1] 6\n",
      "[1] 7\n",
      "[1] 8\n",
      "[1] 9\n",
      "[1] 10\n"
     ]
    }
   ],
   "source": [
    "for(i in 1:10){\n",
    "    print(i)\n",
    "}"
   ]
  },
  {
   "cell_type": "code",
   "execution_count": 14,
   "metadata": {},
   "outputs": [
    {
     "name": "stdout",
     "output_type": "stream",
     "text": [
      "[1] \"a\"\n",
      "[1] \"b\"\n",
      "[1] \"c\"\n",
      "[1] \"d\"\n",
      "[1] \"---\"\n",
      "[1] \"a\"\n",
      "[1] \"b\"\n",
      "[1] \"c\"\n",
      "[1] \"d\"\n",
      "[1] \"---\"\n",
      "[1] \"a\"\n",
      "[1] \"b\"\n",
      "[1] \"c\"\n",
      "[1] \"d\"\n",
      "[1] \"---\"\n",
      "[1] \"a\"\n",
      "[1] \"b\"\n",
      "[1] \"c\"\n",
      "[1] \"d\"\n"
     ]
    }
   ],
   "source": [
    "x <- c(\"a\", \"b\", \"c\", \"d\")\n",
    "\n",
    "for(i in 1:4) {\n",
    "    print(x[i])\n",
    "}\n",
    "print('---')\n",
    "for(i in seq_along(x)) {\n",
    "    print(x[i])\n",
    "}\n",
    "print('---')\n",
    "for(letter in x) {\n",
    "    print(letter)\n",
    "}\n",
    "print('---')\n",
    "for(i in 1:4) print(x[i])"
   ]
  },
  {
   "cell_type": "markdown",
   "metadata": {},
   "source": [
    "## Nested for loops\n",
    "\n",
    "* Nesting beyond 2-3 levels is often difficult to read/understand"
   ]
  },
  {
   "cell_type": "code",
   "execution_count": 16,
   "metadata": {},
   "outputs": [
    {
     "name": "stdout",
     "output_type": "stream",
     "text": [
      "     [,1] [,2] [,3]\n",
      "[1,]    1    3    5\n",
      "[2,]    2    4    6\n",
      "[1] 1\n",
      "[1] 3\n",
      "[1] 5\n",
      "[1] 2\n",
      "[1] 4\n",
      "[1] 6\n"
     ]
    }
   ],
   "source": [
    "x <- matrix(1:6,2,3)\n",
    "print(x)\n",
    "for(i in seq_len(nrow(x))) {\n",
    "    for(j in seq_len(ncol(x))) {\n",
    "        print(x[i,j])\n",
    "    }\n",
    "}"
   ]
  },
  {
   "cell_type": "code",
   "execution_count": null,
   "metadata": {},
   "outputs": [],
   "source": []
  }
 ],
 "metadata": {
  "kernelspec": {
   "display_name": "R 3.4.2",
   "language": "R",
   "name": "ir33"
  },
  "language_info": {
   "codemirror_mode": "r",
   "file_extension": ".r",
   "mimetype": "text/x-r-source",
   "name": "R",
   "pygments_lexer": "r",
   "version": "3.4.4"
  }
 },
 "nbformat": 4,
 "nbformat_minor": 2
}
