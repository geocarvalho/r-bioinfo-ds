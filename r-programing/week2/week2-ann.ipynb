{
 "cells": [
  {
   "cell_type": "markdown",
   "metadata": {},
   "source": [
    "# Control structures in R\n",
    "\n",
    "* Allow you to control the flow of an R program, depending on runtime conditions;\n",
    "* `if | else`: testing a condition;\n",
    "* `for`: execute a loop a fixed number of times;\n",
    "* `while`: execute a loop *while* the condition is true;\n",
    "* `repeat`: execute an infinite loop;\n",
    "* `break`: break the execution of a loop;\n",
    "* `next`: skip an interation of a loop;\n",
    "* `return`: exit a function;\n",
    "> Most of control structures are not used in interactive sessions, but rather when writing functions or longer expressions;\n",
    "\n",
    "---\n",
    "# Controle structures: `if` - `else`\n",
    "\n"
   ]
  },
  {
   "cell_type": "code",
   "execution_count": 5,
   "metadata": {},
   "outputs": [
    {
     "name": "stdout",
     "output_type": "stream",
     "text": [
      "[1] \"<20\"\n",
      "[1] \" <20 & >=10\"\n"
     ]
    }
   ],
   "source": [
    "# if(<condition>) {\n",
    "#     do something\n",
    "# } else {\n",
    "#     do something else\n",
    "# }\n",
    "\n",
    "x=10\n",
    "if(x<20) {\n",
    "    print(\"<20\")\n",
    "} else {\n",
    "    print(\">=20\")\n",
    "}\n",
    "\n",
    "# If you have more than one condition:\n",
    "if(x<10) {\n",
    "    print(\"<10\")\n",
    "} else if (x<20) {\n",
    "    print(\" <20 & >=10\")\n",
    "} else {\n",
    "    print(\">=20\")\n",
    "}"
   ]
  },
  {
   "cell_type": "code",
   "execution_count": 7,
   "metadata": {},
   "outputs": [
    {
     "name": "stdout",
     "output_type": "stream",
     "text": [
      "[1] 10\n"
     ]
    }
   ],
   "source": [
    "if(x<3) {\n",
    "    y<-10\n",
    "} else {\n",
    "    y<-0\n",
    "}\n",
    "\n",
    "y <- if(x>3) {\n",
    "    10\n",
    "} else {\n",
    "    0\n",
    "}\n",
    "print(y)"
   ]
  },
  {
   "cell_type": "code",
   "execution_count": 9,
   "metadata": {},
   "outputs": [
    {
     "name": "stdout",
     "output_type": "stream",
     "text": [
      "[1] \" <20 & >=10\"\n"
     ]
    }
   ],
   "source": [
    "# The else statement isn't necessary\n",
    "if(x<10) {\n",
    "    print(\"<10\")\n",
    "}\n",
    "\n",
    "if (x<20) {\n",
    "    print(\" <20 & >=10\")\n",
    "}"
   ]
  },
  {
   "cell_type": "markdown",
   "metadata": {},
   "source": [
    "---\n",
    "# Control structures - For loops\n",
    "\n",
    "* Take an interator variable and assign it sucessive values from a sequence or vector;\n",
    "* Are most commonly used for iterating over the elements of an object (list, vector, etc)"
   ]
  },
  {
   "cell_type": "code",
   "execution_count": 10,
   "metadata": {},
   "outputs": [
    {
     "name": "stdout",
     "output_type": "stream",
     "text": [
      "[1] 1\n",
      "[1] 2\n",
      "[1] 3\n",
      "[1] 4\n",
      "[1] 5\n",
      "[1] 6\n",
      "[1] 7\n",
      "[1] 8\n",
      "[1] 9\n",
      "[1] 10\n"
     ]
    }
   ],
   "source": [
    "for(i in 1:10){\n",
    "    print(i)\n",
    "}"
   ]
  },
  {
   "cell_type": "code",
   "execution_count": 14,
   "metadata": {},
   "outputs": [
    {
     "name": "stdout",
     "output_type": "stream",
     "text": [
      "[1] \"a\"\n",
      "[1] \"b\"\n",
      "[1] \"c\"\n",
      "[1] \"d\"\n",
      "[1] \"---\"\n",
      "[1] \"a\"\n",
      "[1] \"b\"\n",
      "[1] \"c\"\n",
      "[1] \"d\"\n",
      "[1] \"---\"\n",
      "[1] \"a\"\n",
      "[1] \"b\"\n",
      "[1] \"c\"\n",
      "[1] \"d\"\n",
      "[1] \"---\"\n",
      "[1] \"a\"\n",
      "[1] \"b\"\n",
      "[1] \"c\"\n",
      "[1] \"d\"\n"
     ]
    }
   ],
   "source": [
    "x <- c(\"a\", \"b\", \"c\", \"d\")\n",
    "\n",
    "for(i in 1:4) {\n",
    "    print(x[i])\n",
    "}\n",
    "print('---')\n",
    "for(i in seq_along(x)) {\n",
    "    print(x[i])\n",
    "}\n",
    "print('---')\n",
    "for(letter in x) {\n",
    "    print(letter)\n",
    "}\n",
    "print('---')\n",
    "for(i in 1:4) print(x[i])"
   ]
  },
  {
   "cell_type": "markdown",
   "metadata": {},
   "source": [
    "## Nested for loops\n",
    "\n",
    "* Nesting beyond 2-3 levels is often difficult to read/understand"
   ]
  },
  {
   "cell_type": "code",
   "execution_count": 16,
   "metadata": {},
   "outputs": [
    {
     "name": "stdout",
     "output_type": "stream",
     "text": [
      "     [,1] [,2] [,3]\n",
      "[1,]    1    3    5\n",
      "[2,]    2    4    6\n",
      "[1] 1\n",
      "[1] 3\n",
      "[1] 5\n",
      "[1] 2\n",
      "[1] 4\n",
      "[1] 6\n"
     ]
    }
   ],
   "source": [
    "x <- matrix(1:6,2,3)\n",
    "print(x)\n",
    "for(i in seq_len(nrow(x))) {\n",
    "    for(j in seq_len(ncol(x))) {\n",
    "        print(x[i,j])\n",
    "    }\n",
    "}"
   ]
  },
  {
   "cell_type": "markdown",
   "metadata": {},
   "source": [
    "---\n",
    "# Control structures: While loops\n",
    "\n",
    "* It begin by testing a condition (if true they execute  the loop body, if false the condition is tested again and so forth);\n",
    "* It cat result in infinite loops if not written properly."
   ]
  },
  {
   "cell_type": "code",
   "execution_count": 1,
   "metadata": {},
   "outputs": [
    {
     "name": "stdout",
     "output_type": "stream",
     "text": [
      "[1] 0\n",
      "[1] 1\n",
      "[1] 2\n",
      "[1] 3\n",
      "[1] 4\n",
      "[1] 5\n",
      "[1] 6\n",
      "[1] 7\n",
      "[1] 8\n",
      "[1] 9\n"
     ]
    }
   ],
   "source": [
    "count <- 0\n",
    "while(count<10) {\n",
    "    print(count)\n",
    "    count <- count + 1\n",
    "}"
   ]
  },
  {
   "cell_type": "markdown",
   "metadata": {},
   "source": [
    "* Sometimes there will be more than one condition in the test:"
   ]
  },
  {
   "cell_type": "code",
   "execution_count": 3,
   "metadata": {},
   "outputs": [
    {
     "name": "stdout",
     "output_type": "stream",
     "text": [
      "[1] 5\n",
      "[1] 6\n",
      "[1] 5\n",
      "[1] 4\n",
      "[1] 5\n",
      "[1] 4\n",
      "[1] 3\n"
     ]
    }
   ],
   "source": [
    "z<-5\n",
    "while (z>=3 && z<=10) {\n",
    "    print(z)\n",
    "    coin <- rbinom(1,1,0.5)\n",
    "    if(coin == 1) {\n",
    "        # Random walk\n",
    "        z <- z+1\n",
    "    } else {\n",
    "        z <- z-1\n",
    "    }\n",
    "}"
   ]
  },
  {
   "cell_type": "markdown",
   "metadata": {},
   "source": [
    "---\n",
    "# Control structures: repeat, next, break\n",
    "\n",
    "* It initiates an infinite loop;\n",
    "* The only way to exit a `repeat` loop is calling `break`."
   ]
  },
  {
   "cell_type": "code",
   "execution_count": 6,
   "metadata": {
    "scrolled": true
   },
   "outputs": [
    {
     "name": "stdout",
     "output_type": "stream",
     "text": [
      "[1] 5\n",
      "[1] 4\n",
      "[1] 5\n",
      "[1] 6\n",
      "[1] 5\n",
      "[1] 6\n",
      "[1] 5\n",
      "[1] 4\n",
      "[1] 5\n",
      "[1] 6\n",
      "[1] 5\n",
      "[1] 4\n",
      "[1] 5\n",
      "[1] 6\n",
      "[1] 7\n",
      "[1] 8\n",
      "[1] 7\n",
      "[1] 6\n",
      "[1] 5\n",
      "[1] 4\n",
      "[1] 3\n",
      "[1] 4\n",
      "[1] 3\n"
     ]
    }
   ],
   "source": [
    "z<-5\n",
    "repeat {\n",
    "    print(z)\n",
    "    coin <- rbinom(1,1,0.5)\n",
    "    if(coin == 1) {\n",
    "        # Random walk\n",
    "        z <- z+1\n",
    "    } else {\n",
    "        z <- z-1\n",
    "    }\n",
    "    if (z < 3 | z > 10) {\n",
    "        break\n",
    "    }\n",
    "}"
   ]
  },
  {
   "cell_type": "markdown",
   "metadata": {},
   "source": [
    "## - Next\n",
    "\n",
    "* Used to skip an iteration of a loop"
   ]
  },
  {
   "cell_type": "code",
   "execution_count": 10,
   "metadata": {
    "scrolled": true
   },
   "outputs": [
    {
     "name": "stdout",
     "output_type": "stream",
     "text": [
      "[1] 21\n",
      "[1] 22\n",
      "[1] 23\n",
      "[1] 24\n",
      "[1] 25\n",
      "[1] 26\n",
      "[1] 27\n",
      "[1] 28\n",
      "[1] 29\n",
      "[1] 30\n",
      "[1] 31\n",
      "[1] 32\n",
      "[1] 33\n",
      "[1] 34\n",
      "[1] 35\n",
      "[1] 36\n",
      "[1] 37\n",
      "[1] 38\n",
      "[1] 39\n",
      "[1] 40\n",
      "[1] 41\n",
      "[1] 42\n",
      "[1] 43\n",
      "[1] 44\n",
      "[1] 45\n",
      "[1] 46\n",
      "[1] 47\n",
      "[1] 48\n",
      "[1] 49\n",
      "[1] 50\n",
      "[1] 51\n",
      "[1] 52\n",
      "[1] 53\n",
      "[1] 54\n",
      "[1] 55\n",
      "[1] 56\n",
      "[1] 57\n",
      "[1] 58\n",
      "[1] 59\n",
      "[1] 60\n",
      "[1] 61\n",
      "[1] 62\n",
      "[1] 63\n",
      "[1] 64\n",
      "[1] 65\n",
      "[1] 66\n",
      "[1] 67\n",
      "[1] 68\n",
      "[1] 69\n",
      "[1] 70\n",
      "[1] 71\n",
      "[1] 72\n",
      "[1] 73\n",
      "[1] 74\n",
      "[1] 75\n",
      "[1] 76\n",
      "[1] 77\n",
      "[1] 78\n",
      "[1] 79\n",
      "[1] 80\n",
      "[1] 81\n",
      "[1] 82\n",
      "[1] 83\n",
      "[1] 84\n",
      "[1] 85\n",
      "[1] 86\n",
      "[1] 87\n",
      "[1] 88\n",
      "[1] 89\n",
      "[1] 90\n",
      "[1] 91\n",
      "[1] 92\n",
      "[1] 93\n",
      "[1] 94\n",
      "[1] 95\n",
      "[1] 96\n",
      "[1] 97\n",
      "[1] 98\n",
      "[1] 99\n",
      "[1] 100\n"
     ]
    }
   ],
   "source": [
    "for (i in 1:100) {\n",
    "    if(i<=20) {\n",
    "        next\n",
    "    }\n",
    "    print(i)\n",
    "}"
   ]
  },
  {
   "cell_type": "markdown",
   "metadata": {},
   "source": [
    "## - Summary\n",
    "\n",
    "* Control structures like `if`, `while`, and `for` allows you to control the flow of the program;\n",
    "* Infinite loops should generally be avoided, even if they are theoretically correct;\n",
    "* Control structures mentioned here are useful to writing programs, for command-line interactive work the `apply()` function is more useful."
   ]
  },
  {
   "cell_type": "markdown",
   "metadata": {},
   "source": [
    "---\n",
    "# Your first R function"
   ]
  },
  {
   "cell_type": "code",
   "execution_count": 20,
   "metadata": {},
   "outputs": [],
   "source": [
    " add2 <- function(x,y) {\n",
    "     x+y\n",
    " }\n",
    "\n",
    "above10 <- function(x) {\n",
    "    use <- x > 10\n",
    "    x[use]\n",
    "}\n",
    "\n",
    "above <- function(x,n=10) {\n",
    "    use <- x > n\n",
    "    x[use]\n",
    "}\n",
    "\n",
    "columnmean <- function(y, removeNA=TRUE) {\n",
    "    nc <- ncol(y)\n",
    "    means <- numeric(nc)\n",
    "    for(i in 1:nc) {\n",
    "        means[i] <- mean(y[,i], na.rm=removeNA)\n",
    "    }\n",
    "    means\n",
    "}"
   ]
  },
  {
   "cell_type": "code",
   "execution_count": 23,
   "metadata": {},
   "outputs": [
    {
     "data": {
      "text/html": [
       "6"
      ],
      "text/latex": [
       "6"
      ],
      "text/markdown": [
       "6"
      ],
      "text/plain": [
       "[1] 6"
      ]
     },
     "metadata": {},
     "output_type": "display_data"
    },
    {
     "data": {
      "text/html": [
       "<ol class=list-inline>\n",
       "\t<li>11</li>\n",
       "\t<li>12</li>\n",
       "\t<li>13</li>\n",
       "\t<li>14</li>\n",
       "\t<li>15</li>\n",
       "\t<li>16</li>\n",
       "\t<li>17</li>\n",
       "\t<li>18</li>\n",
       "\t<li>19</li>\n",
       "\t<li>20</li>\n",
       "</ol>\n"
      ],
      "text/latex": [
       "\\begin{enumerate*}\n",
       "\\item 11\n",
       "\\item 12\n",
       "\\item 13\n",
       "\\item 14\n",
       "\\item 15\n",
       "\\item 16\n",
       "\\item 17\n",
       "\\item 18\n",
       "\\item 19\n",
       "\\item 20\n",
       "\\end{enumerate*}\n"
      ],
      "text/markdown": [
       "1. 11\n",
       "2. 12\n",
       "3. 13\n",
       "4. 14\n",
       "5. 15\n",
       "6. 16\n",
       "7. 17\n",
       "8. 18\n",
       "9. 19\n",
       "10. 20\n",
       "\n",
       "\n"
      ],
      "text/plain": [
       " [1] 11 12 13 14 15 16 17 18 19 20"
      ]
     },
     "metadata": {},
     "output_type": "display_data"
    },
    {
     "data": {
      "text/html": [
       "<ol class=list-inline>\n",
       "\t<li>16</li>\n",
       "\t<li>17</li>\n",
       "\t<li>18</li>\n",
       "\t<li>19</li>\n",
       "\t<li>20</li>\n",
       "</ol>\n"
      ],
      "text/latex": [
       "\\begin{enumerate*}\n",
       "\\item 16\n",
       "\\item 17\n",
       "\\item 18\n",
       "\\item 19\n",
       "\\item 20\n",
       "\\end{enumerate*}\n"
      ],
      "text/markdown": [
       "1. 16\n",
       "2. 17\n",
       "3. 18\n",
       "4. 19\n",
       "5. 20\n",
       "\n",
       "\n"
      ],
      "text/plain": [
       "[1] 16 17 18 19 20"
      ]
     },
     "metadata": {},
     "output_type": "display_data"
    },
    {
     "data": {
      "text/html": [
       "<ol class=list-inline>\n",
       "\t<li>42.1293103448276</li>\n",
       "\t<li>185.931506849315</li>\n",
       "\t<li>9.95751633986928</li>\n",
       "\t<li>77.8823529411765</li>\n",
       "\t<li>6.99346405228758</li>\n",
       "\t<li>15.8039215686275</li>\n",
       "</ol>\n"
      ],
      "text/latex": [
       "\\begin{enumerate*}\n",
       "\\item 42.1293103448276\n",
       "\\item 185.931506849315\n",
       "\\item 9.95751633986928\n",
       "\\item 77.8823529411765\n",
       "\\item 6.99346405228758\n",
       "\\item 15.8039215686275\n",
       "\\end{enumerate*}\n"
      ],
      "text/markdown": [
       "1. 42.1293103448276\n",
       "2. 185.931506849315\n",
       "3. 9.95751633986928\n",
       "4. 77.8823529411765\n",
       "5. 6.99346405228758\n",
       "6. 15.8039215686275\n",
       "\n",
       "\n"
      ],
      "text/plain": [
       "[1]  42.129310 185.931507   9.957516  77.882353   6.993464  15.803922"
      ]
     },
     "metadata": {},
     "output_type": "display_data"
    }
   ],
   "source": [
    "add2(2,4)\n",
    "above10(1:20)\n",
    "above(1:20, 15)\n",
    "columnmean(airquality)"
   ]
  },
  {
   "cell_type": "markdown",
   "metadata": {},
   "source": [
    "---\n",
    "# R functions\n",
    "\n",
    "* Are created using the `function()` directive and are stored as R objects (class `function`)\n",
    "\n",
    "```\n",
    "f <- function(<arg1,arg2>) {\n",
    "    Do something interesting\n",
    "}\n",
    "```\n",
    "\n",
    "* Functios can be passed as arguments to other functions;\n",
    "* It can be nested (function inside another);\n",
    "* The return value of a function is the last expression in the function body to be evaluated.\n",
    "\n",
    "## Named arguments\n",
    "\n",
    "* It potentially have default values;\n",
    "* The **formal arguments** are the arguments included in the function definition;\n",
    "* The **formals** function returns a list of all the formal arguments of a function;\n",
    "* Not every function call in R makes use of all the formal arguments;\n",
    "* Function arguments can be missing or might have default values.\n",
    "\n",
    "## Argument matching\n",
    "\n",
    "* R functions arguments can be matched positionally or by name (but is recommended to use the arguments to specify the inputs):\n",
    "\n"
   ]
  },
  {
   "cell_type": "code",
   "execution_count": 1,
   "metadata": {},
   "outputs": [
    {
     "data": {
      "text/html": [
       "0.949218681930038"
      ],
      "text/latex": [
       "0.949218681930038"
      ],
      "text/markdown": [
       "0.949218681930038"
      ],
      "text/plain": [
       "[1] 0.9492187"
      ]
     },
     "metadata": {},
     "output_type": "display_data"
    },
    {
     "data": {
      "text/html": [
       "0.949218681930038"
      ],
      "text/latex": [
       "0.949218681930038"
      ],
      "text/markdown": [
       "0.949218681930038"
      ],
      "text/plain": [
       "[1] 0.9492187"
      ]
     },
     "metadata": {},
     "output_type": "display_data"
    },
    {
     "data": {
      "text/html": [
       "0.949218681930038"
      ],
      "text/latex": [
       "0.949218681930038"
      ],
      "text/markdown": [
       "0.949218681930038"
      ],
      "text/plain": [
       "[1] 0.9492187"
      ]
     },
     "metadata": {},
     "output_type": "display_data"
    },
    {
     "data": {
      "text/html": [
       "0.949218681930038"
      ],
      "text/latex": [
       "0.949218681930038"
      ],
      "text/markdown": [
       "0.949218681930038"
      ],
      "text/plain": [
       "[1] 0.9492187"
      ]
     },
     "metadata": {},
     "output_type": "display_data"
    },
    {
     "data": {
      "text/html": [
       "0.949218681930038"
      ],
      "text/latex": [
       "0.949218681930038"
      ],
      "text/markdown": [
       "0.949218681930038"
      ],
      "text/plain": [
       "[1] 0.9492187"
      ]
     },
     "metadata": {},
     "output_type": "display_data"
    }
   ],
   "source": [
    "mydata <- rnorm(100)\n",
    "# Calculating standard desviation\n",
    "sd(mydata)\n",
    "sd(x=mydata)\n",
    "sd(x=mydata, na.rm=FALSE)\n",
    "sd(na.rm=FALSE, x=mydata)\n",
    "sd(na.rm=FALSE, mydata)"
   ]
  },
  {
   "cell_type": "markdown",
   "metadata": {},
   "source": [
    "* You can mix positional matching with matching by name. It is \"taken out\" of the argument list and the remaining unnamed arguments are matched in the order than they are listed in the function definition;\n",
    "* Named arguments are useful on the command line when you have a long argument list and you want to use the defaults for everything except for an argument near the end of the list;\n",
    "* Named arguments also help you can remember the name of the argument and not its position on the argument list;\n",
    "* Function arguments can also be partially matched, which is useful for interactive work:\n",
    "    1. Check for exact match for a named argument;\n",
    "    2. Check for a partial match;\n",
    "    3. Check for a positional match.\n",
    "    \n",
    "---\n",
    "# Defining a function\n",
    "\n",
    "* Adding default values or not"
   ]
  },
  {
   "cell_type": "code",
   "execution_count": 3,
   "metadata": {},
   "outputs": [],
   "source": [
    "f <- function(a,b=1,c=2,d=NULL){\n",
    "    print(a)\n",
    "    print(b)\n",
    "    print(c)\n",
    "    print(d)\n",
    "}"
   ]
  },
  {
   "cell_type": "code",
   "execution_count": 4,
   "metadata": {},
   "outputs": [
    {
     "name": "stdout",
     "output_type": "stream",
     "text": [
      "[1] 2\n",
      "[1] 1\n",
      "[1] 2\n",
      "NULL\n"
     ]
    }
   ],
   "source": [
    "f(2)"
   ]
  },
  {
   "cell_type": "markdown",
   "metadata": {},
   "source": [
    "## - Lazy evaluation\n",
    "\n",
    "* Arguments to functions are evaluated lazily (only as need)"
   ]
  },
  {
   "cell_type": "code",
   "execution_count": 5,
   "metadata": {},
   "outputs": [
    {
     "data": {
      "text/html": [
       "4"
      ],
      "text/latex": [
       "4"
      ],
      "text/markdown": [
       "4"
      ],
      "text/plain": [
       "[1] 4"
      ]
     },
     "metadata": {},
     "output_type": "display_data"
    }
   ],
   "source": [
    "f <- function(a,b) {\n",
    "    a^2\n",
    "}\n",
    "f(2)"
   ]
  },
  {
   "cell_type": "code",
   "execution_count": 6,
   "metadata": {},
   "outputs": [
    {
     "name": "stdout",
     "output_type": "stream",
     "text": [
      "[1] 45\n"
     ]
    },
    {
     "ename": "ERROR",
     "evalue": "Error in print(b): argument \"b\" is missing, with no default\n",
     "output_type": "error",
     "traceback": [
      "Error in print(b): argument \"b\" is missing, with no default\nTraceback:\n",
      "1. f(45)",
      "2. print(b)   # at line 3 of file <text>"
     ]
    }
   ],
   "source": [
    "f <- function(a,b) {\n",
    "    print(a)\n",
    "    print(b)\n",
    "}\n",
    "f(45)"
   ]
  },
  {
   "cell_type": "markdown",
   "metadata": {},
   "source": [
    "## - The \"...\" argument\n",
    "\n",
    "* It indicates a variable number of arguments that are usually passed on to other functions;\n",
    "* It's often used when extending another function and you don't want to copy the entire argument list of the original function."
   ]
  },
  {
   "cell_type": "code",
   "execution_count": 7,
   "metadata": {},
   "outputs": [],
   "source": [
    "mplot <- function(x,y,type=\"l\",...) {\n",
    "    plot(x,y,type=type,...)\n",
    "}"
   ]
  },
  {
   "cell_type": "markdown",
   "metadata": {},
   "source": [
    "* Generic functions use \"...\" so that extra arguments can be passed to methods (more on this later)."
   ]
  },
  {
   "cell_type": "code",
   "execution_count": 8,
   "metadata": {},
   "outputs": [
    {
     "data": {
      "text/html": [
       "<pre class=language-r><code>function (x, ...) \n",
       "UseMethod(\"mean\")</code></pre>"
      ],
      "text/latex": [
       "\\begin{minted}{r}\n",
       "function (x, ...) \n",
       "UseMethod(\"mean\")\n",
       "\\end{minted}"
      ],
      "text/markdown": [
       "```r\n",
       "function (x, ...) \n",
       "UseMethod(\"mean\")\n",
       "```"
      ],
      "text/plain": [
       "function (x, ...) \n",
       "UseMethod(\"mean\")\n",
       "<bytecode: 0x2f7f250>\n",
       "<environment: namespace:base>"
      ]
     },
     "metadata": {},
     "output_type": "display_data"
    }
   ],
   "source": [
    "mean"
   ]
  },
  {
   "cell_type": "markdown",
   "metadata": {},
   "source": [
    "* It is also necessary when the number of arguments passed to the function cannot be known in advance."
   ]
  },
  {
   "cell_type": "code",
   "execution_count": 11,
   "metadata": {},
   "outputs": [
    {
     "data": {
      "text/html": [
       "<pre class=language-r><code>function (..., sep = \" \", collapse = NULL) \n",
       "NULL</code></pre>"
      ],
      "text/latex": [
       "\\begin{minted}{r}\n",
       "function (..., sep = \" \", collapse = NULL) \n",
       "NULL\n",
       "\\end{minted}"
      ],
      "text/markdown": [
       "```r\n",
       "function (..., sep = \" \", collapse = NULL) \n",
       "NULL\n",
       "```"
      ],
      "text/plain": [
       "function (..., sep = \" \", collapse = NULL) \n",
       "NULL"
      ]
     },
     "metadata": {},
     "output_type": "display_data"
    }
   ],
   "source": [
    "args(paste)"
   ]
  },
  {
   "cell_type": "code",
   "execution_count": 10,
   "metadata": {},
   "outputs": [
    {
     "data": {
      "text/html": [
       "<pre class=language-r><code>function (..., file = \"\", sep = \" \", fill = FALSE, labels = NULL, \n",
       "<span style=white-space:pre-wrap>    append = FALSE) </span>\n",
       "NULL</code></pre>"
      ],
      "text/latex": [
       "\\begin{minted}{r}\n",
       "function (..., file = \"\", sep = \" \", fill = FALSE, labels = NULL, \n",
       "    append = FALSE) \n",
       "NULL\n",
       "\\end{minted}"
      ],
      "text/markdown": [
       "```r\n",
       "function (..., file = \"\", sep = \" \", fill = FALSE, labels = NULL, \n",
       "    append = FALSE) \n",
       "NULL\n",
       "```"
      ],
      "text/plain": [
       "function (..., file = \"\", sep = \" \", fill = FALSE, labels = NULL, \n",
       "    append = FALSE) \n",
       "NULL"
      ]
     },
     "metadata": {},
     "output_type": "display_data"
    }
   ],
   "source": [
    "args(cat)"
   ]
  },
  {
   "cell_type": "markdown",
   "metadata": {},
   "source": [
    "* Any argument that appear after \"...\" on the argument list must be  named explicity and cannot be partially map."
   ]
  },
  {
   "cell_type": "code",
   "execution_count": 12,
   "metadata": {},
   "outputs": [
    {
     "data": {
      "text/html": [
       "<pre class=language-r><code>function (..., sep = \" \", collapse = NULL) \n",
       "NULL</code></pre>"
      ],
      "text/latex": [
       "\\begin{minted}{r}\n",
       "function (..., sep = \" \", collapse = NULL) \n",
       "NULL\n",
       "\\end{minted}"
      ],
      "text/markdown": [
       "```r\n",
       "function (..., sep = \" \", collapse = NULL) \n",
       "NULL\n",
       "```"
      ],
      "text/plain": [
       "function (..., sep = \" \", collapse = NULL) \n",
       "NULL"
      ]
     },
     "metadata": {},
     "output_type": "display_data"
    },
    {
     "data": {
      "text/html": [
       "'a:b'"
      ],
      "text/latex": [
       "'a:b'"
      ],
      "text/markdown": [
       "'a:b'"
      ],
      "text/plain": [
       "[1] \"a:b\""
      ]
     },
     "metadata": {},
     "output_type": "display_data"
    },
    {
     "data": {
      "text/html": [
       "'a b :'"
      ],
      "text/latex": [
       "'a b :'"
      ],
      "text/markdown": [
       "'a b :'"
      ],
      "text/plain": [
       "[1] \"a b :\""
      ]
     },
     "metadata": {},
     "output_type": "display_data"
    }
   ],
   "source": [
    "args(paste)\n",
    "paste(\"a\", \"b\", sep=\":\")\n",
    "paste(\"a\", \"b\", se=\":\")"
   ]
  },
  {
   "cell_type": "markdown",
   "metadata": {},
   "source": [
    "---\n",
    "# Scoping rules - Symbol binding"
   ]
  },
  {
   "cell_type": "code",
   "execution_count": null,
   "metadata": {},
   "outputs": [],
   "source": []
  }
 ],
 "metadata": {
  "kernelspec": {
   "display_name": "R 3.4.2",
   "language": "R",
   "name": "ir33"
  },
  "language_info": {
   "codemirror_mode": "r",
   "file_extension": ".r",
   "mimetype": "text/x-r-source",
   "name": "R",
   "pygments_lexer": "r",
   "version": "3.4.4"
  }
 },
 "nbformat": 4,
 "nbformat_minor": 2
}
