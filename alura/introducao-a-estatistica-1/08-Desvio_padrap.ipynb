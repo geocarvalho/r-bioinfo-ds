{
 "cells": [
  {
   "cell_type": "markdown",
   "metadata": {},
   "source": [
    "Acabamos de ver um pouquinho sobre **variância** e **desvio padrão**. Vamos aplicar isso no R, criando uma lista de números quaisquer, como feito anteriormente."
   ]
  },
  {
   "cell_type": "code",
   "execution_count": 1,
   "metadata": {},
   "outputs": [],
   "source": [
    "numeros <- c(1, 2, 3, 5, 6, 7, 8, 11, 2, 3, 44, 55, 67, 12, 34, 56)"
   ]
  },
  {
   "cell_type": "markdown",
   "metadata": {},
   "source": [
    "Se desejarmos calcular a **variância**, usamos o comando `var(numeros)`, o que trará `531`. Entretanto, sabemos que a variância por si só não nos traz muitas informações, portanto guardaremos isso em uma variável denominada `variancia`."
   ]
  },
  {
   "cell_type": "code",
   "execution_count": 3,
   "metadata": {},
   "outputs": [],
   "source": [
    "variancia <- var(numeros)"
   ]
  },
  {
   "cell_type": "markdown",
   "metadata": {},
   "source": [
    "E então calcularemos a raiz quadrada da variância:"
   ]
  },
  {
   "cell_type": "code",
   "execution_count": 5,
   "metadata": {},
   "outputs": [
    {
     "data": {
      "text/html": [
       "23.0463301489268"
      ],
      "text/latex": [
       "23.0463301489268"
      ],
      "text/markdown": [
       "23.0463301489268"
      ],
      "text/plain": [
       "[1] 23.04633"
      ]
     },
     "metadata": {},
     "output_type": "display_data"
    }
   ],
   "source": [
    "sqrt(variancia)"
   ]
  },
  {
   "cell_type": "markdown",
   "metadata": {},
   "source": [
    "Isso nos traz o `desvio padrão` que, como sabemos, é a `raiz quadrada da variância`. Mas será que é preciso fazê-lo em dois passos? Claro que não, o R tem isso automatizado:"
   ]
  },
  {
   "cell_type": "code",
   "execution_count": 6,
   "metadata": {},
   "outputs": [
    {
     "data": {
      "text/html": [
       "23.0463301489268"
      ],
      "text/latex": [
       "23.0463301489268"
      ],
      "text/markdown": [
       "23.0463301489268"
      ],
      "text/plain": [
       "[1] 23.04633"
      ]
     },
     "metadata": {},
     "output_type": "display_data"
    }
   ],
   "source": [
    "sd(numeros)"
   ]
  },
  {
   "cell_type": "markdown",
   "metadata": {},
   "source": [
    "Até então, criamos estes números \"na mão\", enquanto poderíamos estar lendo esses dados de um arquivo. Vamos imaginar que o teste estatístico usa dados que vêm de um determinado lugar, que pode ser um arquivo `.csv`, formato bastante comum na área de computação.\n",
    "\n",
    "Em um diretório qualquer, criaremos um arquivo chamado `numeros.csv`, utilizando qualquer editor de texto de preferência. Nele, incluiremos alguns valores, como:\n",
    "\n",
    "```\n",
    "1,2\n",
    "2,4\n",
    "3,6\n",
    "4,8\n",
    "```"
   ]
  },
  {
   "cell_type": "markdown",
   "metadata": {},
   "source": [
    "Salvaremos esse arquivo, que poderemos imprimir:\n",
    "\n",
    "```\n",
    "vi numeros.csv\n",
    "cat numeros.csv\n",
    "1,2\n",
    "2,4\n",
    "3,6\n",
    "4,8\n",
    "```\n",
    "\n",
    "No R, usaremos `read.csv()` passando o `file` com o caminho de onde o arquivo recém criado está salvo."
   ]
  },
  {
   "cell_type": "code",
   "execution_count": 10,
   "metadata": {},
   "outputs": [],
   "source": [
    "nums <- read.csv(file=\"./numeros.csv\")"
   ]
  },
  {
   "cell_type": "markdown",
   "metadata": {},
   "source": [
    "Este comando irá ler todo o conteúdo do arquivo, mas precisamos guardá-lo em algum lugar. Em uma variável, por exemplo. O método `csv()` nos retorna uma estrutura de dados, portanto, se utilizarmos `nums` e pressionarmos \"Enter\", obteremos:"
   ]
  },
  {
   "cell_type": "code",
   "execution_count": 11,
   "metadata": {},
   "outputs": [
    {
     "data": {
      "text/html": [
       "<table>\n",
       "<thead><tr><th scope=col>X1</th><th scope=col>X2</th></tr></thead>\n",
       "<tbody>\n",
       "\t<tr><td>2</td><td>4</td></tr>\n",
       "\t<tr><td>3</td><td>6</td></tr>\n",
       "\t<tr><td>4</td><td>8</td></tr>\n",
       "</tbody>\n",
       "</table>\n"
      ],
      "text/latex": [
       "\\begin{tabular}{r|ll}\n",
       " X1 & X2\\\\\n",
       "\\hline\n",
       "\t 2 & 4\\\\\n",
       "\t 3 & 6\\\\\n",
       "\t 4 & 8\\\\\n",
       "\\end{tabular}\n"
      ],
      "text/markdown": [
       "\n",
       "X1 | X2 | \n",
       "|---|---|---|\n",
       "| 2 | 4 | \n",
       "| 3 | 6 | \n",
       "| 4 | 8 | \n",
       "\n",
       "\n"
      ],
      "text/plain": [
       "  X1 X2\n",
       "1 2  4 \n",
       "2 3  6 \n",
       "3 4  8 "
      ]
     },
     "metadata": {},
     "output_type": "display_data"
    }
   ],
   "source": [
    "nums"
   ]
  },
  {
   "cell_type": "markdown",
   "metadata": {},
   "source": [
    "Cujo X1 é preenchida pela primeira coluna, 2, 3 e 4, e em X2 temos a segunda coluna, com 4, 6 e 8.\n",
    "\n",
    "É possível exibir apenas uma coluna, utilizando o comando `n4ums$X1`.\n",
    "\n",
    "Em uma estrutura que é um Dataset, o símbolo `$` nos ajuda a lidarmos com elementos isoladamente. Assim, também é possível gerar o histograma de uma coluna só:"
   ]
  },
  {
   "cell_type": "code",
   "execution_count": 13,
   "metadata": {},
   "outputs": [
    {
     "data": {
      "image/png": "[encoded data removed]",
      "text/plain": [
       "Plot with title “Histogram of nums$X1”"
      ]
     },
     "metadata": {},
     "output_type": "display_data"
    }
   ],
   "source": [
    "hist(nums$X1)"
   ]
  },
  {
   "cell_type": "markdown",
   "metadata": {},
   "source": [
    "Além de arquivos `.csv`, o R lê muitas outras extensões, especificadas no manual."
   ]
  },
  {
   "cell_type": "code",
   "execution_count": null,
   "metadata": {},
   "outputs": [],
   "source": []
  }
 ],
 "metadata": {
  "kernelspec": {
   "display_name": "R",
   "language": "R",
   "name": "ir"
  },
  "language_info": {
   "codemirror_mode": "r",
   "file_extension": ".r",
   "mimetype": "text/x-r-source",
   "name": "R",
   "pygments_lexer": "r",
   "version": "3.5.1"
  }
 },
 "nbformat": 4,
 "nbformat_minor": 2
}
