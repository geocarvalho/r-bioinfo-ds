{
 "cells": [
  {
   "cell_type": "markdown",
   "metadata": {},
   "source": [
    "# 04 - Praticando: média, mediana e moda\n",
    "\n",
    "Já aprendemos sobre Tendências Centrais: Média Aritmética, mediana e moda. Veremos como isso se aplica ao R.\n",
    "\n",
    "Vamos começar com uma sequência de números quaisquer no R:"
   ]
  },
  {
   "cell_type": "code",
   "execution_count": 1,
   "metadata": {},
   "outputs": [],
   "source": [
    "numeros <- c(1,2,3,4,5)"
   ]
  },
  {
   "cell_type": "markdown",
   "metadata": {},
   "source": [
    "Lembrando que ao digitarmos `numeros`, conseguimos visualizar essa lista:"
   ]
  },
  {
   "cell_type": "code",
   "execution_count": 2,
   "metadata": {},
   "outputs": [
    {
     "data": {
      "text/html": [
       "<ol class=list-inline>\n",
       "\t<li>1</li>\n",
       "\t<li>2</li>\n",
       "\t<li>3</li>\n",
       "\t<li>4</li>\n",
       "\t<li>5</li>\n",
       "</ol>\n"
      ],
      "text/latex": [
       "\\begin{enumerate*}\n",
       "\\item 1\n",
       "\\item 2\n",
       "\\item 3\n",
       "\\item 4\n",
       "\\item 5\n",
       "\\end{enumerate*}\n"
      ],
      "text/markdown": [
       "1. 1\n",
       "2. 2\n",
       "3. 3\n",
       "4. 4\n",
       "5. 5\n",
       "\n",
       "\n"
      ],
      "text/plain": [
       "[1] 1 2 3 4 5"
      ]
     },
     "metadata": {},
     "output_type": "display_data"
    }
   ],
   "source": [
    "numeros"
   ]
  },
  {
   "cell_type": "markdown",
   "metadata": {},
   "source": [
    "Para que o programa calcule a Média Aritmética desses números, usamos `mean( )`:"
   ]
  },
  {
   "cell_type": "code",
   "execution_count": 4,
   "metadata": {},
   "outputs": [
    {
     "data": {
      "text/html": [
       "3"
      ],
      "text/latex": [
       "3"
      ],
      "text/markdown": [
       "3"
      ],
      "text/plain": [
       "[1] 3"
      ]
     },
     "metadata": {},
     "output_type": "display_data"
    }
   ],
   "source": [
    "mean(numeros)"
   ]
  },
  {
   "cell_type": "markdown",
   "metadata": {},
   "source": [
    "A palavra \"mean\" significa \"média\" em inglês. E para o cálculo da mediana, usamos `median( )`:"
   ]
  },
  {
   "cell_type": "code",
   "execution_count": 5,
   "metadata": {},
   "outputs": [
    {
     "data": {
      "text/html": [
       "3"
      ],
      "text/latex": [
       "3"
      ],
      "text/markdown": [
       "3"
      ],
      "text/plain": [
       "[1] 3"
      ]
     },
     "metadata": {},
     "output_type": "display_data"
    }
   ],
   "source": [
    "median(numeros)"
   ]
  },
  {
   "cell_type": "markdown",
   "metadata": {},
   "source": [
    "Nesse caso em particular a média e a mediana são iguais.\n",
    "\n",
    "Vamos gravar uma nova lista de números:"
   ]
  },
  {
   "cell_type": "code",
   "execution_count": 7,
   "metadata": {},
   "outputs": [],
   "source": [
    "lista <- c(2,3,7,8,1,3,4,8,22,67,19)"
   ]
  },
  {
   "cell_type": "markdown",
   "metadata": {},
   "source": [
    "Calculando a média e a mediana:"
   ]
  },
  {
   "cell_type": "code",
   "execution_count": 8,
   "metadata": {},
   "outputs": [
    {
     "data": {
      "text/html": [
       "13.0909090909091"
      ],
      "text/latex": [
       "13.0909090909091"
      ],
      "text/markdown": [
       "13.0909090909091"
      ],
      "text/plain": [
       "[1] 13.09091"
      ]
     },
     "metadata": {},
     "output_type": "display_data"
    }
   ],
   "source": [
    "mean(lista)"
   ]
  },
  {
   "cell_type": "code",
   "execution_count": 9,
   "metadata": {},
   "outputs": [
    {
     "data": {
      "text/html": [
       "7"
      ],
      "text/latex": [
       "7"
      ],
      "text/markdown": [
       "7"
      ],
      "text/plain": [
       "[1] 7"
      ]
     },
     "metadata": {},
     "output_type": "display_data"
    }
   ],
   "source": [
    "median(lista)"
   ]
  },
  {
   "cell_type": "markdown",
   "metadata": {},
   "source": [
    "O R calcula bem rápido essas medidas e, neste momento, somos nós que estamos ditando esses dados de entrada. Mais adiante saberemos como importá-los de arquivos CSV. Infelizmente o R não possui uma função própria para a moda, porém podemos escrevê-la manualmente. No entanto, agora não é o momento, pois isso requer maior conhecimento de R, e esse não é o foco da aula.\n",
    "\n",
    "Vimos anteriormente que é importante saber se a distribuição é Normal ou não. No R rodamos um Teste de Hipótese, que veremos melhor em outro momento, para saber se os dados obedecem uma Normal. Para tal, digitamos `shapiro.test( )`:"
   ]
  },
  {
   "cell_type": "code",
   "execution_count": 10,
   "metadata": {},
   "outputs": [
    {
     "data": {
      "text/plain": [
       "\n",
       "\tShapiro-Wilk normality test\n",
       "\n",
       "data:  numeros\n",
       "W = 0.98676, p-value = 0.9672\n"
      ]
     },
     "metadata": {},
     "output_type": "display_data"
    }
   ],
   "source": [
    "shapiro.test(numeros)"
   ]
  },
  {
   "cell_type": "markdown",
   "metadata": {},
   "source": [
    "Devemos observar o valor de `p-value`; se este for muito pequeno, algo em torno de `0,05`, **não é Normal**. Nesse caso ele é próximo de `1`, logo, devemos acreditar que trata-se de uma Normal.\n",
    "\n",
    "Façamos o teste com `lista`:"
   ]
  },
  {
   "cell_type": "code",
   "execution_count": 11,
   "metadata": {},
   "outputs": [
    {
     "data": {
      "text/plain": [
       "\n",
       "\tShapiro-Wilk normality test\n",
       "\n",
       "data:  lista\n",
       "W = 0.634, p-value = 6.77e-05\n"
      ]
     },
     "metadata": {},
     "output_type": "display_data"
    }
   ],
   "source": [
    "shapiro.test(lista)"
   ]
  },
  {
   "cell_type": "markdown",
   "metadata": {},
   "source": [
    "Para `lista`, o número é bem pequeno: 6.77e-05 — o `e-05` representa o número 10 **elevado a** -5, que está multiplicando 6,77. Isso significa que `lista` não é uma distribuição normal.\n",
    "\n",
    "Outro método que costuma ser usado no R é o `summary( )`, que nos passa várias informações importantes como a média e a mediana:"
   ]
  },
  {
   "cell_type": "code",
   "execution_count": 12,
   "metadata": {},
   "outputs": [
    {
     "data": {
      "text/plain": [
       "   Min. 1st Qu.  Median    Mean 3rd Qu.    Max. \n",
       "   1.00    3.00    7.00   13.09   13.50   67.00 "
      ]
     },
     "metadata": {},
     "output_type": "display_data"
    }
   ],
   "source": [
    "summary(lista)"
   ]
  },
  {
   "cell_type": "markdown",
   "metadata": {},
   "source": [
    "Esse método resume o que já sabíamos anteriormente:\n",
    "\n",
    "* Média: 13,09\n",
    "* Mediana: 7\n",
    "* Valor mínimo: 1\n",
    "* Valor máximo: 67\n",
    "Em próximas aulas descobriremos o que são o 1º e 3º quartis.\n",
    "\n",
    "Vamos rodar o seguinte código no R:"
   ]
  },
  {
   "cell_type": "code",
   "execution_count": 13,
   "metadata": {},
   "outputs": [],
   "source": [
    "mode <- function(x) {\n",
    "     ux <- unique(x)\n",
    "     ux[which.max(tabulate(match(x, ux)))]\n",
    "}"
   ]
  },
  {
   "cell_type": "markdown",
   "metadata": {},
   "source": [
    "É criada uma função chamada `mode()`, que calcula a moda para uma lista de números.\n",
    "\n",
    "Teste esse método e diga qual a moda para os números `1, 2, 2, 2, 2, 3, 3, 4, 5, 5, 6, 7`."
   ]
  },
  {
   "cell_type": "code",
   "execution_count": 14,
   "metadata": {},
   "outputs": [
    {
     "data": {
      "text/html": [
       "2"
      ],
      "text/latex": [
       "2"
      ],
      "text/markdown": [
       "2"
      ],
      "text/plain": [
       "[1] 2"
      ]
     },
     "metadata": {},
     "output_type": "display_data"
    }
   ],
   "source": [
    "new_list = c(1, 2, 2, 2, 2, 3, 3, 4, 5, 5, 6, 7)\n",
    "mode(new_list)"
   ]
  },
  {
   "cell_type": "markdown",
   "metadata": {},
   "source": [
    "Nesse curso estamos vendo a linguagem R, muito usada pelos cientistas. No entanto, há outra linguagem, não menos popular ou importante na área de estatística e ciência de dados.\n",
    "\n",
    "O **Python** está ganhando o seu espaço, e a biblioteca **Pandas** está ficando cada vez mais famosa. Ela permite a criação de *Data Frames* como no R e a análise dos dados. Além disso, os nomes das funções são bem parecidos. Veja um exemplo de como calcular as Tendências Centrais com Pandas:\n",
    "\n",
    "```\n",
    ">>> import pandas\n",
    ">>> df = pandas.DataFrame([1, 1, 50, 50, 50, 50, 50, 50, 50, 60, 60, 65, 70, 200, 250, 300, 700])\n",
    ">>> df.mean()\n",
    "121.0\n",
    ">>> df.median()\n",
    "50.0\n",
    ">>> df.quantile() #moda\n",
    "50.0\n",
    "```\n",
    "\n",
    "## Aprendemos:\n",
    "\n",
    "* Como funciona o cálculo de Média, com `mean()`;\n",
    "* Como funciona o cálculo de mediana, com `median()`;\n",
    "* Como descobrir se a distribuição é Normal ou não, utilizando `shapiro.test()`;\n",
    "* Se **p-value** for abaixo de 0.05, a distribuição não é Normal;\n",
    "* Se **p-value** for próximo de 1, a distribuição é Normal;\n",
    "* Como resumir as informações de uma lista de dados utilizando `summary()`."
   ]
  },
  {
   "cell_type": "code",
   "execution_count": null,
   "metadata": {},
   "outputs": [],
   "source": []
  }
 ],
 "metadata": {
  "kernelspec": {
   "display_name": "R",
   "language": "R",
   "name": "ir"
  },
  "language_info": {
   "codemirror_mode": "r",
   "file_extension": ".r",
   "mimetype": "text/x-r-source",
   "name": "R",
   "pygments_lexer": "r",
   "version": "3.5.1"
  }
 },
 "nbformat": 4,
 "nbformat_minor": 2
}
