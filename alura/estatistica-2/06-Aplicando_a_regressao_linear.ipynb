{
 "cells": [
  {
   "cell_type": "markdown",
   "metadata": {},
   "source": [
    "# Aplicando a regressão linear\n",
    "\n",
    "Na aula passada aprendemos sobre o conceito de *Regressão Linear*. Vamos agora aplicá-lo no *R*.\n",
    "\n",
    "Primeiro vamos criar duas variáveis quaisquer:"
   ]
  },
  {
   "cell_type": "code",
   "execution_count": 1,
   "metadata": {},
   "outputs": [],
   "source": [
    "x1 <- c(1,2,3)\n",
    "x2 <- c(2,4,6)"
   ]
  },
  {
   "cell_type": "markdown",
   "metadata": {},
   "source": [
    "Para aplicarmos a *Regressão linear* utilizamos o comando `lm(formula = x2 ~ x1 )`. Estamos buscando o modelo linear (lm) com uma fórmula onde x2 depende de x1 (x2 ~ x1):"
   ]
  },
  {
   "cell_type": "code",
   "execution_count": 2,
   "metadata": {},
   "outputs": [
    {
     "data": {
      "text/plain": [
       "\n",
       "Call:\n",
       "lm(formula = x2 ~ x1)\n",
       "\n",
       "Coefficients:\n",
       "(Intercept)           x1  \n",
       "          0            2  \n"
      ]
     },
     "metadata": {},
     "output_type": "display_data"
    }
   ],
   "source": [
    "lm(formula= x2 ~ x1)"
   ]
  },
  {
   "cell_type": "markdown",
   "metadata": {},
   "source": [
    "A constante é zero e o multiplicador de x1 é 2, como podemos ver na última linha. Logo a função **f** é:\n",
    "\n",
    "`f(x) = 2x + 0`\n",
    "\n",
    "> a constante também se chama de *intercept*, o multiplicador do X também é chamado de *coefficient*.\n",
    "\n",
    "Vamos criar uma outra lista x3 e ver sua dependência com x1:"
   ]
  },
  {
   "cell_type": "code",
   "execution_count": 3,
   "metadata": {},
   "outputs": [
    {
     "data": {
      "text/plain": [
       "\n",
       "Call:\n",
       "lm(formula = x3 ~ x1)\n",
       "\n",
       "Coefficients:\n",
       "(Intercept)           x1  \n",
       "          1            2  \n"
      ]
     },
     "metadata": {},
     "output_type": "display_data"
    }
   ],
   "source": [
    "x3 <- c(3,5,7)\n",
    "lm(formula = x3 ~ x1)"
   ]
  },
  {
   "cell_type": "markdown",
   "metadata": {},
   "source": [
    "Aqui a função **f** fica:\n",
    "\n",
    "`f(x) = 2x + 1`"
   ]
  },
  {
   "cell_type": "code",
   "execution_count": null,
   "metadata": {},
   "outputs": [],
   "source": []
  }
 ],
 "metadata": {
  "kernelspec": {
   "display_name": "R",
   "language": "R",
   "name": "ir"
  },
  "language_info": {
   "codemirror_mode": "r",
   "file_extension": ".r",
   "mimetype": "text/x-r-source",
   "name": "R",
   "pygments_lexer": "r",
   "version": "3.5.1"
  }
 },
 "nbformat": 4,
 "nbformat_minor": 2
}
