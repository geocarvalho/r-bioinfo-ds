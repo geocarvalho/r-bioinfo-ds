{
 "cells": [
  {
   "cell_type": "markdown",
   "metadata": {},
   "source": [
    "Agora que você já sabe o que é um *Teste de Hipótese*, está na hora de colocar isso em prática no *R*. Vamos utilizar o mesmo exemplo da aula passada: o remédio que abaixa a febre.\n",
    "\n",
    "Nós temos as temperaturas dos pacientes antes e depois do remédio distribuídas em duas listas. Para isso vamos rodar um comando cuja função é gerar lista de números aleatórios, o `runif(a, b, c)`, onde:\n",
    "\n",
    "* a: quantidade de elementos da lista\n",
    "* b: valor mínimo\n",
    "* c: valor máximo\n",
    "\n",
    "Gerando as listas x1 e x2:"
   ]
  },
  {
   "cell_type": "code",
   "execution_count": 1,
   "metadata": {},
   "outputs": [
    {
     "data": {
      "text/html": [
       "<ol class=list-inline>\n",
       "\t<li>38.5644177944399</li>\n",
       "\t<li>38.2440427725902</li>\n",
       "\t<li>38.7105316883419</li>\n",
       "\t<li>38.0967825884698</li>\n",
       "\t<li>38.4289015862159</li>\n",
       "\t<li>38.0031920469832</li>\n",
       "\t<li>38.5307617248967</li>\n",
       "\t<li>38.6985865746392</li>\n",
       "\t<li>38.0832098298706</li>\n",
       "\t<li>38.4104690837674</li>\n",
       "\t<li>37.9534875271376</li>\n",
       "\t<li>38.3564799257088</li>\n",
       "\t<li>38.0589329197071</li>\n",
       "\t<li>38.0933930396568</li>\n",
       "\t<li>38.4648687866051</li>\n",
       "\t<li>37.9427688275231</li>\n",
       "\t<li>38.0400066519156</li>\n",
       "\t<li>38.7035469671246</li>\n",
       "\t<li>38.0075913137989</li>\n",
       "\t<li>38.3110087250359</li>\n",
       "\t<li>38.2474016660592</li>\n",
       "\t<li>38.181486550509</li>\n",
       "\t<li>38.7965851650806</li>\n",
       "\t<li>37.9883129004622</li>\n",
       "\t<li>38.081288765138</li>\n",
       "\t<li>38.0854755085893</li>\n",
       "\t<li>38.324210039177</li>\n",
       "\t<li>38.185011142469</li>\n",
       "\t<li>37.9613296300871</li>\n",
       "\t<li>38.3316679682815</li>\n",
       "</ol>\n"
      ],
      "text/latex": [
       "\\begin{enumerate*}\n",
       "\\item 38.5644177944399\n",
       "\\item 38.2440427725902\n",
       "\\item 38.7105316883419\n",
       "\\item 38.0967825884698\n",
       "\\item 38.4289015862159\n",
       "\\item 38.0031920469832\n",
       "\\item 38.5307617248967\n",
       "\\item 38.6985865746392\n",
       "\\item 38.0832098298706\n",
       "\\item 38.4104690837674\n",
       "\\item 37.9534875271376\n",
       "\\item 38.3564799257088\n",
       "\\item 38.0589329197071\n",
       "\\item 38.0933930396568\n",
       "\\item 38.4648687866051\n",
       "\\item 37.9427688275231\n",
       "\\item 38.0400066519156\n",
       "\\item 38.7035469671246\n",
       "\\item 38.0075913137989\n",
       "\\item 38.3110087250359\n",
       "\\item 38.2474016660592\n",
       "\\item 38.181486550509\n",
       "\\item 38.7965851650806\n",
       "\\item 37.9883129004622\n",
       "\\item 38.081288765138\n",
       "\\item 38.0854755085893\n",
       "\\item 38.324210039177\n",
       "\\item 38.185011142469\n",
       "\\item 37.9613296300871\n",
       "\\item 38.3316679682815\n",
       "\\end{enumerate*}\n"
      ],
      "text/markdown": [
       "1. 38.5644177944399\n",
       "2. 38.2440427725902\n",
       "3. 38.7105316883419\n",
       "4. 38.0967825884698\n",
       "5. 38.4289015862159\n",
       "6. 38.0031920469832\n",
       "7. 38.5307617248967\n",
       "8. 38.6985865746392\n",
       "9. 38.0832098298706\n",
       "10. 38.4104690837674\n",
       "11. 37.9534875271376\n",
       "12. 38.3564799257088\n",
       "13. 38.0589329197071\n",
       "14. 38.0933930396568\n",
       "15. 38.4648687866051\n",
       "16. 37.9427688275231\n",
       "17. 38.0400066519156\n",
       "18. 38.7035469671246\n",
       "19. 38.0075913137989\n",
       "20. 38.3110087250359\n",
       "21. 38.2474016660592\n",
       "22. 38.181486550509\n",
       "23. 38.7965851650806\n",
       "24. 37.9883129004622\n",
       "25. 38.081288765138\n",
       "26. 38.0854755085893\n",
       "27. 38.324210039177\n",
       "28. 38.185011142469\n",
       "29. 37.9613296300871\n",
       "30. 38.3316679682815\n",
       "\n",
       "\n"
      ],
      "text/plain": [
       " [1] 38.56442 38.24404 38.71053 38.09678 38.42890 38.00319 38.53076 38.69859\n",
       " [9] 38.08321 38.41047 37.95349 38.35648 38.05893 38.09339 38.46487 37.94277\n",
       "[17] 38.04001 38.70355 38.00759 38.31101 38.24740 38.18149 38.79659 37.98831\n",
       "[25] 38.08129 38.08548 38.32421 38.18501 37.96133 38.33167"
      ]
     },
     "metadata": {},
     "output_type": "display_data"
    }
   ],
   "source": [
    "x1 <- runif(30, 37.9, 38.8)\n",
    "x1"
   ]
  },
  {
   "cell_type": "code",
   "execution_count": 2,
   "metadata": {},
   "outputs": [
    {
     "data": {
      "text/html": [
       "<ol class=list-inline>\n",
       "\t<li>37.6930341978092</li>\n",
       "\t<li>36.6502873984166</li>\n",
       "\t<li>37.8503951223101</li>\n",
       "\t<li>36.2116272512358</li>\n",
       "\t<li>37.026657511387</li>\n",
       "\t<li>37.7678319721483</li>\n",
       "\t<li>37.4830359711312</li>\n",
       "\t<li>36.1185656467453</li>\n",
       "\t<li>37.9779236664996</li>\n",
       "\t<li>37.8007863278501</li>\n",
       "\t<li>37.7818364494946</li>\n",
       "\t<li>36.3296921526548</li>\n",
       "\t<li>37.2522668617778</li>\n",
       "\t<li>36.1639841192402</li>\n",
       "\t<li>38.111362312641</li>\n",
       "\t<li>38.0509177119006</li>\n",
       "\t<li>36.9978715066798</li>\n",
       "\t<li>36.5173200563062</li>\n",
       "\t<li>36.1578165231273</li>\n",
       "\t<li>37.8584433572832</li>\n",
       "\t<li>36.491829060996</li>\n",
       "\t<li>37.8298758493271</li>\n",
       "\t<li>38.0827460534405</li>\n",
       "\t<li>37.8461628350895</li>\n",
       "\t<li>37.2293909508269</li>\n",
       "\t<li>37.2002908282913</li>\n",
       "\t<li>37.8330518560018</li>\n",
       "\t<li>36.775236996403</li>\n",
       "\t<li>36.1052008507773</li>\n",
       "\t<li>37.5042575908825</li>\n",
       "</ol>\n"
      ],
      "text/latex": [
       "\\begin{enumerate*}\n",
       "\\item 37.6930341978092\n",
       "\\item 36.6502873984166\n",
       "\\item 37.8503951223101\n",
       "\\item 36.2116272512358\n",
       "\\item 37.026657511387\n",
       "\\item 37.7678319721483\n",
       "\\item 37.4830359711312\n",
       "\\item 36.1185656467453\n",
       "\\item 37.9779236664996\n",
       "\\item 37.8007863278501\n",
       "\\item 37.7818364494946\n",
       "\\item 36.3296921526548\n",
       "\\item 37.2522668617778\n",
       "\\item 36.1639841192402\n",
       "\\item 38.111362312641\n",
       "\\item 38.0509177119006\n",
       "\\item 36.9978715066798\n",
       "\\item 36.5173200563062\n",
       "\\item 36.1578165231273\n",
       "\\item 37.8584433572832\n",
       "\\item 36.491829060996\n",
       "\\item 37.8298758493271\n",
       "\\item 38.0827460534405\n",
       "\\item 37.8461628350895\n",
       "\\item 37.2293909508269\n",
       "\\item 37.2002908282913\n",
       "\\item 37.8330518560018\n",
       "\\item 36.775236996403\n",
       "\\item 36.1052008507773\n",
       "\\item 37.5042575908825\n",
       "\\end{enumerate*}\n"
      ],
      "text/markdown": [
       "1. 37.6930341978092\n",
       "2. 36.6502873984166\n",
       "3. 37.8503951223101\n",
       "4. 36.2116272512358\n",
       "5. 37.026657511387\n",
       "6. 37.7678319721483\n",
       "7. 37.4830359711312\n",
       "8. 36.1185656467453\n",
       "9. 37.9779236664996\n",
       "10. 37.8007863278501\n",
       "11. 37.7818364494946\n",
       "12. 36.3296921526548\n",
       "13. 37.2522668617778\n",
       "14. 36.1639841192402\n",
       "15. 38.111362312641\n",
       "16. 38.0509177119006\n",
       "17. 36.9978715066798\n",
       "18. 36.5173200563062\n",
       "19. 36.1578165231273\n",
       "20. 37.8584433572832\n",
       "21. 36.491829060996\n",
       "22. 37.8298758493271\n",
       "23. 38.0827460534405\n",
       "24. 37.8461628350895\n",
       "25. 37.2293909508269\n",
       "26. 37.2002908282913\n",
       "27. 37.8330518560018\n",
       "28. 36.775236996403\n",
       "29. 36.1052008507773\n",
       "30. 37.5042575908825\n",
       "\n",
       "\n"
      ],
      "text/plain": [
       " [1] 37.69303 36.65029 37.85040 36.21163 37.02666 37.76783 37.48304 36.11857\n",
       " [9] 37.97792 37.80079 37.78184 36.32969 37.25227 36.16398 38.11136 38.05092\n",
       "[17] 36.99787 36.51732 36.15782 37.85844 36.49183 37.82988 38.08275 37.84616\n",
       "[25] 37.22939 37.20029 37.83305 36.77524 36.10520 37.50426"
      ]
     },
     "metadata": {},
     "output_type": "display_data"
    }
   ],
   "source": [
    "x2 <- runif(30, 36.0, 38.2)\n",
    "x2"
   ]
  },
  {
   "cell_type": "markdown",
   "metadata": {},
   "source": [
    "A nossa H0 é aquela hipótese que queremos anular, ou seja, de que o remédio não faz efeito. A Halt é que o remédio faz a diferença na temperatura do corpo da pessoa.\n",
    "\n",
    "## Teste de Student\n",
    "\n",
    "Vamos, enfim, rodar o Teste do Estudante, utilizando o comando `t.test( )`:"
   ]
  },
  {
   "cell_type": "code",
   "execution_count": 3,
   "metadata": {},
   "outputs": [
    {
     "data": {
      "text/plain": [
       "\n",
       "\tWelch Two Sample t-test\n",
       "\n",
       "data:  x1 and x2\n",
       "t = 7.6381, df = 36.6, p-value = 4.37e-09\n",
       "alternative hypothesis: true difference in means is not equal to 0\n",
       "95 percent confidence interval:\n",
       " 0.763671 1.315399\n",
       "sample estimates:\n",
       "mean of x mean of y \n",
       " 38.26286  37.22332 \n"
      ]
     },
     "metadata": {},
     "output_type": "display_data"
    }
   ],
   "source": [
    "t.test(x1, x2)"
   ]
  },
  {
   "cell_type": "markdown",
   "metadata": {},
   "source": [
    "Perceba que o `p-value` é muito pequeno, então podemos facilmente descartar nossa Hipótese Nula e aceitar a Hipótese Alternativa.\n",
    "\n",
    "Se lermos o manual do `t-test` veremos que é possível rodá-lo como *pareado*, ou seja, comparar a mesma pessoa antes e depois. Outra ferramenta importante é a *alternative*, na qual você pode escolher se quer rodar o teste como *Two Tailed* ou como *One-sided*.\n",
    "\n",
    "## Teste de Wilcoxon\n",
    "\n",
    "Podemos utilizar as mesmas listas e rodar o *Teste de Wilcoxon*, para distribuições não Normais, com o comando `wilcox.test ( )`:"
   ]
  },
  {
   "cell_type": "code",
   "execution_count": 4,
   "metadata": {},
   "outputs": [
    {
     "data": {
      "text/plain": [
       "\n",
       "\tWilcoxon rank sum test\n",
       "\n",
       "data:  x1 and x2\n",
       "W = 868, p-value = 7.409e-13\n",
       "alternative hypothesis: true location shift is not equal to 0\n"
      ]
     },
     "metadata": {},
     "output_type": "display_data"
    }
   ],
   "source": [
    "wilcox.test(x1, x2)"
   ]
  },
  {
   "cell_type": "markdown",
   "metadata": {},
   "source": [
    "Aqui o `p-value` também deu muito pequeno. Mas lembre-se: primeiro precisamos ter certeza se a distribuição é Normal ou não."
   ]
  },
  {
   "cell_type": "code",
   "execution_count": null,
   "metadata": {},
   "outputs": [],
   "source": []
  }
 ],
 "metadata": {
  "kernelspec": {
   "display_name": "R",
   "language": "R",
   "name": "ir"
  },
  "language_info": {
   "codemirror_mode": "r",
   "file_extension": ".r",
   "mimetype": "text/x-r-source",
   "name": "R",
   "pygments_lexer": "r",
   "version": "3.5.1"
  }
 },
 "nbformat": 4,
 "nbformat_minor": 2
}
