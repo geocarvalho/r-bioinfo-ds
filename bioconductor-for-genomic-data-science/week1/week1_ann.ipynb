{
 "cells": [
  {
   "cell_type": "markdown",
   "metadata": {},
   "source": [
    "# What is Bioconductor\n",
    "\n",
    "* Is a open source and open development software repository of R packages for bioinformatics, with some rules and guiding principles;\n",
    "* It has emphasized reproducible research since its start, and has been an early adapter and driver of tools to do this;\n",
    "* Why? Productivity and flexibility;\n",
    "* [2004 Bioconductor: open software development for computational biology and bioinformatics](https://genomebiology.biomedcentral.com/articles/10.1186/gb-2004-5-10-r80);\n",
    "* [2015 Orchestrating high-throughput genomic analysis with Bioconductor](https://www.nature.com/articles/nmeth.3252)\n",
    "\n",
    "---\n",
    "# Installing bioconductor\n"
   ]
  },
  {
   "cell_type": "code",
   "execution_count": 1,
   "metadata": {},
   "outputs": [
    {
     "name": "stderr",
     "output_type": "stream",
     "text": [
      "Bioconductor version 3.5 (BiocInstaller 1.26.1), ?biocLite for help\n",
      "A newer version of Bioconductor is available for this version of R,\n",
      "  ?BiocUpgrade for help\n"
     ]
    }
   ],
   "source": [
    "source(\"http://www.bioconductor.org/biocLite.R\")"
   ]
  },
  {
   "cell_type": "code",
   "execution_count": 2,
   "metadata": {},
   "outputs": [
    {
     "name": "stderr",
     "output_type": "stream",
     "text": [
      "BioC_mirror: https://bioconductor.org\n",
      "Using Bioconductor 3.5 (BiocInstaller 1.26.1), R 3.4.4 (2018-03-15).\n",
      "installation path not writeable, unable to update packages: codetools, lattice,\n",
      "  MASS, spatial\n",
      "Old packages: 'data.table', 'DBI', 'pbdZMQ', 'RSQLite', 'stringi', 'yaml'\n"
     ]
    }
   ],
   "source": [
    "biocLite()"
   ]
  },
  {
   "cell_type": "code",
   "execution_count": 3,
   "metadata": {
    "scrolled": true
   },
   "outputs": [
    {
     "name": "stdout",
     "output_type": "stream",
     "text": [
      "\n",
      "* sessionInfo()\n",
      "\n",
      "R version 3.4.4 (2018-03-15)\n",
      "Platform: x86_64-pc-linux-gnu (64-bit)\n",
      "Running under: Ubuntu 16.04.4 LTS\n",
      "\n",
      "Matrix products: default\n",
      "BLAS: /usr/lib/libblas/libblas.so.3.6.0\n",
      "LAPACK: /usr/lib/lapack/liblapack.so.3.6.0\n",
      "\n",
      "locale:\n",
      " [1] LC_CTYPE=pt_BR.UTF-8       LC_NUMERIC=C              \n",
      " [3] LC_TIME=pt_BR.UTF-8        LC_COLLATE=en_US.UTF-8    \n",
      " [5] LC_MONETARY=pt_BR.UTF-8    LC_MESSAGES=en_US.UTF-8   \n",
      " [7] LC_PAPER=pt_BR.UTF-8       LC_NAME=C                 \n",
      " [9] LC_ADDRESS=C               LC_TELEPHONE=C            \n",
      "[11] LC_MEASUREMENT=pt_BR.UTF-8 LC_IDENTIFICATION=C       \n",
      "\n",
      "attached base packages:\n",
      "[1] stats     graphics  grDevices utils     datasets  methods   base     \n",
      "\n",
      "other attached packages:\n",
      "[1] BiocInstaller_1.26.1\n",
      "\n",
      "loaded via a namespace (and not attached):\n",
      " [1] Rcpp_0.12.16         digest_0.6.15        crayon_1.3.4        \n",
      " [4] IRdisplay_0.4.4      repr_0.13            jsonlite_1.5        \n",
      " [7] magrittr_1.5         evaluate_0.10.1      stringi_1.1.7       \n",
      "[10] uuid_0.1-2           IRkernel_0.8.11.9000 tools_3.4.4         \n",
      "[13] stringr_1.3.0        compiler_3.4.4       base64enc_0.1-3     \n",
      "[16] htmltools_0.3.6      pbdZMQ_0.3-2        \n",
      "\n",
      "* Out-of-date packages\n",
      "           Package      LibPath                                         \n",
      "data.table \"data.table\" \"/home/george/R/x86_64-pc-linux-gnu-library/3.4\"\n",
      "DBI        \"DBI\"        \"/home/george/R/x86_64-pc-linux-gnu-library/3.4\"\n",
      "pbdZMQ     \"pbdZMQ\"     \"/home/george/R/x86_64-pc-linux-gnu-library/3.4\"\n",
      "RSQLite    \"RSQLite\"    \"/home/george/R/x86_64-pc-linux-gnu-library/3.4\"\n",
      "stringi    \"stringi\"    \"/home/george/R/x86_64-pc-linux-gnu-library/3.4\"\n",
      "yaml       \"yaml\"       \"/home/george/R/x86_64-pc-linux-gnu-library/3.4\"\n",
      "           Installed  Built   ReposVer\n",
      "data.table \"1.10.4-3\" \"3.4.2\" \"1.11.0\"\n",
      "DBI        \"0.8\"      \"3.4.4\" \"1.0.0\" \n",
      "pbdZMQ     \"0.3-2\"    \"3.4.4\" \"0.3-3\" \n",
      "RSQLite    \"2.1.0\"    \"3.4.4\" \"2.1.1\" \n",
      "stringi    \"1.1.7\"    \"3.4.4\" \"1.2.2\" \n",
      "yaml       \"2.1.18\"   \"3.4.4\" \"2.1.19\"\n",
      "           Repository                               \n",
      "data.table \"https://cloud.r-project.org/src/contrib\"\n",
      "DBI        \"https://cloud.r-project.org/src/contrib\"\n",
      "pbdZMQ     \"https://cloud.r-project.org/src/contrib\"\n",
      "RSQLite    \"https://cloud.r-project.org/src/contrib\"\n",
      "stringi    \"https://cloud.r-project.org/src/contrib\"\n",
      "yaml       \"https://cloud.r-project.org/src/contrib\"\n",
      "\n",
      "update with biocLite()\n",
      "\n"
     ]
    },
    {
     "ename": "ERROR",
     "evalue": "Error: 6 package(s) out of date\n",
     "output_type": "error",
     "traceback": [
      "Error: 6 package(s) out of date\nTraceback:\n",
      "1. biocValid()",
      "2. .stop(paste(msg, collapse = \"; \"))",
      "3. stop(.msg(...), call. = call.)"
     ]
    }
   ],
   "source": [
    "biocValid()"
   ]
  },
  {
   "cell_type": "markdown",
   "metadata": {},
   "source": [
    "---\n",
    "# R base types\n",
    "\n",
    "* Remind what I didn't know\n"
   ]
  },
  {
   "cell_type": "code",
   "execution_count": null,
   "metadata": {},
   "outputs": [],
   "source": [
    ".Machine$integer.max"
   ]
  },
  {
   "cell_type": "markdown",
   "metadata": {},
   "source": [
    "---\n",
    "# GRanges - Overview\n",
    "\n",
    "* Data structure for storing genomic intervals in R;\n",
    "* It is fast and efficient;\n",
    "* Many entities in genomics are intervals or sets of intervals (of integers): Promoters, genes, SNPs, CpG islands, ..; sequencing reads, mapped and processed;\n",
    "* Many tasks involves relating sets of intervals to each other:\n",
    "    * Which promoter contains SNPs?\n",
    "    * Which TF binding sites overlap a promoter?\n",
    "    * Which genes are covered by sequencing reads?\n",
    "\n",
    "> Functionality in the GenomicRanges and IRanges packages.\n",
    "\n",
    "* [2013 Software for Computing and Annotating Genomic Ranges](http://journals.plos.org/ploscompbiol/article?id=10.1371/journal.pcbi.1003118);\n",
    "* Much functionalities overlaps bedtools.\n",
    "\n",
    "---\n",
    "# IRanges - basic usage"
   ]
  },
  {
   "cell_type": "code",
   "execution_count": 4,
   "metadata": {},
   "outputs": [
    {
     "name": "stderr",
     "output_type": "stream",
     "text": [
      "Loading required package: BiocGenerics\n",
      "Loading required package: parallel\n",
      "\n",
      "Attaching package: ‘BiocGenerics’\n",
      "\n",
      "The following objects are masked from ‘package:parallel’:\n",
      "\n",
      "    clusterApply, clusterApplyLB, clusterCall, clusterEvalQ,\n",
      "    clusterExport, clusterMap, parApply, parCapply, parLapply,\n",
      "    parLapplyLB, parRapply, parSapply, parSapplyLB\n",
      "\n",
      "The following objects are masked from ‘package:stats’:\n",
      "\n",
      "    IQR, mad, sd, var, xtabs\n",
      "\n",
      "The following objects are masked from ‘package:base’:\n",
      "\n",
      "    anyDuplicated, append, as.data.frame, cbind, colMeans, colnames,\n",
      "    colSums, do.call, duplicated, eval, evalq, Filter, Find, get, grep,\n",
      "    grepl, intersect, is.unsorted, lapply, lengths, Map, mapply, match,\n",
      "    mget, order, paste, pmax, pmax.int, pmin, pmin.int, Position, rank,\n",
      "    rbind, Reduce, rowMeans, rownames, rowSums, sapply, setdiff, sort,\n",
      "    table, tapply, union, unique, unsplit, which, which.max, which.min\n",
      "\n",
      "Loading required package: S4Vectors\n",
      "Loading required package: stats4\n",
      "\n",
      "Attaching package: ‘S4Vectors’\n",
      "\n",
      "The following object is masked from ‘package:base’:\n",
      "\n",
      "    expand.grid\n",
      "\n"
     ]
    }
   ],
   "source": [
    "library(IRanges)"
   ]
  },
  {
   "cell_type": "markdown",
   "metadata": {},
   "source": [
    "* IRanges is a vector that contains integer intervals"
   ]
  },
  {
   "cell_type": "code",
   "execution_count": 5,
   "metadata": {},
   "outputs": [
    {
     "name": "stdout",
     "output_type": "stream",
     "text": [
      "IRanges object with 3 ranges and 0 metadata columns:\n",
      "          start       end     width\n",
      "      <integer> <integer> <integer>\n",
      "  [1]         1         3         3\n",
      "  [2]         3         5         3\n",
      "  [3]         5         7         3\n"
     ]
    }
   ],
   "source": [
    "ir1 <- IRanges(start=c(1,3,5), end=c(3,5,7))\n",
    "print(ir1)"
   ]
  },
  {
   "cell_type": "markdown",
   "metadata": {},
   "source": [
    "* It's just necessary two arguments because the last is infered"
   ]
  },
  {
   "cell_type": "code",
   "execution_count": 6,
   "metadata": {},
   "outputs": [
    {
     "name": "stdout",
     "output_type": "stream",
     "text": [
      "IRanges object with 3 ranges and 0 metadata columns:\n",
      "          start       end     width\n",
      "      <integer> <integer> <integer>\n",
      "  [1]         1         3         3\n",
      "  [2]         3         5         3\n",
      "  [3]         5         7         3\n"
     ]
    }
   ],
   "source": [
    "ir2 <- IRanges(start=c(1,3,5), width=3)\n",
    "print(ir2)"
   ]
  },
  {
   "cell_type": "code",
   "execution_count": 7,
   "metadata": {},
   "outputs": [
    {
     "data": {
      "text/html": [
       "<ol class=list-inline>\n",
       "\t<li>1</li>\n",
       "\t<li>3</li>\n",
       "\t<li>5</li>\n",
       "</ol>\n"
      ],
      "text/latex": [
       "\\begin{enumerate*}\n",
       "\\item 1\n",
       "\\item 3\n",
       "\\item 5\n",
       "\\end{enumerate*}\n"
      ],
      "text/markdown": [
       "1. 1\n",
       "2. 3\n",
       "3. 5\n",
       "\n",
       "\n"
      ],
      "text/plain": [
       "[1] 1 3 5"
      ]
     },
     "metadata": {},
     "output_type": "display_data"
    }
   ],
   "source": [
    "start(ir1)"
   ]
  },
  {
   "cell_type": "code",
   "execution_count": 8,
   "metadata": {},
   "outputs": [
    {
     "name": "stdout",
     "output_type": "stream",
     "text": [
      "IRanges object with 3 ranges and 0 metadata columns:\n",
      "          start       end     width\n",
      "      <integer> <integer> <integer>\n",
      "  [1]         1         1         1\n",
      "  [2]         3         3         1\n",
      "  [3]         5         5         1\n"
     ]
    }
   ],
   "source": [
    "width(ir2) <- 1 # it resize the irange\n",
    "print(ir2)"
   ]
  },
  {
   "cell_type": "code",
   "execution_count": 9,
   "metadata": {},
   "outputs": [
    {
     "name": "stdout",
     "output_type": "stream",
     "text": [
      "IRanges object with 3 ranges and 0 metadata columns:\n",
      "         start       end     width\n",
      "     <integer> <integer> <integer>\n",
      "  A1         1         3         3\n",
      "  A2         3         5         3\n",
      "  A3         5         7         3\n"
     ]
    }
   ],
   "source": [
    "names(ir1) <- paste('A', 1:3, sep='')\n",
    "print(ir1)"
   ]
  },
  {
   "cell_type": "code",
   "execution_count": 10,
   "metadata": {},
   "outputs": [
    {
     "data": {
      "text/plain": [
       "NULL"
      ]
     },
     "metadata": {},
     "output_type": "display_data"
    }
   ],
   "source": [
    "dim(ir1) # vectors don't have dimension"
   ]
  },
  {
   "cell_type": "code",
   "execution_count": 11,
   "metadata": {},
   "outputs": [
    {
     "data": {
      "text/html": [
       "3"
      ],
      "text/latex": [
       "3"
      ],
      "text/markdown": [
       "3"
      ],
      "text/plain": [
       "[1] 3"
      ]
     },
     "metadata": {},
     "output_type": "display_data"
    }
   ],
   "source": [
    "length(ir1)"
   ]
  },
  {
   "cell_type": "markdown",
   "metadata": {},
   "source": [
    "* Select using idex or name"
   ]
  },
  {
   "cell_type": "code",
   "execution_count": 12,
   "metadata": {},
   "outputs": [
    {
     "data": {
      "text/plain": [
       "IRanges object with 1 range and 0 metadata columns:\n",
       "         start       end     width\n",
       "     <integer> <integer> <integer>\n",
       "  A1         1         3         3"
      ]
     },
     "metadata": {},
     "output_type": "display_data"
    }
   ],
   "source": [
    "ir1[1]"
   ]
  },
  {
   "cell_type": "code",
   "execution_count": 13,
   "metadata": {},
   "outputs": [
    {
     "data": {
      "text/plain": [
       "IRanges object with 1 range and 0 metadata columns:\n",
       "         start       end     width\n",
       "     <integer> <integer> <integer>\n",
       "  A1         1         3         3"
      ]
     },
     "metadata": {},
     "output_type": "display_data"
    }
   ],
   "source": [
    "ir1['A1']"
   ]
  },
  {
   "cell_type": "markdown",
   "metadata": {},
   "source": [
    "* Combine ir vectors"
   ]
  },
  {
   "cell_type": "code",
   "execution_count": 14,
   "metadata": {},
   "outputs": [
    {
     "data": {
      "text/plain": [
       "IRanges object with 6 ranges and 0 metadata columns:\n",
       "         start       end     width\n",
       "     <integer> <integer> <integer>\n",
       "  A1         1         3         3\n",
       "  A2         3         5         3\n",
       "  A3         5         7         3\n",
       "             1         1         1\n",
       "             3         3         1\n",
       "             5         5         1"
      ]
     },
     "metadata": {},
     "output_type": "display_data"
    }
   ],
   "source": [
    "c(ir1, ir2)"
   ]
  },
  {
   "cell_type": "markdown",
   "metadata": {},
   "source": [
    "* Normal irange"
   ]
  },
  {
   "cell_type": "code",
   "execution_count": 15,
   "metadata": {},
   "outputs": [
    {
     "data": {
      "text/plain": [
       "IRanges object with 4 ranges and 0 metadata columns:\n",
       "          start       end     width\n",
       "      <integer> <integer> <integer>\n",
       "  [1]         1         4         4\n",
       "  [2]         3         4         2\n",
       "  [3]         7         8         2\n",
       "  [4]         9        10         2"
      ]
     },
     "metadata": {},
     "output_type": "display_data"
    }
   ],
   "source": [
    "ir <- IRanges(start=c(1,3,7,9), end=c(4,4,8,10))\n",
    "ir"
   ]
  },
  {
   "cell_type": "markdown",
   "metadata": {},
   "source": [
    "* Resize an ir"
   ]
  },
  {
   "cell_type": "code",
   "execution_count": 16,
   "metadata": {},
   "outputs": [
    {
     "data": {
      "text/plain": [
       "IRanges object with 4 ranges and 0 metadata columns:\n",
       "          start       end     width\n",
       "      <integer> <integer> <integer>\n",
       "  [1]         1         1         1\n",
       "  [2]         3         3         1\n",
       "  [3]         7         7         1\n",
       "  [4]         9         9         1"
      ]
     },
     "metadata": {},
     "output_type": "display_data"
    }
   ],
   "source": [
    "resize(ir, width=1, fix='start')"
   ]
  },
  {
   "cell_type": "code",
   "execution_count": 17,
   "metadata": {},
   "outputs": [
    {
     "data": {
      "text/plain": [
       "IRanges object with 4 ranges and 0 metadata columns:\n",
       "          start       end     width\n",
       "      <integer> <integer> <integer>\n",
       "  [1]         2         2         1\n",
       "  [2]         3         3         1\n",
       "  [3]         7         7         1\n",
       "  [4]         9         9         1"
      ]
     },
     "metadata": {},
     "output_type": "display_data"
    }
   ],
   "source": [
    "resize(ir, width=1, fix='center')"
   ]
  },
  {
   "cell_type": "code",
   "execution_count": 18,
   "metadata": {},
   "outputs": [
    {
     "data": {
      "text/plain": [
       "IRanges object with 3 ranges and 0 metadata columns:\n",
       "          start       end     width\n",
       "      <integer> <integer> <integer>\n",
       "  [1]         1         1         1\n",
       "  [2]         3         3         1\n",
       "  [3]         5         5         1"
      ]
     },
     "metadata": {},
     "output_type": "display_data"
    },
    {
     "data": {
      "text/plain": [
       "IRanges object with 3 ranges and 0 metadata columns:\n",
       "          start       end     width\n",
       "      <integer> <integer> <integer>\n",
       "  [1]         4         4         1\n",
       "  [2]         5         5         1\n",
       "  [3]         6         6         1"
      ]
     },
     "metadata": {},
     "output_type": "display_data"
    }
   ],
   "source": [
    "ir1 <- IRanges(start=c(1,3,5), width=1)\n",
    "ir2 <- IRanges(start=c(4,5,6), width=1)\n",
    "ir1\n",
    "ir2"
   ]
  },
  {
   "cell_type": "markdown",
   "metadata": {},
   "source": [
    "* Union ir is a combination of concatenate and reduce functions"
   ]
  },
  {
   "cell_type": "code",
   "execution_count": 19,
   "metadata": {},
   "outputs": [
    {
     "data": {
      "text/plain": [
       "IRanges object with 2 ranges and 0 metadata columns:\n",
       "          start       end     width\n",
       "      <integer> <integer> <integer>\n",
       "  [1]         1         1         1\n",
       "  [2]         3         6         4"
      ]
     },
     "metadata": {},
     "output_type": "display_data"
    }
   ],
   "source": [
    "union(ir1, ir2)"
   ]
  },
  {
   "cell_type": "code",
   "execution_count": 20,
   "metadata": {},
   "outputs": [
    {
     "data": {
      "text/plain": [
       "IRanges object with 2 ranges and 0 metadata columns:\n",
       "          start       end     width\n",
       "      <integer> <integer> <integer>\n",
       "  [1]         1         1         1\n",
       "  [2]         3         6         4"
      ]
     },
     "metadata": {},
     "output_type": "display_data"
    }
   ],
   "source": [
    "reduce(c(ir1, ir2))"
   ]
  },
  {
   "cell_type": "code",
   "execution_count": null,
   "metadata": {},
   "outputs": [],
   "source": [
    "intersect(ir1, ir2)"
   ]
  },
  {
   "cell_type": "markdown",
   "metadata": {},
   "source": [
    "* `findOverlaps()` allows us to relate two sets of IRanges to each other"
   ]
  },
  {
   "cell_type": "code",
   "execution_count": 21,
   "metadata": {},
   "outputs": [
    {
     "data": {
      "text/plain": [
       "IRanges object with 3 ranges and 0 metadata columns:\n",
       "          start       end     width\n",
       "      <integer> <integer> <integer>\n",
       "  [1]         1         3         3\n",
       "  [2]         4         7         4\n",
       "  [3]         8        10         3"
      ]
     },
     "metadata": {},
     "output_type": "display_data"
    },
    {
     "data": {
      "text/plain": [
       "IRanges object with 2 ranges and 0 metadata columns:\n",
       "          start       end     width\n",
       "      <integer> <integer> <integer>\n",
       "  [1]         3         5         3\n",
       "  [2]         4         6         3"
      ]
     },
     "metadata": {},
     "output_type": "display_data"
    }
   ],
   "source": [
    "ir1 <- IRanges(start=c(1,4,8), end=c(3,7,10))\n",
    "ir2 <- IRanges(start=c(3,4), width=3)\n",
    "ir1\n",
    "ir2"
   ]
  },
  {
   "cell_type": "raw",
   "metadata": {},
   "source": [
    "ov <- findOverlaps(ir1, ir2)\n",
    "ov"
   ]
  },
  {
   "cell_type": "code",
   "execution_count": 22,
   "metadata": {},
   "outputs": [
    {
     "ename": "ERROR",
     "evalue": "Error in from(x, ...): object 'ov' not found\n",
     "output_type": "error",
     "traceback": [
      "Error in from(x, ...): object 'ov' not found\nTraceback:\n",
      "1. queryHits(ov)",
      "2. from(x, ...)"
     ]
    }
   ],
   "source": [
    "queryHits(ov)"
   ]
  },
  {
   "cell_type": "code",
   "execution_count": 23,
   "metadata": {},
   "outputs": [
    {
     "ename": "ERROR",
     "evalue": "Error in from(x, ...): object 'ov' not found\n",
     "output_type": "error",
     "traceback": [
      "Error in from(x, ...): object 'ov' not found\nTraceback:\n",
      "1. unique(queryHits(ov))",
      "2. queryHits(ov)",
      "3. from(x, ...)"
     ]
    }
   ],
   "source": [
    "unique(queryHits(ov))"
   ]
  },
  {
   "cell_type": "code",
   "execution_count": 24,
   "metadata": {},
   "outputs": [
    {
     "data": {
      "text/html": [
       "<pre class=language-r><code>function (query, subject, maxgap = 0L, minoverlap = 1L, type = c(\"any\", \n",
       "<span style=white-space:pre-wrap>    \"start\", \"end\", \"within\", \"equal\"), select = c(\"all\", \"first\", </span>\n",
       "<span style=white-space:pre-wrap>    \"last\", \"arbitrary\"), ...) </span>\n",
       "NULL</code></pre>"
      ],
      "text/latex": [
       "\\begin{minted}{r}\n",
       "function (query, subject, maxgap = 0L, minoverlap = 1L, type = c(\"any\", \n",
       "    \"start\", \"end\", \"within\", \"equal\"), select = c(\"all\", \"first\", \n",
       "    \"last\", \"arbitrary\"), ...) \n",
       "NULL\n",
       "\\end{minted}"
      ],
      "text/markdown": [
       "```r\n",
       "function (query, subject, maxgap = 0L, minoverlap = 1L, type = c(\"any\", \n",
       "    \"start\", \"end\", \"within\", \"equal\"), select = c(\"all\", \"first\", \n",
       "    \"last\", \"arbitrary\"), ...) \n",
       "NULL\n",
       "```"
      ],
      "text/plain": [
       "function (query, subject, maxgap = 0L, minoverlap = 1L, type = c(\"any\", \n",
       "    \"start\", \"end\", \"within\", \"equal\"), select = c(\"all\", \"first\", \n",
       "    \"last\", \"arbitrary\"), ...) \n",
       "NULL"
      ]
     },
     "metadata": {},
     "output_type": "display_data"
    }
   ],
   "source": [
    "args(findOverlaps)"
   ]
  },
  {
   "cell_type": "code",
   "execution_count": 25,
   "metadata": {},
   "outputs": [
    {
     "data": {
      "text/html": [
       "<ol class=list-inline>\n",
       "\t<li>1</li>\n",
       "\t<li>2</li>\n",
       "\t<li>0</li>\n",
       "</ol>\n"
      ],
      "text/latex": [
       "\\begin{enumerate*}\n",
       "\\item 1\n",
       "\\item 2\n",
       "\\item 0\n",
       "\\end{enumerate*}\n"
      ],
      "text/markdown": [
       "1. 1\n",
       "2. 2\n",
       "3. 0\n",
       "\n",
       "\n"
      ],
      "text/plain": [
       "[1] 1 2 0"
      ]
     },
     "metadata": {},
     "output_type": "display_data"
    }
   ],
   "source": [
    "countOverlaps(ir1, ir2) # How often do I see overlaps between a query set and a subject set?"
   ]
  },
  {
   "cell_type": "code",
   "execution_count": 26,
   "metadata": {},
   "outputs": [
    {
     "data": {
      "text/plain": [
       "IRanges object with 3 ranges and 0 metadata columns:\n",
       "          start       end     width\n",
       "      <integer> <integer> <integer>\n",
       "  [1]         1         3         3\n",
       "  [2]         4         7         4\n",
       "  [3]         8        10         3"
      ]
     },
     "metadata": {},
     "output_type": "display_data"
    },
    {
     "data": {
      "text/plain": [
       "IRanges object with 2 ranges and 0 metadata columns:\n",
       "          start       end     width\n",
       "      <integer> <integer> <integer>\n",
       "  [1]         3         5         3\n",
       "  [2]         4         6         3"
      ]
     },
     "metadata": {},
     "output_type": "display_data"
    }
   ],
   "source": [
    "ir1\n",
    "ir2"
   ]
  },
  {
   "cell_type": "code",
   "execution_count": 27,
   "metadata": {},
   "outputs": [
    {
     "data": {
      "text/html": [
       "<ol class=list-inline>\n",
       "\t<li>1</li>\n",
       "\t<li>1</li>\n",
       "\t<li>2</li>\n",
       "</ol>\n"
      ],
      "text/latex": [
       "\\begin{enumerate*}\n",
       "\\item 1\n",
       "\\item 1\n",
       "\\item 2\n",
       "\\end{enumerate*}\n"
      ],
      "text/markdown": [
       "1. 1\n",
       "2. 1\n",
       "3. 2\n",
       "\n",
       "\n"
      ],
      "text/plain": [
       "[1] 1 1 2"
      ]
     },
     "metadata": {},
     "output_type": "display_data"
    }
   ],
   "source": [
    "nearest(ir1, ir2) # Which of these IRanges in ir2 are closer to the ones in ir1? "
   ]
  },
  {
   "cell_type": "markdown",
   "metadata": {},
   "source": [
    "---\n",
    "# GenomicRanges - GRanges"
   ]
  },
  {
   "cell_type": "code",
   "execution_count": 79,
   "metadata": {},
   "outputs": [],
   "source": [
    "library(GenomeInfoDb)\n",
    "library(GenomicRanges)"
   ]
  },
  {
   "cell_type": "code",
   "execution_count": 30,
   "metadata": {},
   "outputs": [
    {
     "data": {
      "text/plain": [
       "GRanges object with 3 ranges and 0 metadata columns:\n",
       "      seqnames    ranges strand\n",
       "         <Rle> <IRanges>  <Rle>\n",
       "  [1]     chr1    [1, 3]      +\n",
       "  [2]     chr1    [3, 5]      -\n",
       "  [3]     chr1    [5, 7]      +\n",
       "  -------\n",
       "  seqinfo: 1 sequence from an unspecified genome; no seqlengths"
      ]
     },
     "metadata": {},
     "output_type": "display_data"
    }
   ],
   "source": [
    "gr = GRanges(seqnames=c('chr1'), strand=c('+', '-', '+'), ranges=IRanges(start=c(1,3,5), width = 3))\n",
    "gr"
   ]
  },
  {
   "cell_type": "code",
   "execution_count": 31,
   "metadata": {},
   "outputs": [
    {
     "data": {
      "text/plain": [
       "GRanges object with 3 ranges and 0 metadata columns:\n",
       "      seqnames    ranges strand\n",
       "         <Rle> <IRanges>  <Rle>\n",
       "  [1]     chr1  [-4,  0]      +\n",
       "  [2]     chr1  [ 6, 10]      -\n",
       "  [3]     chr1  [ 0,  4]      +\n",
       "  -------\n",
       "  seqinfo: 1 sequence from an unspecified genome; no seqlengths"
      ]
     },
     "metadata": {},
     "output_type": "display_data"
    }
   ],
   "source": [
    "# Relative to the direction of transcription, '-' strand go to the right and so on\n",
    "flank(gr, 5)"
   ]
  },
  {
   "cell_type": "code",
   "execution_count": 32,
   "metadata": {},
   "outputs": [
    {
     "data": {
      "text/plain": [
       "GRanges object with 3 ranges and 0 metadata columns:\n",
       "      seqnames        ranges strand\n",
       "         <Rle>     <IRanges>  <Rle>\n",
       "  [1]     chr1 [-1999,  200]      +\n",
       "  [2]     chr1 [ -194, 2005]      -\n",
       "  [3]     chr1 [-1995,  204]      +\n",
       "  -------\n",
       "  seqinfo: 1 sequence from an unspecified genome; no seqlengths"
      ]
     },
     "metadata": {},
     "output_type": "display_data"
    }
   ],
   "source": [
    "# Promoters by default use 2,200 bases interval where your 200 bases are downstream and 2,000 bases upstream of the transaction start site\n",
    "promoters(gr)"
   ]
  },
  {
   "cell_type": "code",
   "execution_count": 33,
   "metadata": {},
   "outputs": [
    {
     "data": {
      "text/plain": [
       "Seqinfo object with 1 sequence from an unspecified genome; no seqlengths:\n",
       "  seqnames seqlengths isCircular genome\n",
       "  chr1             NA         NA   <NA>"
      ]
     },
     "metadata": {},
     "output_type": "display_data"
    },
    {
     "data": {
      "text/plain": [
       "Seqinfo object with 1 sequence from an unspecified genome:\n",
       "  seqnames seqlengths isCircular genome\n",
       "  chr1             10         NA   <NA>"
      ]
     },
     "metadata": {},
     "output_type": "display_data"
    },
    {
     "data": {
      "text/html": [
       "'chr1'"
      ],
      "text/latex": [
       "'chr1'"
      ],
      "text/markdown": [
       "'chr1'"
      ],
      "text/plain": [
       "[1] \"chr1\""
      ]
     },
     "metadata": {},
     "output_type": "display_data"
    },
    {
     "data": {
      "text/plain": [
       "GRanges object with 5 ranges and 0 metadata columns:\n",
       "      seqnames    ranges strand\n",
       "         <Rle> <IRanges>  <Rle>\n",
       "  [1]     chr1   [4,  4]      +\n",
       "  [2]     chr1   [8, 10]      +\n",
       "  [3]     chr1   [1,  2]      -\n",
       "  [4]     chr1   [6, 10]      -\n",
       "  [5]     chr1   [1, 10]      *\n",
       "  -------\n",
       "  seqinfo: 1 sequence from an unspecified genome"
      ]
     },
     "metadata": {},
     "output_type": "display_data"
    }
   ],
   "source": [
    "# retrieve info\n",
    "seqinfo(gr)\n",
    "# give the chr size\n",
    "seqlengths(gr) = c('chr1'=10)\n",
    "# Retrieve again\n",
    "seqinfo(gr)\n",
    "# Take the chr names\n",
    "seqlevels(gr)\n",
    "# Gaps give us the stuff on the chromosome that is not covered by a range and the g ranges\n",
    "gaps(gr)"
   ]
  },
  {
   "cell_type": "code",
   "execution_count": 34,
   "metadata": {},
   "outputs": [
    {
     "ename": "ERROR",
     "evalue": "Error in .normalize_seqnames_replacement_value(value, x): levels of supplied 'seqnames' must be identical to 'seqlevels(x)'\n",
     "output_type": "error",
     "traceback": [
      "Error in .normalize_seqnames_replacement_value(value, x): levels of supplied 'seqnames' must be identical to 'seqlevels(x)'\nTraceback:\n",
      "1. `seqnames<-`(`*tmp*`, value = c(\"chr1\", \"chr2\", \"chr1\"))",
      "2. `seqnames<-`(`*tmp*`, value = c(\"chr1\", \"chr2\", \"chr1\"))",
      "3. .normalize_seqnames_replacement_value(value, x)",
      "4. stop(\"levels of supplied 'seqnames' must be \", \"identical to 'seqlevels(x)'\")"
     ]
    }
   ],
   "source": [
    "# Change the chr name\n",
    "seqnames(gr)=c('chr1', 'chr2', 'chr1')"
   ]
  },
  {
   "cell_type": "code",
   "execution_count": 35,
   "metadata": {},
   "outputs": [
    {
     "data": {
      "text/plain": [
       "GRanges object with 3 ranges and 0 metadata columns:\n",
       "      seqnames    ranges strand\n",
       "         <Rle> <IRanges>  <Rle>\n",
       "  [1]     chr1    [1, 3]      +\n",
       "  [2]     chr1    [5, 7]      +\n",
       "  [3]     chr2    [3, 5]      -\n",
       "  -------\n",
       "  seqinfo: 2 sequences from an unspecified genome"
      ]
     },
     "metadata": {},
     "output_type": "display_data"
    },
    {
     "data": {
      "text/plain": [
       "GRanges object with 3 ranges and 0 metadata columns:\n",
       "      seqnames    ranges strand\n",
       "         <Rle> <IRanges>  <Rle>\n",
       "  [1]     chr2    [3, 5]      -\n",
       "  [2]     chr1    [1, 3]      +\n",
       "  [3]     chr1    [5, 7]      +\n",
       "  -------\n",
       "  seqinfo: 2 sequences from an unspecified genome"
      ]
     },
     "metadata": {},
     "output_type": "display_data"
    }
   ],
   "source": [
    "# To do this we have to tell that exist different levels\n",
    "seqlevels(gr) = c('chr1', 'chr2')\n",
    "# Now it can be changed\n",
    "seqnames(gr)=c('chr1', 'chr2', 'chr1')\n",
    "# You can sort it, but it is according to the seqlevels order\n",
    "sort(gr)\n",
    "# To change the order, you can change the seqlevels\n",
    "seqlevels(gr) = c('chr2', 'chr1')\n",
    "sort(gr)"
   ]
  },
  {
   "cell_type": "code",
   "execution_count": 36,
   "metadata": {},
   "outputs": [
    {
     "data": {
      "text/plain": [
       "Seqinfo object with 2 sequences from hg19 genome:\n",
       "  seqnames seqlengths isCircular genome\n",
       "  chr2             NA         NA   hg19\n",
       "  chr1             10         NA   hg19"
      ]
     },
     "metadata": {},
     "output_type": "display_data"
    },
    {
     "ename": "ERROR",
     "evalue": "Error in mergeNamedAtomicVectors(genome(x), genome(y), what = c(\"sequence\", : sequences chr2, chr1 have incompatible genomes:\n  - in 'x': hg19, hg19\n  - in 'y': hg18, hg18\n",
     "output_type": "error",
     "traceback": [
      "Error in mergeNamedAtomicVectors(genome(x), genome(y), what = c(\"sequence\", : sequences chr2, chr1 have incompatible genomes:\n  - in 'x': hg19, hg19\n  - in 'y': hg18, hg18\nTraceback:\n",
      "1. findOverlaps(gr, gr2)",
      "2. findOverlaps(gr, gr2)",
      "3. .local(query, subject, maxgap, minoverlap, type, select, ...)",
      "4. findOverlaps_GNCList(query, subject, maxgap = maxgap, minoverlap = minoverlap, \n .     type = type, select = select, ignore.strand = ignore.strand)",
      "5. merge(seqinfo(query), seqinfo(subject))",
      "6. merge(seqinfo(query), seqinfo(subject))",
      "7. .Seqinfo.merge(x, y, ...)",
      "8. .Seqinfo.mergexy(x, y)",
      "9. mergeNamedAtomicVectors(genome(x), genome(y), what = c(\"sequence\", \n .     \"genomes\"))",
      "10. stop(msg)"
     ]
    }
   ],
   "source": [
    "# We can assign genome to the GRange\n",
    "genome(gr)= 'hg19'\n",
    "seqinfo(gr)\n",
    "# Why that is good?\n",
    "gr2=gr\n",
    "genome(gr2)='hg18'\n",
    "findOverlaps(gr, gr2) # it shows you that different genomes are not compatibles\n"
   ]
  },
  {
   "cell_type": "markdown",
   "metadata": {},
   "source": [
    "---\n",
    "# GenomicRanges - Basic GRanges usage"
   ]
  },
  {
   "cell_type": "code",
   "execution_count": 38,
   "metadata": {},
   "outputs": [
    {
     "data": {
      "text/plain": [
       "IRanges object with 3 ranges and 0 metadata columns:\n",
       "          start       end     width\n",
       "      <integer> <integer> <integer>\n",
       "  [1]         1         2         2\n",
       "  [2]         2         3         2\n",
       "  [3]         3         4         2"
      ]
     },
     "metadata": {},
     "output_type": "display_data"
    }
   ],
   "source": [
    "ir = IRanges(start=1:3, width=2)\n",
    "ir"
   ]
  },
  {
   "cell_type": "code",
   "execution_count": 45,
   "metadata": {},
   "outputs": [
    {
     "data": {
      "text/plain": [
       "DataFrame with 3 rows and 2 columns\n",
       "         ir      score\n",
       "  <IRanges>  <numeric>\n",
       "1    [1, 2] -0.8009419\n",
       "2    [2, 3]  0.9877574\n",
       "3    [3, 4] -0.1200621"
      ]
     },
     "metadata": {},
     "output_type": "display_data"
    }
   ],
   "source": [
    "df = DataFrame(ir=ir, score=rnorm(3)) # Like a normal data frame, but with more objects related to the iranges\n",
    "df"
   ]
  },
  {
   "cell_type": "code",
   "execution_count": 41,
   "metadata": {},
   "outputs": [
    {
     "data": {
      "text/plain": [
       "IRanges object with 1 range and 0 metadata columns:\n",
       "          start       end     width\n",
       "      <integer> <integer> <integer>\n",
       "  [1]         1         2         2"
      ]
     },
     "metadata": {},
     "output_type": "display_data"
    }
   ],
   "source": [
    "df[1,1]"
   ]
  },
  {
   "cell_type": "code",
   "execution_count": 42,
   "metadata": {},
   "outputs": [
    {
     "data": {
      "text/plain": [
       "IRanges object with 3 ranges and 0 metadata columns:\n",
       "          start       end     width\n",
       "      <integer> <integer> <integer>\n",
       "  [1]         1         2         2\n",
       "  [2]         2         3         2\n",
       "  [3]         3         4         2"
      ]
     },
     "metadata": {},
     "output_type": "display_data"
    }
   ],
   "source": [
    "df$ir"
   ]
  },
  {
   "cell_type": "code",
   "execution_count": 44,
   "metadata": {},
   "outputs": [
    {
     "data": {
      "text/html": [
       "<table>\n",
       "<thead><tr><th scope=col>ir.start</th><th scope=col>ir.end</th><th scope=col>ir.width</th></tr></thead>\n",
       "<tbody>\n",
       "\t<tr><td>1</td><td>2</td><td>2</td></tr>\n",
       "\t<tr><td>2</td><td>3</td><td>2</td></tr>\n",
       "\t<tr><td>3</td><td>4</td><td>2</td></tr>\n",
       "</tbody>\n",
       "</table>\n"
      ],
      "text/latex": [
       "\\begin{tabular}{r|lll}\n",
       " ir.start & ir.end & ir.width\\\\\n",
       "\\hline\n",
       "\t 1 & 2 & 2\\\\\n",
       "\t 2 & 3 & 2\\\\\n",
       "\t 3 & 4 & 2\\\\\n",
       "\\end{tabular}\n"
      ],
      "text/markdown": [
       "\n",
       "ir.start | ir.end | ir.width | \n",
       "|---|---|---|\n",
       "| 1 | 2 | 2 | \n",
       "| 2 | 3 | 2 | \n",
       "| 3 | 4 | 2 | \n",
       "\n",
       "\n"
      ],
      "text/plain": [
       "  ir.start ir.end ir.width\n",
       "1 1        2      2       \n",
       "2 2        3      2       \n",
       "3 3        4      2       "
      ]
     },
     "metadata": {},
     "output_type": "display_data"
    }
   ],
   "source": [
    "df2 = data.frame(ir=ir) # Classic data frame\n",
    "df2"
   ]
  },
  {
   "cell_type": "code",
   "execution_count": 48,
   "metadata": {},
   "outputs": [
    {
     "data": {
      "text/plain": [
       "GRanges object with 3 ranges and 0 metadata columns:\n",
       "      seqnames    ranges strand\n",
       "         <Rle> <IRanges>  <Rle>\n",
       "  [1]     chr1    [1, 3]      +\n",
       "  [2]     chr1    [3, 5]      -\n",
       "  [3]     chr1    [5, 7]      +\n",
       "  -------\n",
       "  seqinfo: 1 sequence from an unspecified genome; no seqlengths"
      ]
     },
     "metadata": {},
     "output_type": "display_data"
    }
   ],
   "source": [
    "gr <- GRanges(seqnames='chr1', strand=c('+', '-', '+'), ranges=IRanges(start=c(1,3,5), width=3))\n",
    "gr"
   ]
  },
  {
   "cell_type": "code",
   "execution_count": 49,
   "metadata": {},
   "outputs": [
    {
     "data": {
      "text/plain": [
       "GRanges object with 3 ranges and 1 metadata column:\n",
       "      seqnames    ranges strand |             score\n",
       "         <Rle> <IRanges>  <Rle> |         <numeric>\n",
       "  [1]     chr1    [1, 3]      + | 0.840792029560799\n",
       "  [2]     chr1    [3, 5]      - | 0.695494888648234\n",
       "  [3]     chr1    [5, 7]      + | -1.93585573917911\n",
       "  -------\n",
       "  seqinfo: 1 sequence from an unspecified genome; no seqlengths"
      ]
     },
     "metadata": {},
     "output_type": "display_data"
    }
   ],
   "source": [
    "# GRanges can have other values in other columns\n",
    "values(gr) = DataFrame(score=rnorm(3))\n",
    "gr"
   ]
  },
  {
   "cell_type": "code",
   "execution_count": 50,
   "metadata": {},
   "outputs": [
    {
     "data": {
      "text/plain": [
       "DataFrame with 3 rows and 1 column\n",
       "       score\n",
       "   <numeric>\n",
       "1  0.8407920\n",
       "2  0.6954949\n",
       "3 -1.9358557"
      ]
     },
     "metadata": {},
     "output_type": "display_data"
    }
   ],
   "source": [
    "values(gr)"
   ]
  },
  {
   "cell_type": "code",
   "execution_count": 51,
   "metadata": {},
   "outputs": [
    {
     "data": {
      "text/plain": [
       "DataFrame with 3 rows and 1 column\n",
       "       score\n",
       "   <numeric>\n",
       "1  0.8407920\n",
       "2  0.6954949\n",
       "3 -1.9358557"
      ]
     },
     "metadata": {},
     "output_type": "display_data"
    }
   ],
   "source": [
    "mcols(gr)"
   ]
  },
  {
   "cell_type": "code",
   "execution_count": 52,
   "metadata": {},
   "outputs": [
    {
     "data": {
      "text/html": [
       "<ol class=list-inline>\n",
       "\t<li>0.840792029560799</li>\n",
       "\t<li>0.695494888648234</li>\n",
       "\t<li>-1.93585573917911</li>\n",
       "</ol>\n"
      ],
      "text/latex": [
       "\\begin{enumerate*}\n",
       "\\item 0.840792029560799\n",
       "\\item 0.695494888648234\n",
       "\\item -1.93585573917911\n",
       "\\end{enumerate*}\n"
      ],
      "text/markdown": [
       "1. 0.840792029560799\n",
       "2. 0.695494888648234\n",
       "3. -1.93585573917911\n",
       "\n",
       "\n"
      ],
      "text/plain": [
       "[1]  0.8407920  0.6954949 -1.9358557"
      ]
     },
     "metadata": {},
     "output_type": "display_data"
    }
   ],
   "source": [
    "gr$score"
   ]
  },
  {
   "cell_type": "code",
   "execution_count": 54,
   "metadata": {},
   "outputs": [
    {
     "data": {
      "text/plain": [
       "GRanges object with 3 ranges and 2 metadata columns:\n",
       "      seqnames    ranges strand |             score             score2\n",
       "         <Rle> <IRanges>  <Rle> |         <numeric>          <numeric>\n",
       "  [1]     chr1    [1, 3]      + | 0.840792029560799    0.4203960147804\n",
       "  [2]     chr1    [3, 5]      - | 0.695494888648234  0.347747444324117\n",
       "  [3]     chr1    [5, 7]      + | -1.93585573917911 -0.967927869589553\n",
       "  -------\n",
       "  seqinfo: 1 sequence from an unspecified genome; no seqlengths"
      ]
     },
     "metadata": {},
     "output_type": "display_data"
    }
   ],
   "source": [
    "gr$score2 = gr$score/2\n",
    "gr"
   ]
  },
  {
   "cell_type": "code",
   "execution_count": 56,
   "metadata": {},
   "outputs": [
    {
     "data": {
      "text/plain": [
       "GRanges object with 3 ranges and 0 metadata columns:\n",
       "      seqnames    ranges strand\n",
       "         <Rle> <IRanges>  <Rle>\n",
       "  [1]     chr1    [1, 3]      *\n",
       "  [2]     chr2    [3, 5]      *\n",
       "  [3]     chr1    [5, 7]      *\n",
       "  -------\n",
       "  seqinfo: 2 sequences from an unspecified genome; no seqlengths"
      ]
     },
     "metadata": {},
     "output_type": "display_data"
    }
   ],
   "source": [
    "gr2 <- GRanges(seqnames=c('chr1', 'chr2', 'chr1'), strand='*', ranges=IRanges(start=c(1,3,5), width=3))\n",
    "gr2"
   ]
  },
  {
   "cell_type": "code",
   "execution_count": 57,
   "metadata": {},
   "outputs": [
    {
     "data": {
      "text/plain": [
       "Hits object with 4 hits and 0 metadata columns:\n",
       "      queryHits subjectHits\n",
       "      <integer>   <integer>\n",
       "  [1]         1           1\n",
       "  [2]         2           1\n",
       "  [3]         2           3\n",
       "  [4]         3           3\n",
       "  -------\n",
       "  queryLength: 3 / subjectLength: 3"
      ]
     },
     "metadata": {},
     "output_type": "display_data"
    }
   ],
   "source": [
    "findOverlaps(gr, gr2)"
   ]
  },
  {
   "cell_type": "code",
   "execution_count": 58,
   "metadata": {},
   "outputs": [
    {
     "data": {
      "text/plain": [
       "Hits object with 4 hits and 0 metadata columns:\n",
       "      queryHits subjectHits\n",
       "      <integer>   <integer>\n",
       "  [1]         1           1\n",
       "  [2]         2           1\n",
       "  [3]         2           3\n",
       "  [4]         3           3\n",
       "  -------\n",
       "  queryLength: 3 / subjectLength: 3"
      ]
     },
     "metadata": {},
     "output_type": "display_data"
    }
   ],
   "source": [
    "# You can ignore the strand if necessary\n",
    "findOverlaps(gr, gr2, ignore.strand=TRUE)"
   ]
  },
  {
   "cell_type": "code",
   "execution_count": 59,
   "metadata": {},
   "outputs": [
    {
     "data": {
      "text/plain": [
       "GRanges object with 3 ranges and 2 metadata columns:\n",
       "      seqnames    ranges strand |             score             score2\n",
       "         <Rle> <IRanges>  <Rle> |         <numeric>          <numeric>\n",
       "  [1]     chr1    [1, 3]      + | 0.840792029560799    0.4203960147804\n",
       "  [2]     chr1    [3, 5]      - | 0.695494888648234  0.347747444324117\n",
       "  [3]     chr1    [5, 7]      + | -1.93585573917911 -0.967927869589553\n",
       "  -------\n",
       "  seqinfo: 1 sequence from an unspecified genome; no seqlengths"
      ]
     },
     "metadata": {},
     "output_type": "display_data"
    }
   ],
   "source": [
    "subsetByOverlaps(gr,gr2)"
   ]
  },
  {
   "cell_type": "code",
   "execution_count": 60,
   "metadata": {},
   "outputs": [
    {
     "data": {
      "text/plain": [
       "GRanges object with 2 ranges and 0 metadata columns:\n",
       "      seqnames    ranges strand\n",
       "         <Rle> <IRanges>  <Rle>\n",
       "  [1]     chr1    [1, 3]      *\n",
       "  [2]     chr1    [5, 7]      *\n",
       "  -------\n",
       "  seqinfo: 2 sequences from an unspecified genome; no seqlengths"
      ]
     },
     "metadata": {},
     "output_type": "display_data"
    }
   ],
   "source": [
    "subsetByOverlaps(gr2,gr)"
   ]
  },
  {
   "cell_type": "code",
   "execution_count": 62,
   "metadata": {},
   "outputs": [
    {
     "data": {
      "text/html": [
       "<table>\n",
       "<thead><tr><th scope=col>chr</th><th scope=col>start</th><th scope=col>end</th><th scope=col>score</th></tr></thead>\n",
       "<tbody>\n",
       "\t<tr><td>chr1      </td><td>1         </td><td>4         </td><td>-0.9505786</td></tr>\n",
       "\t<tr><td>chr1      </td><td>2         </td><td>5         </td><td>-0.4593522</td></tr>\n",
       "\t<tr><td>chr1      </td><td>3         </td><td>6         </td><td>-0.2699558</td></tr>\n",
       "</tbody>\n",
       "</table>\n"
      ],
      "text/latex": [
       "\\begin{tabular}{r|llll}\n",
       " chr & start & end & score\\\\\n",
       "\\hline\n",
       "\t chr1       & 1          & 4          & -0.9505786\\\\\n",
       "\t chr1       & 2          & 5          & -0.4593522\\\\\n",
       "\t chr1       & 3          & 6          & -0.2699558\\\\\n",
       "\\end{tabular}\n"
      ],
      "text/markdown": [
       "\n",
       "chr | start | end | score | \n",
       "|---|---|---|\n",
       "| chr1       | 1          | 4          | -0.9505786 | \n",
       "| chr1       | 2          | 5          | -0.4593522 | \n",
       "| chr1       | 3          | 6          | -0.2699558 | \n",
       "\n",
       "\n"
      ],
      "text/plain": [
       "  chr  start end score     \n",
       "1 chr1 1     4   -0.9505786\n",
       "2 chr1 2     5   -0.4593522\n",
       "3 chr1 3     6   -0.2699558"
      ]
     },
     "metadata": {},
     "output_type": "display_data"
    }
   ],
   "source": [
    "# Create a GRange from a data frame\n",
    "df = data.frame(chr='chr1', start=1:3, end=4:6, score=rnorm(3))\n",
    "df"
   ]
  },
  {
   "cell_type": "code",
   "execution_count": 63,
   "metadata": {},
   "outputs": [
    {
     "data": {
      "text/plain": [
       "GRanges object with 3 ranges and 0 metadata columns:\n",
       "      seqnames    ranges strand\n",
       "         <Rle> <IRanges>  <Rle>\n",
       "  [1]     chr1    [1, 4]      *\n",
       "  [2]     chr1    [2, 5]      *\n",
       "  [3]     chr1    [3, 6]      *\n",
       "  -------\n",
       "  seqinfo: 1 sequence from an unspecified genome; no seqlengths"
      ]
     },
     "metadata": {},
     "output_type": "display_data"
    }
   ],
   "source": [
    "makeGRangesFromDataFrame(df)"
   ]
  },
  {
   "cell_type": "code",
   "execution_count": 64,
   "metadata": {},
   "outputs": [
    {
     "data": {
      "text/plain": [
       "GRanges object with 3 ranges and 1 metadata column:\n",
       "      seqnames    ranges strand |              score\n",
       "         <Rle> <IRanges>  <Rle> |          <numeric>\n",
       "  [1]     chr1    [1, 4]      * | -0.950578601931732\n",
       "  [2]     chr1    [2, 5]      * | -0.459352200596095\n",
       "  [3]     chr1    [3, 6]      * | -0.269955842240121\n",
       "  -------\n",
       "  seqinfo: 1 sequence from an unspecified genome; no seqlengths"
      ]
     },
     "metadata": {},
     "output_type": "display_data"
    }
   ],
   "source": [
    "# You can keep the extra columns\n",
    "makeGRangesFromDataFrame(df, keep.extra.columns=TRUE)"
   ]
  },
  {
   "cell_type": "markdown",
   "metadata": {},
   "source": [
    "# GenomicRanges - seqinfo"
   ]
  },
  {
   "cell_type": "code",
   "execution_count": 65,
   "metadata": {},
   "outputs": [
    {
     "data": {
      "text/plain": [
       "GRanges object with 2 ranges and 0 metadata columns:\n",
       "      seqnames    ranges strand\n",
       "         <Rle> <IRanges>  <Rle>\n",
       "  [1]     chr1    [1, 4]      *\n",
       "  [2]     chr2    [2, 5]      *\n",
       "  -------\n",
       "  seqinfo: 2 sequences from an unspecified genome; no seqlengths"
      ]
     },
     "metadata": {},
     "output_type": "display_data"
    }
   ],
   "source": [
    "gr = GRanges(seqnames=c('chr1', 'chr2'), ranges=IRanges(start=1:2, end=4:5))\n",
    "gr"
   ]
  },
  {
   "cell_type": "code",
   "execution_count": 66,
   "metadata": {},
   "outputs": [
    {
     "name": "stderr",
     "output_type": "stream",
     "text": [
      "Warning message:\n",
      "“In BioC 3.5, the 'force' argument was replaced by the more flexible\n",
      "  'pruning.mode' argument, and is deprecated. See ?seqinfo for the\n",
      "  supported pruning modes. Note that 'force=TRUE' is equivalent to\n",
      "  'pruning.mode=\"coarse\"'.”"
     ]
    },
    {
     "data": {
      "text/plain": [
       "GRanges object with 1 range and 0 metadata columns:\n",
       "      seqnames    ranges strand\n",
       "         <Rle> <IRanges>  <Rle>\n",
       "  [1]     chr1    [1, 4]      *\n",
       "  -------\n",
       "  seqinfo: 1 sequence from an unspecified genome; no seqlengths"
      ]
     },
     "metadata": {},
     "output_type": "display_data"
    }
   ],
   "source": [
    "# Take the lines according to the chr you want\n",
    "seqlevels(gr, force=TRUE) = 'chr1'\n",
    "gr"
   ]
  },
  {
   "cell_type": "code",
   "execution_count": 67,
   "metadata": {},
   "outputs": [
    {
     "data": {
      "text/plain": [
       "GRanges object with 2 ranges and 0 metadata columns:\n",
       "      seqnames    ranges strand\n",
       "         <Rle> <IRanges>  <Rle>\n",
       "  [1]     chr1    [1, 4]      *\n",
       "  [2]     chr2    [2, 5]      *\n",
       "  -------\n",
       "  seqinfo: 2 sequences from an unspecified genome; no seqlengths"
      ]
     },
     "metadata": {},
     "output_type": "display_data"
    }
   ],
   "source": [
    "gr = GRanges(seqnames=c('chr1', 'chr2'), ranges=IRanges(start=1:2, end=4:5))\n",
    "gr"
   ]
  },
  {
   "cell_type": "code",
   "execution_count": 71,
   "metadata": {
    "scrolled": true
   },
   "outputs": [
    {
     "ename": "ERROR",
     "evalue": "Error in GenomeInfoDb:::getDanglingSeqlevels(x, new2old = new2old, force = force, : The following seqlevels are to be dropped but are currently in use\n  (i.e. have ranges on them): chr1. Please use the 'pruning.mode'\n  argument to control how to prune 'x', that is, how to remove the ranges\n  in 'x' that are on these sequences. For example, do something like:\n  \n  seqlevels(x, pruning.mode=\"coarse\") <- new_seqlevels\n  \n  or\n  \n  keepSeqlevels(x, new_seqlevels, pruning.mode=\"coarse\")\n  \n  See ?seqinfo for a description of the pruning modes.\n",
     "output_type": "error",
     "traceback": [
      "Error in GenomeInfoDb:::getDanglingSeqlevels(x, new2old = new2old, force = force, : The following seqlevels are to be dropped but are currently in use\n  (i.e. have ranges on them): chr1. Please use the 'pruning.mode'\n  argument to control how to prune 'x', that is, how to remove the ranges\n  in 'x' that are on these sequences. For example, do something like:\n  \n  seqlevels(x, pruning.mode=\"coarse\") <- new_seqlevels\n  \n  or\n  \n  keepSeqlevels(x, new_seqlevels, pruning.mode=\"coarse\")\n  \n  See ?seqinfo for a description of the pruning modes.\nTraceback:\n",
      "1. dropSeqlevels(gr, \"chr1\")",
      "2. `seqlevels<-`(`*tmp*`, pruning.mode = pruning.mode, value = \"chr2\")",
      "3. `seqlevels<-`(`*tmp*`, pruning.mode = pruning.mode, value = \"chr2\")",
      "4. `seqinfo<-`(`*tmp*`, new2old = new2old, force = force, pruning.mode = pruning.mode, \n .     value = <S4 object of class structure(\"Seqinfo\", package = \"GenomeInfoDb\")>)",
      "5. `seqinfo<-`(`*tmp*`, new2old = new2old, force = force, pruning.mode = pruning.mode, \n .     value = <S4 object of class structure(\"Seqinfo\", package = \"GenomeInfoDb\")>)",
      "6. GenomeInfoDb:::getDanglingSeqlevels(x, new2old = new2old, force = force, \n .     pruning.mode = pruning.mode, seqlevels(value))",
      "7. stop(wmsg(\"The following seqlevels are to be dropped but are \", \n .     \"currently in use (i.e. have ranges on them): \", paste(dangling_seqlevels, \n .         collapse = \", \"), \".\\n\", \"Please use the 'pruning.mode' argument to control how \", \n .     \"to prune 'x', that is, how to remove the ranges in 'x' \", \n .     \"that are on these sequences. For example, do something \", \n .     \"like:\\n\\n\", \"seqlevels(x, pruning.mode=\\\"coarse\\\") <- new_seqlevels\\n\\n\", \n .     \"or\\n\\n\", \"keepSeqlevels(x, new_seqlevels, \", \"pruning.mode=\\\"coarse\\\")\\n\\n\", \n .     \"See ?seqinfo for a description of the pruning modes.\"))"
     ]
    }
   ],
   "source": [
    "# Drop line according to the chr\n",
    "dropSeqlevels(gr, 'chr1')"
   ]
  },
  {
   "cell_type": "code",
   "execution_count": 74,
   "metadata": {
    "scrolled": true
   },
   "outputs": [
    {
     "ename": "ERROR",
     "evalue": "Error in GenomeInfoDb:::getDanglingSeqlevels(x, new2old = new2old, force = force, : The following seqlevels are to be dropped but are currently in use\n  (i.e. have ranges on them): chr2. Please use the 'pruning.mode'\n  argument to control how to prune 'x', that is, how to remove the ranges\n  in 'x' that are on these sequences. For example, do something like:\n  \n  seqlevels(x, pruning.mode=\"coarse\") <- new_seqlevels\n  \n  or\n  \n  keepSeqlevels(x, new_seqlevels, pruning.mode=\"coarse\")\n  \n  See ?seqinfo for a description of the pruning modes.\n",
     "output_type": "error",
     "traceback": [
      "Error in GenomeInfoDb:::getDanglingSeqlevels(x, new2old = new2old, force = force, : The following seqlevels are to be dropped but are currently in use\n  (i.e. have ranges on them): chr2. Please use the 'pruning.mode'\n  argument to control how to prune 'x', that is, how to remove the ranges\n  in 'x' that are on these sequences. For example, do something like:\n  \n  seqlevels(x, pruning.mode=\"coarse\") <- new_seqlevels\n  \n  or\n  \n  keepSeqlevels(x, new_seqlevels, pruning.mode=\"coarse\")\n  \n  See ?seqinfo for a description of the pruning modes.\nTraceback:\n",
      "1. keepSeqlevels(gr, \"chr1\")",
      "2. `seqlevels<-`(`*tmp*`, pruning.mode = pruning.mode, value = \"chr1\")",
      "3. `seqlevels<-`(`*tmp*`, pruning.mode = pruning.mode, value = \"chr1\")",
      "4. `seqinfo<-`(`*tmp*`, new2old = new2old, force = force, pruning.mode = pruning.mode, \n .     value = <S4 object of class structure(\"Seqinfo\", package = \"GenomeInfoDb\")>)",
      "5. `seqinfo<-`(`*tmp*`, new2old = new2old, force = force, pruning.mode = pruning.mode, \n .     value = <S4 object of class structure(\"Seqinfo\", package = \"GenomeInfoDb\")>)",
      "6. GenomeInfoDb:::getDanglingSeqlevels(x, new2old = new2old, force = force, \n .     pruning.mode = pruning.mode, seqlevels(value))",
      "7. stop(wmsg(\"The following seqlevels are to be dropped but are \", \n .     \"currently in use (i.e. have ranges on them): \", paste(dangling_seqlevels, \n .         collapse = \", \"), \".\\n\", \"Please use the 'pruning.mode' argument to control how \", \n .     \"to prune 'x', that is, how to remove the ranges in 'x' \", \n .     \"that are on these sequences. For example, do something \", \n .     \"like:\\n\\n\", \"seqlevels(x, pruning.mode=\\\"coarse\\\") <- new_seqlevels\\n\\n\", \n .     \"or\\n\\n\", \"keepSeqlevels(x, new_seqlevels, \", \"pruning.mode=\\\"coarse\\\")\\n\\n\", \n .     \"See ?seqinfo for a description of the pruning modes.\"))"
     ]
    }
   ],
   "source": [
    "# Return the line of chr you want\n",
    "keepSeqlevels(gr, \"chr1\")"
   ]
  },
  {
   "cell_type": "code",
   "execution_count": 86,
   "metadata": {
    "scrolled": false
   },
   "outputs": [],
   "source": [
    "gr = GRanges(seqnames=c('chr1', 'chrU345'), ranges=IRanges(start=1:2, end=4:5))"
   ]
  },
  {
   "cell_type": "code",
   "execution_count": 87,
   "metadata": {
    "scrolled": true
   },
   "outputs": [
    {
     "ename": "ERROR",
     "evalue": "Error in GenomeInfoDb:::getDanglingSeqlevels(x, new2old = new2old, force = force, : The following seqlevels are to be dropped but are currently in use\n  (i.e. have ranges on them): chrU345. Please use the 'pruning.mode'\n  argument to control how to prune 'x', that is, how to remove the ranges\n  in 'x' that are on these sequences. For example, do something like:\n  \n  seqlevels(x, pruning.mode=\"coarse\") <- new_seqlevels\n  \n  or\n  \n  keepSeqlevels(x, new_seqlevels, pruning.mode=\"coarse\")\n  \n  See ?seqinfo for a description of the pruning modes.\n",
     "output_type": "error",
     "traceback": [
      "Error in GenomeInfoDb:::getDanglingSeqlevels(x, new2old = new2old, force = force, : The following seqlevels are to be dropped but are currently in use\n  (i.e. have ranges on them): chrU345. Please use the 'pruning.mode'\n  argument to control how to prune 'x', that is, how to remove the ranges\n  in 'x' that are on these sequences. For example, do something like:\n  \n  seqlevels(x, pruning.mode=\"coarse\") <- new_seqlevels\n  \n  or\n  \n  keepSeqlevels(x, new_seqlevels, pruning.mode=\"coarse\")\n  \n  See ?seqinfo for a description of the pruning modes.\nTraceback:\n",
      "1. keepStandardChromosomes(gr)",
      "2. keepSeqlevels(x, standard, pruning.mode = pruning.mode)",
      "3. `seqlevels<-`(`*tmp*`, pruning.mode = pruning.mode, value = \"chr1\")",
      "4. `seqlevels<-`(`*tmp*`, pruning.mode = pruning.mode, value = \"chr1\")",
      "5. `seqinfo<-`(`*tmp*`, new2old = new2old, force = force, pruning.mode = pruning.mode, \n .     value = <S4 object of class structure(\"Seqinfo\", package = \"GenomeInfoDb\")>)",
      "6. `seqinfo<-`(`*tmp*`, new2old = new2old, force = force, pruning.mode = pruning.mode, \n .     value = <S4 object of class structure(\"Seqinfo\", package = \"GenomeInfoDb\")>)",
      "7. GenomeInfoDb:::getDanglingSeqlevels(x, new2old = new2old, force = force, \n .     pruning.mode = pruning.mode, seqlevels(value))",
      "8. stop(wmsg(\"The following seqlevels are to be dropped but are \", \n .     \"currently in use (i.e. have ranges on them): \", paste(dangling_seqlevels, \n .         collapse = \", \"), \".\\n\", \"Please use the 'pruning.mode' argument to control how \", \n .     \"to prune 'x', that is, how to remove the ranges in 'x' \", \n .     \"that are on these sequences. For example, do something \", \n .     \"like:\\n\\n\", \"seqlevels(x, pruning.mode=\\\"coarse\\\") <- new_seqlevels\\n\\n\", \n .     \"or\\n\\n\", \"keepSeqlevels(x, new_seqlevels, \", \"pruning.mode=\\\"coarse\\\")\\n\\n\", \n .     \"See ?seqinfo for a description of the pruning modes.\"))"
     ]
    }
   ],
   "source": [
    "keepStandardChromosomes(gr)"
   ]
  },
  {
   "cell_type": "code",
   "execution_count": 94,
   "metadata": {},
   "outputs": [
    {
     "data": {
      "text/plain": [
       "GRanges object with 2 ranges and 0 metadata columns:\n",
       "      seqnames    ranges strand\n",
       "         <Rle> <IRanges>  <Rle>\n",
       "  [1]     chr1    [1, 4]      *\n",
       "  [2]     chr2    [2, 5]      *\n",
       "  -------\n",
       "  seqinfo: 2 sequences from an unspecified genome; no seqlengths"
      ]
     },
     "metadata": {},
     "output_type": "display_data"
    }
   ],
   "source": [
    "# Covert your chr format to other style\n",
    "gr = GRanges(seqnames=c('chr1', 'chr2'), ranges=IRanges(start=1:2, end=4:5))\n",
    "gr"
   ]
  },
  {
   "cell_type": "code",
   "execution_count": 95,
   "metadata": {},
   "outputs": [
    {
     "data": {
      "text/html": [
       "<dl class=dl-horizontal>\n",
       "\t<dt>chr1</dt>\n",
       "\t\t<dd>'1'</dd>\n",
       "\t<dt>chr2</dt>\n",
       "\t\t<dd>'2'</dd>\n",
       "</dl>\n"
      ],
      "text/latex": [
       "\\begin{description*}\n",
       "\\item[chr1] '1'\n",
       "\\item[chr2] '2'\n",
       "\\end{description*}\n"
      ],
      "text/markdown": [
       "chr1\n",
       ":   '1'chr2\n",
       ":   '2'\n",
       "\n"
      ],
      "text/plain": [
       "chr1 chr2 \n",
       " \"1\"  \"2\" "
      ]
     },
     "metadata": {},
     "output_type": "display_data"
    }
   ],
   "source": [
    "newStyle=mapSeqlevels(seqlevels(gr), \"NCBI\")\n",
    "newStyle"
   ]
  },
  {
   "cell_type": "code",
   "execution_count": 96,
   "metadata": {},
   "outputs": [
    {
     "data": {
      "text/plain": [
       "GRanges object with 2 ranges and 0 metadata columns:\n",
       "      seqnames    ranges strand\n",
       "         <Rle> <IRanges>  <Rle>\n",
       "  [1]        1    [1, 4]      *\n",
       "  [2]        2    [2, 5]      *\n",
       "  -------\n",
       "  seqinfo: 2 sequences from an unspecified genome; no seqlengths"
      ]
     },
     "metadata": {},
     "output_type": "display_data"
    }
   ],
   "source": [
    "gr = renameSeqlevels(gr, newStyle)\n",
    "gr"
   ]
  },
  {
   "cell_type": "code",
   "execution_count": null,
   "metadata": {},
   "outputs": [],
   "source": [
    "seq"
   ]
  }
 ],
 "metadata": {
  "kernelspec": {
   "display_name": "R",
   "language": "R",
   "name": "ir"
  },
  "language_info": {
   "codemirror_mode": "r",
   "file_extension": ".r",
   "mimetype": "text/x-r-source",
   "name": "R",
   "pygments_lexer": "r",
   "version": "3.4.4"
  }
 },
 "nbformat": 4,
 "nbformat_minor": 2
}
