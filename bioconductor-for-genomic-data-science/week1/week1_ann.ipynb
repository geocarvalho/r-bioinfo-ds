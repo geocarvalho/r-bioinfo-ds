{
 "cells": [
  {
   "cell_type": "markdown",
   "metadata": {},
   "source": [
    "# What is Bioconductor\n",
    "\n",
    "* Is a open source and open development software repository of R packages for bioinformatics, with some rules and guiding principles;\n",
    "* It has emphasized reproducible research since its start, and has been an early adapter and driver of tools to do this;\n",
    "* Why? Productivity and flexibility;\n",
    "* [2004 Bioconductor: open software development for computational biology and bioinformatics](https://genomebiology.biomedcentral.com/articles/10.1186/gb-2004-5-10-r80);\n",
    "* [2015 Orchestrating high-throughput genomic analysis with Bioconductor](https://www.nature.com/articles/nmeth.3252)\n",
    "\n",
    "---\n",
    "# Installing bioconductor\n"
   ]
  },
  {
   "cell_type": "code",
   "execution_count": 4,
   "metadata": {},
   "outputs": [
    {
     "name": "stderr",
     "output_type": "stream",
     "text": [
      "Bioconductor version 3.5 (BiocInstaller 1.26.1), ?biocLite for help\n",
      "A newer version of Bioconductor is available for this version of R,\n",
      "  ?BiocUpgrade for help\n"
     ]
    }
   ],
   "source": [
    "source(\"http://www.bioconductor.org/biocLite.R\")"
   ]
  },
  {
   "cell_type": "code",
   "execution_count": 5,
   "metadata": {},
   "outputs": [
    {
     "name": "stderr",
     "output_type": "stream",
     "text": [
      "BioC_mirror: https://bioconductor.org\n",
      "Using Bioconductor 3.5 (BiocInstaller 1.26.1), R 3.4.4 (2018-03-15).\n",
      "installation path not writeable, unable to update packages: codetools, lattice,\n",
      "  MASS, spatial\n",
      "Old packages: 'blob', 'devtools', 'knitr', 'lambda.r', 'matrixStats', 'mgcv',\n",
      "  'openssl', 'packrat', 'pbdZMQ', 'plogr', 'Rcpp', 'RCurl', 'repr', 'reshape2',\n",
      "  'rlang', 'R.oo', 'RSQLite', 'stringi', 'stringr', 'testthat', 'tibble',\n",
      "  'VGAM', 'viridisLite', 'withr', 'XML', 'yaml', 'zoo'\n"
     ]
    }
   ],
   "source": [
    "biocLite()"
   ]
  },
  {
   "cell_type": "code",
   "execution_count": 6,
   "metadata": {},
   "outputs": [
    {
     "data": {
      "text/html": [
       "TRUE"
      ],
      "text/latex": [
       "TRUE"
      ],
      "text/markdown": [
       "TRUE"
      ],
      "text/plain": [
       "[1] TRUE"
      ]
     },
     "metadata": {},
     "output_type": "display_data"
    }
   ],
   "source": [
    "biocValid()"
   ]
  },
  {
   "cell_type": "markdown",
   "metadata": {},
   "source": [
    "---\n",
    "# R base types\n",
    "\n",
    "* Remind what I didn't know\n"
   ]
  },
  {
   "cell_type": "code",
   "execution_count": 35,
   "metadata": {},
   "outputs": [
    {
     "data": {
      "text/html": [
       "2147483647"
      ],
      "text/latex": [
       "2147483647"
      ],
      "text/markdown": [
       "2147483647"
      ],
      "text/plain": [
       "[1] 2147483647"
      ]
     },
     "metadata": {},
     "output_type": "display_data"
    }
   ],
   "source": [
    ".Machine$integer.max"
   ]
  },
  {
   "cell_type": "code",
   "execution_count": null,
   "metadata": {},
   "outputs": [],
   "source": []
  }
 ],
 "metadata": {
  "kernelspec": {
   "display_name": "R 3.4.2",
   "language": "R",
   "name": "ir33"
  },
  "language_info": {
   "codemirror_mode": "r",
   "file_extension": ".r",
   "mimetype": "text/x-r-source",
   "name": "R",
   "pygments_lexer": "r",
   "version": "3.4.4"
  }
 },
 "nbformat": 4,
 "nbformat_minor": 2
}
