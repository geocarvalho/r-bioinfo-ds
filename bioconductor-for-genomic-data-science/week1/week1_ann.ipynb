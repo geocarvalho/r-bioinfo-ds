{
 "cells": [
  {
   "cell_type": "markdown",
   "metadata": {},
   "source": [
    "# What is Bioconductor\n",
    "\n",
    "* Is a open source and open development software repository of R packages for bioinformatics, with some rules and guiding principles;\n",
    "* It has emphasized reproducible research since its start, and has been an early adapter and driver of tools to do this;\n",
    "* Why? Productivity and flexibility;\n",
    "* [2004 Bioconductor: open software development for computational biology and bioinformatics](https://genomebiology.biomedcentral.com/articles/10.1186/gb-2004-5-10-r80);\n",
    "* [2015 Orchestrating high-throughput genomic analysis with Bioconductor](https://www.nature.com/articles/nmeth.3252)\n",
    "\n",
    "---\n",
    "# Installing bioconductor\n"
   ]
  },
  {
   "cell_type": "code",
   "execution_count": 18,
   "metadata": {},
   "outputs": [
    {
     "name": "stderr",
     "output_type": "stream",
     "text": [
      "Bioconductor version 3.6 (BiocInstaller 1.28.0), ?biocLite for help\n",
      "A new version of Bioconductor is available after installing the most recent\n",
      "  version of R; see http://bioconductor.org/install\n"
     ]
    }
   ],
   "source": [
    "source(\"http://www.bioconductor.org/biocLite.R\")"
   ]
  },
  {
   "cell_type": "code",
   "execution_count": 11,
   "metadata": {},
   "outputs": [
    {
     "name": "stderr",
     "output_type": "stream",
     "text": [
      "BioC_mirror: https://bioconductor.org\n",
      "Using Bioconductor 3.6 (BiocInstaller 1.28.0), R 3.4.2 (2017-09-28).\n",
      "Installing package(s) ‘Biobase’, ‘IRanges’, ‘AnnotationDbi’\n",
      "also installing the dependencies ‘bit’, ‘bit64’, ‘S4Vectors’, ‘RSQLite’\n",
      "\n",
      "Warning message in install.packages(pkgs = doing, lib = lib, ...):\n",
      "“installation of package ‘bit’ had non-zero exit status”Warning message in install.packages(pkgs = doing, lib = lib, ...):\n",
      "“installation of package ‘S4Vectors’ had non-zero exit status”Warning message in install.packages(pkgs = doing, lib = lib, ...):\n",
      "“installation of package ‘Biobase’ had non-zero exit status”Warning message in install.packages(pkgs = doing, lib = lib, ...):\n",
      "“installation of package ‘bit64’ had non-zero exit status”Warning message in install.packages(pkgs = doing, lib = lib, ...):\n",
      "“installation of package ‘IRanges’ had non-zero exit status”Warning message in install.packages(pkgs = doing, lib = lib, ...):\n",
      "“installation of package ‘RSQLite’ had non-zero exit status”Warning message in install.packages(pkgs = doing, lib = lib, ...):\n",
      "“installation of package ‘AnnotationDbi’ had non-zero exit status”Updating HTML index of packages in '.Library'\n",
      "Making 'packages.html' ... done\n",
      "Old packages: 'backports', 'bindr', 'bindrcpp', 'car', 'cluster', 'curl',\n",
      "  'data.table', 'ddalpha', 'digest', 'forcats', 'foreign', 'glmnet', 'glue',\n",
      "  'hexbin', 'hms', 'htmlwidgets', 'httpuv', 'kernlab', 'knitr', 'lava',\n",
      "  'lazyeval', 'lme4', 'lubridate', 'maps', 'MASS', 'Matrix', 'mgcv', 'nlme',\n",
      "  'openssl', 'packrat', 'pbdZMQ', 'prodlim', 'pryr', 'psych', 'quantmod',\n",
      "  'quantreg', 'randomForest', 'Rcpp', 'RcppEigen', 'RCurl', 'readxl', 'repr',\n",
      "  'reshape2', 'rlang', 'rmarkdown', 'robustbase', 'rpart', 'rsconnect',\n",
      "  'selectr', 'sfsmisc', 'sourcetools', 'stringi', 'stringr', 'survival',\n",
      "  'timeDate', 'TTR', 'withr', 'xml2', 'xts', 'yaml', 'zoo'\n"
     ]
    }
   ],
   "source": [
    "biocLite()"
   ]
  },
  {
   "cell_type": "code",
   "execution_count": 12,
   "metadata": {
    "scrolled": true
   },
   "outputs": [
    {
     "name": "stdout",
     "output_type": "stream",
     "text": [
      "\n",
      "* sessionInfo()\n",
      "\n",
      "R version 3.4.2 (2017-09-28)\n",
      "Platform: x86_64-conda_cos6-linux-gnu (64-bit)\n",
      "Running under: Ubuntu 16.04.4 LTS\n",
      "\n",
      "Matrix products: default\n",
      "BLAS: /home/george/anaconda2/lib/R/lib/libRblas.so\n",
      "LAPACK: /home/george/anaconda2/lib/R/lib/libRlapack.so\n",
      "\n",
      "locale:\n",
      " [1] LC_CTYPE=pt_BR.UTF-8       LC_NUMERIC=C              \n",
      " [3] LC_TIME=pt_BR.UTF-8        LC_COLLATE=en_US.UTF-8    \n",
      " [5] LC_MONETARY=pt_BR.UTF-8    LC_MESSAGES=en_US.UTF-8   \n",
      " [7] LC_PAPER=pt_BR.UTF-8       LC_NAME=C                 \n",
      " [9] LC_ADDRESS=C               LC_TELEPHONE=C            \n",
      "[11] LC_MEASUREMENT=pt_BR.UTF-8 LC_IDENTIFICATION=C       \n",
      "\n",
      "attached base packages:\n",
      "[1] stats     graphics  grDevices utils     datasets  methods   base     \n",
      "\n",
      "other attached packages:\n",
      "[1] BiocInstaller_1.28.0\n",
      "\n",
      "loaded via a namespace (and not attached):\n",
      " [1] compiler_3.4.2  R6_2.2.2        magrittr_1.5    IRdisplay_0.4.4\n",
      " [5] pbdZMQ_0.2-6    tools_3.4.2     crayon_1.3.4    uuid_0.1-2     \n",
      " [9] stringi_1.1.5   IRkernel_0.8.9  jsonlite_1.5    stringr_1.2.0  \n",
      "[13] digest_0.6.12   repr_0.12.0     evaluate_0.10.1\n",
      "\n",
      "* Out-of-date packages\n",
      "             Package        LibPath                                Installed  \n",
      "backports    \"backports\"    \"/home/george/anaconda2/lib/R/library\" \"1.1.1\"    \n",
      "bindr        \"bindr\"        \"/home/george/anaconda2/lib/R/library\" \"0.1\"      \n",
      "bindrcpp     \"bindrcpp\"     \"/home/george/anaconda2/lib/R/library\" \"0.2\"      \n",
      "car          \"car\"          \"/home/george/anaconda2/lib/R/library\" \"2.1-6\"    \n",
      "cluster      \"cluster\"      \"/home/george/anaconda2/lib/R/library\" \"2.0.6\"    \n",
      "curl         \"curl\"         \"/home/george/anaconda2/lib/R/library\" \"3.0\"      \n",
      "data.table   \"data.table\"   \"/home/george/anaconda2/lib/R/library\" \"1.10.4-1\" \n",
      "ddalpha      \"ddalpha\"      \"/home/george/anaconda2/lib/R/library\" \"1.3.1\"    \n",
      "digest       \"digest\"       \"/home/george/anaconda2/lib/R/library\" \"0.6.12\"   \n",
      "forcats      \"forcats\"      \"/home/george/anaconda2/lib/R/library\" \"0.2.0\"    \n",
      "foreign      \"foreign\"      \"/home/george/anaconda2/lib/R/library\" \"0.8-69\"   \n",
      "glmnet       \"glmnet\"       \"/home/george/anaconda2/lib/R/library\" \"2.0-13\"   \n",
      "glue         \"glue\"         \"/home/george/anaconda2/lib/R/library\" \"1.1.1\"    \n",
      "hexbin       \"hexbin\"       \"/home/george/anaconda2/lib/R/library\" \"1.27.1\"   \n",
      "hms          \"hms\"          \"/home/george/anaconda2/lib/R/library\" \"0.4.1\"    \n",
      "htmlwidgets  \"htmlwidgets\"  \"/home/george/anaconda2/lib/R/library\" \"1.0\"      \n",
      "httpuv       \"httpuv\"       \"/home/george/anaconda2/lib/R/library\" \"1.3.5\"    \n",
      "kernlab      \"kernlab\"      \"/home/george/anaconda2/lib/R/library\" \"0.9-25\"   \n",
      "knitr        \"knitr\"        \"/home/george/anaconda2/lib/R/library\" \"1.19\"     \n",
      "lava         \"lava\"         \"/home/george/anaconda2/lib/R/library\" \"1.6\"      \n",
      "lazyeval     \"lazyeval\"     \"/home/george/anaconda2/lib/R/library\" \"0.2.0\"    \n",
      "lme4         \"lme4\"         \"/home/george/anaconda2/lib/R/library\" \"1.1-14\"   \n",
      "lubridate    \"lubridate\"    \"/home/george/anaconda2/lib/R/library\" \"1.6.0\"    \n",
      "maps         \"maps\"         \"/home/george/anaconda2/lib/R/library\" \"3.2.0\"    \n",
      "MASS         \"MASS\"         \"/home/george/anaconda2/lib/R/library\" \"7.3-47\"   \n",
      "Matrix       \"Matrix\"       \"/home/george/anaconda2/lib/R/library\" \"1.2-11\"   \n",
      "mgcv         \"mgcv\"         \"/home/george/anaconda2/lib/R/library\" \"1.8-22\"   \n",
      "nlme         \"nlme\"         \"/home/george/anaconda2/lib/R/library\" \"3.1-131\"  \n",
      "openssl      \"openssl\"      \"/home/george/anaconda2/lib/R/library\" \"0.9.7\"    \n",
      "packrat      \"packrat\"      \"/home/george/anaconda2/lib/R/library\" \"0.4.8-1\"  \n",
      "pbdZMQ       \"pbdZMQ\"       \"/home/george/anaconda2/lib/R/library\" \"0.2-6\"    \n",
      "prodlim      \"prodlim\"      \"/home/george/anaconda2/lib/R/library\" \"1.6.1\"    \n",
      "pryr         \"pryr\"         \"/home/george/anaconda2/lib/R/library\" \"0.1.2\"    \n",
      "psych        \"psych\"        \"/home/george/anaconda2/lib/R/library\" \"1.7.8\"    \n",
      "quantmod     \"quantmod\"     \"/home/george/anaconda2/lib/R/library\" \"0.4-12\"   \n",
      "quantreg     \"quantreg\"     \"/home/george/anaconda2/lib/R/library\" \"5.33\"     \n",
      "randomForest \"randomForest\" \"/home/george/anaconda2/lib/R/library\" \"4.6-12\"   \n",
      "Rcpp         \"Rcpp\"         \"/home/george/anaconda2/lib/R/library\" \"0.12.13\"  \n",
      "RcppEigen    \"RcppEigen\"    \"/home/george/anaconda2/lib/R/library\" \"0.3.3.3.0\"\n",
      "RCurl        \"RCurl\"        \"/home/george/anaconda2/lib/R/library\" \"1.95-4.8\" \n",
      "readxl       \"readxl\"       \"/home/george/anaconda2/lib/R/library\" \"1.0.0\"    \n",
      "repr         \"repr\"         \"/home/george/anaconda2/lib/R/library\" \"0.12.0\"   \n",
      "reshape2     \"reshape2\"     \"/home/george/anaconda2/lib/R/library\" \"1.4.2\"    \n",
      "rlang        \"rlang\"        \"/home/george/anaconda2/lib/R/library\" \"0.1.2\"    \n",
      "rmarkdown    \"rmarkdown\"    \"/home/george/anaconda2/lib/R/library\" \"1.8\"      \n",
      "robustbase   \"robustbase\"   \"/home/george/anaconda2/lib/R/library\" \"0.92-7\"   \n",
      "rpart        \"rpart\"        \"/home/george/anaconda2/lib/R/library\" \"4.1-11\"   \n",
      "rsconnect    \"rsconnect\"    \"/home/george/anaconda2/lib/R/library\" \"0.8.5\"    \n",
      "selectr      \"selectr\"      \"/home/george/anaconda2/lib/R/library\" \"0.3-1\"    \n",
      "sfsmisc      \"sfsmisc\"      \"/home/george/anaconda2/lib/R/library\" \"1.1-1\"    \n",
      "sourcetools  \"sourcetools\"  \"/home/george/anaconda2/lib/R/library\" \"0.1.6\"    \n",
      "stringi      \"stringi\"      \"/home/george/anaconda2/lib/R/library\" \"1.1.5\"    \n",
      "stringr      \"stringr\"      \"/home/george/anaconda2/lib/R/library\" \"1.2.0\"    \n",
      "survival     \"survival\"     \"/home/george/anaconda2/lib/R/library\" \"2.41-3\"   \n",
      "timeDate     \"timeDate\"     \"/home/george/anaconda2/lib/R/library\" \"3042.101\" \n",
      "TTR          \"TTR\"          \"/home/george/anaconda2/lib/R/library\" \"0.23-2\"   \n",
      "withr        \"withr\"        \"/home/george/anaconda2/lib/R/library\" \"2.1.1\"    \n",
      "xml2         \"xml2\"         \"/home/george/anaconda2/lib/R/library\" \"1.1.1\"    \n",
      "xts          \"xts\"          \"/home/george/anaconda2/lib/R/library\" \"0.10-0\"   \n",
      "yaml         \"yaml\"         \"/home/george/anaconda2/lib/R/library\" \"2.1.14\"   \n",
      "zoo          \"zoo\"          \"/home/george/anaconda2/lib/R/library\" \"1.8-0\"    \n",
      "             Built   ReposVer     Repository                              \n",
      "backports    \"3.4.2\" \"1.1.2\"      \"https://cran.r-project.org/src/contrib\"\n",
      "bindr        \"3.4.2\" \"0.1.1\"      \"https://cran.r-project.org/src/contrib\"\n",
      "bindrcpp     \"3.4.2\" \"0.2.2\"      \"https://cran.r-project.org/src/contrib\"\n",
      "car          \"3.4.2\" \"3.0-0\"      \"https://cran.r-project.org/src/contrib\"\n",
      "cluster      \"3.4.2\" \"2.0.7-1\"    \"https://cran.r-project.org/src/contrib\"\n",
      "curl         \"3.4.2\" \"3.2\"        \"https://cran.r-project.org/src/contrib\"\n",
      "data.table   \"3.4.2\" \"1.11.0\"     \"https://cran.r-project.org/src/contrib\"\n",
      "ddalpha      \"3.4.2\" \"1.3.3\"      \"https://cran.r-project.org/src/contrib\"\n",
      "digest       \"3.4.2\" \"0.6.15\"     \"https://cran.r-project.org/src/contrib\"\n",
      "forcats      \"3.4.2\" \"0.3.0\"      \"https://cran.r-project.org/src/contrib\"\n",
      "foreign      \"3.4.2\" \"0.8-70\"     \"https://cran.r-project.org/src/contrib\"\n",
      "glmnet       \"3.4.2\" \"2.0-16\"     \"https://cran.r-project.org/src/contrib\"\n",
      "glue         \"3.4.2\" \"1.2.0\"      \"https://cran.r-project.org/src/contrib\"\n",
      "hexbin       \"3.4.2\" \"1.27.2\"     \"https://cran.r-project.org/src/contrib\"\n",
      "hms          \"3.4.2\" \"0.4.2\"      \"https://cran.r-project.org/src/contrib\"\n",
      "htmlwidgets  \"3.4.2\" \"1.2\"        \"https://cran.r-project.org/src/contrib\"\n",
      "httpuv       \"3.4.2\" \"1.4.2\"      \"https://cran.r-project.org/src/contrib\"\n",
      "kernlab      \"3.4.2\" \"0.9-26\"     \"https://cran.r-project.org/src/contrib\"\n",
      "knitr        \"3.4.2\" \"1.20\"       \"https://cran.r-project.org/src/contrib\"\n",
      "lava         \"3.4.2\" \"1.6.1\"      \"https://cran.r-project.org/src/contrib\"\n",
      "lazyeval     \"3.4.2\" \"0.2.1\"      \"https://cran.r-project.org/src/contrib\"\n",
      "lme4         \"3.4.2\" \"1.1-17\"     \"https://cran.r-project.org/src/contrib\"\n",
      "lubridate    \"3.4.2\" \"1.7.4\"      \"https://cran.r-project.org/src/contrib\"\n",
      "maps         \"3.4.2\" \"3.3.0\"      \"https://cran.r-project.org/src/contrib\"\n",
      "MASS         \"3.4.2\" \"7.3-50\"     \"https://cran.r-project.org/src/contrib\"\n",
      "Matrix       \"3.4.2\" \"1.2-14\"     \"https://cran.r-project.org/src/contrib\"\n",
      "mgcv         \"3.4.2\" \"1.8-23\"     \"https://cran.r-project.org/src/contrib\"\n",
      "nlme         \"3.4.2\" \"3.1-137\"    \"https://cran.r-project.org/src/contrib\"\n",
      "openssl      \"3.4.2\" \"1.0.1\"      \"https://cran.r-project.org/src/contrib\"\n",
      "packrat      \"3.4.2\" \"0.4.9-2\"    \"https://cran.r-project.org/src/contrib\"\n",
      "pbdZMQ       \"3.4.2\" \"0.3-3\"      \"https://cran.r-project.org/src/contrib\"\n",
      "prodlim      \"3.4.2\" \"2018.04.18\" \"https://cran.r-project.org/src/contrib\"\n",
      "pryr         \"3.4.2\" \"0.1.4\"      \"https://cran.r-project.org/src/contrib\"\n",
      "psych        \"3.4.2\" \"1.8.4\"      \"https://cran.r-project.org/src/contrib\"\n",
      "quantmod     \"3.4.2\" \"0.4-13\"     \"https://cran.r-project.org/src/contrib\"\n",
      "quantreg     \"3.4.2\" \"5.35\"       \"https://cran.r-project.org/src/contrib\"\n",
      "randomForest \"3.4.2\" \"4.6-14\"     \"https://cran.r-project.org/src/contrib\"\n",
      "Rcpp         \"3.4.2\" \"0.12.16\"    \"https://cran.r-project.org/src/contrib\"\n",
      "RcppEigen    \"3.4.2\" \"0.3.3.4.0\"  \"https://cran.r-project.org/src/contrib\"\n",
      "RCurl        \"3.4.2\" \"1.95-4.10\"  \"https://cran.r-project.org/src/contrib\"\n",
      "readxl       \"3.4.2\" \"1.1.0\"      \"https://cran.r-project.org/src/contrib\"\n",
      "repr         \"3.4.2\" \"0.13\"       \"https://cran.r-project.org/src/contrib\"\n",
      "reshape2     \"3.4.2\" \"1.4.3\"      \"https://cran.r-project.org/src/contrib\"\n",
      "rlang        \"3.4.2\" \"0.2.0\"      \"https://cran.r-project.org/src/contrib\"\n",
      "rmarkdown    \"3.4.2\" \"1.9\"        \"https://cran.r-project.org/src/contrib\"\n",
      "robustbase   \"3.4.2\" \"0.93-0\"     \"https://cran.r-project.org/src/contrib\"\n",
      "rpart        \"3.4.2\" \"4.1-13\"     \"https://cran.r-project.org/src/contrib\"\n",
      "rsconnect    \"3.4.2\" \"0.8.8\"      \"https://cran.r-project.org/src/contrib\"\n",
      "selectr      \"3.4.2\" \"0.4-1\"      \"https://cran.r-project.org/src/contrib\"\n",
      "sfsmisc      \"3.4.2\" \"1.1-2\"      \"https://cran.r-project.org/src/contrib\"\n",
      "sourcetools  \"3.4.2\" \"0.1.7\"      \"https://cran.r-project.org/src/contrib\"\n",
      "stringi      \"3.4.2\" \"1.2.2\"      \"https://cran.r-project.org/src/contrib\"\n",
      "stringr      \"3.4.2\" \"1.3.0\"      \"https://cran.r-project.org/src/contrib\"\n",
      "survival     \"3.4.2\" \"2.42-3\"     \"https://cran.r-project.org/src/contrib\"\n",
      "timeDate     \"3.4.2\" \"3043.102\"   \"https://cran.r-project.org/src/contrib\"\n",
      "TTR          \"3.4.2\" \"0.23-3\"     \"https://cran.r-project.org/src/contrib\"\n",
      "withr        \"3.4.2\" \"2.1.2\"      \"https://cran.r-project.org/src/contrib\"\n",
      "xml2         \"3.4.2\" \"1.2.0\"      \"https://cran.r-project.org/src/contrib\"\n",
      "xts          \"3.4.2\" \"0.10-2\"     \"https://cran.r-project.org/src/contrib\"\n",
      "yaml         \"3.4.2\" \"2.1.19\"     \"https://cran.r-project.org/src/contrib\"\n",
      "zoo          \"3.4.2\" \"1.8-1\"      \"https://cran.r-project.org/src/contrib\"\n",
      "\n",
      "update with biocLite()\n",
      "\n"
     ]
    },
    {
     "ename": "ERROR",
     "evalue": "Error: 61 package(s) out of date\n",
     "output_type": "error",
     "traceback": [
      "Error: 61 package(s) out of date\nTraceback:\n",
      "1. biocValid()",
      "2. .stop(paste(msg, collapse = \"; \"))",
      "3. stop(.msg(...), call. = call.)"
     ]
    }
   ],
   "source": [
    "biocValid()"
   ]
  },
  {
   "cell_type": "markdown",
   "metadata": {},
   "source": [
    "---\n",
    "# R base types\n",
    "\n",
    "* Remind what I didn't know\n"
   ]
  },
  {
   "cell_type": "code",
   "execution_count": 35,
   "metadata": {},
   "outputs": [
    {
     "data": {
      "text/html": [
       "2147483647"
      ],
      "text/latex": [
       "2147483647"
      ],
      "text/markdown": [
       "2147483647"
      ],
      "text/plain": [
       "[1] 2147483647"
      ]
     },
     "metadata": {},
     "output_type": "display_data"
    }
   ],
   "source": [
    ".Machine$integer.max"
   ]
  },
  {
   "cell_type": "markdown",
   "metadata": {},
   "source": [
    "---\n",
    "# GRanges - Overview\n",
    "\n",
    "* Data structure for storing genomic intervals in R;\n",
    "* It is fast and efficient;\n",
    "* Many entities in genomics are intervals or sets of intervals (of integers): Promoters, genes, SNPs, CpG islands, ..; sequencing reads, mapped and processed;\n",
    "* Many tasks involves relating sets of intervals to each other:\n",
    "    * Which promoter contains SNPs?\n",
    "    * Which TF binding sites overlap a promoter?\n",
    "    * Which genes are covered by sequencing reads?\n",
    "\n",
    "> Functionality in the GenomicRanges and IRanges packages.\n",
    "\n",
    "* [2013 Software for Computing and Annotating Genomic Ranges](http://journals.plos.org/ploscompbiol/article?id=10.1371/journal.pcbi.1003118);\n",
    "* Much functionalities overlaps bedtools.\n",
    "\n",
    "---\n",
    "# IRanges - basic usage"
   ]
  },
  {
   "cell_type": "code",
   "execution_count": 1,
   "metadata": {},
   "outputs": [
    {
     "name": "stderr",
     "output_type": "stream",
     "text": [
      "Loading required package: BiocGenerics\n",
      "Loading required package: parallel\n",
      "\n",
      "Attaching package: ‘BiocGenerics’\n",
      "\n",
      "The following objects are masked from ‘package:parallel’:\n",
      "\n",
      "    clusterApply, clusterApplyLB, clusterCall, clusterEvalQ,\n",
      "    clusterExport, clusterMap, parApply, parCapply, parLapply,\n",
      "    parLapplyLB, parRapply, parSapply, parSapplyLB\n",
      "\n",
      "The following objects are masked from ‘package:stats’:\n",
      "\n",
      "    IQR, mad, sd, var, xtabs\n",
      "\n",
      "The following objects are masked from ‘package:base’:\n",
      "\n",
      "    anyDuplicated, append, as.data.frame, cbind, colMeans, colnames,\n",
      "    colSums, do.call, duplicated, eval, evalq, Filter, Find, get, grep,\n",
      "    grepl, intersect, is.unsorted, lapply, lengths, Map, mapply, match,\n",
      "    mget, order, paste, pmax, pmax.int, pmin, pmin.int, Position, rank,\n",
      "    rbind, Reduce, rowMeans, rownames, rowSums, sapply, setdiff, sort,\n",
      "    table, tapply, union, unique, unsplit, which, which.max, which.min\n",
      "\n",
      "Loading required package: S4Vectors\n",
      "Loading required package: stats4\n",
      "\n",
      "Attaching package: ‘S4Vectors’\n",
      "\n",
      "The following object is masked from ‘package:base’:\n",
      "\n",
      "    expand.grid\n",
      "\n"
     ]
    }
   ],
   "source": [
    "library(IRanges)"
   ]
  },
  {
   "cell_type": "markdown",
   "metadata": {},
   "source": [
    "* IRanges is a vector that contains integer intervals"
   ]
  },
  {
   "cell_type": "code",
   "execution_count": 2,
   "metadata": {},
   "outputs": [
    {
     "name": "stdout",
     "output_type": "stream",
     "text": [
      "IRanges object with 3 ranges and 0 metadata columns:\n",
      "          start       end     width\n",
      "      <integer> <integer> <integer>\n",
      "  [1]         1         3         3\n",
      "  [2]         3         5         3\n",
      "  [3]         5         7         3\n"
     ]
    }
   ],
   "source": [
    "ir1 <- IRanges(start=c(1,3,5), end=c(3,5,7))\n",
    "print(ir1)"
   ]
  },
  {
   "cell_type": "markdown",
   "metadata": {},
   "source": [
    "* It's just necessary two arguments because the last is infered"
   ]
  },
  {
   "cell_type": "code",
   "execution_count": 5,
   "metadata": {},
   "outputs": [
    {
     "name": "stdout",
     "output_type": "stream",
     "text": [
      "IRanges object with 3 ranges and 0 metadata columns:\n",
      "          start       end     width\n",
      "      <integer> <integer> <integer>\n",
      "  [1]         1         3         3\n",
      "  [2]         3         5         3\n",
      "  [3]         5         7         3\n"
     ]
    }
   ],
   "source": [
    "ir2 <- IRanges(start=c(1,3,5), width=3)\n",
    "print(ir2)"
   ]
  },
  {
   "cell_type": "code",
   "execution_count": 6,
   "metadata": {},
   "outputs": [
    {
     "data": {
      "text/html": [
       "<ol class=list-inline>\n",
       "\t<li>1</li>\n",
       "\t<li>3</li>\n",
       "\t<li>5</li>\n",
       "</ol>\n"
      ],
      "text/latex": [
       "\\begin{enumerate*}\n",
       "\\item 1\n",
       "\\item 3\n",
       "\\item 5\n",
       "\\end{enumerate*}\n"
      ],
      "text/markdown": [
       "1. 1\n",
       "2. 3\n",
       "3. 5\n",
       "\n",
       "\n"
      ],
      "text/plain": [
       "[1] 1 3 5"
      ]
     },
     "metadata": {},
     "output_type": "display_data"
    }
   ],
   "source": [
    "start(ir1)"
   ]
  },
  {
   "cell_type": "code",
   "execution_count": 13,
   "metadata": {},
   "outputs": [
    {
     "name": "stdout",
     "output_type": "stream",
     "text": [
      "IRanges object with 3 ranges and 0 metadata columns:\n",
      "          start       end     width\n",
      "      <integer> <integer> <integer>\n",
      "  [1]         1         1         1\n",
      "  [2]         3         3         1\n",
      "  [3]         5         5         1\n"
     ]
    }
   ],
   "source": [
    "width(ir2) <- 1 # it resize the irange\n",
    "print(ir2)"
   ]
  },
  {
   "cell_type": "code",
   "execution_count": 14,
   "metadata": {},
   "outputs": [
    {
     "name": "stdout",
     "output_type": "stream",
     "text": [
      "IRanges object with 3 ranges and 0 metadata columns:\n",
      "         start       end     width\n",
      "     <integer> <integer> <integer>\n",
      "  A1         1         3         3\n",
      "  A2         3         5         3\n",
      "  A3         5         7         3\n"
     ]
    }
   ],
   "source": [
    "names(ir1) <- paste('A', 1:3, sep='')\n",
    "print(ir1)"
   ]
  },
  {
   "cell_type": "code",
   "execution_count": 15,
   "metadata": {},
   "outputs": [
    {
     "data": {
      "text/plain": [
       "NULL"
      ]
     },
     "metadata": {},
     "output_type": "display_data"
    }
   ],
   "source": [
    "dim(ir1) # vectors don't have dimension"
   ]
  },
  {
   "cell_type": "code",
   "execution_count": 17,
   "metadata": {},
   "outputs": [
    {
     "data": {
      "text/html": [
       "3"
      ],
      "text/latex": [
       "3"
      ],
      "text/markdown": [
       "3"
      ],
      "text/plain": [
       "[1] 3"
      ]
     },
     "metadata": {},
     "output_type": "display_data"
    }
   ],
   "source": [
    "length(ir1)"
   ]
  },
  {
   "cell_type": "markdown",
   "metadata": {},
   "source": [
    "* Select using idex or name"
   ]
  },
  {
   "cell_type": "code",
   "execution_count": 19,
   "metadata": {},
   "outputs": [
    {
     "data": {
      "text/plain": [
       "IRanges object with 1 range and 0 metadata columns:\n",
       "         start       end     width\n",
       "     <integer> <integer> <integer>\n",
       "  A1         1         3         3"
      ]
     },
     "metadata": {},
     "output_type": "display_data"
    }
   ],
   "source": [
    "ir1[1]"
   ]
  },
  {
   "cell_type": "code",
   "execution_count": 20,
   "metadata": {},
   "outputs": [
    {
     "data": {
      "text/plain": [
       "IRanges object with 1 range and 0 metadata columns:\n",
       "         start       end     width\n",
       "     <integer> <integer> <integer>\n",
       "  A1         1         3         3"
      ]
     },
     "metadata": {},
     "output_type": "display_data"
    }
   ],
   "source": [
    "ir1['A1']"
   ]
  },
  {
   "cell_type": "markdown",
   "metadata": {},
   "source": [
    "* Combine ir vectors"
   ]
  },
  {
   "cell_type": "code",
   "execution_count": 21,
   "metadata": {},
   "outputs": [
    {
     "data": {
      "text/plain": [
       "IRanges object with 6 ranges and 0 metadata columns:\n",
       "         start       end     width\n",
       "     <integer> <integer> <integer>\n",
       "  A1         1         3         3\n",
       "  A2         3         5         3\n",
       "  A3         5         7         3\n",
       "             1         1         1\n",
       "             3         3         1\n",
       "             5         5         1"
      ]
     },
     "metadata": {},
     "output_type": "display_data"
    }
   ],
   "source": [
    "c(ir1, ir2)"
   ]
  },
  {
   "cell_type": "markdown",
   "metadata": {},
   "source": [
    "* Normal irange"
   ]
  },
  {
   "cell_type": "code",
   "execution_count": 25,
   "metadata": {},
   "outputs": [
    {
     "data": {
      "text/plain": [
       "IRanges object with 4 ranges and 0 metadata columns:\n",
       "          start       end     width\n",
       "      <integer> <integer> <integer>\n",
       "  [1]         1         4         4\n",
       "  [2]         3         4         2\n",
       "  [3]         7         8         2\n",
       "  [4]         9        10         2"
      ]
     },
     "metadata": {},
     "output_type": "display_data"
    }
   ],
   "source": [
    "ir <- IRanges(start=c(1,3,7,9), end=c(4,4,8,10))\n",
    "ir"
   ]
  },
  {
   "cell_type": "markdown",
   "metadata": {},
   "source": [
    "* Resize an ir"
   ]
  },
  {
   "cell_type": "code",
   "execution_count": 26,
   "metadata": {},
   "outputs": [
    {
     "data": {
      "text/plain": [
       "IRanges object with 4 ranges and 0 metadata columns:\n",
       "          start       end     width\n",
       "      <integer> <integer> <integer>\n",
       "  [1]         1         1         1\n",
       "  [2]         3         3         1\n",
       "  [3]         7         7         1\n",
       "  [4]         9         9         1"
      ]
     },
     "metadata": {},
     "output_type": "display_data"
    }
   ],
   "source": [
    "resize(ir, width=1, fix='start')"
   ]
  },
  {
   "cell_type": "code",
   "execution_count": 27,
   "metadata": {},
   "outputs": [
    {
     "data": {
      "text/plain": [
       "IRanges object with 4 ranges and 0 metadata columns:\n",
       "          start       end     width\n",
       "      <integer> <integer> <integer>\n",
       "  [1]         2         2         1\n",
       "  [2]         3         3         1\n",
       "  [3]         7         7         1\n",
       "  [4]         9         9         1"
      ]
     },
     "metadata": {},
     "output_type": "display_data"
    }
   ],
   "source": [
    "resize(ir, width=1, fix='center')"
   ]
  },
  {
   "cell_type": "code",
   "execution_count": 28,
   "metadata": {},
   "outputs": [
    {
     "data": {
      "text/plain": [
       "IRanges object with 3 ranges and 0 metadata columns:\n",
       "          start       end     width\n",
       "      <integer> <integer> <integer>\n",
       "  [1]         1         1         1\n",
       "  [2]         3         3         1\n",
       "  [3]         5         5         1"
      ]
     },
     "metadata": {},
     "output_type": "display_data"
    },
    {
     "data": {
      "text/plain": [
       "IRanges object with 3 ranges and 0 metadata columns:\n",
       "          start       end     width\n",
       "      <integer> <integer> <integer>\n",
       "  [1]         4         4         1\n",
       "  [2]         5         5         1\n",
       "  [3]         6         6         1"
      ]
     },
     "metadata": {},
     "output_type": "display_data"
    }
   ],
   "source": [
    "ir1 <- IRanges(start=c(1,3,5), width=1)\n",
    "ir2 <- IRanges(start=c(4,5,6), width=1)\n",
    "ir1\n",
    "ir2"
   ]
  },
  {
   "cell_type": "markdown",
   "metadata": {},
   "source": [
    "* Union ir is a combination of concatenate and reduce functions"
   ]
  },
  {
   "cell_type": "code",
   "execution_count": 29,
   "metadata": {},
   "outputs": [
    {
     "data": {
      "text/plain": [
       "IRanges object with 2 ranges and 0 metadata columns:\n",
       "          start       end     width\n",
       "      <integer> <integer> <integer>\n",
       "  [1]         1         1         1\n",
       "  [2]         3         6         4"
      ]
     },
     "metadata": {},
     "output_type": "display_data"
    }
   ],
   "source": [
    "union(ir1, ir2)"
   ]
  },
  {
   "cell_type": "code",
   "execution_count": 33,
   "metadata": {},
   "outputs": [
    {
     "data": {
      "text/plain": [
       "IRanges object with 2 ranges and 0 metadata columns:\n",
       "          start       end     width\n",
       "      <integer> <integer> <integer>\n",
       "  [1]         1         1         1\n",
       "  [2]         3         6         4"
      ]
     },
     "metadata": {},
     "output_type": "display_data"
    }
   ],
   "source": [
    "reduce(c(ir1, ir2))"
   ]
  },
  {
   "cell_type": "code",
   "execution_count": 34,
   "metadata": {},
   "outputs": [
    {
     "data": {
      "text/plain": [
       "IRanges object with 1 range and 0 metadata columns:\n",
       "          start       end     width\n",
       "      <integer> <integer> <integer>\n",
       "  [1]         5         5         1"
      ]
     },
     "metadata": {},
     "output_type": "display_data"
    }
   ],
   "source": [
    "intersect(ir1, ir2)"
   ]
  },
  {
   "cell_type": "markdown",
   "metadata": {},
   "source": [
    "* `findOverlaps()` allows us to relate two sets of IRanges to each other"
   ]
  },
  {
   "cell_type": "code",
   "execution_count": 35,
   "metadata": {},
   "outputs": [
    {
     "data": {
      "text/plain": [
       "IRanges object with 3 ranges and 0 metadata columns:\n",
       "          start       end     width\n",
       "      <integer> <integer> <integer>\n",
       "  [1]         1         3         3\n",
       "  [2]         4         7         4\n",
       "  [3]         8        10         3"
      ]
     },
     "metadata": {},
     "output_type": "display_data"
    },
    {
     "data": {
      "text/plain": [
       "IRanges object with 2 ranges and 0 metadata columns:\n",
       "          start       end     width\n",
       "      <integer> <integer> <integer>\n",
       "  [1]         3         5         3\n",
       "  [2]         4         6         3"
      ]
     },
     "metadata": {},
     "output_type": "display_data"
    }
   ],
   "source": [
    "ir1 <- IRanges(start=c(1,4,8), end=c(3,7,10))\n",
    "ir2 <- IRanges(start=c(3,4), width=3)\n",
    "ir1\n",
    "ir2"
   ]
  },
  {
   "cell_type": "raw",
   "metadata": {},
   "source": [
    "ov <- findOverlaps(ir1, ir2)\n",
    "ov"
   ]
  },
  {
   "cell_type": "code",
   "execution_count": 36,
   "metadata": {},
   "outputs": [
    {
     "ename": "ERROR",
     "evalue": "Error in from(x, ...): object 'ov' not found\n",
     "output_type": "error",
     "traceback": [
      "Error in from(x, ...): object 'ov' not found\nTraceback:\n",
      "1. queryHits(ov)",
      "2. from(x, ...)"
     ]
    }
   ],
   "source": [
    "queryHits(ov)"
   ]
  },
  {
   "cell_type": "code",
   "execution_count": 37,
   "metadata": {},
   "outputs": [
    {
     "ename": "ERROR",
     "evalue": "Error in from(x, ...): object 'ov' not found\n",
     "output_type": "error",
     "traceback": [
      "Error in from(x, ...): object 'ov' not found\nTraceback:\n",
      "1. unique(queryHits(ov))",
      "2. queryHits(ov)",
      "3. from(x, ...)"
     ]
    }
   ],
   "source": [
    "unique(queryHits(ov))"
   ]
  },
  {
   "cell_type": "code",
   "execution_count": 38,
   "metadata": {},
   "outputs": [
    {
     "data": {
      "text/html": [
       "<pre class=language-r><code>function (query, subject, maxgap = 0L, minoverlap = 1L, type = c(\"any\", \n",
       "<span style=white-space:pre-wrap>    \"start\", \"end\", \"within\", \"equal\"), select = c(\"all\", \"first\", </span>\n",
       "<span style=white-space:pre-wrap>    \"last\", \"arbitrary\"), ...) </span>\n",
       "NULL</code></pre>"
      ],
      "text/latex": [
       "\\begin{minted}{r}\n",
       "function (query, subject, maxgap = 0L, minoverlap = 1L, type = c(\"any\", \n",
       "    \"start\", \"end\", \"within\", \"equal\"), select = c(\"all\", \"first\", \n",
       "    \"last\", \"arbitrary\"), ...) \n",
       "NULL\n",
       "\\end{minted}"
      ],
      "text/markdown": [
       "```r\n",
       "function (query, subject, maxgap = 0L, minoverlap = 1L, type = c(\"any\", \n",
       "    \"start\", \"end\", \"within\", \"equal\"), select = c(\"all\", \"first\", \n",
       "    \"last\", \"arbitrary\"), ...) \n",
       "NULL\n",
       "```"
      ],
      "text/plain": [
       "function (query, subject, maxgap = 0L, minoverlap = 1L, type = c(\"any\", \n",
       "    \"start\", \"end\", \"within\", \"equal\"), select = c(\"all\", \"first\", \n",
       "    \"last\", \"arbitrary\"), ...) \n",
       "NULL"
      ]
     },
     "metadata": {},
     "output_type": "display_data"
    }
   ],
   "source": [
    "args(findOverlaps)"
   ]
  },
  {
   "cell_type": "code",
   "execution_count": 40,
   "metadata": {},
   "outputs": [
    {
     "data": {
      "text/html": [
       "<ol class=list-inline>\n",
       "\t<li>1</li>\n",
       "\t<li>2</li>\n",
       "\t<li>0</li>\n",
       "</ol>\n"
      ],
      "text/latex": [
       "\\begin{enumerate*}\n",
       "\\item 1\n",
       "\\item 2\n",
       "\\item 0\n",
       "\\end{enumerate*}\n"
      ],
      "text/markdown": [
       "1. 1\n",
       "2. 2\n",
       "3. 0\n",
       "\n",
       "\n"
      ],
      "text/plain": [
       "[1] 1 2 0"
      ]
     },
     "metadata": {},
     "output_type": "display_data"
    }
   ],
   "source": [
    "countOverlaps(ir1, ir2) # How often do I see overlaps between a query set and a subject set?"
   ]
  },
  {
   "cell_type": "code",
   "execution_count": 41,
   "metadata": {},
   "outputs": [
    {
     "data": {
      "text/plain": [
       "IRanges object with 3 ranges and 0 metadata columns:\n",
       "          start       end     width\n",
       "      <integer> <integer> <integer>\n",
       "  [1]         1         3         3\n",
       "  [2]         4         7         4\n",
       "  [3]         8        10         3"
      ]
     },
     "metadata": {},
     "output_type": "display_data"
    },
    {
     "data": {
      "text/plain": [
       "IRanges object with 2 ranges and 0 metadata columns:\n",
       "          start       end     width\n",
       "      <integer> <integer> <integer>\n",
       "  [1]         3         5         3\n",
       "  [2]         4         6         3"
      ]
     },
     "metadata": {},
     "output_type": "display_data"
    }
   ],
   "source": [
    "ir1\n",
    "ir2"
   ]
  },
  {
   "cell_type": "code",
   "execution_count": 42,
   "metadata": {},
   "outputs": [
    {
     "data": {
      "text/html": [
       "<ol class=list-inline>\n",
       "\t<li>1</li>\n",
       "\t<li>1</li>\n",
       "\t<li>2</li>\n",
       "</ol>\n"
      ],
      "text/latex": [
       "\\begin{enumerate*}\n",
       "\\item 1\n",
       "\\item 1\n",
       "\\item 2\n",
       "\\end{enumerate*}\n"
      ],
      "text/markdown": [
       "1. 1\n",
       "2. 1\n",
       "3. 2\n",
       "\n",
       "\n"
      ],
      "text/plain": [
       "[1] 1 1 2"
      ]
     },
     "metadata": {},
     "output_type": "display_data"
    }
   ],
   "source": [
    "nearest(ir1, ir2) # Which of these IRanges in ir2 are closer to the ones in ir1? "
   ]
  },
  {
   "cell_type": "markdown",
   "metadata": {},
   "source": [
    "---\n",
    "# GenomicRanges - GRanges"
   ]
  },
  {
   "cell_type": "code",
   "execution_count": 17,
   "metadata": {},
   "outputs": [
    {
     "ename": "ERROR",
     "evalue": "Error in library(GenomicRanges): there is no package called ‘GenomicRanges’\n",
     "output_type": "error",
     "traceback": [
      "Error in library(GenomicRanges): there is no package called ‘GenomicRanges’\nTraceback:\n",
      "1. library(GenomicRanges)",
      "2. stop(txt, domain = NA)"
     ]
    }
   ],
   "source": [
    "library(GenomicRanges)"
   ]
  },
  {
   "cell_type": "code",
   "execution_count": 19,
   "metadata": {},
   "outputs": [
    {
     "ename": "ERROR",
     "evalue": "Error in GRanges(seqnames = c(\"chr1\"), strand = c(\"+\", \"-\", \"+\"), ranges = IRanges(start = c(1, : could not find function \"GRanges\"\n",
     "output_type": "error",
     "traceback": [
      "Error in GRanges(seqnames = c(\"chr1\"), strand = c(\"+\", \"-\", \"+\"), ranges = IRanges(start = c(1, : could not find function \"GRanges\"\nTraceback:\n"
     ]
    }
   ],
   "source": [
    "gr = GRanges(seqnames=c('chr1'), strand=c('+', '-', '+'), ranges=IRanges(start=c(1,3,5), width = 3))\n",
    "gr"
   ]
  },
  {
   "cell_type": "code",
   "execution_count": 21,
   "metadata": {},
   "outputs": [
    {
     "ename": "ERROR",
     "evalue": "Error in flank(gr, 5): could not find function \"flank\"\n",
     "output_type": "error",
     "traceback": [
      "Error in flank(gr, 5): could not find function \"flank\"\nTraceback:\n"
     ]
    }
   ],
   "source": [
    "# Relative to the direction of transcription, '-' strand go to the right and so on\n",
    "flank(gr, 5)"
   ]
  },
  {
   "cell_type": "code",
   "execution_count": 22,
   "metadata": {},
   "outputs": [
    {
     "ename": "ERROR",
     "evalue": "Error in promoters(gr): could not find function \"promoters\"\n",
     "output_type": "error",
     "traceback": [
      "Error in promoters(gr): could not find function \"promoters\"\nTraceback:\n"
     ]
    }
   ],
   "source": [
    "# Promoters by default use 2,200 bases interval where your 200 bases are downstream and 2,000 bases upstream of the transaction start site\n",
    "promoters(gr)"
   ]
  },
  {
   "cell_type": "code",
   "execution_count": 25,
   "metadata": {},
   "outputs": [
    {
     "ename": "ERROR",
     "evalue": "Error in seqinfo(gr): could not find function \"seqinfo\"\n",
     "output_type": "error",
     "traceback": [
      "Error in seqinfo(gr): could not find function \"seqinfo\"\nTraceback:\n"
     ]
    }
   ],
   "source": [
    "# retrieve info\n",
    "seqinfo(gr)\n",
    "# give the chr size\n",
    "seqlengths(gr) = c('chr1'=10)\n",
    "# Retrieve again\n",
    "seqinfo(gr)\n",
    "# Take the chr names\n",
    "seqlevels(gr)\n",
    "# Gaps give us the stuff on the chromosome that is not covered by a range and the g ranges\n",
    "gaps(gr)"
   ]
  },
  {
   "cell_type": "code",
   "execution_count": 26,
   "metadata": {},
   "outputs": [
    {
     "ename": "ERROR",
     "evalue": "Error in seqnames(gr) = c(\"chr1\", \"chr2\", \"chr1\"): object 'gr' not found\n",
     "output_type": "error",
     "traceback": [
      "Error in seqnames(gr) = c(\"chr1\", \"chr2\", \"chr1\"): object 'gr' not found\nTraceback:\n"
     ]
    }
   ],
   "source": [
    "# Change the chr name\n",
    "seqnames(gr)=c('chr1', 'chr2', 'chr1')\n",
    "# To do this we have to tell that exist different levels\n",
    "seqlevels(gr) = c('chr1', 'chr2')\n",
    "# Now it can be changed\n",
    "seqnames(gr)=c('chr1', 'chr2', 'chr1')\n",
    "# You can sort it, but it is according to the seqlevels order\n",
    "sort(gr)\n",
    "# To change the order, you can change the seqlevels\n",
    "seqlevels(gr) = c('chr2', 'chr1')\n",
    "sort(gr)"
   ]
  },
  {
   "cell_type": "code",
   "execution_count": 27,
   "metadata": {},
   "outputs": [
    {
     "ename": "ERROR",
     "evalue": "Error in genome(gr) = \"hg19\": object 'gr' not found\n",
     "output_type": "error",
     "traceback": [
      "Error in genome(gr) = \"hg19\": object 'gr' not found\nTraceback:\n"
     ]
    }
   ],
   "source": [
    "# We can assign genome to the GRange\n",
    "genome(gr)= 'hg19'\n",
    "seqinfo(gr)\n",
    "# Why that is good?\n",
    "gr2=gr\n",
    "genome(gr2)='hg18'\n",
    "findOverlaps(gr, gr2) # it shows you that different genomes are not compatibles\n"
   ]
  },
  {
   "cell_type": "code",
   "execution_count": null,
   "metadata": {},
   "outputs": [],
   "source": []
  }
 ],
 "metadata": {
  "kernelspec": {
   "display_name": "R",
   "language": "R",
   "name": "ir"
  },
  "language_info": {
   "codemirror_mode": "r",
   "file_extension": ".r",
   "mimetype": "text/x-r-source",
   "name": "R",
   "pygments_lexer": "r",
   "version": "3.4.2"
  }
 },
 "nbformat": 4,
 "nbformat_minor": 2
}
