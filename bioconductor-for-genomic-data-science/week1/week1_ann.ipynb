{
 "cells": [
  {
   "cell_type": "markdown",
   "metadata": {},
   "source": [
    "# What is Bioconductor\n",
    "\n",
    "* Is a open source and open development software repository of R packages for bioinformatics, with some rules and guiding principles;\n",
    "* It has emphasized reproducible research since its start, and has been an early adapter and driver of tools to do this;\n",
    "* Why? Productivity and flexibility;\n",
    "* [2004 Bioconductor: open software development for computational biology and bioinformatics](https://genomebiology.biomedcentral.com/articles/10.1186/gb-2004-5-10-r80);\n",
    "* [2015 Orchestrating high-throughput genomic analysis with Bioconductor](https://www.nature.com/articles/nmeth.3252)\n",
    "\n",
    "---\n",
    "# Installing bioconductor\n"
   ]
  },
  {
   "cell_type": "code",
   "execution_count": 4,
   "metadata": {},
   "outputs": [
    {
     "name": "stderr",
     "output_type": "stream",
     "text": [
      "Bioconductor version 3.5 (BiocInstaller 1.26.1), ?biocLite for help\n",
      "A newer version of Bioconductor is available for this version of R,\n",
      "  ?BiocUpgrade for help\n"
     ]
    }
   ],
   "source": [
    "source(\"http://www.bioconductor.org/biocLite.R\")"
   ]
  },
  {
   "cell_type": "code",
   "execution_count": 5,
   "metadata": {},
   "outputs": [
    {
     "name": "stderr",
     "output_type": "stream",
     "text": [
      "BioC_mirror: https://bioconductor.org\n",
      "Using Bioconductor 3.5 (BiocInstaller 1.26.1), R 3.4.4 (2018-03-15).\n",
      "installation path not writeable, unable to update packages: codetools, lattice,\n",
      "  MASS, spatial\n",
      "Old packages: 'blob', 'devtools', 'knitr', 'lambda.r', 'matrixStats', 'mgcv',\n",
      "  'openssl', 'packrat', 'pbdZMQ', 'plogr', 'Rcpp', 'RCurl', 'repr', 'reshape2',\n",
      "  'rlang', 'R.oo', 'RSQLite', 'stringi', 'stringr', 'testthat', 'tibble',\n",
      "  'VGAM', 'viridisLite', 'withr', 'XML', 'yaml', 'zoo'\n"
     ]
    }
   ],
   "source": [
    "biocLite()"
   ]
  },
  {
   "cell_type": "code",
   "execution_count": 6,
   "metadata": {},
   "outputs": [
    {
     "data": {
      "text/html": [
       "TRUE"
      ],
      "text/latex": [
       "TRUE"
      ],
      "text/markdown": [
       "TRUE"
      ],
      "text/plain": [
       "[1] TRUE"
      ]
     },
     "metadata": {},
     "output_type": "display_data"
    }
   ],
   "source": [
    "biocValid()"
   ]
  },
  {
   "cell_type": "markdown",
   "metadata": {},
   "source": [
    "---\n",
    "# R base types\n",
    "\n",
    "* Remind what I didn't know\n"
   ]
  },
  {
   "cell_type": "code",
   "execution_count": 35,
   "metadata": {},
   "outputs": [
    {
     "data": {
      "text/html": [
       "2147483647"
      ],
      "text/latex": [
       "2147483647"
      ],
      "text/markdown": [
       "2147483647"
      ],
      "text/plain": [
       "[1] 2147483647"
      ]
     },
     "metadata": {},
     "output_type": "display_data"
    }
   ],
   "source": [
    ".Machine$integer.max"
   ]
  },
  {
   "cell_type": "markdown",
   "metadata": {},
   "source": [
    "---\n",
    "# GRanges - Overview\n",
    "\n",
    "* Data structure for storing genomic intervals in R;\n",
    "* It is fast and efficient;\n",
    "* Many entities in genomics are intervals or sets of intervals (of integers): Promoters, genes, SNPs, CpG islands, ..; sequencing reads, mapped and processed;\n",
    "* Many tasks involves relating sets of intervals to each other:\n",
    "    * Which promoter contains SNPs?\n",
    "    * Which TF binding sites overlap a promoter?\n",
    "    * Which genes are covered by sequencing reads?\n",
    "\n",
    "> Functionality in the GenomicRanges and IRanges packages.\n",
    "\n",
    "* [2013 Software for Computing and Annotating Genomic Ranges](http://journals.plos.org/ploscompbiol/article?id=10.1371/journal.pcbi.1003118);\n",
    "* Much functionalities overlaps bedtools.\n",
    "\n",
    "---\n",
    "# IRanges - basic usage"
   ]
  },
  {
   "cell_type": "code",
   "execution_count": 1,
   "metadata": {},
   "outputs": [
    {
     "name": "stderr",
     "output_type": "stream",
     "text": [
      "Loading required package: BiocGenerics\n",
      "Loading required package: parallel\n",
      "\n",
      "Attaching package: ‘BiocGenerics’\n",
      "\n",
      "The following objects are masked from ‘package:parallel’:\n",
      "\n",
      "    clusterApply, clusterApplyLB, clusterCall, clusterEvalQ,\n",
      "    clusterExport, clusterMap, parApply, parCapply, parLapply,\n",
      "    parLapplyLB, parRapply, parSapply, parSapplyLB\n",
      "\n",
      "The following objects are masked from ‘package:stats’:\n",
      "\n",
      "    IQR, mad, sd, var, xtabs\n",
      "\n",
      "The following objects are masked from ‘package:base’:\n",
      "\n",
      "    anyDuplicated, append, as.data.frame, cbind, colMeans, colnames,\n",
      "    colSums, do.call, duplicated, eval, evalq, Filter, Find, get, grep,\n",
      "    grepl, intersect, is.unsorted, lapply, lengths, Map, mapply, match,\n",
      "    mget, order, paste, pmax, pmax.int, pmin, pmin.int, Position, rank,\n",
      "    rbind, Reduce, rowMeans, rownames, rowSums, sapply, setdiff, sort,\n",
      "    table, tapply, union, unique, unsplit, which, which.max, which.min\n",
      "\n",
      "Loading required package: S4Vectors\n",
      "Loading required package: stats4\n",
      "\n",
      "Attaching package: ‘S4Vectors’\n",
      "\n",
      "The following object is masked from ‘package:base’:\n",
      "\n",
      "    expand.grid\n",
      "\n"
     ]
    }
   ],
   "source": [
    "library(IRanges)"
   ]
  },
  {
   "cell_type": "markdown",
   "metadata": {},
   "source": [
    "* IRanges is a vector that contains integer intervals"
   ]
  },
  {
   "cell_type": "code",
   "execution_count": 2,
   "metadata": {},
   "outputs": [
    {
     "name": "stdout",
     "output_type": "stream",
     "text": [
      "IRanges object with 3 ranges and 0 metadata columns:\n",
      "          start       end     width\n",
      "      <integer> <integer> <integer>\n",
      "  [1]         1         3         3\n",
      "  [2]         3         5         3\n",
      "  [3]         5         7         3\n"
     ]
    }
   ],
   "source": [
    "ir1 <- IRanges(start=c(1,3,5), end=c(3,5,7))\n",
    "print(ir1)"
   ]
  },
  {
   "cell_type": "markdown",
   "metadata": {},
   "source": [
    "* It's just necessary two arguments because the last is infered"
   ]
  },
  {
   "cell_type": "code",
   "execution_count": 5,
   "metadata": {},
   "outputs": [
    {
     "name": "stdout",
     "output_type": "stream",
     "text": [
      "IRanges object with 3 ranges and 0 metadata columns:\n",
      "          start       end     width\n",
      "      <integer> <integer> <integer>\n",
      "  [1]         1         3         3\n",
      "  [2]         3         5         3\n",
      "  [3]         5         7         3\n"
     ]
    }
   ],
   "source": [
    "ir2 <- IRanges(start=c(1,3,5), width=3)\n",
    "print(ir2)"
   ]
  },
  {
   "cell_type": "code",
   "execution_count": 6,
   "metadata": {},
   "outputs": [
    {
     "data": {
      "text/html": [
       "<ol class=list-inline>\n",
       "\t<li>1</li>\n",
       "\t<li>3</li>\n",
       "\t<li>5</li>\n",
       "</ol>\n"
      ],
      "text/latex": [
       "\\begin{enumerate*}\n",
       "\\item 1\n",
       "\\item 3\n",
       "\\item 5\n",
       "\\end{enumerate*}\n"
      ],
      "text/markdown": [
       "1. 1\n",
       "2. 3\n",
       "3. 5\n",
       "\n",
       "\n"
      ],
      "text/plain": [
       "[1] 1 3 5"
      ]
     },
     "metadata": {},
     "output_type": "display_data"
    }
   ],
   "source": [
    "start(ir1)"
   ]
  },
  {
   "cell_type": "code",
   "execution_count": 13,
   "metadata": {},
   "outputs": [
    {
     "name": "stdout",
     "output_type": "stream",
     "text": [
      "IRanges object with 3 ranges and 0 metadata columns:\n",
      "          start       end     width\n",
      "      <integer> <integer> <integer>\n",
      "  [1]         1         1         1\n",
      "  [2]         3         3         1\n",
      "  [3]         5         5         1\n"
     ]
    }
   ],
   "source": [
    "width(ir2) <- 1 # it resize the irange\n",
    "print(ir2)"
   ]
  },
  {
   "cell_type": "code",
   "execution_count": 14,
   "metadata": {},
   "outputs": [
    {
     "name": "stdout",
     "output_type": "stream",
     "text": [
      "IRanges object with 3 ranges and 0 metadata columns:\n",
      "         start       end     width\n",
      "     <integer> <integer> <integer>\n",
      "  A1         1         3         3\n",
      "  A2         3         5         3\n",
      "  A3         5         7         3\n"
     ]
    }
   ],
   "source": [
    "names(ir1) <- paste('A', 1:3, sep='')\n",
    "print(ir1)"
   ]
  },
  {
   "cell_type": "code",
   "execution_count": 15,
   "metadata": {},
   "outputs": [
    {
     "data": {
      "text/plain": [
       "NULL"
      ]
     },
     "metadata": {},
     "output_type": "display_data"
    }
   ],
   "source": [
    "dim(ir1) # vectors don't have dimension"
   ]
  },
  {
   "cell_type": "code",
   "execution_count": 17,
   "metadata": {},
   "outputs": [
    {
     "data": {
      "text/html": [
       "3"
      ],
      "text/latex": [
       "3"
      ],
      "text/markdown": [
       "3"
      ],
      "text/plain": [
       "[1] 3"
      ]
     },
     "metadata": {},
     "output_type": "display_data"
    }
   ],
   "source": [
    "length(ir1)"
   ]
  },
  {
   "cell_type": "markdown",
   "metadata": {},
   "source": [
    "* Select using idex or name"
   ]
  },
  {
   "cell_type": "code",
   "execution_count": 19,
   "metadata": {},
   "outputs": [
    {
     "data": {
      "text/plain": [
       "IRanges object with 1 range and 0 metadata columns:\n",
       "         start       end     width\n",
       "     <integer> <integer> <integer>\n",
       "  A1         1         3         3"
      ]
     },
     "metadata": {},
     "output_type": "display_data"
    }
   ],
   "source": [
    "ir1[1]"
   ]
  },
  {
   "cell_type": "code",
   "execution_count": 20,
   "metadata": {},
   "outputs": [
    {
     "data": {
      "text/plain": [
       "IRanges object with 1 range and 0 metadata columns:\n",
       "         start       end     width\n",
       "     <integer> <integer> <integer>\n",
       "  A1         1         3         3"
      ]
     },
     "metadata": {},
     "output_type": "display_data"
    }
   ],
   "source": [
    "ir1['A1']"
   ]
  },
  {
   "cell_type": "markdown",
   "metadata": {},
   "source": [
    "* Combine ir vectors"
   ]
  },
  {
   "cell_type": "code",
   "execution_count": 21,
   "metadata": {},
   "outputs": [
    {
     "data": {
      "text/plain": [
       "IRanges object with 6 ranges and 0 metadata columns:\n",
       "         start       end     width\n",
       "     <integer> <integer> <integer>\n",
       "  A1         1         3         3\n",
       "  A2         3         5         3\n",
       "  A3         5         7         3\n",
       "             1         1         1\n",
       "             3         3         1\n",
       "             5         5         1"
      ]
     },
     "metadata": {},
     "output_type": "display_data"
    }
   ],
   "source": [
    "c(ir1, ir2)"
   ]
  },
  {
   "cell_type": "markdown",
   "metadata": {},
   "source": [
    "* Normal irange"
   ]
  },
  {
   "cell_type": "code",
   "execution_count": 25,
   "metadata": {},
   "outputs": [
    {
     "data": {
      "text/plain": [
       "IRanges object with 4 ranges and 0 metadata columns:\n",
       "          start       end     width\n",
       "      <integer> <integer> <integer>\n",
       "  [1]         1         4         4\n",
       "  [2]         3         4         2\n",
       "  [3]         7         8         2\n",
       "  [4]         9        10         2"
      ]
     },
     "metadata": {},
     "output_type": "display_data"
    }
   ],
   "source": [
    "ir <- IRanges(start=c(1,3,7,9), end=c(4,4,8,10))\n",
    "ir"
   ]
  },
  {
   "cell_type": "markdown",
   "metadata": {},
   "source": [
    "* Resize an ir"
   ]
  },
  {
   "cell_type": "code",
   "execution_count": 26,
   "metadata": {},
   "outputs": [
    {
     "data": {
      "text/plain": [
       "IRanges object with 4 ranges and 0 metadata columns:\n",
       "          start       end     width\n",
       "      <integer> <integer> <integer>\n",
       "  [1]         1         1         1\n",
       "  [2]         3         3         1\n",
       "  [3]         7         7         1\n",
       "  [4]         9         9         1"
      ]
     },
     "metadata": {},
     "output_type": "display_data"
    }
   ],
   "source": [
    "resize(ir, width=1, fix='start')"
   ]
  },
  {
   "cell_type": "code",
   "execution_count": 27,
   "metadata": {},
   "outputs": [
    {
     "data": {
      "text/plain": [
       "IRanges object with 4 ranges and 0 metadata columns:\n",
       "          start       end     width\n",
       "      <integer> <integer> <integer>\n",
       "  [1]         2         2         1\n",
       "  [2]         3         3         1\n",
       "  [3]         7         7         1\n",
       "  [4]         9         9         1"
      ]
     },
     "metadata": {},
     "output_type": "display_data"
    }
   ],
   "source": [
    "resize(ir, width=1, fix='center')"
   ]
  },
  {
   "cell_type": "code",
   "execution_count": 28,
   "metadata": {},
   "outputs": [
    {
     "data": {
      "text/plain": [
       "IRanges object with 3 ranges and 0 metadata columns:\n",
       "          start       end     width\n",
       "      <integer> <integer> <integer>\n",
       "  [1]         1         1         1\n",
       "  [2]         3         3         1\n",
       "  [3]         5         5         1"
      ]
     },
     "metadata": {},
     "output_type": "display_data"
    },
    {
     "data": {
      "text/plain": [
       "IRanges object with 3 ranges and 0 metadata columns:\n",
       "          start       end     width\n",
       "      <integer> <integer> <integer>\n",
       "  [1]         4         4         1\n",
       "  [2]         5         5         1\n",
       "  [3]         6         6         1"
      ]
     },
     "metadata": {},
     "output_type": "display_data"
    }
   ],
   "source": [
    "ir1 <- IRanges(start=c(1,3,5), width=1)\n",
    "ir2 <- IRanges(start=c(4,5,6), width=1)\n",
    "ir1\n",
    "ir2"
   ]
  },
  {
   "cell_type": "markdown",
   "metadata": {},
   "source": [
    "* Union ir is a combination of concatenate and reduce functions"
   ]
  },
  {
   "cell_type": "code",
   "execution_count": 29,
   "metadata": {},
   "outputs": [
    {
     "data": {
      "text/plain": [
       "IRanges object with 2 ranges and 0 metadata columns:\n",
       "          start       end     width\n",
       "      <integer> <integer> <integer>\n",
       "  [1]         1         1         1\n",
       "  [2]         3         6         4"
      ]
     },
     "metadata": {},
     "output_type": "display_data"
    }
   ],
   "source": [
    "union(ir1, ir2)"
   ]
  },
  {
   "cell_type": "code",
   "execution_count": 33,
   "metadata": {},
   "outputs": [
    {
     "data": {
      "text/plain": [
       "IRanges object with 2 ranges and 0 metadata columns:\n",
       "          start       end     width\n",
       "      <integer> <integer> <integer>\n",
       "  [1]         1         1         1\n",
       "  [2]         3         6         4"
      ]
     },
     "metadata": {},
     "output_type": "display_data"
    }
   ],
   "source": [
    "reduce(c(ir1, ir2))"
   ]
  },
  {
   "cell_type": "code",
   "execution_count": 34,
   "metadata": {},
   "outputs": [
    {
     "data": {
      "text/plain": [
       "IRanges object with 1 range and 0 metadata columns:\n",
       "          start       end     width\n",
       "      <integer> <integer> <integer>\n",
       "  [1]         5         5         1"
      ]
     },
     "metadata": {},
     "output_type": "display_data"
    }
   ],
   "source": [
    "intersect(ir1, ir2)"
   ]
  },
  {
   "cell_type": "markdown",
   "metadata": {},
   "source": [
    "* `findOverlaps()` allows us to relate two sets of IRanges to each other"
   ]
  },
  {
   "cell_type": "code",
   "execution_count": 35,
   "metadata": {},
   "outputs": [
    {
     "data": {
      "text/plain": [
       "IRanges object with 3 ranges and 0 metadata columns:\n",
       "          start       end     width\n",
       "      <integer> <integer> <integer>\n",
       "  [1]         1         3         3\n",
       "  [2]         4         7         4\n",
       "  [3]         8        10         3"
      ]
     },
     "metadata": {},
     "output_type": "display_data"
    },
    {
     "data": {
      "text/plain": [
       "IRanges object with 2 ranges and 0 metadata columns:\n",
       "          start       end     width\n",
       "      <integer> <integer> <integer>\n",
       "  [1]         3         5         3\n",
       "  [2]         4         6         3"
      ]
     },
     "metadata": {},
     "output_type": "display_data"
    }
   ],
   "source": [
    "ir1 <- IRanges(start=c(1,4,8), end=c(3,7,10))\n",
    "ir2 <- IRanges(start=c(3,4), width=3)\n",
    "ir1\n",
    "ir2"
   ]
  },
  {
   "cell_type": "raw",
   "metadata": {},
   "source": [
    "ov <- findOverlaps(ir1, ir2)\n",
    "ov"
   ]
  },
  {
   "cell_type": "code",
   "execution_count": 36,
   "metadata": {},
   "outputs": [
    {
     "ename": "ERROR",
     "evalue": "Error in from(x, ...): object 'ov' not found\n",
     "output_type": "error",
     "traceback": [
      "Error in from(x, ...): object 'ov' not found\nTraceback:\n",
      "1. queryHits(ov)",
      "2. from(x, ...)"
     ]
    }
   ],
   "source": [
    "queryHits(ov)"
   ]
  },
  {
   "cell_type": "code",
   "execution_count": 37,
   "metadata": {},
   "outputs": [
    {
     "ename": "ERROR",
     "evalue": "Error in from(x, ...): object 'ov' not found\n",
     "output_type": "error",
     "traceback": [
      "Error in from(x, ...): object 'ov' not found\nTraceback:\n",
      "1. unique(queryHits(ov))",
      "2. queryHits(ov)",
      "3. from(x, ...)"
     ]
    }
   ],
   "source": [
    "unique(queryHits(ov))"
   ]
  },
  {
   "cell_type": "code",
   "execution_count": 38,
   "metadata": {},
   "outputs": [
    {
     "data": {
      "text/html": [
       "<pre class=language-r><code>function (query, subject, maxgap = 0L, minoverlap = 1L, type = c(\"any\", \n",
       "<span style=white-space:pre-wrap>    \"start\", \"end\", \"within\", \"equal\"), select = c(\"all\", \"first\", </span>\n",
       "<span style=white-space:pre-wrap>    \"last\", \"arbitrary\"), ...) </span>\n",
       "NULL</code></pre>"
      ],
      "text/latex": [
       "\\begin{minted}{r}\n",
       "function (query, subject, maxgap = 0L, minoverlap = 1L, type = c(\"any\", \n",
       "    \"start\", \"end\", \"within\", \"equal\"), select = c(\"all\", \"first\", \n",
       "    \"last\", \"arbitrary\"), ...) \n",
       "NULL\n",
       "\\end{minted}"
      ],
      "text/markdown": [
       "```r\n",
       "function (query, subject, maxgap = 0L, minoverlap = 1L, type = c(\"any\", \n",
       "    \"start\", \"end\", \"within\", \"equal\"), select = c(\"all\", \"first\", \n",
       "    \"last\", \"arbitrary\"), ...) \n",
       "NULL\n",
       "```"
      ],
      "text/plain": [
       "function (query, subject, maxgap = 0L, minoverlap = 1L, type = c(\"any\", \n",
       "    \"start\", \"end\", \"within\", \"equal\"), select = c(\"all\", \"first\", \n",
       "    \"last\", \"arbitrary\"), ...) \n",
       "NULL"
      ]
     },
     "metadata": {},
     "output_type": "display_data"
    }
   ],
   "source": [
    "args(findOverlaps)"
   ]
  },
  {
   "cell_type": "code",
   "execution_count": 40,
   "metadata": {},
   "outputs": [
    {
     "data": {
      "text/html": [
       "<ol class=list-inline>\n",
       "\t<li>1</li>\n",
       "\t<li>2</li>\n",
       "\t<li>0</li>\n",
       "</ol>\n"
      ],
      "text/latex": [
       "\\begin{enumerate*}\n",
       "\\item 1\n",
       "\\item 2\n",
       "\\item 0\n",
       "\\end{enumerate*}\n"
      ],
      "text/markdown": [
       "1. 1\n",
       "2. 2\n",
       "3. 0\n",
       "\n",
       "\n"
      ],
      "text/plain": [
       "[1] 1 2 0"
      ]
     },
     "metadata": {},
     "output_type": "display_data"
    }
   ],
   "source": [
    "countOverlaps(ir1, ir2) # How often do I see overlaps between a query set and a subject set?"
   ]
  },
  {
   "cell_type": "code",
   "execution_count": 41,
   "metadata": {},
   "outputs": [
    {
     "data": {
      "text/plain": [
       "IRanges object with 3 ranges and 0 metadata columns:\n",
       "          start       end     width\n",
       "      <integer> <integer> <integer>\n",
       "  [1]         1         3         3\n",
       "  [2]         4         7         4\n",
       "  [3]         8        10         3"
      ]
     },
     "metadata": {},
     "output_type": "display_data"
    },
    {
     "data": {
      "text/plain": [
       "IRanges object with 2 ranges and 0 metadata columns:\n",
       "          start       end     width\n",
       "      <integer> <integer> <integer>\n",
       "  [1]         3         5         3\n",
       "  [2]         4         6         3"
      ]
     },
     "metadata": {},
     "output_type": "display_data"
    }
   ],
   "source": [
    "ir1\n",
    "ir2"
   ]
  },
  {
   "cell_type": "code",
   "execution_count": 42,
   "metadata": {},
   "outputs": [
    {
     "data": {
      "text/html": [
       "<ol class=list-inline>\n",
       "\t<li>1</li>\n",
       "\t<li>1</li>\n",
       "\t<li>2</li>\n",
       "</ol>\n"
      ],
      "text/latex": [
       "\\begin{enumerate*}\n",
       "\\item 1\n",
       "\\item 1\n",
       "\\item 2\n",
       "\\end{enumerate*}\n"
      ],
      "text/markdown": [
       "1. 1\n",
       "2. 1\n",
       "3. 2\n",
       "\n",
       "\n"
      ],
      "text/plain": [
       "[1] 1 1 2"
      ]
     },
     "metadata": {},
     "output_type": "display_data"
    }
   ],
   "source": [
    "nearest(ir1, ir2) # Which of these IRanges in ir2 are closer to the ones in ir1? "
   ]
  },
  {
   "cell_type": "markdown",
   "metadata": {},
   "source": [
    "---\n",
    "# GenomicRanges - GRanges"
   ]
  },
  {
   "cell_type": "code",
   "execution_count": null,
   "metadata": {},
   "outputs": [],
   "source": []
  }
 ],
 "metadata": {
  "kernelspec": {
   "display_name": "R 3.4.2",
   "language": "R",
   "name": "ir33"
  },
  "language_info": {
   "codemirror_mode": "r",
   "file_extension": ".r",
   "mimetype": "text/x-r-source",
   "name": "R",
   "pygments_lexer": "r",
   "version": "3.4.4"
  }
 },
 "nbformat": 4,
 "nbformat_minor": 2
}
