{
  "nbformat": 4,
  "nbformat_minor": 0,
  "metadata": {
    "kernelspec": {
      "display_name": "R",
      "language": "R",
      "name": "ir"
    },
    "language_info": {
      "codemirror_mode": "r",
      "file_extension": ".r",
      "mimetype": "text/x-r-source",
      "name": "R",
      "pygments_lexer": "r",
      "version": "3.3.1"
    },
    "colab": {
      "name": "16-logistic_regression_in_R.ipynb",
      "version": "0.3.2",
      "provenance": [],
      "include_colab_link": true
    }
  },
  "cells": [
    {
      "cell_type": "markdown",
      "metadata": {
        "id": "view-in-github",
        "colab_type": "text"
      },
      "source": [
        "<a href=\"https://colab.research.google.com/github/geocarvalho/r-bioinfo-ds/blob/master/statquest/machine-learning/16_logistic_regression_in_R.ipynb\" target=\"_parent\"><img src=\"https://colab.research.google.com/assets/colab-badge.svg\" alt=\"Open In Colab\"/></a>"
      ]
    },
    {
      "cell_type": "markdown",
      "metadata": {
        "id": "y5i2YleQjWkh",
        "colab_type": "text"
      },
      "source": [
        "# 16 - [Logistic Regression in R](https://www.youtube.com/watch?v=C4N3_XJJ-jU&list=PLblh5JKOoLUICTaGLRoHQDuF_7q2GfuJF&index=16)\n",
        "\n",
        "* Open the Heart Disease Dataset\n"
      ]
    },
    {
      "cell_type": "code",
      "metadata": {
        "id": "DADuquv78Dq-",
        "colab_type": "code",
        "colab": {
          "base_uri": "https://localhost:8080/",
          "height": 136
        },
        "outputId": "e8abb126-1d2c-4681-e9d1-0e3d4cc54d02"
      },
      "source": [
        "url <- \"http://archive.ics.uci.edu/ml/machine-learning-databases/heart-disease/processed.cleveland.data\"\n",
        "data <- read.csv(url, header=FALSE)\n",
        "print(head(data))"
      ],
      "execution_count": 21,
      "outputs": [
        {
          "output_type": "stream",
          "text": [
            "  V1 V2 V3  V4  V5 V6 V7  V8 V9 V10 V11 V12 V13 V14\n",
            "1 63  1  1 145 233  1  2 150  0 2.3   3 0.0 6.0   0\n",
            "2 67  1  4 160 286  0  2 108  1 1.5   2 3.0 3.0   2\n",
            "3 67  1  4 120 229  0  2 129  1 2.6   2 2.0 7.0   1\n",
            "4 37  1  3 130 250  0  0 187  0 3.5   3 0.0 3.0   0\n",
            "5 41  0  2 130 204  0  2 172  0 1.4   1 0.0 3.0   0\n",
            "6 56  1  2 120 236  0  0 178  0 0.8   1 0.0 3.0   0\n"
          ],
          "name": "stdout"
        }
      ]
    },
    {
      "cell_type": "markdown",
      "metadata": {
        "id": "qtFqf0lvv68G",
        "colab_type": "text"
      },
      "source": [
        "* Name the columns after the names that were listed on the UCI website"
      ]
    },
    {
      "cell_type": "code",
      "metadata": {
        "id": "-EAnv6fAv6VG",
        "colab_type": "code",
        "colab": {
          "base_uri": "https://localhost:8080/",
          "height": 136
        },
        "outputId": "7efcfa80-606a-4123-e294-2acda8a8957e"
      },
      "source": [
        "colnames(data) <- c(\n",
        "\"age\", \"sex\", \"cp\", \"trestbps\", \"chol\", \"fbs\", \"restecg\", \"thalach\",\n",
        "\"exang\", \"oldpeak\", \"slope\", \"ca\", \"thal\", \"hd\")\n",
        "print(head(data))"
      ],
      "execution_count": 22,
      "outputs": [
        {
          "output_type": "stream",
          "text": [
            "  age sex cp trestbps chol fbs restecg thalach exang oldpeak slope  ca thal hd\n",
            "1  63   1  1      145  233   1       2     150     0     2.3     3 0.0  6.0  0\n",
            "2  67   1  4      160  286   0       2     108     1     1.5     2 3.0  3.0  2\n",
            "3  67   1  4      120  229   0       2     129     1     2.6     2 2.0  7.0  1\n",
            "4  37   1  3      130  250   0       0     187     0     3.5     3 0.0  3.0  0\n",
            "5  41   0  2      130  204   0       2     172     0     1.4     1 0.0  3.0  0\n",
            "6  56   1  2      120  236   0       0     178     0     0.8     1 0.0  3.0  0\n"
          ],
          "name": "stdout"
        }
      ]
    },
    {
      "cell_type": "markdown",
      "metadata": {
        "id": "Zzs1468bwjvh",
        "colab_type": "text"
      },
      "source": [
        "* The `str()` function, which describes the **str**ucture of the data, tells us that some of the columns are messed up;\n"
      ]
    },
    {
      "cell_type": "code",
      "metadata": {
        "id": "wmj9VB9sv2ZZ",
        "colab_type": "code",
        "colab": {
          "base_uri": "https://localhost:8080/",
          "height": 272
        },
        "outputId": "24cfad32-aa8b-4120-c627-119094e655d2"
      },
      "source": [
        "str(data)"
      ],
      "execution_count": 23,
      "outputs": [
        {
          "output_type": "stream",
          "text": [
            "'data.frame':\t303 obs. of  14 variables:\n",
            " $ age     : num  63 67 67 37 41 56 62 57 63 53 ...\n",
            " $ sex     : num  1 1 1 1 0 1 0 0 1 1 ...\n",
            " $ cp      : num  1 4 4 3 2 2 4 4 4 4 ...\n",
            " $ trestbps: num  145 160 120 130 130 120 140 120 130 140 ...\n",
            " $ chol    : num  233 286 229 250 204 236 268 354 254 203 ...\n",
            " $ fbs     : num  1 0 0 0 0 0 0 0 0 1 ...\n",
            " $ restecg : num  2 2 2 0 2 0 2 0 2 2 ...\n",
            " $ thalach : num  150 108 129 187 172 178 160 163 147 155 ...\n",
            " $ exang   : num  0 1 1 0 0 0 0 1 0 1 ...\n",
            " $ oldpeak : num  2.3 1.5 2.6 3.5 1.4 0.8 3.6 0.6 1.4 3.1 ...\n",
            " $ slope   : num  3 2 2 3 1 1 3 1 2 3 ...\n",
            " $ ca      : Factor w/ 5 levels \"?\",\"0.0\",\"1.0\",..: 2 5 4 2 2 2 4 2 3 2 ...\n",
            " $ thal    : Factor w/ 4 levels \"?\",\"3.0\",\"6.0\",..: 3 2 4 2 2 2 2 2 4 4 ...\n",
            " $ hd      : int  0 2 1 0 0 0 3 0 2 1 ...\n"
          ],
          "name": "stdout"
        }
      ]
    },
    {
      "cell_type": "markdown",
      "metadata": {
        "id": "y32hyANjxFIB",
        "colab_type": "text"
      },
      "source": [
        "* Right now, **sex** is a number, but it's supposed to be a factor, where 0 represents \"Female\" and 1 represents \"Male\";\n",
        "\n",
        "* **cp** (aka **c**hest **p**ain) is also supposed to be a factor, where levels 1-3 represent different types of pain and 4 represents no chest pain;\n",
        "\n",
        "* **ca** and **thal** are correctly called factors, but one of the levels is \"**?**\" when we need it to be **NA**."
      ]
    },
    {
      "cell_type": "code",
      "metadata": {
        "id": "RbXmpImZw0su",
        "colab_type": "code",
        "colab": {}
      },
      "source": [
        "# Change the \"?\"s to NAs\n",
        "data[data==\"?\"] <- NA\n",
        "\n",
        "# Convert the 0s in $sex to F, for female and the 1s to M for male\n",
        "data[data$sex == 0,]$sex <- \"F\"\n",
        "data[data$sex == 1,]$sex <- \"M\"\n",
        "\n",
        "# Convert the $sex column into a factor, and a bunch of other columns\n",
        "data$sex <- as.factor(data$sex)\n",
        "data$cp <- as.factor(data$cp)\n",
        "data$fbs <- as.factor(data$fbs)\n",
        "data$restecg <- as.factor(data$restecg)\n",
        "data$exang <- as.factor(data$restecg)\n",
        "data$slope <- as.factor(data$slope)"
      ],
      "execution_count": 0,
      "outputs": []
    },
    {
      "cell_type": "markdown",
      "metadata": {
        "id": "oJs-LC2i3FqN",
        "colab_type": "text"
      },
      "source": [
        "* Since the **ca** column originally had a **?** in it, rather than **NA**, R thinks it's a column of strings. We correct that assumption by telling R that it's a column of integers and then we convert it to a factor."
      ]
    },
    {
      "cell_type": "code",
      "metadata": {
        "id": "wlz1lo6ly6y3",
        "colab_type": "code",
        "colab": {}
      },
      "source": [
        "data$ca <- as.integer(data$ca)\n",
        "data$ca <- as.factor(data$ca)\n",
        "\n",
        "# And the same thing to $thal\n",
        "\n",
        "data$thal <- as.integer(data$thal)\n",
        "data$thal <- as.factor(data$thal)"
      ],
      "execution_count": 0,
      "outputs": []
    },
    {
      "cell_type": "markdown",
      "metadata": {
        "id": "cVYjzbAo4PdS",
        "colab_type": "text"
      },
      "source": [
        "* The last thing we need to do to the data is make **hd** (aka **h**eart **d**isease) a factor that is easy on the eyes. Here I'm using a fancy trick with `ifelse()` to convert the **0**s to \"**Healthy**\" and the **1**s to \"**Unhealthy**\";\n",
        "\n",
        "> We could have done a similar trick for **sex**, but I wanted to show you both ways to convert numbers to words."
      ]
    },
    {
      "cell_type": "code",
      "metadata": {
        "id": "qYQxzJf33lmU",
        "colab_type": "code",
        "colab": {}
      },
      "source": [
        "data$hd <- ifelse(test=data$hd == 0, yes=\"Healthy\", no=\"Unhealthy\")\n",
        "data$hd <- as.factor(data$hd)"
      ],
      "execution_count": 0,
      "outputs": []
    },
    {
      "cell_type": "markdown",
      "metadata": {
        "id": "jNVUahlE5Oal",
        "colab_type": "text"
      },
      "source": [
        "* Once we're done fixing up the data, we check that we have made the appropriate changes with `str()`"
      ]
    },
    {
      "cell_type": "code",
      "metadata": {
        "id": "vb99khK046Ob",
        "colab_type": "code",
        "colab": {
          "base_uri": "https://localhost:8080/",
          "height": 272
        },
        "outputId": "11154169-67aa-4cb0-bac3-abad4449312b"
      },
      "source": [
        "str(data)"
      ],
      "execution_count": 28,
      "outputs": [
        {
          "output_type": "stream",
          "text": [
            "'data.frame':\t303 obs. of  14 variables:\n",
            " $ age     : num  63 67 67 37 41 56 62 57 63 53 ...\n",
            " $ sex     : Factor w/ 2 levels \"F\",\"M\": 2 2 2 2 1 2 1 1 2 2 ...\n",
            " $ cp      : Factor w/ 4 levels \"1\",\"2\",\"3\",\"4\": 1 4 4 3 2 2 4 4 4 4 ...\n",
            " $ trestbps: num  145 160 120 130 130 120 140 120 130 140 ...\n",
            " $ chol    : num  233 286 229 250 204 236 268 354 254 203 ...\n",
            " $ fbs     : Factor w/ 2 levels \"0\",\"1\": 2 1 1 1 1 1 1 1 1 2 ...\n",
            " $ restecg : Factor w/ 3 levels \"0\",\"1\",\"2\": 3 3 3 1 3 1 3 1 3 3 ...\n",
            " $ thalach : num  150 108 129 187 172 178 160 163 147 155 ...\n",
            " $ exang   : Factor w/ 3 levels \"0\",\"1\",\"2\": 3 3 3 1 3 1 3 1 3 3 ...\n",
            " $ oldpeak : num  2.3 1.5 2.6 3.5 1.4 0.8 3.6 0.6 1.4 3.1 ...\n",
            " $ slope   : Factor w/ 3 levels \"1\",\"2\",\"3\": 3 2 2 3 1 1 3 1 2 3 ...\n",
            " $ ca      : Factor w/ 4 levels \"2\",\"3\",\"4\",\"5\": 1 4 3 1 1 1 3 1 2 1 ...\n",
            " $ thal    : Factor w/ 3 levels \"2\",\"3\",\"4\": 2 1 3 1 1 1 1 1 3 3 ...\n",
            " $ hd      : Factor w/ 2 levels \"Healthy\",\"Unhealthy\": 1 2 2 1 1 1 2 1 2 2 ...\n"
          ],
          "name": "stdout"
        }
      ]
    },
    {
      "cell_type": "markdown",
      "metadata": {
        "id": "pn8DWLJW5eu9",
        "colab_type": "text"
      },
      "source": [
        "* Now we see how many samples (rows of data) have **NA** values."
      ]
    },
    {
      "cell_type": "code",
      "metadata": {
        "id": "PV55FRDc5ZTT",
        "colab_type": "code",
        "colab": {
          "base_uri": "https://localhost:8080/",
          "height": 34
        },
        "outputId": "8e6b92a8-ba71-4f31-88c3-22e971be9a38"
      },
      "source": [
        "nrow(data[is.na(data$ca) | is.na(data$thal),])"
      ],
      "execution_count": 29,
      "outputs": [
        {
          "output_type": "display_data",
          "data": {
            "text/plain": [
              "[1] 6"
            ],
            "text/latex": "6",
            "text/markdown": "6",
            "text/html": [
              "6"
            ]
          },
          "metadata": {
            "tags": []
          }
        }
      ]
    },
    {
      "cell_type": "code",
      "metadata": {
        "id": "_BFykcOv5u-b",
        "colab_type": "code",
        "colab": {
          "base_uri": "https://localhost:8080/",
          "height": 255
        },
        "outputId": "3e2cf2ce-11da-4d67-f7be-7ce8615a0114"
      },
      "source": [
        "print(data[is.na(data$ca) | is.na(data$thal),])"
      ],
      "execution_count": 32,
      "outputs": [
        {
          "output_type": "stream",
          "text": [
            "    age sex cp trestbps chol fbs restecg thalach exang oldpeak slope   ca thal\n",
            "88   53   F  3      128  216   0       2     115     2     0.0     1    2 <NA>\n",
            "167  52   M  3      138  223   0       0     169     0     0.0     1 <NA>    2\n",
            "193  43   M  4      132  247   1       2     143     2     0.1     2 <NA>    4\n",
            "267  52   M  4      128  204   1       0     156     0     1.0     2    2 <NA>\n",
            "288  58   M  2      125  220   0       0     144     0     0.4     2 <NA>    4\n",
            "303  38   M  3      138  175   0       0     173     0     0.0     1 <NA>    2\n",
            "           hd\n",
            "88    Healthy\n",
            "167   Healthy\n",
            "193 Unhealthy\n",
            "267 Unhealthy\n",
            "288   Healthy\n",
            "303   Healthy\n"
          ],
          "name": "stdout"
        }
      ]
    },
    {
      "cell_type": "markdown",
      "metadata": {
        "id": "i8UTg0sK5-H7",
        "colab_type": "text"
      },
      "source": [
        "* If we wanted to, we could impute values for the **NA**s using Random Forest or some other method. However, for this example, we'll just remove these samples."
      ]
    },
    {
      "cell_type": "code",
      "metadata": {
        "id": "s8PhvGkO53Eb",
        "colab_type": "code",
        "colab": {
          "base_uri": "https://localhost:8080/",
          "height": 51
        },
        "outputId": "6b850e30-36d5-4986-e709-43126c9bae69"
      },
      "source": [
        "print(nrow(data))\n",
        "data <- data[!(is.na(data$ca) | is.na(data$thal)),]\n",
        "print(nrow(data))"
      ],
      "execution_count": 33,
      "outputs": [
        {
          "output_type": "stream",
          "text": [
            "[1] 303\n",
            "[1] 297\n"
          ],
          "name": "stdout"
        }
      ]
    },
    {
      "cell_type": "markdown",
      "metadata": {
        "id": "JTto2ArE6zYB",
        "colab_type": "text"
      },
      "source": [
        "* Now we need to make sure that healthy and disease samples come from each gender (female and male);\n",
        "\n",
        "* If only male samples have heart disease, we should probably remove all females from the model;\n",
        "\n",
        "* We do this with the `xtabs()` function. We pass the data and use \"model syntax\" to select the columns in the data we want to build a table from\n"
      ]
    },
    {
      "cell_type": "code",
      "metadata": {
        "id": "K_T23aIN6eZy",
        "colab_type": "code",
        "colab": {
          "base_uri": "https://localhost:8080/",
          "height": 85
        },
        "outputId": "2a8b71dd-c1e1-418b-b1a8-239c7bac2e76"
      },
      "source": [
        "xtabs(~ hd + sex, data=data)"
      ],
      "execution_count": 34,
      "outputs": [
        {
          "output_type": "display_data",
          "data": {
            "text/plain": [
              "           sex\n",
              "hd            F   M\n",
              "  Healthy    71  89\n",
              "  Unhealthy  25 112"
            ]
          },
          "metadata": {
            "tags": []
          }
        }
      ]
    },
    {
      "cell_type": "markdown",
      "metadata": {
        "id": "rMqz8J6LAfcb",
        "colab_type": "text"
      },
      "source": [
        "* **Healthy** and **Unhealthy** patients are both represented by a lot of female and male samples.\n",
        "\n",
        "* Now let's verify that all 4 levels of Chest Pain (**cp**) were reported by a bunch of patients"
      ]
    },
    {
      "cell_type": "code",
      "metadata": {
        "id": "iMX8zL2YAbqg",
        "colab_type": "code",
        "colab": {
          "base_uri": "https://localhost:8080/",
          "height": 85
        },
        "outputId": "a81e80e9-e825-4c9d-e5c0-6e8f0b63c623"
      },
      "source": [
        "xtabs(~ hd + cp, data=data)"
      ],
      "execution_count": 35,
      "outputs": [
        {
          "output_type": "display_data",
          "data": {
            "text/plain": [
              "           cp\n",
              "hd            1   2   3   4\n",
              "  Healthy    16  40  65  39\n",
              "  Unhealthy   7   9  18 103"
            ]
          },
          "metadata": {
            "tags": []
          }
        }
      ]
    },
    {
      "cell_type": "markdown",
      "metadata": {
        "id": "UnlKhTEmBMCz",
        "colab_type": "text"
      },
      "source": [
        "* .. and then we do the same thing for all of the boolean and categorical variables that we're using to predict heart disease"
      ]
    },
    {
      "cell_type": "code",
      "metadata": {
        "id": "LMU85szpA9D4",
        "colab_type": "code",
        "colab": {
          "base_uri": "https://localhost:8080/",
          "height": 85
        },
        "outputId": "fd3c48f5-1c86-462d-c7a3-5c6cefe5d89e"
      },
      "source": [
        "xtabs(~ hd + fbs, data=data)"
      ],
      "execution_count": 36,
      "outputs": [
        {
          "output_type": "display_data",
          "data": {
            "text/plain": [
              "           fbs\n",
              "hd            0   1\n",
              "  Healthy   137  23\n",
              "  Unhealthy 117  20"
            ]
          },
          "metadata": {
            "tags": []
          }
        }
      ]
    },
    {
      "cell_type": "code",
      "metadata": {
        "id": "8rEdXgqCBTb5",
        "colab_type": "code",
        "colab": {
          "base_uri": "https://localhost:8080/",
          "height": 85
        },
        "outputId": "2c49c306-bfe7-4adf-e6d8-3fc62927c581"
      },
      "source": [
        "xtabs(~ hd + restecg, data=data)"
      ],
      "execution_count": 37,
      "outputs": [
        {
          "output_type": "display_data",
          "data": {
            "text/plain": [
              "           restecg\n",
              "hd           0  1  2\n",
              "  Healthy   92  1 67\n",
              "  Unhealthy 55  3 79"
            ]
          },
          "metadata": {
            "tags": []
          }
        }
      ]
    },
    {
      "cell_type": "markdown",
      "metadata": {
        "id": "prAjGvpYBhZS",
        "colab_type": "text"
      },
      "source": [
        "* For **restecg**, only patients represent level 1. This could, potentially, get in the way of  finding the best fitting line."
      ]
    },
    {
      "cell_type": "code",
      "metadata": {
        "id": "qCGxhNcFBXw4",
        "colab_type": "code",
        "colab": {}
      },
      "source": [
        ""
      ],
      "execution_count": 0,
      "outputs": []
    }
  ]
}