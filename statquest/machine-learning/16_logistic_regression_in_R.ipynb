{
  "nbformat": 4,
  "nbformat_minor": 0,
  "metadata": {
    "kernelspec": {
      "display_name": "R",
      "language": "R",
      "name": "ir"
    },
    "language_info": {
      "codemirror_mode": "r",
      "file_extension": ".r",
      "mimetype": "text/x-r-source",
      "name": "R",
      "pygments_lexer": "r",
      "version": "3.3.1"
    },
    "colab": {
      "name": "16-logistic_regression_in_R.ipynb",
      "version": "0.3.2",
      "provenance": [],
      "include_colab_link": true
    }
  },
  "cells": [
    {
      "cell_type": "markdown",
      "metadata": {
        "id": "view-in-github",
        "colab_type": "text"
      },
      "source": [
        "<a href=\"https://colab.research.google.com/github/geocarvalho/r-bioinfo-ds/blob/master/statquest/machine-learning/16_logistic_regression_in_R.ipynb\" target=\"_parent\"><img src=\"https://colab.research.google.com/assets/colab-badge.svg\" alt=\"Open In Colab\"/></a>"
      ]
    },
    {
      "cell_type": "markdown",
      "metadata": {
        "id": "y5i2YleQjWkh",
        "colab_type": "text"
      },
      "source": [
        "# 16 - [Logistic Regression in R](https://www.youtube.com/watch?v=C4N3_XJJ-jU&list=PLblh5JKOoLUICTaGLRoHQDuF_7q2GfuJF&index=16)\n",
        "\n",
        "* Open the Heart Disease Dataset\n"
      ]
    },
    {
      "cell_type": "code",
      "metadata": {
        "id": "DADuquv78Dq-",
        "colab_type": "code",
        "colab": {
          "base_uri": "https://localhost:8080/",
          "height": 136
        },
        "outputId": "a04a0cda-2433-48d1-fb38-188d0e1defe6"
      },
      "source": [
        "url <- \"http://archive.ics.uci.edu/ml/machine-learning-databases/heart-disease/processed.cleveland.data\"\n",
        "data <- read.csv(url, header=FALSE)\n",
        "print(head(data))"
      ],
      "execution_count": 83,
      "outputs": [
        {
          "output_type": "stream",
          "text": [
            "  V1 V2 V3  V4  V5 V6 V7  V8 V9 V10 V11 V12 V13 V14\n",
            "1 63  1  1 145 233  1  2 150  0 2.3   3 0.0 6.0   0\n",
            "2 67  1  4 160 286  0  2 108  1 1.5   2 3.0 3.0   2\n",
            "3 67  1  4 120 229  0  2 129  1 2.6   2 2.0 7.0   1\n",
            "4 37  1  3 130 250  0  0 187  0 3.5   3 0.0 3.0   0\n",
            "5 41  0  2 130 204  0  2 172  0 1.4   1 0.0 3.0   0\n",
            "6 56  1  2 120 236  0  0 178  0 0.8   1 0.0 3.0   0\n"
          ],
          "name": "stdout"
        }
      ]
    },
    {
      "cell_type": "markdown",
      "metadata": {
        "id": "qtFqf0lvv68G",
        "colab_type": "text"
      },
      "source": [
        "* Name the columns after the names that were listed on the UCI website"
      ]
    },
    {
      "cell_type": "code",
      "metadata": {
        "id": "-EAnv6fAv6VG",
        "colab_type": "code",
        "colab": {
          "base_uri": "https://localhost:8080/",
          "height": 136
        },
        "outputId": "0cf9679e-fb78-4b9c-a94e-dd35ac9f4fd7"
      },
      "source": [
        "colnames(data) <- c(\n",
        "\"age\", \"sex\", \"cp\", \"trestbps\", \"chol\", \"fbs\", \"restecg\", \"thalach\",\n",
        "\"exang\", \"oldpeak\", \"slope\", \"ca\", \"thal\", \"hd\")\n",
        "print(head(data))"
      ],
      "execution_count": 84,
      "outputs": [
        {
          "output_type": "stream",
          "text": [
            "  age sex cp trestbps chol fbs restecg thalach exang oldpeak slope  ca thal hd\n",
            "1  63   1  1      145  233   1       2     150     0     2.3     3 0.0  6.0  0\n",
            "2  67   1  4      160  286   0       2     108     1     1.5     2 3.0  3.0  2\n",
            "3  67   1  4      120  229   0       2     129     1     2.6     2 2.0  7.0  1\n",
            "4  37   1  3      130  250   0       0     187     0     3.5     3 0.0  3.0  0\n",
            "5  41   0  2      130  204   0       2     172     0     1.4     1 0.0  3.0  0\n",
            "6  56   1  2      120  236   0       0     178     0     0.8     1 0.0  3.0  0\n"
          ],
          "name": "stdout"
        }
      ]
    },
    {
      "cell_type": "markdown",
      "metadata": {
        "id": "Zzs1468bwjvh",
        "colab_type": "text"
      },
      "source": [
        "* The `str()` function, which describes the **str**ucture of the data, tells us that some of the columns are messed up;\n"
      ]
    },
    {
      "cell_type": "code",
      "metadata": {
        "id": "wmj9VB9sv2ZZ",
        "colab_type": "code",
        "colab": {
          "base_uri": "https://localhost:8080/",
          "height": 272
        },
        "outputId": "ca418e2a-5d16-43c8-dfc1-3296126521ab"
      },
      "source": [
        "str(data)"
      ],
      "execution_count": 85,
      "outputs": [
        {
          "output_type": "stream",
          "text": [
            "'data.frame':\t303 obs. of  14 variables:\n",
            " $ age     : num  63 67 67 37 41 56 62 57 63 53 ...\n",
            " $ sex     : num  1 1 1 1 0 1 0 0 1 1 ...\n",
            " $ cp      : num  1 4 4 3 2 2 4 4 4 4 ...\n",
            " $ trestbps: num  145 160 120 130 130 120 140 120 130 140 ...\n",
            " $ chol    : num  233 286 229 250 204 236 268 354 254 203 ...\n",
            " $ fbs     : num  1 0 0 0 0 0 0 0 0 1 ...\n",
            " $ restecg : num  2 2 2 0 2 0 2 0 2 2 ...\n",
            " $ thalach : num  150 108 129 187 172 178 160 163 147 155 ...\n",
            " $ exang   : num  0 1 1 0 0 0 0 1 0 1 ...\n",
            " $ oldpeak : num  2.3 1.5 2.6 3.5 1.4 0.8 3.6 0.6 1.4 3.1 ...\n",
            " $ slope   : num  3 2 2 3 1 1 3 1 2 3 ...\n",
            " $ ca      : Factor w/ 5 levels \"?\",\"0.0\",\"1.0\",..: 2 5 4 2 2 2 4 2 3 2 ...\n",
            " $ thal    : Factor w/ 4 levels \"?\",\"3.0\",\"6.0\",..: 3 2 4 2 2 2 2 2 4 4 ...\n",
            " $ hd      : int  0 2 1 0 0 0 3 0 2 1 ...\n"
          ],
          "name": "stdout"
        }
      ]
    },
    {
      "cell_type": "markdown",
      "metadata": {
        "id": "y32hyANjxFIB",
        "colab_type": "text"
      },
      "source": [
        "* Right now, **sex** is a number, but it's supposed to be a factor, where 0 represents \"Female\" and 1 represents \"Male\";\n",
        "\n",
        "* **cp** (aka **c**hest **p**ain) is also supposed to be a factor, where levels 1-3 represent different types of pain and 4 represents no chest pain;\n",
        "\n",
        "* **ca** and **thal** are correctly called factors, but one of the levels is \"**?**\" when we need it to be **NA**."
      ]
    },
    {
      "cell_type": "code",
      "metadata": {
        "id": "RbXmpImZw0su",
        "colab_type": "code",
        "colab": {}
      },
      "source": [
        "# Change the \"?\"s to NAs\n",
        "data[data==\"?\"] <- NA\n",
        "\n",
        "# Convert the 0s in $sex to F, for female and the 1s to M for male\n",
        "data[data$sex == 0,]$sex <- \"F\"\n",
        "data[data$sex == 1,]$sex <- \"M\"\n",
        "\n",
        "# Convert the $sex column into a factor, and a bunch of other columns\n",
        "data$sex <- as.factor(data$sex)\n",
        "data$cp <- as.factor(data$cp)\n",
        "data$fbs <- as.factor(data$fbs)\n",
        "data$restecg <- as.factor(data$restecg)\n",
        "data$exang <- as.factor(data$exang)\n",
        "data$slope <- as.factor(data$slope)"
      ],
      "execution_count": 0,
      "outputs": []
    },
    {
      "cell_type": "markdown",
      "metadata": {
        "id": "oJs-LC2i3FqN",
        "colab_type": "text"
      },
      "source": [
        "* Since the **ca** column originally had a **?** in it, rather than **NA**, R thinks it's a column of strings. We correct that assumption by telling R that it's a column of integers and then we convert it to a factor."
      ]
    },
    {
      "cell_type": "code",
      "metadata": {
        "id": "wlz1lo6ly6y3",
        "colab_type": "code",
        "colab": {}
      },
      "source": [
        "data$ca <- as.integer(data$ca)\n",
        "data$ca <- as.factor(data$ca)\n",
        "\n",
        "# And the same thing to $thal\n",
        "\n",
        "data$thal <- as.integer(data$thal)\n",
        "data$thal <- as.factor(data$thal)"
      ],
      "execution_count": 0,
      "outputs": []
    },
    {
      "cell_type": "markdown",
      "metadata": {
        "id": "cVYjzbAo4PdS",
        "colab_type": "text"
      },
      "source": [
        "* The last thing we need to do to the data is make **hd** (aka **h**eart **d**isease) a factor that is easy on the eyes. Here I'm using a fancy trick with `ifelse()` to convert the **0**s to \"**Healthy**\" and the **1**s to \"**Unhealthy**\";\n",
        "\n",
        "> We could have done a similar trick for **sex**, but I wanted to show you both ways to convert numbers to words."
      ]
    },
    {
      "cell_type": "code",
      "metadata": {
        "id": "qYQxzJf33lmU",
        "colab_type": "code",
        "colab": {}
      },
      "source": [
        "data$hd <- ifelse(test=data$hd == 0, yes=\"Healthy\", no=\"Unhealthy\")\n",
        "data$hd <- as.factor(data$hd)"
      ],
      "execution_count": 0,
      "outputs": []
    },
    {
      "cell_type": "markdown",
      "metadata": {
        "id": "jNVUahlE5Oal",
        "colab_type": "text"
      },
      "source": [
        "* Once we're done fixing up the data, we check that we have made the appropriate changes with `str()`"
      ]
    },
    {
      "cell_type": "code",
      "metadata": {
        "id": "vb99khK046Ob",
        "colab_type": "code",
        "colab": {
          "base_uri": "https://localhost:8080/",
          "height": 272
        },
        "outputId": "60836182-bf72-435f-ffa5-074c95e20322"
      },
      "source": [
        "str(data)"
      ],
      "execution_count": 89,
      "outputs": [
        {
          "output_type": "stream",
          "text": [
            "'data.frame':\t303 obs. of  14 variables:\n",
            " $ age     : num  63 67 67 37 41 56 62 57 63 53 ...\n",
            " $ sex     : Factor w/ 2 levels \"F\",\"M\": 2 2 2 2 1 2 1 1 2 2 ...\n",
            " $ cp      : Factor w/ 4 levels \"1\",\"2\",\"3\",\"4\": 1 4 4 3 2 2 4 4 4 4 ...\n",
            " $ trestbps: num  145 160 120 130 130 120 140 120 130 140 ...\n",
            " $ chol    : num  233 286 229 250 204 236 268 354 254 203 ...\n",
            " $ fbs     : Factor w/ 2 levels \"0\",\"1\": 2 1 1 1 1 1 1 1 1 2 ...\n",
            " $ restecg : Factor w/ 3 levels \"0\",\"1\",\"2\": 3 3 3 1 3 1 3 1 3 3 ...\n",
            " $ thalach : num  150 108 129 187 172 178 160 163 147 155 ...\n",
            " $ exang   : Factor w/ 2 levels \"0\",\"1\": 1 2 2 1 1 1 1 2 1 2 ...\n",
            " $ oldpeak : num  2.3 1.5 2.6 3.5 1.4 0.8 3.6 0.6 1.4 3.1 ...\n",
            " $ slope   : Factor w/ 3 levels \"1\",\"2\",\"3\": 3 2 2 3 1 1 3 1 2 3 ...\n",
            " $ ca      : Factor w/ 4 levels \"2\",\"3\",\"4\",\"5\": 1 4 3 1 1 1 3 1 2 1 ...\n",
            " $ thal    : Factor w/ 3 levels \"2\",\"3\",\"4\": 2 1 3 1 1 1 1 1 3 3 ...\n",
            " $ hd      : Factor w/ 2 levels \"Healthy\",\"Unhealthy\": 1 2 2 1 1 1 2 1 2 2 ...\n"
          ],
          "name": "stdout"
        }
      ]
    },
    {
      "cell_type": "markdown",
      "metadata": {
        "id": "pn8DWLJW5eu9",
        "colab_type": "text"
      },
      "source": [
        "* Now we see how many samples (rows of data) have **NA** values."
      ]
    },
    {
      "cell_type": "code",
      "metadata": {
        "id": "PV55FRDc5ZTT",
        "colab_type": "code",
        "colab": {
          "base_uri": "https://localhost:8080/",
          "height": 34
        },
        "outputId": "b684c814-382e-4008-a832-5f310387b610"
      },
      "source": [
        "nrow(data[is.na(data$ca) | is.na(data$thal),])"
      ],
      "execution_count": 90,
      "outputs": [
        {
          "output_type": "display_data",
          "data": {
            "text/plain": [
              "[1] 6"
            ],
            "text/latex": "6",
            "text/markdown": "6",
            "text/html": [
              "6"
            ]
          },
          "metadata": {
            "tags": []
          }
        }
      ]
    },
    {
      "cell_type": "code",
      "metadata": {
        "id": "_BFykcOv5u-b",
        "colab_type": "code",
        "colab": {
          "base_uri": "https://localhost:8080/",
          "height": 255
        },
        "outputId": "a629cd36-e62d-4ef4-eb80-b9e231716861"
      },
      "source": [
        "print(data[is.na(data$ca) | is.na(data$thal),])"
      ],
      "execution_count": 91,
      "outputs": [
        {
          "output_type": "stream",
          "text": [
            "    age sex cp trestbps chol fbs restecg thalach exang oldpeak slope   ca thal\n",
            "88   53   F  3      128  216   0       2     115     0     0.0     1    2 <NA>\n",
            "167  52   M  3      138  223   0       0     169     0     0.0     1 <NA>    2\n",
            "193  43   M  4      132  247   1       2     143     1     0.1     2 <NA>    4\n",
            "267  52   M  4      128  204   1       0     156     1     1.0     2    2 <NA>\n",
            "288  58   M  2      125  220   0       0     144     0     0.4     2 <NA>    4\n",
            "303  38   M  3      138  175   0       0     173     0     0.0     1 <NA>    2\n",
            "           hd\n",
            "88    Healthy\n",
            "167   Healthy\n",
            "193 Unhealthy\n",
            "267 Unhealthy\n",
            "288   Healthy\n",
            "303   Healthy\n"
          ],
          "name": "stdout"
        }
      ]
    },
    {
      "cell_type": "markdown",
      "metadata": {
        "id": "i8UTg0sK5-H7",
        "colab_type": "text"
      },
      "source": [
        "* If we wanted to, we could impute values for the **NA**s using Random Forest or some other method. However, for this example, we'll just remove these samples."
      ]
    },
    {
      "cell_type": "code",
      "metadata": {
        "id": "s8PhvGkO53Eb",
        "colab_type": "code",
        "colab": {
          "base_uri": "https://localhost:8080/",
          "height": 51
        },
        "outputId": "e296b6d0-e57a-4197-b3a3-276b7a6946f7"
      },
      "source": [
        "print(nrow(data))\n",
        "data <- data[!(is.na(data$ca) | is.na(data$thal)),]\n",
        "print(nrow(data))"
      ],
      "execution_count": 92,
      "outputs": [
        {
          "output_type": "stream",
          "text": [
            "[1] 303\n",
            "[1] 297\n"
          ],
          "name": "stdout"
        }
      ]
    },
    {
      "cell_type": "markdown",
      "metadata": {
        "id": "JTto2ArE6zYB",
        "colab_type": "text"
      },
      "source": [
        "* Now we need to make sure that healthy and disease samples come from each gender (female and male);\n",
        "\n",
        "* If only male samples have heart disease, we should probably remove all females from the model;\n",
        "\n",
        "* We do this with the `xtabs()` function. We pass the data and use \"model syntax\" to select the columns in the data we want to build a table from\n"
      ]
    },
    {
      "cell_type": "code",
      "metadata": {
        "id": "K_T23aIN6eZy",
        "colab_type": "code",
        "colab": {
          "base_uri": "https://localhost:8080/",
          "height": 85
        },
        "outputId": "e7bee356-7928-4cfa-9fcb-5d8d9fe2370c"
      },
      "source": [
        "xtabs(~ hd + sex, data=data)"
      ],
      "execution_count": 93,
      "outputs": [
        {
          "output_type": "display_data",
          "data": {
            "text/plain": [
              "           sex\n",
              "hd            F   M\n",
              "  Healthy    71  89\n",
              "  Unhealthy  25 112"
            ]
          },
          "metadata": {
            "tags": []
          }
        }
      ]
    },
    {
      "cell_type": "markdown",
      "metadata": {
        "id": "rMqz8J6LAfcb",
        "colab_type": "text"
      },
      "source": [
        "* **Healthy** and **Unhealthy** patients are both represented by a lot of female and male samples.\n",
        "\n",
        "* Now let's verify that all 4 levels of Chest Pain (**cp**) were reported by a bunch of patients"
      ]
    },
    {
      "cell_type": "code",
      "metadata": {
        "id": "iMX8zL2YAbqg",
        "colab_type": "code",
        "colab": {
          "base_uri": "https://localhost:8080/",
          "height": 85
        },
        "outputId": "44470a8a-0038-40b4-a184-89c976a3cea6"
      },
      "source": [
        "xtabs(~ hd + cp, data=data)"
      ],
      "execution_count": 94,
      "outputs": [
        {
          "output_type": "display_data",
          "data": {
            "text/plain": [
              "           cp\n",
              "hd            1   2   3   4\n",
              "  Healthy    16  40  65  39\n",
              "  Unhealthy   7   9  18 103"
            ]
          },
          "metadata": {
            "tags": []
          }
        }
      ]
    },
    {
      "cell_type": "markdown",
      "metadata": {
        "id": "UnlKhTEmBMCz",
        "colab_type": "text"
      },
      "source": [
        "* .. and then we do the same thing for all of the boolean and categorical variables that we're using to predict heart disease"
      ]
    },
    {
      "cell_type": "code",
      "metadata": {
        "id": "LMU85szpA9D4",
        "colab_type": "code",
        "colab": {
          "base_uri": "https://localhost:8080/",
          "height": 85
        },
        "outputId": "87860f06-ba33-4df5-b4e6-a954f92f96f3"
      },
      "source": [
        "xtabs(~ hd + fbs, data=data)"
      ],
      "execution_count": 95,
      "outputs": [
        {
          "output_type": "display_data",
          "data": {
            "text/plain": [
              "           fbs\n",
              "hd            0   1\n",
              "  Healthy   137  23\n",
              "  Unhealthy 117  20"
            ]
          },
          "metadata": {
            "tags": []
          }
        }
      ]
    },
    {
      "cell_type": "code",
      "metadata": {
        "id": "8rEdXgqCBTb5",
        "colab_type": "code",
        "colab": {
          "base_uri": "https://localhost:8080/",
          "height": 85
        },
        "outputId": "7e0a66a1-73a8-462c-b73d-d1341f2151bb"
      },
      "source": [
        "xtabs(~ hd + restecg, data=data)"
      ],
      "execution_count": 96,
      "outputs": [
        {
          "output_type": "display_data",
          "data": {
            "text/plain": [
              "           restecg\n",
              "hd           0  1  2\n",
              "  Healthy   92  1 67\n",
              "  Unhealthy 55  3 79"
            ]
          },
          "metadata": {
            "tags": []
          }
        }
      ]
    },
    {
      "cell_type": "markdown",
      "metadata": {
        "id": "prAjGvpYBhZS",
        "colab_type": "text"
      },
      "source": [
        "* For **restecg**, only 4 patients represent level 1. This could, potentially, get in the way of  finding the best fitting line (just leave it in and see what happens).\n",
        "\n",
        "* And then we just keep looking at the remaining variables to make sure that they are all represented by a number of patients."
      ]
    },
    {
      "cell_type": "code",
      "metadata": {
        "id": "qCGxhNcFBXw4",
        "colab_type": "code",
        "colab": {
          "base_uri": "https://localhost:8080/",
          "height": 85
        },
        "outputId": "63c8f438-b46e-41e5-903a-3520c960a674"
      },
      "source": [
        "xtabs(~ hd + exang, data=data)"
      ],
      "execution_count": 97,
      "outputs": [
        {
          "output_type": "display_data",
          "data": {
            "text/plain": [
              "           exang\n",
              "hd            0   1\n",
              "  Healthy   137  23\n",
              "  Unhealthy  63  74"
            ]
          },
          "metadata": {
            "tags": []
          }
        }
      ]
    },
    {
      "cell_type": "code",
      "metadata": {
        "id": "iMC6iZRmEdtC",
        "colab_type": "code",
        "colab": {
          "base_uri": "https://localhost:8080/",
          "height": 85
        },
        "outputId": "eaf726e2-8040-43e2-8702-ee8d13de146a"
      },
      "source": [
        "xtabs(~ hd + slope, data=data)"
      ],
      "execution_count": 98,
      "outputs": [
        {
          "output_type": "display_data",
          "data": {
            "text/plain": [
              "           slope\n",
              "hd            1   2   3\n",
              "  Healthy   103  48   9\n",
              "  Unhealthy  36  89  12"
            ]
          },
          "metadata": {
            "tags": []
          }
        }
      ]
    },
    {
      "cell_type": "code",
      "metadata": {
        "id": "wq6AjjTnFIPP",
        "colab_type": "code",
        "colab": {
          "base_uri": "https://localhost:8080/",
          "height": 85
        },
        "outputId": "36e9631f-4717-4ec9-d9b6-6dcaade5fb1f"
      },
      "source": [
        "xtabs(~ hd + ca, data=data)"
      ],
      "execution_count": 99,
      "outputs": [
        {
          "output_type": "display_data",
          "data": {
            "text/plain": [
              "           ca\n",
              "hd            2   3   4   5\n",
              "  Healthy   129  21   7   3\n",
              "  Unhealthy  45  44  31  17"
            ]
          },
          "metadata": {
            "tags": []
          }
        }
      ]
    },
    {
      "cell_type": "code",
      "metadata": {
        "id": "uuNkpY0xFLEv",
        "colab_type": "code",
        "colab": {
          "base_uri": "https://localhost:8080/",
          "height": 85
        },
        "outputId": "76802ace-a2d7-44cb-dd82-d781361b8d62"
      },
      "source": [
        "xtabs(~ hd + thal, data=data)"
      ],
      "execution_count": 100,
      "outputs": [
        {
          "output_type": "display_data",
          "data": {
            "text/plain": [
              "           thal\n",
              "hd            2   3   4\n",
              "  Healthy   127   6  27\n",
              "  Unhealthy  37  12  88"
            ]
          },
          "metadata": {
            "tags": []
          }
        }
      ]
    },
    {
      "cell_type": "markdown",
      "metadata": {
        "id": "2c8iK387FSkj",
        "colab_type": "text"
      },
      "source": [
        " ## Let's start with a super simple model\n",
        " \n",
        " * We'll try to predict heart disease using only the gender of each patient."
      ]
    },
    {
      "cell_type": "code",
      "metadata": {
        "id": "uMb_NBiKFN_v",
        "colab_type": "code",
        "colab": {}
      },
      "source": [
        "logistic <- glm(hd ~ sex, data=data, family=\"binomial\")"
      ],
      "execution_count": 0,
      "outputs": []
    },
    {
      "cell_type": "markdown",
      "metadata": {
        "id": "O3xkH9zHFrrb",
        "colab_type": "text"
      },
      "source": [
        "* Here's our call to `glm()`, the function that performs **G**eneralized **L**inear **M**odels.\n",
        "\n",
        "1. We use formula syntax to specify that we want to use sex to predict heart disease (**hd**);\n",
        "2. Then we specify the data that we're using for the model;\n",
        "3. Lastly, we specify that we want the **binomial** family of generalized linear models. This makes the `glm()` function do Logistic Regression, as apposed to some other type of generalized linear model.\n",
        "\n",
        "* We then use the `summary()` function to get details about the logistic regression."
      ]
    },
    {
      "cell_type": "code",
      "metadata": {
        "id": "8YFpp_tpFpp4",
        "colab_type": "code",
        "colab": {
          "base_uri": "https://localhost:8080/",
          "height": 391
        },
        "outputId": "c78ee54a-09f6-4552-fbcc-277eb1471d7d"
      },
      "source": [
        "summary(logistic)"
      ],
      "execution_count": 102,
      "outputs": [
        {
          "output_type": "display_data",
          "data": {
            "text/plain": [
              "\n",
              "Call:\n",
              "glm(formula = hd ~ sex, family = \"binomial\", data = data)\n",
              "\n",
              "Deviance Residuals: \n",
              "    Min       1Q   Median       3Q      Max  \n",
              "-1.2765  -1.2765  -0.7768   1.0815   1.6404  \n",
              "\n",
              "Coefficients:\n",
              "            Estimate Std. Error z value Pr(>|z|)    \n",
              "(Intercept)  -1.0438     0.2326  -4.488 7.18e-06 ***\n",
              "sexM          1.2737     0.2725   4.674 2.95e-06 ***\n",
              "---\n",
              "Signif. codes:  0 ‘***’ 0.001 ‘**’ 0.01 ‘*’ 0.05 ‘.’ 0.1 ‘ ’ 1\n",
              "\n",
              "(Dispersion parameter for binomial family taken to be 1)\n",
              "\n",
              "    Null deviance: 409.95  on 296  degrees of freedom\n",
              "Residual deviance: 386.12  on 295  degrees of freedom\n",
              "AIC: 390.12\n",
              "\n",
              "Number of Fisher Scoring iterations: 4\n"
            ]
          },
          "metadata": {
            "tags": []
          }
        }
      ]
    },
    {
      "cell_type": "markdown",
      "metadata": {
        "id": "URHDQgGIG2s-",
        "colab_type": "text"
      },
      "source": [
        "* The first line has the original call to the `glm()` function;\n",
        "\n",
        "* The second line gives a summary of the deviance residuals;\n",
        "\n",
        "> They look good since they're close to being centered on 0 and are roughly symmetrical ([Deviance residuals statquest](https://www.youtube.com/watch?v=JC56jS2gVUE));\n",
        "\n",
        "* The third line are the coefficients, they correspond to the following model:\n",
        "\n",
        "$heart\\ disease = -1.0438 + 1.2737 \\times the\\ patient\\ is\\ male$\n",
        "\n",
        "> $the\\ patient\\ is\\ male$ is equal to 0 when the patient is female and 1 when the patient is male;\n",
        "\n",
        "> the first term (-1.0438) is the $log(odds)$ of a female having heart disease and the second term (1.2737) indicates the increase in the $log(odds)$ that a male has of having heart disease.\n",
        "\n",
        "> In other words, the second term is the $log(odds\\ ratio)$ of the $odds$ that a male will have heart disease over the $odds$ that a female will have heart disease.\n",
        "\n",
        "> the `Std. Error` and `z value` shows how the Wald's test was computed for both coefficients and the `Pr(>|z|)` are the p-values (that are both statistically significant).\n",
        "\n",
        "* A small p-value alone isn't interesting, we also want a **large effect sizes**, and that's what the $log(odds)$ and $log(odds\\ ratio)$  tells us.\n",
        "\n",
        "> More about coefficients and the Wald's test in [Odds and Log(Odds)](https://www.youtube.com/watch?v=ARfXDSkQf1Y), [Odds Ratios and Log(Odds Ratios)](https://www.youtube.com/watch?v=8nm0G-1uJzA). and [Logistic Regression coefficients](https://www.youtube.com/watch?v=vN5cNN2-HWE).\n",
        "\n",
        "* The forth line is the default dispersion parameter used for this logistic regression. When we do \"normal\" linear regression, we estimate both the mean and the variance from the data. In contrast, with logistic regression, we estimate the mean of the data, and the variance is derived from the mean.\n",
        "\n",
        "> Since we're not estimating the variance from the data (and, instead, just deriving it from the mean), it's possible that the variance is underestimated. If so, you can adjust the dispersion parameter in the `summary()` command.\n",
        "\n",
        "* In the fifth line we have the Null Deviance and the Residual Deviance. These can be used to compare models, compute $R^2$ and an overall p-value.\n",
        "\n",
        "> [Logistic regression $R^2$ and its p-value](https://www.youtube.com/watch?v=xxFYro8QuXA) and [Saturated models and Deviance statistics](https://www.youtube.com/watch?v=9T0wlKdew6I&list=PLblh5JKOoLUICTaGLRoHQDuF_7q2GfuJF&index=15)\n",
        "\n",
        "* In the sixth line we have the AIC (**A**kaike **I**nformation **C**riterion), which in this context is just the Residual Deviance adjusted for the number of parameters in the model. It can be used to compare one model to another.\n",
        "\n",
        "* Lastly, we have the number of Fisher Scoring iterations, which just tells us how quickly the `glm()` function converged on the maximum likekihood estimates for coefficients.\n",
        "\n",
        "> More details about how the coefficients were estimated in [Logistic Regression fitting a line with Maximum Likelihood](https://www.youtube.com/watch?v=BfKanl1aSG0)\n"
      ]
    },
    {
      "cell_type": "markdown",
      "metadata": {
        "id": "sJkQWnYUNjYf",
        "colab_type": "text"
      },
      "source": [
        "## Fancy Model that uses all of the variables to predict heart disease\n",
        "\n"
      ]
    },
    {
      "cell_type": "code",
      "metadata": {
        "id": "zDLkxq1gGxjO",
        "colab_type": "code",
        "colab": {}
      },
      "source": [
        "logistic <- glm(hd ~ ., data=data, family=\"binomial\")"
      ],
      "execution_count": 0,
      "outputs": []
    },
    {
      "cell_type": "markdown",
      "metadata": {
        "id": "Rf1ylpIUN4zF",
        "colab_type": "text"
      },
      "source": [
        "* This formula syntax, `hd ~ .`, means that we want to model heart disease (**hd**) using all of the remaining variables in our `data.frame` called \"data\""
      ]
    },
    {
      "cell_type": "code",
      "metadata": {
        "id": "ukXPg5YJN3uG",
        "colab_type": "code",
        "colab": {
          "base_uri": "https://localhost:8080/",
          "height": 714
        },
        "outputId": "e2823e94-a9ce-4f66-bd97-ee5aa13f66f2"
      },
      "source": [
        "summary(logistic)"
      ],
      "execution_count": 104,
      "outputs": [
        {
          "output_type": "display_data",
          "data": {
            "text/plain": [
              "\n",
              "Call:\n",
              "glm(formula = hd ~ ., family = \"binomial\", data = data)\n",
              "\n",
              "Deviance Residuals: \n",
              "    Min       1Q   Median       3Q      Max  \n",
              "-3.0490  -0.4847  -0.1213   0.3039   2.9086  \n",
              "\n",
              "Coefficients:\n",
              "             Estimate Std. Error z value Pr(>|z|)    \n",
              "(Intercept) -6.253978   2.960399  -2.113 0.034640 *  \n",
              "age         -0.023508   0.025122  -0.936 0.349402    \n",
              "sexM         1.670152   0.552486   3.023 0.002503 ** \n",
              "cp2          1.448396   0.809136   1.790 0.073446 .  \n",
              "cp3          0.393353   0.700338   0.562 0.574347    \n",
              "cp4          2.373287   0.709094   3.347 0.000817 ***\n",
              "trestbps     0.027720   0.011748   2.359 0.018300 *  \n",
              "chol         0.004445   0.004091   1.087 0.277253    \n",
              "fbs1        -0.574079   0.592539  -0.969 0.332622    \n",
              "restecg1     1.000887   2.638393   0.379 0.704424    \n",
              "restecg2     0.486408   0.396327   1.227 0.219713    \n",
              "thalach     -0.019695   0.011717  -1.681 0.092781 .  \n",
              "exang1       0.653306   0.447445   1.460 0.144267    \n",
              "oldpeak      0.390679   0.239173   1.633 0.102373    \n",
              "slope2       1.302289   0.486197   2.679 0.007395 ** \n",
              "slope3       0.606760   0.939324   0.646 0.518309    \n",
              "ca3          2.237444   0.514770   4.346 1.38e-05 ***\n",
              "ca4          3.271852   0.785123   4.167 3.08e-05 ***\n",
              "ca5          2.188715   0.928644   2.357 0.018428 *  \n",
              "thal3       -0.168439   0.810310  -0.208 0.835331    \n",
              "thal4        1.433319   0.440567   3.253 0.001141 ** \n",
              "---\n",
              "Signif. codes:  0 ‘***’ 0.001 ‘**’ 0.01 ‘*’ 0.05 ‘.’ 0.1 ‘ ’ 1\n",
              "\n",
              "(Dispersion parameter for binomial family taken to be 1)\n",
              "\n",
              "    Null deviance: 409.95  on 296  degrees of freedom\n",
              "Residual deviance: 183.10  on 276  degrees of freedom\n",
              "AIC: 225.1\n",
              "\n",
              "Number of Fisher Scoring iterations: 6\n"
            ]
          },
          "metadata": {
            "tags": []
          }
        }
      ]
    },
    {
      "cell_type": "markdown",
      "metadata": {
        "id": "teLXtA6GOUDe",
        "colab_type": "text"
      },
      "source": [
        "* We see that **$age** isn't a useful predictor because it has a large p-value. However, the median age in our dataset, was 56, so most of the folks were pretty old and that explains why it wasn't very useful;\n",
        "\n",
        "* Gender is still a good predictor;\n",
        "\n",
        "* In the end, we see that the Residual Deviance and the AIC are both much smaller for this fancy model than they were for the simple model, when we only used gender to predict heart disease.\n",
        "\n",
        "* If we want to calculate **McFadden's Pseudo $R^2$**, we can pull the **log-likelihood of the null model** out of the **logistic** variable by getting the value for the **null deviance** and dividing by -2; and we can pull the **log-likelihood for the fancy model** out of the **logistic** variable by getting the value for the **residual deviance** and dividing by -2."
      ]
    },
    {
      "cell_type": "code",
      "metadata": {
        "id": "xy7Oj2rOOPSu",
        "colab_type": "code",
        "colab": {}
      },
      "source": [
        "ll.null <- logistic$null.deviance/-2\n",
        "ll.proposed <- logistic$deviance/-2"
      ],
      "execution_count": 0,
      "outputs": []
    },
    {
      "cell_type": "markdown",
      "metadata": {
        "id": "qYMAnV1oQoWE",
        "colab_type": "text"
      },
      "source": [
        "* Then we just do the math and we end up with a Pseudo $R^2$=0.55. This can be interpreted as the overall effect size.\n"
      ]
    },
    {
      "cell_type": "code",
      "metadata": {
        "id": "pI8_0xU5QCus",
        "colab_type": "code",
        "colab": {
          "base_uri": "https://localhost:8080/",
          "height": 34
        },
        "outputId": "9f20d9c6-3a68-44ae-85c2-08e422299d96"
      },
      "source": [
        "(ll.null - ll.proposed) / ll.null"
      ],
      "execution_count": 109,
      "outputs": [
        {
          "output_type": "display_data",
          "data": {
            "text/plain": [
              "[1] 0.5533531"
            ],
            "text/latex": "0.553353050469787",
            "text/markdown": "0.553353050469787",
            "text/html": [
              "0.553353050469787"
            ]
          },
          "metadata": {
            "tags": []
          }
        }
      ]
    },
    {
      "cell_type": "markdown",
      "metadata": {
        "id": "nUU6F2K6RGuA",
        "colab_type": "text"
      },
      "source": [
        "* And we can use those same log-likelihoods to calculate a p-value for that $R^2$ using a chi-square distribution"
      ]
    },
    {
      "cell_type": "code",
      "metadata": {
        "id": "BDlCgGkrQ_P8",
        "colab_type": "code",
        "colab": {
          "base_uri": "https://localhost:8080/",
          "height": 34
        },
        "outputId": "5c1386c7-5ef3-443c-bf08-c744ae18b3f7"
      },
      "source": [
        "1 - pchisq(2*(ll.proposed - ll.null), df=(length(logistic$coefficients)-1))"
      ],
      "execution_count": 110,
      "outputs": [
        {
          "output_type": "display_data",
          "data": {
            "text/plain": [
              "[1] 0"
            ],
            "text/latex": "0",
            "text/markdown": "0",
            "text/html": [
              "0"
            ]
          },
          "metadata": {
            "tags": []
          }
        }
      ]
    },
    {
      "cell_type": "markdown",
      "metadata": {
        "id": "_w8IYaeRRlat",
        "colab_type": "text"
      },
      "source": [
        "* In this case, the p-value is tiny, so the $R^2$ value isn't due to dumb luck.\n",
        "\n",
        "> More details on the $R^2$ and $p-value$ can be found in [Logistic regression $R^2$ and its p-value](https://www.youtube.com/watch?v=xxFYro8QuXA)\n",
        "\n",
        "* Lastly, we can draw a graph that shows the predicted probabilities that each patient has heart disease along with their actual heart disease status;\n",
        "\n",
        "\n",
        "1. Create a new `data.frame` that contains the probabilities of having heart disease along with the actual heart disease status."
      ]
    },
    {
      "cell_type": "code",
      "metadata": {
        "id": "qFLfONWIRitD",
        "colab_type": "code",
        "colab": {}
      },
      "source": [
        "predicted.data <- data.frame(\n",
        "probability.of.hd=logistic$fitted.values, hd=data$hd)"
      ],
      "execution_count": 0,
      "outputs": []
    },
    {
      "cell_type": "markdown",
      "metadata": {
        "id": "Ya0jNJzNS3mN",
        "colab_type": "text"
      },
      "source": [
        "2. We sort the `data.frame` from low probabilities to high probabilities"
      ]
    },
    {
      "cell_type": "code",
      "metadata": {
        "id": "U60LQ-fHS16h",
        "colab_type": "code",
        "colab": {}
      },
      "source": [
        "predicted.data <- predicted.data[\n",
        "  order(predicted.data$probability.of.hd, decreasing=FALSE),\n",
        "]"
      ],
      "execution_count": 0,
      "outputs": []
    },
    {
      "cell_type": "markdown",
      "metadata": {
        "id": "Sg5Qa6ImTZJU",
        "colab_type": "text"
      },
      "source": [
        "3. We add a new column to the `data.frame` that has **rank** of each sample, from low probability to high probability."
      ]
    },
    {
      "cell_type": "code",
      "metadata": {
        "id": "BCnXgb5XTULk",
        "colab_type": "code",
        "colab": {}
      },
      "source": [
        "predicted.data$rank <- 1:nrow(predicted.data)"
      ],
      "execution_count": 0,
      "outputs": []
    },
    {
      "cell_type": "markdown",
      "metadata": {
        "id": "_J6Ft8vSTp11",
        "colab_type": "text"
      },
      "source": [
        "4. Load `ggplot2`and `cowplot` (nice looking defaults to `ggplot2`)"
      ]
    },
    {
      "cell_type": "code",
      "metadata": {
        "id": "rkkxCi0JToos",
        "colab_type": "code",
        "colab": {
          "base_uri": "https://localhost:8080/",
          "height": 187
        },
        "outputId": "bcc08808-0ef1-48a0-a03f-917cb7e167db"
      },
      "source": [
        "library(ggplot2)\n",
        "install.packages('cowplot')\n",
        "library(cowplot)"
      ],
      "execution_count": 115,
      "outputs": [
        {
          "output_type": "stream",
          "text": [
            "Installing package into ‘/usr/local/lib/R/site-library’\n",
            "(as ‘lib’ is unspecified)\n",
            "\n",
            "********************************************************\n",
            "Note: As of version 1.0.0, cowplot does not change the\n",
            "  default ggplot2 theme anymore. To recover the previous\n",
            "  behavior, execute:\n",
            "  theme_set(theme_cowplot())\n",
            "********************************************************\n",
            "\n"
          ],
          "name": "stderr"
        }
      ]
    },
    {
      "cell_type": "markdown",
      "metadata": {
        "id": "l6vHbkEaUErY",
        "colab_type": "text"
      },
      "source": [
        "5. Call `ggplot2` and use `geom_point()` to draw the data"
      ]
    },
    {
      "cell_type": "code",
      "metadata": {
        "id": "2NHD1AcOT6IT",
        "colab_type": "code",
        "colab": {
          "base_uri": "https://localhost:8080/",
          "height": 877
        },
        "outputId": "eee04a77-be9b-48ec-e4b2-d08544f93791"
      },
      "source": [
        "ggplot(data=predicted.data, aes(x=rank, y=probability.of.hd)) +\n",
        "geom_point(aes(color=hd), alpha=1, shape=4, stroke=2) +\n",
        "xlab(\"Index\") +\n",
        "ylab(\"Predicted probability of getting heart disease\")"
      ],
      "execution_count": 117,
      "outputs": [
        {
          "output_type": "display_data",
          "data": {
            "image/png": "[encoded data removed]",
            "text/plain": [
              "plot without title"
            ]
          },
          "metadata": {
            "tags": []
          }
        }
      ]
    },
    {
      "cell_type": "code",
      "metadata": {
        "id": "qbuWUV4KUoXq",
        "colab_type": "code",
        "colab": {}
      },
      "source": [
        "# If you want to save as PDF\n",
        "# ggsave('heart_disease_probabilities.pdf')"
      ],
      "execution_count": 0,
      "outputs": []
    },
    {
      "cell_type": "markdown",
      "metadata": {
        "id": "5D1mN7RzVB3i",
        "colab_type": "text"
      },
      "source": [
        " * Most of the patients with heart disease (the ones in **turquoise**), are predicted to have a **high** probability of having heart disease;\n",
        " \n",
        " * While, most of the patients without heart disease (the ones in **salmon**), are predicted to have a **low** probability of having heart disease."
      ]
    },
    {
      "cell_type": "code",
      "metadata": {
        "id": "vx99MQTtU8TU",
        "colab_type": "code",
        "colab": {}
      },
      "source": [
        ""
      ],
      "execution_count": 0,
      "outputs": []
    }
  ]
}