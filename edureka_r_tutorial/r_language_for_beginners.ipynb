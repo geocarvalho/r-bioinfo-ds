{
 "cells": [
  {
   "cell_type": "markdown",
   "metadata": {},
   "source": [
    "# R Tutorial For Beginners | R Programming Tutorial l R Language For Beginners | R Training | Edureka\n",
    "[![R Tutorial For Beginners | R Programming Tutorial l R Language For Beginners | R Training | Edureka](https://img.youtube.com/vi/eDrhZb2onWY/0.jpg)](https://youtu.be/eDrhZb2onWY)"
   ]
  },
  {
   "cell_type": "markdown",
   "metadata": {},
   "source": [
    "## *Variables*"
   ]
  },
  {
   "cell_type": "code",
   "execution_count": 5,
   "metadata": {
    "collapsed": true
   },
   "outputs": [],
   "source": [
    "a = 25\n",
    "b <- \"Hello R\"\n",
    "FALSE -> c"
   ]
  },
  {
   "cell_type": "markdown",
   "metadata": {},
   "source": [
    "## *Data operators*\n",
    "* Arithmetic operators\n",
    "* Assignment operators\n",
    "* Relational operators\n",
    "* Logical operators\n",
    "* Special operators"
   ]
  },
  {
   "cell_type": "code",
   "execution_count": 13,
   "metadata": {
    "collapsed": false
   },
   "outputs": [
    {
     "data": {
      "text/html": [
       "30"
      ],
      "text/latex": [
       "30"
      ],
      "text/markdown": [
       "30"
      ],
      "text/plain": [
       "[1] 30"
      ]
     },
     "metadata": {},
     "output_type": "display_data"
    },
    {
     "data": {
      "text/html": [
       "20"
      ],
      "text/latex": [
       "20"
      ],
      "text/markdown": [
       "20"
      ],
      "text/plain": [
       "[1] 20"
      ]
     },
     "metadata": {},
     "output_type": "display_data"
    },
    {
     "data": {
      "text/html": [
       "125"
      ],
      "text/latex": [
       "125"
      ],
      "text/markdown": [
       "125"
      ],
      "text/plain": [
       "[1] 125"
      ]
     },
     "metadata": {},
     "output_type": "display_data"
    },
    {
     "data": {
      "text/html": [
       "5"
      ],
      "text/latex": [
       "5"
      ],
      "text/markdown": [
       "5"
      ],
      "text/plain": [
       "[1] 5"
      ]
     },
     "metadata": {},
     "output_type": "display_data"
    },
    {
     "data": {
      "text/html": [
       "125"
      ],
      "text/latex": [
       "125"
      ],
      "text/markdown": [
       "125"
      ],
      "text/plain": [
       "[1] 125"
      ]
     },
     "metadata": {},
     "output_type": "display_data"
    },
    {
     "data": {
      "text/html": [
       "1"
      ],
      "text/latex": [
       "1"
      ],
      "text/markdown": [
       "1"
      ],
      "text/plain": [
       "[1] 1"
      ]
     },
     "metadata": {},
     "output_type": "display_data"
    },
    {
     "data": {
      "text/html": [
       "3"
      ],
      "text/latex": [
       "3"
      ],
      "text/markdown": [
       "3"
      ],
      "text/plain": [
       "[1] 3"
      ]
     },
     "metadata": {},
     "output_type": "display_data"
    }
   ],
   "source": [
    "# Arithmetic\n",
    "d = 5\n",
    "a+d\n",
    "a-d\n",
    "a*d\n",
    "a/d\n",
    "d^3\n",
    "22 %% 7  # rest\n",
    "22 %/% 7  # integer"
   ]
  },
  {
   "cell_type": "code",
   "execution_count": 20,
   "metadata": {
    "collapsed": true
   },
   "outputs": [],
   "source": [
    "# Assignment\n",
    "e <<- 50\n",
    "100 ->> f\n"
   ]
  },
  {
   "cell_type": "code",
   "execution_count": 31,
   "metadata": {
    "collapsed": false
   },
   "outputs": [
    {
     "data": {
      "text/html": [
       "50"
      ],
      "text/latex": [
       "50"
      ],
      "text/markdown": [
       "50"
      ],
      "text/plain": [
       "[1] 50"
      ]
     },
     "metadata": {},
     "output_type": "display_data"
    },
    {
     "data": {
      "text/html": [
       "100"
      ],
      "text/latex": [
       "100"
      ],
      "text/markdown": [
       "100"
      ],
      "text/plain": [
       "[1] 100"
      ]
     },
     "metadata": {},
     "output_type": "display_data"
    },
    {
     "data": {
      "text/html": [
       "TRUE"
      ],
      "text/latex": [
       "TRUE"
      ],
      "text/markdown": [
       "TRUE"
      ],
      "text/plain": [
       "[1] TRUE"
      ]
     },
     "metadata": {},
     "output_type": "display_data"
    },
    {
     "data": {
      "text/html": [
       "FALSE"
      ],
      "text/latex": [
       "FALSE"
      ],
      "text/markdown": [
       "FALSE"
      ],
      "text/plain": [
       "[1] FALSE"
      ]
     },
     "metadata": {},
     "output_type": "display_data"
    },
    {
     "data": {
      "text/html": [
       "FALSE"
      ],
      "text/latex": [
       "FALSE"
      ],
      "text/markdown": [
       "FALSE"
      ],
      "text/plain": [
       "[1] FALSE"
      ]
     },
     "metadata": {},
     "output_type": "display_data"
    },
    {
     "data": {
      "text/html": [
       "TRUE"
      ],
      "text/latex": [
       "TRUE"
      ],
      "text/markdown": [
       "TRUE"
      ],
      "text/plain": [
       "[1] TRUE"
      ]
     },
     "metadata": {},
     "output_type": "display_data"
    },
    {
     "data": {
      "text/html": [
       "FALSE"
      ],
      "text/latex": [
       "FALSE"
      ],
      "text/markdown": [
       "FALSE"
      ],
      "text/plain": [
       "[1] FALSE"
      ]
     },
     "metadata": {},
     "output_type": "display_data"
    },
    {
     "data": {
      "text/html": [
       "TRUE"
      ],
      "text/latex": [
       "TRUE"
      ],
      "text/markdown": [
       "TRUE"
      ],
      "text/plain": [
       "[1] TRUE"
      ]
     },
     "metadata": {},
     "output_type": "display_data"
    }
   ],
   "source": [
    "# Relational\n",
    "e\n",
    "f\n",
    "f > e\n",
    "f < e\n",
    "e == f\n",
    "d != e\n",
    "d >= e\n",
    "g = 5\n",
    "d <= g"
   ]
  },
  {
   "cell_type": "code",
   "execution_count": 37,
   "metadata": {
    "collapsed": false
   },
   "outputs": [
    {
     "data": {
      "text/html": [
       "FALSE"
      ],
      "text/latex": [
       "FALSE"
      ],
      "text/markdown": [
       "FALSE"
      ],
      "text/plain": [
       "[1] FALSE"
      ]
     },
     "metadata": {},
     "output_type": "display_data"
    },
    {
     "data": {
      "text/html": [
       "TRUE"
      ],
      "text/latex": [
       "TRUE"
      ],
      "text/markdown": [
       "TRUE"
      ],
      "text/plain": [
       "[1] TRUE"
      ]
     },
     "metadata": {},
     "output_type": "display_data"
    },
    {
     "data": {
      "text/html": [
       "TRUE"
      ],
      "text/latex": [
       "TRUE"
      ],
      "text/markdown": [
       "TRUE"
      ],
      "text/plain": [
       "[1] TRUE"
      ]
     },
     "metadata": {},
     "output_type": "display_data"
    },
    {
     "data": {
      "text/html": [
       "FALSE"
      ],
      "text/latex": [
       "FALSE"
      ],
      "text/markdown": [
       "FALSE"
      ],
      "text/plain": [
       "[1] FALSE"
      ]
     },
     "metadata": {},
     "output_type": "display_data"
    }
   ],
   "source": [
    "# Logical\n",
    "x = T\n",
    "y = F\n",
    "x & y\n",
    "x | y\n",
    "!y # not\n",
    "!x"
   ]
  },
  {
   "cell_type": "code",
   "execution_count": 40,
   "metadata": {
    "collapsed": false
   },
   "outputs": [
    {
     "data": {
      "text/html": [
       "TRUE"
      ],
      "text/latex": [
       "TRUE"
      ],
      "text/markdown": [
       "TRUE"
      ],
      "text/plain": [
       "[1] TRUE"
      ]
     },
     "metadata": {},
     "output_type": "display_data"
    },
    {
     "data": {
      "text/html": [
       "FALSE"
      ],
      "text/latex": [
       "FALSE"
      ],
      "text/markdown": [
       "FALSE"
      ],
      "text/plain": [
       "[1] FALSE"
      ]
     },
     "metadata": {},
     "output_type": "display_data"
    }
   ],
   "source": [
    "# Special (: and %in%)\n",
    "h <- 1:10\n",
    "6 %in% h\n",
    "15 %in% h\n"
   ]
  },
  {
   "cell_type": "markdown",
   "metadata": {},
   "source": [
    "## *Data types*\n",
    "* Basic types\n",
    "* Vectors\n",
    "* Lists\n",
    "* Data frames\n",
    "* Factors\n",
    "* Arrays\n",
    "* Matrices"
   ]
  },
  {
   "cell_type": "code",
   "execution_count": 45,
   "metadata": {
    "collapsed": false
   },
   "outputs": [],
   "source": [
    "# Basic types: character, complex, integer, numeric, logical\n",
    "# character\n",
    "chr <- \"Hello R\"\n",
    "# complex\n",
    "comp <- 3+2i\n",
    "# integer\n",
    "int <- 24L\n",
    "# numeric\n",
    "num <- 3.14\n",
    "# logical\n",
    "log <- F"
   ]
  },
  {
   "cell_type": "code",
   "execution_count": 57,
   "metadata": {
    "collapsed": false
   },
   "outputs": [
    {
     "data": {
      "text/html": [
       "<ol class=list-inline>\n",
       "\t<li>1</li>\n",
       "\t<li>3</li>\n",
       "\t<li>4.5</li>\n",
       "\t<li>5</li>\n",
       "\t<li>11</li>\n",
       "\t<li>23</li>\n",
       "\t<li>67</li>\n",
       "</ol>\n"
      ],
      "text/latex": [
       "\\begin{enumerate*}\n",
       "\\item 1\n",
       "\\item 3\n",
       "\\item 4.5\n",
       "\\item 5\n",
       "\\item 11\n",
       "\\item 23\n",
       "\\item 67\n",
       "\\end{enumerate*}\n"
      ],
      "text/markdown": [
       "1. 1\n",
       "2. 3\n",
       "3. 4.5\n",
       "4. 5\n",
       "5. 11\n",
       "6. 23\n",
       "7. 67\n",
       "\n",
       "\n"
      ],
      "text/plain": [
       "[1]  1.0  3.0  4.5  5.0 11.0 23.0 67.0"
      ]
     },
     "metadata": {},
     "output_type": "display_data"
    },
    {
     "data": {
      "text/html": [
       "3"
      ],
      "text/latex": [
       "3"
      ],
      "text/markdown": [
       "3"
      ],
      "text/plain": [
       "[1] 3"
      ]
     },
     "metadata": {},
     "output_type": "display_data"
    },
    {
     "data": {
      "text/html": [
       "<ol class=list-inline>\n",
       "\t<li>3</li>\n",
       "\t<li>5</li>\n",
       "\t<li>11</li>\n",
       "\t<li>4.5</li>\n",
       "\t<li>23</li>\n",
       "</ol>\n"
      ],
      "text/latex": [
       "\\begin{enumerate*}\n",
       "\\item 3\n",
       "\\item 5\n",
       "\\item 11\n",
       "\\item 4.5\n",
       "\\item 23\n",
       "\\end{enumerate*}\n"
      ],
      "text/markdown": [
       "1. 3\n",
       "2. 5\n",
       "3. 11\n",
       "4. 4.5\n",
       "5. 23\n",
       "\n",
       "\n"
      ],
      "text/plain": [
       "[1]  3.0  5.0 11.0  4.5 23.0"
      ]
     },
     "metadata": {},
     "output_type": "display_data"
    },
    {
     "data": {
      "text/html": [
       "<ol class=list-inline>\n",
       "\t<li>3</li>\n",
       "\t<li>5</li>\n",
       "\t<li>11</li>\n",
       "\t<li>4.5</li>\n",
       "\t<li>23</li>\n",
       "\t<li>67</li>\n",
       "</ol>\n"
      ],
      "text/latex": [
       "\\begin{enumerate*}\n",
       "\\item 3\n",
       "\\item 5\n",
       "\\item 11\n",
       "\\item 4.5\n",
       "\\item 23\n",
       "\\item 67\n",
       "\\end{enumerate*}\n"
      ],
      "text/markdown": [
       "1. 3\n",
       "2. 5\n",
       "3. 11\n",
       "4. 4.5\n",
       "5. 23\n",
       "6. 67\n",
       "\n",
       "\n"
      ],
      "text/plain": [
       "[1]  3.0  5.0 11.0  4.5 23.0 67.0"
      ]
     },
     "metadata": {},
     "output_type": "display_data"
    },
    {
     "data": {
      "text/html": [
       "<ol class=list-inline>\n",
       "\t<li>1</li>\n",
       "\t<li>3</li>\n",
       "\t<li>234</li>\n",
       "\t<li>11</li>\n",
       "\t<li>4.5</li>\n",
       "\t<li>23</li>\n",
       "\t<li>67</li>\n",
       "\t<li>NA</li>\n",
       "\t<li>80</li>\n",
       "</ol>\n"
      ],
      "text/latex": [
       "\\begin{enumerate*}\n",
       "\\item 1\n",
       "\\item 3\n",
       "\\item 234\n",
       "\\item 11\n",
       "\\item 4.5\n",
       "\\item 23\n",
       "\\item 67\n",
       "\\item NA\n",
       "\\item 80\n",
       "\\end{enumerate*}\n"
      ],
      "text/markdown": [
       "1. 1\n",
       "2. 3\n",
       "3. 234\n",
       "4. 11\n",
       "5. 4.5\n",
       "6. 23\n",
       "7. 67\n",
       "8. NA\n",
       "9. 80\n",
       "\n",
       "\n"
      ],
      "text/plain": [
       "[1]   1.0   3.0 234.0  11.0   4.5  23.0  67.0    NA  80.0"
      ]
     },
     "metadata": {},
     "output_type": "display_data"
    },
    {
     "data": {
      "text/html": [
       "<ol class=list-inline>\n",
       "\t<li>'Hi'</li>\n",
       "\t<li>'15'</li>\n",
       "\t<li>'21'</li>\n",
       "\t<li>'TRUE'</li>\n",
       "</ol>\n"
      ],
      "text/latex": [
       "\\begin{enumerate*}\n",
       "\\item 'Hi'\n",
       "\\item '15'\n",
       "\\item '21'\n",
       "\\item 'TRUE'\n",
       "\\end{enumerate*}\n"
      ],
      "text/markdown": [
       "1. 'Hi'\n",
       "2. '15'\n",
       "3. '21'\n",
       "4. 'TRUE'\n",
       "\n",
       "\n"
      ],
      "text/plain": [
       "[1] \"Hi\"   \"15\"   \"21\"   \"TRUE\""
      ]
     },
     "metadata": {},
     "output_type": "display_data"
    }
   ],
   "source": [
    "# Vectors: data elements of the same basic type \n",
    "vt1 <- c(1, 3, 5, 11, 4.5, 23, 67)\n",
    "vt2 <- c(\"Hi\", \"Hello\", \"Hey\")\n",
    "sorted_vt <- sort(vt1)\n",
    "sorted_vt\n",
    "vt1[2]\n",
    "vt1[2:6]\n",
    "vt1[-1]\n",
    "vt1[3] <- 234\n",
    "vt1[9] <- 80  # if more than the length, put NA in the missing positions\n",
    "vt1\n",
    "vtr <- c(\"Hi\", 15, 21L, T)  # everything is character\n",
    "vtr"
   ]
  },
  {
   "cell_type": "code",
   "execution_count": 68,
   "metadata": {
    "collapsed": false
   },
   "outputs": [
    {
     "data": {
      "text/html": [
       "<ol>\n",
       "\t<li>'Hi'</li>\n",
       "\t<li>15</li>\n",
       "\t<li>21</li>\n",
       "\t<li>TRUE</li>\n",
       "</ol>\n"
      ],
      "text/latex": [
       "\\begin{enumerate}\n",
       "\\item 'Hi'\n",
       "\\item 15\n",
       "\\item 21\n",
       "\\item TRUE\n",
       "\\end{enumerate}\n"
      ],
      "text/markdown": [
       "1. 'Hi'\n",
       "2. 15\n",
       "3. 21\n",
       "4. TRUE\n",
       "\n",
       "\n"
      ],
      "text/plain": [
       "[[1]]\n",
       "[1] \"Hi\"\n",
       "\n",
       "[[2]]\n",
       "[1] 15\n",
       "\n",
       "[[3]]\n",
       "[1] 21\n",
       "\n",
       "[[4]]\n",
       "[1] TRUE\n"
      ]
     },
     "metadata": {},
     "output_type": "display_data"
    },
    {
     "data": {
      "text/html": [
       "<ol>\n",
       "\t<li>'Hello'</li>\n",
       "\t<li>45</li>\n",
       "\t<li>FALSE</li>\n",
       "\t<li>56</li>\n",
       "</ol>\n"
      ],
      "text/latex": [
       "\\begin{enumerate}\n",
       "\\item 'Hello'\n",
       "\\item 45\n",
       "\\item FALSE\n",
       "\\item 56\n",
       "\\end{enumerate}\n"
      ],
      "text/markdown": [
       "1. 'Hello'\n",
       "2. 45\n",
       "3. FALSE\n",
       "4. 56\n",
       "\n",
       "\n"
      ],
      "text/plain": [
       "[[1]]\n",
       "[1] \"Hello\"\n",
       "\n",
       "[[2]]\n",
       "[1] 45\n",
       "\n",
       "[[3]]\n",
       "[1] FALSE\n",
       "\n",
       "[[4]]\n",
       "[1] 56\n"
      ]
     },
     "metadata": {},
     "output_type": "display_data"
    },
    {
     "data": {
      "text/html": [
       "<table>\n",
       "<thead><tr><th scope=col>X.Hi.</th><th scope=col>X15</th><th scope=col>X21L</th><th scope=col>TRUE.</th><th scope=col>X.Hello.</th><th scope=col>X45</th><th scope=col>FALSE.</th><th scope=col>X56L</th></tr></thead>\n",
       "<tbody>\n",
       "\t<tr><td>Hi   </td><td>15   </td><td>21   </td><td>TRUE </td><td>Hello</td><td>45   </td><td>FALSE</td><td>56   </td></tr>\n",
       "</tbody>\n",
       "</table>\n"
      ],
      "text/latex": [
       "\\begin{tabular}{r|llllllll}\n",
       " X.Hi. & X15 & X21L & TRUE. & X.Hello. & X45 & FALSE. & X56L\\\\\n",
       "\\hline\n",
       "\t Hi    & 15    & 21    & TRUE  & Hello & 45    & FALSE & 56   \\\\\n",
       "\\end{tabular}\n"
      ],
      "text/markdown": [
       "\n",
       "X.Hi. | X15 | X21L | TRUE. | X.Hello. | X45 | FALSE. | X56L | \n",
       "|---|\n",
       "| Hi    | 15    | 21    | TRUE  | Hello | 45    | FALSE | 56    | \n",
       "\n",
       "\n"
      ],
      "text/plain": [
       "  X.Hi. X15 X21L TRUE. X.Hello. X45 FALSE. X56L\n",
       "1 Hi    15  21   TRUE  Hello    45  FALSE  56  "
      ]
     },
     "metadata": {},
     "output_type": "display_data"
    },
    {
     "data": {
      "text/html": [
       "<table>\n",
       "<thead><tr><th scope=col>X15</th></tr></thead>\n",
       "<tbody>\n",
       "\t<tr><td>15</td></tr>\n",
       "</tbody>\n",
       "</table>\n"
      ],
      "text/latex": [
       "\\begin{tabular}{r|l}\n",
       " X15\\\\\n",
       "\\hline\n",
       "\t 15\\\\\n",
       "\\end{tabular}\n"
      ],
      "text/markdown": [
       "\n",
       "X15 | \n",
       "|---|\n",
       "| 15 | \n",
       "\n",
       "\n"
      ],
      "text/plain": [
       "  X15\n",
       "1 15 "
      ]
     },
     "metadata": {},
     "output_type": "display_data"
    },
    {
     "data": {
      "text/html": [
       "<ol>\n",
       "\t<li>'Hi'</li>\n",
       "\t<li>15</li>\n",
       "\t<li>21</li>\n",
       "\t<li>TRUE</li>\n",
       "\t<li>'Hello'</li>\n",
       "\t<li>45</li>\n",
       "\t<li>FALSE</li>\n",
       "\t<li>56</li>\n",
       "</ol>\n"
      ],
      "text/latex": [
       "\\begin{enumerate}\n",
       "\\item 'Hi'\n",
       "\\item 15\n",
       "\\item 21\n",
       "\\item TRUE\n",
       "\\item 'Hello'\n",
       "\\item 45\n",
       "\\item FALSE\n",
       "\\item 56\n",
       "\\end{enumerate}\n"
      ],
      "text/markdown": [
       "1. 'Hi'\n",
       "2. 15\n",
       "3. 21\n",
       "4. TRUE\n",
       "5. 'Hello'\n",
       "6. 45\n",
       "7. FALSE\n",
       "8. 56\n",
       "\n",
       "\n"
      ],
      "text/plain": [
       "[[1]]\n",
       "[1] \"Hi\"\n",
       "\n",
       "[[2]]\n",
       "[1] 15\n",
       "\n",
       "[[3]]\n",
       "[1] 21\n",
       "\n",
       "[[4]]\n",
       "[1] TRUE\n",
       "\n",
       "[[5]]\n",
       "[1] \"Hello\"\n",
       "\n",
       "[[6]]\n",
       "[1] 45\n",
       "\n",
       "[[7]]\n",
       "[1] FALSE\n",
       "\n",
       "[[8]]\n",
       "[1] 56\n"
      ]
     },
     "metadata": {},
     "output_type": "display_data"
    },
    {
     "data": {
      "text/html": [
       "<ol>\n",
       "\t<li>'Hello'</li>\n",
       "</ol>\n"
      ],
      "text/latex": [
       "\\begin{enumerate}\n",
       "\\item 'Hello'\n",
       "\\end{enumerate}\n"
      ],
      "text/markdown": [
       "1. 'Hello'\n",
       "\n",
       "\n"
      ],
      "text/plain": [
       "[[1]]\n",
       "[1] \"Hello\"\n"
      ]
     },
     "metadata": {},
     "output_type": "display_data"
    }
   ],
   "source": [
    "# Lists: set of elements of different types\n",
    "list1 <- list(\"Hi\", 15, 21L, T)\n",
    "list1\n",
    "list2 <- list(\"Hello\", 45, F, 56L)\n",
    "list2\n",
    "list3 <- merge(list1, list2)\n",
    "list3\n",
    "list3[2]\n",
    "list4 <- c(list1, list2)\n",
    "list4\n",
    "list4[5]"
   ]
  },
  {
   "cell_type": "code",
   "execution_count": 72,
   "metadata": {
    "collapsed": false
   },
   "outputs": [
    {
     "data": {
      "text/html": [
       "<ol class=list-inline>\n",
       "\t<li>2</li>\n",
       "\t<li>6</li>\n",
       "\t<li>14</li>\n",
       "\t<li>18</li>\n",
       "\t<li>22</li>\n",
       "\t<li>5</li>\n",
       "\t<li>15</li>\n",
       "\t<li>25</li>\n",
       "\t<li>45</li>\n",
       "\t<li>65</li>\n",
       "\t<li>85</li>\n",
       "\t<li>105</li>\n",
       "\t<li>125</li>\n",
       "\t<li>2</li>\n",
       "\t<li>6</li>\n",
       "\t<li>14</li>\n",
       "\t<li>18</li>\n",
       "\t<li>22</li>\n",
       "\t<li>5</li>\n",
       "\t<li>15</li>\n",
       "\t<li>25</li>\n",
       "\t<li>45</li>\n",
       "\t<li>65</li>\n",
       "\t<li>85</li>\n",
       "\t<li>105</li>\n",
       "\t<li>125</li>\n",
       "\t<li>2</li>\n",
       "\t<li>6</li>\n",
       "\t<li>14</li>\n",
       "\t<li>18</li>\n",
       "\t<li>22</li>\n",
       "\t<li>5</li>\n",
       "\t<li>15</li>\n",
       "\t<li>25</li>\n",
       "\t<li>45</li>\n",
       "\t<li>65</li>\n",
       "\t<li>85</li>\n",
       "\t<li>105</li>\n",
       "\t<li>125</li>\n",
       "\t<li>2</li>\n",
       "\t<li>6</li>\n",
       "\t<li>14</li>\n",
       "\t<li>18</li>\n",
       "\t<li>22</li>\n",
       "\t<li>5</li>\n",
       "\t<li>15</li>\n",
       "\t<li>25</li>\n",
       "\t<li>45</li>\n",
       "\t<li>65</li>\n",
       "\t<li>85</li>\n",
       "\t<li>105</li>\n",
       "\t<li>125</li>\n",
       "\t<li>2</li>\n",
       "\t<li>6</li>\n",
       "\t<li>14</li>\n",
       "\t<li>18</li>\n",
       "\t<li>22</li>\n",
       "\t<li>5</li>\n",
       "\t<li>15</li>\n",
       "\t<li>25</li>\n",
       "\t<li>45</li>\n",
       "\t<li>65</li>\n",
       "\t<li>85</li>\n",
       "\t<li>105</li>\n",
       "\t<li>125</li>\n",
       "\t<li>2</li>\n",
       "\t<li>6</li>\n",
       "\t<li>14</li>\n",
       "\t<li>18</li>\n",
       "\t<li>22</li>\n",
       "\t<li>5</li>\n",
       "\t<li>15</li>\n",
       "\t<li>25</li>\n",
       "\t<li>45</li>\n",
       "\t<li>65</li>\n",
       "</ol>\n"
      ],
      "text/latex": [
       "\\begin{enumerate*}\n",
       "\\item 2\n",
       "\\item 6\n",
       "\\item 14\n",
       "\\item 18\n",
       "\\item 22\n",
       "\\item 5\n",
       "\\item 15\n",
       "\\item 25\n",
       "\\item 45\n",
       "\\item 65\n",
       "\\item 85\n",
       "\\item 105\n",
       "\\item 125\n",
       "\\item 2\n",
       "\\item 6\n",
       "\\item 14\n",
       "\\item 18\n",
       "\\item 22\n",
       "\\item 5\n",
       "\\item 15\n",
       "\\item 25\n",
       "\\item 45\n",
       "\\item 65\n",
       "\\item 85\n",
       "\\item 105\n",
       "\\item 125\n",
       "\\item 2\n",
       "\\item 6\n",
       "\\item 14\n",
       "\\item 18\n",
       "\\item 22\n",
       "\\item 5\n",
       "\\item 15\n",
       "\\item 25\n",
       "\\item 45\n",
       "\\item 65\n",
       "\\item 85\n",
       "\\item 105\n",
       "\\item 125\n",
       "\\item 2\n",
       "\\item 6\n",
       "\\item 14\n",
       "\\item 18\n",
       "\\item 22\n",
       "\\item 5\n",
       "\\item 15\n",
       "\\item 25\n",
       "\\item 45\n",
       "\\item 65\n",
       "\\item 85\n",
       "\\item 105\n",
       "\\item 125\n",
       "\\item 2\n",
       "\\item 6\n",
       "\\item 14\n",
       "\\item 18\n",
       "\\item 22\n",
       "\\item 5\n",
       "\\item 15\n",
       "\\item 25\n",
       "\\item 45\n",
       "\\item 65\n",
       "\\item 85\n",
       "\\item 105\n",
       "\\item 125\n",
       "\\item 2\n",
       "\\item 6\n",
       "\\item 14\n",
       "\\item 18\n",
       "\\item 22\n",
       "\\item 5\n",
       "\\item 15\n",
       "\\item 25\n",
       "\\item 45\n",
       "\\item 65\n",
       "\\end{enumerate*}\n"
      ],
      "text/markdown": [
       "1. 2\n",
       "2. 6\n",
       "3. 14\n",
       "4. 18\n",
       "5. 22\n",
       "6. 5\n",
       "7. 15\n",
       "8. 25\n",
       "9. 45\n",
       "10. 65\n",
       "11. 85\n",
       "12. 105\n",
       "13. 125\n",
       "14. 2\n",
       "15. 6\n",
       "16. 14\n",
       "17. 18\n",
       "18. 22\n",
       "19. 5\n",
       "20. 15\n",
       "21. 25\n",
       "22. 45\n",
       "23. 65\n",
       "24. 85\n",
       "25. 105\n",
       "26. 125\n",
       "27. 2\n",
       "28. 6\n",
       "29. 14\n",
       "30. 18\n",
       "31. 22\n",
       "32. 5\n",
       "33. 15\n",
       "34. 25\n",
       "35. 45\n",
       "36. 65\n",
       "37. 85\n",
       "38. 105\n",
       "39. 125\n",
       "40. 2\n",
       "41. 6\n",
       "42. 14\n",
       "43. 18\n",
       "44. 22\n",
       "45. 5\n",
       "46. 15\n",
       "47. 25\n",
       "48. 45\n",
       "49. 65\n",
       "50. 85\n",
       "51. 105\n",
       "52. 125\n",
       "53. 2\n",
       "54. 6\n",
       "55. 14\n",
       "56. 18\n",
       "57. 22\n",
       "58. 5\n",
       "59. 15\n",
       "60. 25\n",
       "61. 45\n",
       "62. 65\n",
       "63. 85\n",
       "64. 105\n",
       "65. 125\n",
       "66. 2\n",
       "67. 6\n",
       "68. 14\n",
       "69. 18\n",
       "70. 22\n",
       "71. 5\n",
       "72. 15\n",
       "73. 25\n",
       "74. 45\n",
       "75. 65\n",
       "\n",
       "\n"
      ],
      "text/plain": [
       ", , 1\n",
       "\n",
       "     [,1] [,2] [,3] [,4] [,5]\n",
       "[1,]    2    5   85   14   25\n",
       "[2,]    6   15  105   18   45\n",
       "[3,]   14   25  125   22   65\n",
       "[4,]   18   45    2    5   85\n",
       "[5,]   22   65    6   15  105\n",
       "\n",
       ", , 2\n",
       "\n",
       "     [,1] [,2] [,3] [,4] [,5]\n",
       "[1,]  125   22   65    6   15\n",
       "[2,]    2    5   85   14   25\n",
       "[3,]    6   15  105   18   45\n",
       "[4,]   14   25  125   22   65\n",
       "[5,]   18   45    2    5   85\n",
       "\n",
       ", , 3\n",
       "\n",
       "     [,1] [,2] [,3] [,4] [,5]\n",
       "[1,]  105   18   45    2    5\n",
       "[2,]  125   22   65    6   15\n",
       "[3,]    2    5   85   14   25\n",
       "[4,]    6   15  105   18   45\n",
       "[5,]   14   25  125   22   65\n"
      ]
     },
     "metadata": {},
     "output_type": "display_data"
    }
   ],
   "source": [
    "# Arrays: objects which can store data in more than two dimensions (vectors as input)\n",
    "vt1 <- c(2, 6, 14, 18, 22)\n",
    "vt2 <- c(5, 15, 25, 45, 65, 85, 105, 125)\n",
    "arr <- array(c(vt1, vt2), dim = c(5, 5, 3))\n",
    "arr\n"
   ]
  },
  {
   "cell_type": "code",
   "execution_count": 75,
   "metadata": {
    "collapsed": false
   },
   "outputs": [
    {
     "data": {
      "text/html": [
       "<table>\n",
       "<tbody>\n",
       "\t<tr><td> 2</td><td> 2</td><td> 2</td><td> 2</td><td> 2</td><td> 2</td><td> 2</td><td> 2</td><td> 2</td><td> 2</td><td> 2</td><td> 2</td><td> 2</td><td> 2</td><td> 2</td></tr>\n",
       "\t<tr><td> 6</td><td> 6</td><td> 6</td><td> 6</td><td> 6</td><td> 6</td><td> 6</td><td> 6</td><td> 6</td><td> 6</td><td> 6</td><td> 6</td><td> 6</td><td> 6</td><td> 6</td></tr>\n",
       "\t<tr><td>14</td><td>14</td><td>14</td><td>14</td><td>14</td><td>14</td><td>14</td><td>14</td><td>14</td><td>14</td><td>14</td><td>14</td><td>14</td><td>14</td><td>14</td></tr>\n",
       "\t<tr><td>18</td><td>18</td><td>18</td><td>18</td><td>18</td><td>18</td><td>18</td><td>18</td><td>18</td><td>18</td><td>18</td><td>18</td><td>18</td><td>18</td><td>18</td></tr>\n",
       "\t<tr><td>22</td><td>22</td><td>22</td><td>22</td><td>22</td><td>22</td><td>22</td><td>22</td><td>22</td><td>22</td><td>22</td><td>22</td><td>22</td><td>22</td><td>22</td></tr>\n",
       "\t<tr><td> 5</td><td> 5</td><td> 5</td><td> 5</td><td> 5</td><td> 5</td><td> 5</td><td> 5</td><td> 5</td><td> 5</td><td> 5</td><td> 5</td><td> 5</td><td> 5</td><td> 5</td></tr>\n",
       "\t<tr><td> 7</td><td> 7</td><td> 7</td><td> 7</td><td> 7</td><td> 7</td><td> 7</td><td> 7</td><td> 7</td><td> 7</td><td> 7</td><td> 7</td><td> 7</td><td> 7</td><td> 7</td></tr>\n",
       "\t<tr><td> 9</td><td> 9</td><td> 9</td><td> 9</td><td> 9</td><td> 9</td><td> 9</td><td> 9</td><td> 9</td><td> 9</td><td> 9</td><td> 9</td><td> 9</td><td> 9</td><td> 9</td></tr>\n",
       "\t<tr><td>45</td><td>45</td><td>45</td><td>45</td><td>45</td><td>45</td><td>45</td><td>45</td><td>45</td><td>45</td><td>45</td><td>45</td><td>45</td><td>45</td><td>45</td></tr>\n",
       "\t<tr><td>36</td><td>36</td><td>36</td><td>36</td><td>36</td><td>36</td><td>36</td><td>36</td><td>36</td><td>36</td><td>36</td><td>36</td><td>36</td><td>36</td><td>36</td></tr>\n",
       "</tbody>\n",
       "</table>\n"
      ],
      "text/latex": [
       "\\begin{tabular}{lllllllllllllll}\n",
       "\t  2 &  2 &  2 &  2 &  2 &  2 &  2 &  2 &  2 &  2 &  2 &  2 &  2 &  2 &  2\\\\\n",
       "\t  6 &  6 &  6 &  6 &  6 &  6 &  6 &  6 &  6 &  6 &  6 &  6 &  6 &  6 &  6\\\\\n",
       "\t 14 & 14 & 14 & 14 & 14 & 14 & 14 & 14 & 14 & 14 & 14 & 14 & 14 & 14 & 14\\\\\n",
       "\t 18 & 18 & 18 & 18 & 18 & 18 & 18 & 18 & 18 & 18 & 18 & 18 & 18 & 18 & 18\\\\\n",
       "\t 22 & 22 & 22 & 22 & 22 & 22 & 22 & 22 & 22 & 22 & 22 & 22 & 22 & 22 & 22\\\\\n",
       "\t  5 &  5 &  5 &  5 &  5 &  5 &  5 &  5 &  5 &  5 &  5 &  5 &  5 &  5 &  5\\\\\n",
       "\t  7 &  7 &  7 &  7 &  7 &  7 &  7 &  7 &  7 &  7 &  7 &  7 &  7 &  7 &  7\\\\\n",
       "\t  9 &  9 &  9 &  9 &  9 &  9 &  9 &  9 &  9 &  9 &  9 &  9 &  9 &  9 &  9\\\\\n",
       "\t 45 & 45 & 45 & 45 & 45 & 45 & 45 & 45 & 45 & 45 & 45 & 45 & 45 & 45 & 45\\\\\n",
       "\t 36 & 36 & 36 & 36 & 36 & 36 & 36 & 36 & 36 & 36 & 36 & 36 & 36 & 36 & 36\\\\\n",
       "\\end{tabular}\n"
      ],
      "text/markdown": [
       "\n",
       "|  2 |  2 |  2 |  2 |  2 |  2 |  2 |  2 |  2 |  2 |  2 |  2 |  2 |  2 |  2 | \n",
       "|  6 |  6 |  6 |  6 |  6 |  6 |  6 |  6 |  6 |  6 |  6 |  6 |  6 |  6 |  6 | \n",
       "| 14 | 14 | 14 | 14 | 14 | 14 | 14 | 14 | 14 | 14 | 14 | 14 | 14 | 14 | 14 | \n",
       "| 18 | 18 | 18 | 18 | 18 | 18 | 18 | 18 | 18 | 18 | 18 | 18 | 18 | 18 | 18 | \n",
       "| 22 | 22 | 22 | 22 | 22 | 22 | 22 | 22 | 22 | 22 | 22 | 22 | 22 | 22 | 22 | \n",
       "|  5 |  5 |  5 |  5 |  5 |  5 |  5 |  5 |  5 |  5 |  5 |  5 |  5 |  5 |  5 | \n",
       "|  7 |  7 |  7 |  7 |  7 |  7 |  7 |  7 |  7 |  7 |  7 |  7 |  7 |  7 |  7 | \n",
       "|  9 |  9 |  9 |  9 |  9 |  9 |  9 |  9 |  9 |  9 |  9 |  9 |  9 |  9 |  9 | \n",
       "| 45 | 45 | 45 | 45 | 45 | 45 | 45 | 45 | 45 | 45 | 45 | 45 | 45 | 45 | 45 | \n",
       "| 36 | 36 | 36 | 36 | 36 | 36 | 36 | 36 | 36 | 36 | 36 | 36 | 36 | 36 | 36 | \n",
       "\n",
       "\n"
      ],
      "text/plain": [
       "      [,1] [,2] [,3] [,4] [,5] [,6] [,7] [,8] [,9] [,10] [,11] [,12] [,13]\n",
       " [1,]  2    2    2    2    2    2    2    2    2    2     2     2     2   \n",
       " [2,]  6    6    6    6    6    6    6    6    6    6     6     6     6   \n",
       " [3,] 14   14   14   14   14   14   14   14   14   14    14    14    14   \n",
       " [4,] 18   18   18   18   18   18   18   18   18   18    18    18    18   \n",
       " [5,] 22   22   22   22   22   22   22   22   22   22    22    22    22   \n",
       " [6,]  5    5    5    5    5    5    5    5    5    5     5     5     5   \n",
       " [7,]  7    7    7    7    7    7    7    7    7    7     7     7     7   \n",
       " [8,]  9    9    9    9    9    9    9    9    9    9     9     9     9   \n",
       " [9,] 45   45   45   45   45   45   45   45   45   45    45    45    45   \n",
       "[10,] 36   36   36   36   36   36   36   36   36   36    36    36    36   \n",
       "      [,14] [,15]\n",
       " [1,]  2     2   \n",
       " [2,]  6     6   \n",
       " [3,] 14    14   \n",
       " [4,] 18    18   \n",
       " [5,] 22    22   \n",
       " [6,]  5     5   \n",
       " [7,]  7     7   \n",
       " [8,]  9     9   \n",
       " [9,] 45    45   \n",
       "[10,] 36    36   "
      ]
     },
     "metadata": {},
     "output_type": "display_data"
    }
   ],
   "source": [
    "# Matrices: objects which the elements are in two dimensions (data, nrow, ncol, byrow, dimname)\n",
    "vt1 <- c(2, 6, 14, 18, 22)\n",
    "vt2 <- c(5, 7, 9, 45, 36)\n",
    "mtr <- matrix(c(vt1, vt2), 10, 15)\n",
    "mtr\n"
   ]
  },
  {
   "cell_type": "code",
   "execution_count": 79,
   "metadata": {
    "collapsed": false
   },
   "outputs": [
    {
     "data": {
      "text/html": [
       "<ol class=list-inline>\n",
       "\t<li>3</li>\n",
       "\t<li>5</li>\n",
       "\t<li>7</li>\n",
       "\t<li>11</li>\n",
       "\t<li>5</li>\n",
       "\t<li>15</li>\n",
       "\t<li>11</li>\n",
       "\t<li>20</li>\n",
       "\t<li>3</li>\n",
       "</ol>\n"
      ],
      "text/latex": [
       "\\begin{enumerate*}\n",
       "\\item 3\n",
       "\\item 5\n",
       "\\item 7\n",
       "\\item 11\n",
       "\\item 5\n",
       "\\item 15\n",
       "\\item 11\n",
       "\\item 20\n",
       "\\item 3\n",
       "\\end{enumerate*}\n"
      ],
      "text/markdown": [
       "1. 3\n",
       "2. 5\n",
       "3. 7\n",
       "4. 11\n",
       "5. 5\n",
       "6. 15\n",
       "7. 11\n",
       "8. 20\n",
       "9. 3\n",
       "\n",
       "\n"
      ],
      "text/plain": [
       "[1] 3  5  7  11 5  15 11 20 3 \n",
       "Levels: 3 5 7 11 15 20"
      ]
     },
     "metadata": {},
     "output_type": "display_data"
    }
   ],
   "source": [
    "# Factors: used to categorize the data and store it as levels (strings and integers)\n",
    "vt1 <- c(3, 5, 7, 11, 5, 15, 11, 20, 3)\n",
    "fact_vt <- factor(vt1)\n",
    "fact_vt  # can't see Levels (unique values)"
   ]
  },
  {
   "cell_type": "code",
   "execution_count": 81,
   "metadata": {
    "collapsed": false
   },
   "outputs": [
    {
     "data": {
      "text/html": [
       "<table>\n",
       "<thead><tr><th scope=col>id</th><th scope=col>name</th></tr></thead>\n",
       "<tbody>\n",
       "\t<tr><td>100   </td><td>Neel  </td></tr>\n",
       "\t<tr><td>101   </td><td>Eric  </td></tr>\n",
       "\t<tr><td>102   </td><td>Dave  </td></tr>\n",
       "\t<tr><td>103   </td><td>Roshni</td></tr>\n",
       "\t<tr><td>104   </td><td>Pankaj</td></tr>\n",
       "\t<tr><td>105   </td><td>Rashma</td></tr>\n",
       "</tbody>\n",
       "</table>\n"
      ],
      "text/latex": [
       "\\begin{tabular}{r|ll}\n",
       " id & name\\\\\n",
       "\\hline\n",
       "\t 100    & Neel  \\\\\n",
       "\t 101    & Eric  \\\\\n",
       "\t 102    & Dave  \\\\\n",
       "\t 103    & Roshni\\\\\n",
       "\t 104    & Pankaj\\\\\n",
       "\t 105    & Rashma\\\\\n",
       "\\end{tabular}\n"
      ],
      "text/markdown": [
       "\n",
       "id | name | \n",
       "|---|---|---|---|---|---|\n",
       "| 100    | Neel   | \n",
       "| 101    | Eric   | \n",
       "| 102    | Dave   | \n",
       "| 103    | Roshni | \n",
       "| 104    | Pankaj | \n",
       "| 105    | Rashma | \n",
       "\n",
       "\n"
      ],
      "text/plain": [
       "  id  name  \n",
       "1 100 Neel  \n",
       "2 101 Eric  \n",
       "3 102 Dave  \n",
       "4 103 Roshni\n",
       "5 104 Pankaj\n",
       "6 105 Rashma"
      ]
     },
     "metadata": {},
     "output_type": "display_data"
    },
    {
     "data": {
      "text/html": [
       "<table>\n",
       "<thead><tr><th scope=col>id</th><th scope=col>name</th><th scope=col>marks</th></tr></thead>\n",
       "<tbody>\n",
       "\t<tr><td>100   </td><td>Neel  </td><td>80    </td></tr>\n",
       "\t<tr><td>101   </td><td>Eric  </td><td>85    </td></tr>\n",
       "\t<tr><td>102   </td><td>Dave  </td><td>87    </td></tr>\n",
       "\t<tr><td>103   </td><td>Roshni</td><td>95    </td></tr>\n",
       "\t<tr><td>104   </td><td>Pankaj</td><td>92    </td></tr>\n",
       "\t<tr><td>105   </td><td>Rashma</td><td>89    </td></tr>\n",
       "</tbody>\n",
       "</table>\n"
      ],
      "text/latex": [
       "\\begin{tabular}{r|lll}\n",
       " id & name & marks\\\\\n",
       "\\hline\n",
       "\t 100    & Neel   & 80    \\\\\n",
       "\t 101    & Eric   & 85    \\\\\n",
       "\t 102    & Dave   & 87    \\\\\n",
       "\t 103    & Roshni & 95    \\\\\n",
       "\t 104    & Pankaj & 92    \\\\\n",
       "\t 105    & Rashma & 89    \\\\\n",
       "\\end{tabular}\n"
      ],
      "text/markdown": [
       "\n",
       "id | name | marks | \n",
       "|---|---|---|---|---|---|\n",
       "| 100    | Neel   | 80     | \n",
       "| 101    | Eric   | 85     | \n",
       "| 102    | Dave   | 87     | \n",
       "| 103    | Roshni | 95     | \n",
       "| 104    | Pankaj | 92     | \n",
       "| 105    | Rashma | 89     | \n",
       "\n",
       "\n"
      ],
      "text/plain": [
       "  id  name   marks\n",
       "1 100 Neel   80   \n",
       "2 101 Eric   85   \n",
       "3 102 Dave   87   \n",
       "4 103 Roshni 95   \n",
       "5 104 Pankaj 92   \n",
       "6 105 Rashma 89   "
      ]
     },
     "metadata": {},
     "output_type": "display_data"
    }
   ],
   "source": [
    "# Data frames: table or two-dimensional array-like structure in which each column contains values of one variable and each row contains on set of values from each column\n",
    "id <- c(100:105)\n",
    "name <- c(\"Neel\", \"Eric\", \"Dave\", \"Roshni\", \"Pankaj\", \"Rashma\")\n",
    "classtd <- data.frame(id, name)\n",
    "classtd\n",
    "marks <- c(80, 85, 87, 95, 92, 89)\n",
    "classtd1 <- data.frame(id, name, marks)\n",
    "classtd1"
   ]
  },
  {
   "cell_type": "markdown",
   "metadata": {},
   "source": [
    "## Flow control statements\n",
    "* if\n",
    "* if, else\n",
    "* switch\n",
    "* repeat\n",
    "* for\n",
    "* while\n",
    "* break\n",
    "* continue"
   ]
  },
  {
   "cell_type": "code",
   "execution_count": 87,
   "metadata": {
    "collapsed": false
   },
   "outputs": [
    {
     "name": "stdout",
     "output_type": "stream",
     "text": [
      "[1] \"x is equal to 5\"\n"
     ]
    }
   ],
   "source": [
    "# if statement\n",
    "# if .. else if .. else statement\n",
    "x <- 5\n",
    "if (x>5){\n",
    "    print(\"x is greater than 5\")\n",
    "} else if (x==5){\n",
    "    print(\"x is equal to 5\")\n",
    "} else {\n",
    "    print(\"x isn't greater than 5\")\n",
    "}"
   ]
  },
  {
   "cell_type": "code",
   "execution_count": 91,
   "metadata": {
    "collapsed": false
   },
   "outputs": [
    {
     "name": "stdout",
     "output_type": "stream",
     "text": [
      "[1] \"Invalid input\"\n"
     ]
    }
   ],
   "source": [
    "# switch statement\n",
    "vt <- c(150, 200, 250, 300, 350, 400)\n",
    "option <- \"men\"\n",
    "\n",
    "switch(option,\n",
    "      \"mean\"=print(mean(vt)),\n",
    "      \"mode\"=print(mode(vt)),\n",
    "      \"median\"=print(median(vt)),\n",
    "      print(\"Invalid input\"))"
   ]
  },
  {
   "cell_type": "code",
   "execution_count": 96,
   "metadata": {
    "collapsed": false
   },
   "outputs": [
    {
     "name": "stdout",
     "output_type": "stream",
     "text": [
      "[1] 4\n",
      "[1] 16\n",
      "[1] 256\n",
      "[1] 65536\n",
      "[1] 4\n",
      "[1] 16\n",
      "[1] 256\n",
      "[1] 65536\n",
      "[1] 7\n",
      "[1] 19\n",
      "[1] 25\n",
      "[1] 65\n",
      "[1] 45\n"
     ]
    }
   ],
   "source": [
    "# Loops: repeat, while, for\n",
    "# repeat statement\n",
    "x=2\n",
    "repeat{\n",
    "    x=x^2\n",
    "    print(x)\n",
    "    if (x>1000)\n",
    "        break\n",
    "}\n",
    "\n",
    "# while statement\n",
    "x=2\n",
    "while (x<1000) {\n",
    "    x=x^2\n",
    "    print(x)\n",
    "}\n",
    "\n",
    "# for statement\n",
    "vt <- c(7, 19, 25, 65, 45)\n",
    "for (i in vt){\n",
    "    print(i)\n",
    "}"
   ]
  },
  {
   "cell_type": "code",
   "execution_count": 98,
   "metadata": {
    "collapsed": false
   },
   "outputs": [
    {
     "name": "stdout",
     "output_type": "stream",
     "text": [
      "[1] 1\n",
      "[1] 3\n",
      "[1] 5\n",
      "[1] 7\n",
      "[1] 9\n",
      "[1] 11\n",
      "[1] 13\n",
      "[1] 15\n"
     ]
    }
   ],
   "source": [
    "# Break statement\n",
    "for (i in 1:15){\n",
    "    if ((i%%2)==0){\n",
    "        next\n",
    "    }\n",
    "    print(i)\n",
    "}\n",
    "# Next statement"
   ]
  },
  {
   "cell_type": "markdown",
   "metadata": {},
   "source": [
    "## Data visualization\n",
    "* Pie chart\n",
    "* Bar chart\n",
    "* Boxplot\n",
    "* Histogram\n",
    "* Line graph\n",
    "* Scatterplot"
   ]
  },
  {
   "cell_type": "code",
   "execution_count": 113,
   "metadata": {
    "collapsed": false
   },
   "outputs": [
    {
     "data": {
      "image/png": "[encoded data removed]",
      "text/plain": [
       "plot without title"
      ]
     },
     "metadata": {},
     "output_type": "display_data"
    }
   ],
   "source": [
    "# Pie chart: compare parts of a whole\n",
    "vt <- c(14, 28, 11, 30, 17)\n",
    "names <- c(\"R&D\", \"Marketing\", \"Corparate\", \"Sales\", \"Support\")\n",
    "# pie(vt, names, col=rainbow(length(vt)))\n",
    "# Bar chart\n",
    "# barplot(vt)\n",
    "# Boxplot\n",
    "# boxplot(mpg ~ cyl, data=mtcars, xlab=\"Number of cylinders\", ylab=\"Miles Per Gallon\", main=\"Mileage Data\", col=c(\"Red\", \"Yellow\", \"Blue\"))\n",
    "# Histogram\n",
    "vt1 <- c(9, 11, 25, 70, 11, 3, 4, 5, 9)\n",
    "vt2 <- c(90, 1, 5, 126, 12, 89, 125, 12, 34)\n",
    "# hist(vt1, col=\"blue\", border=\"brown\")\n",
    "# Line graph\n",
    "#plot(vt1, type=\"o\")\n",
    "# Scatterplot\n",
    "plot(vt1, vt2)"
   ]
  },
  {
   "cell_type": "code",
   "execution_count": null,
   "metadata": {
    "collapsed": true
   },
   "outputs": [],
   "source": [
    "\n"
   ]
  }
 ],
 "metadata": {
  "kernelspec": {
   "display_name": "R",
   "language": "R",
   "name": "ir"
  },
  "language_info": {
   "codemirror_mode": "r",
   "file_extension": ".r",
   "mimetype": "text/x-r-source",
   "name": "R",
   "pygments_lexer": "r",
   "version": "3.3.2"
  }
 },
 "nbformat": 4,
 "nbformat_minor": 2
}
